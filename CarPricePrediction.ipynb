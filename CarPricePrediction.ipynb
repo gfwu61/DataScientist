{
 "cells": [
  {
   "cell_type": "markdown",
   "id": "eb3b630d-2c8e-4137-a7a7-3bf0b7db3453",
   "metadata": {},
   "source": [
    "# Daten:  https://www.kaggle.com/datasets/hellbuoy/car-price-prediction\n",
    "\n",
    "# Projektidee, Beschreibung:\n",
    "## Problembeschreibung:\n",
    "Ein chinesisches Automobilunternehmen, Geely Auto, plant den Eintritt in den US-amerikanischen Markt, indem es dort eine Produktionsstätte errichtet und Autos lokal herstellt, um mit amerikanischen und europäischen Konkurrenten zu konkurrieren. Dazu hat Geely ein Beratungsunternehmen für die Automobilbranche beauftragt, um die Faktoren zu analysieren, die den Preis von Autos beeinflussen. Insbesondere möchten sie verstehen, welche Faktoren den Preis von Autos auf dem amerikanischen Markt bestimmen, da diese sich deutlich vom chinesischen Markt unterscheiden könnten. \n",
    "\n",
    "## Das Unternehmen möchte wissen: \n",
    "-\tWelche Variablen sind signifikant für die Vorhersage des Autopreises? \n",
    "-\tWie gut erklären diese Variablen den Preis eines Autos? \n",
    "\n",
    "## Vorgegensweise:\n",
    "### RISP-DM wird angewendet\n",
    "Basierend auf verschiedenen Marktforschungen hat das Beratungsunternehmen einen umfangreichen Datensatz mit unterschiedlichen Fahrzeugtypen auf dem US-amerikanischen Markt zusammengetragen.\n",
    "Lösung der Aufgabestellung:\n",
    "-  Ein Modell soll entwickelt werden, das den Preis von Autos basierend auf den verfügbaren unabhängigen Variablen am besten vorhersagt. Da ein Auto aus verschieden Komponenten besteht, ist es nur sinnvoll, alle Komponenten zusammen zu betrachten und ein Preismodell zu erstellen. \n",
    "-  Gleichzeitig kann auch untersucht werden welche einzelnen Faktoren den Preis beeinflussen.\n",
    "-  Es wird ein Dashboard für Modelltraining durch Auswahl von beteiligten Spaten erstellt. Der Anwender kann selbst die Spalten auswählen und das Modell trinieren und das Ergebnis anzeigen und bewerten.\n",
    "\n",
    "## Anwendung:\n",
    "### Das Modell soll dem Management dabei helfen zu verstehen: \n",
    "-\tWie sich der Preis je nach Veränderung einzelner Merkmale verändert \n",
    "-\tWelche Stellschrauben (Design, Strategie etc.) genutzt werden können, um bestimmte Preisniveaus zu erreichen.\n",
    "-\tZusätzlich ist das Modell ein hilfreiches Werkzeug, um die Preisdynamik in einem neuen Markt wie den USA zu verstehen.\n",
    "-   Es wird ein Dashboard erstellt. der Anwender kann selbst die einzelnen Parameter auswählen und den Preis abzuschätzen\n",
    "\n",
    "## Der bereitgestellte Datensatz dient ausschließlich zu Lernzwecken. Ziehen keine Rückschlüsse auf reale Märkte oder tatsächliche Marktbedingungen.  "
   ]
  },
  {
   "cell_type": "markdown",
   "id": "51c758a3-ca77-40e9-9397-14ea548cebf7",
   "metadata": {},
   "source": [
    "# Folgende Schritte sind zu unternehmen, um das definierte Ziel zu erreichen\n",
    "   ### Es werden Arbeitsschritte nach CRISP-DM vorgesehen.\n",
    "## 1.\t Business Understanding (Aufgabendefinition)\n",
    "## 2.\tData Understanding (Auswahl der relevanten Datenbestände)\n",
    "###  2.1 Deskriptive Analyse\n",
    "###  2.2 Explorative Datenanalyse (EDA)\n",
    "## 3.\tData Preparation (Datenaufbereitung)\n",
    "###  3.1. Datenaufbereitung\n",
    "###  3.2. Umwandlung von kategorischen Daten in numerischen Daten\n",
    "## 4.\tModeling (ML-Maschinelles Lernen)\n",
    "###  4.1 Ein lineares Modell mit One-Hot Encoding für kategorische Spalten \n",
    "###  4.2 Ein lineares Modell mit ordinal Encoding für kategorische Spalten\n",
    "###  4.3 Modell mit zusätzlichen Spalten aus quadratischen Werten von numerischen Spalten\n",
    "###  4.4 Modell mit flexibler Spaltenauswahl durch Dashboard-Anwendung \n",
    "## 5.\tEvaluation (Bewertung und Interpretation der Ereignisse)\n",
    "###  5.1 Prädiktive Analyse\n",
    "###  5.2 Modellbewertung\n",
    "## 6.\tDeployment (Anwendung der Ergebnisse)\n",
    "###  6.1. Dashoard für Preis-Vorhersage\n",
    "Business Understanding (Aufgabendefinition)\n",
    " ##\n",
    "     Hier sind einige mögliche Analyseschritte.\n",
    "\n",
    "    🔎 Datenbereinigung:\n",
    "\n",
    "        Gibt es fehlende Werte?\n",
    "\n",
    "        Sind alle Spalten korrekt typisiert?\n",
    "\n",
    "    📈 Explorative Datenanalyse (EDA):\n",
    "\n",
    "        Korrelation von Merkmalen mit dem Preis\n",
    "\n",
    "        Boxplots, Scatterplots, Histogramme\n",
    "\n",
    "        Einfluss von carbody, enginesize, horsepower, etc.\n",
    "\n",
    "    🤖 Lineares Regressionsmodell:\n",
    "\n",
    "        Feature Engineering\n",
    "\n",
    "        Modelltraining & Evaluation\n",
    "\n",
    "        Wichtigste Einflussfaktoren identifizieren\n",
    "\n",
    "    🧠 Fortgeschrittene Modelle (optional):\n",
    "\n",
    "        Decision Tree, Random Forest, XGBoost etc.\n",
    "\n",
    "    📊 Visualisierungen:\n",
    "\n",
    "        Einfluss visueller Variablen auf Preis\n",
    "\n",
    "        Preisverteilungen nach Marken, Bauform etc."
   ]
  },
  {
   "cell_type": "markdown",
   "id": "4351badf-8253-4531-aa84-300c5edf03ae",
   "metadata": {},
   "source": [
    "# 1.Business Understanding (Aufgabendefinition)\n",
    "## die Aufgabestellung ist analysiert und verstanden. Die Arbeitsschritte und das Ziel sind klar definiert.\n",
    "\n",
    "## Einlesenvon Daten aus der csv-Datei CarPrice_Assignment.csv\n",
    "https://www.kaggle.com/datasets/hellbuoy/car-price-prediction"
   ]
  },
  {
   "cell_type": "code",
   "execution_count": 117,
   "id": "f96cb4fd-533e-40c1-84fe-312c119cfd7e",
   "metadata": {},
   "outputs": [],
   "source": [
    "# import packages\n",
    "\n",
    "import pandas as pd\n",
    "import numpy as np\n",
    "import json\n",
    "import math\n",
    "import matplotlib\n",
    "from datetime import timedelta, datetime\n",
    "import matplotlib.pyplot as plt\n",
    "import matplotlib.mlab as mlab\n",
    "from matplotlib.pyplot import figure\n",
    "from datetime import date\n",
    "\n",
    "import plotly.express as px\n",
    "from plotly.subplots import make_subplots\n",
    "import plotly.graph_objects as go\n",
    "\n",
    "\n",
    "plt.style.use('seaborn-v0_8-notebook')\n",
    "%matplotlib inline\n",
    "matplotlib.rcParams['figure.figsize'] = (12,8)\n",
    "pd.options.mode.chained_assignment = None\n",
    "import seaborn as sns\n",
    "\n"
   ]
  },
  {
   "cell_type": "code",
   "execution_count": 118,
   "id": "ba104fed-aa2e-43b6-990c-c7508f5551d8",
   "metadata": {},
   "outputs": [],
   "source": [
    "df = pd.read_csv(\"CarPrice_Assignment.csv\")"
   ]
  },
  {
   "cell_type": "markdown",
   "id": "fce94b15-5cbd-4737-a5d0-1cd9c6876ef7",
   "metadata": {},
   "source": [
    "# 2. Data Understanding (Auswahl der relevanten Datenbestände)"
   ]
  },
  {
   "cell_type": "markdown",
   "id": "40a3e374-33ea-42e2-8744-09b5b024bc73",
   "metadata": {},
   "source": [
    "## 2.1 Deskriptive Analyse"
   ]
  },
  {
   "cell_type": "code",
   "execution_count": 119,
   "id": "304b7912-721f-4ce0-8e27-919bcb3ca51d",
   "metadata": {},
   "outputs": [
    {
     "data": {
      "text/html": [
       "<div>\n",
       "<style scoped>\n",
       "    .dataframe tbody tr th:only-of-type {\n",
       "        vertical-align: middle;\n",
       "    }\n",
       "\n",
       "    .dataframe tbody tr th {\n",
       "        vertical-align: top;\n",
       "    }\n",
       "\n",
       "    .dataframe thead th {\n",
       "        text-align: right;\n",
       "    }\n",
       "</style>\n",
       "<table border=\"1\" class=\"dataframe\">\n",
       "  <thead>\n",
       "    <tr style=\"text-align: right;\">\n",
       "      <th></th>\n",
       "      <th>car_ID</th>\n",
       "      <th>symboling</th>\n",
       "      <th>CarName</th>\n",
       "      <th>fueltype</th>\n",
       "      <th>aspiration</th>\n",
       "      <th>doornumber</th>\n",
       "      <th>carbody</th>\n",
       "      <th>drivewheel</th>\n",
       "      <th>enginelocation</th>\n",
       "      <th>wheelbase</th>\n",
       "      <th>...</th>\n",
       "      <th>enginesize</th>\n",
       "      <th>fuelsystem</th>\n",
       "      <th>boreratio</th>\n",
       "      <th>stroke</th>\n",
       "      <th>compressionratio</th>\n",
       "      <th>horsepower</th>\n",
       "      <th>peakrpm</th>\n",
       "      <th>citympg</th>\n",
       "      <th>highwaympg</th>\n",
       "      <th>price</th>\n",
       "    </tr>\n",
       "  </thead>\n",
       "  <tbody>\n",
       "    <tr>\n",
       "      <th>0</th>\n",
       "      <td>1</td>\n",
       "      <td>3</td>\n",
       "      <td>alfa-romero giulia</td>\n",
       "      <td>gas</td>\n",
       "      <td>std</td>\n",
       "      <td>two</td>\n",
       "      <td>convertible</td>\n",
       "      <td>rwd</td>\n",
       "      <td>front</td>\n",
       "      <td>88.6</td>\n",
       "      <td>...</td>\n",
       "      <td>130</td>\n",
       "      <td>mpfi</td>\n",
       "      <td>3.47</td>\n",
       "      <td>2.68</td>\n",
       "      <td>9.0</td>\n",
       "      <td>111</td>\n",
       "      <td>5000</td>\n",
       "      <td>21</td>\n",
       "      <td>27</td>\n",
       "      <td>13495.0</td>\n",
       "    </tr>\n",
       "    <tr>\n",
       "      <th>1</th>\n",
       "      <td>2</td>\n",
       "      <td>3</td>\n",
       "      <td>alfa-romero stelvio</td>\n",
       "      <td>gas</td>\n",
       "      <td>std</td>\n",
       "      <td>two</td>\n",
       "      <td>convertible</td>\n",
       "      <td>rwd</td>\n",
       "      <td>front</td>\n",
       "      <td>88.6</td>\n",
       "      <td>...</td>\n",
       "      <td>130</td>\n",
       "      <td>mpfi</td>\n",
       "      <td>3.47</td>\n",
       "      <td>2.68</td>\n",
       "      <td>9.0</td>\n",
       "      <td>111</td>\n",
       "      <td>5000</td>\n",
       "      <td>21</td>\n",
       "      <td>27</td>\n",
       "      <td>16500.0</td>\n",
       "    </tr>\n",
       "    <tr>\n",
       "      <th>2</th>\n",
       "      <td>3</td>\n",
       "      <td>1</td>\n",
       "      <td>alfa-romero Quadrifoglio</td>\n",
       "      <td>gas</td>\n",
       "      <td>std</td>\n",
       "      <td>two</td>\n",
       "      <td>hatchback</td>\n",
       "      <td>rwd</td>\n",
       "      <td>front</td>\n",
       "      <td>94.5</td>\n",
       "      <td>...</td>\n",
       "      <td>152</td>\n",
       "      <td>mpfi</td>\n",
       "      <td>2.68</td>\n",
       "      <td>3.47</td>\n",
       "      <td>9.0</td>\n",
       "      <td>154</td>\n",
       "      <td>5000</td>\n",
       "      <td>19</td>\n",
       "      <td>26</td>\n",
       "      <td>16500.0</td>\n",
       "    </tr>\n",
       "    <tr>\n",
       "      <th>3</th>\n",
       "      <td>4</td>\n",
       "      <td>2</td>\n",
       "      <td>audi 100 ls</td>\n",
       "      <td>gas</td>\n",
       "      <td>std</td>\n",
       "      <td>four</td>\n",
       "      <td>sedan</td>\n",
       "      <td>fwd</td>\n",
       "      <td>front</td>\n",
       "      <td>99.8</td>\n",
       "      <td>...</td>\n",
       "      <td>109</td>\n",
       "      <td>mpfi</td>\n",
       "      <td>3.19</td>\n",
       "      <td>3.40</td>\n",
       "      <td>10.0</td>\n",
       "      <td>102</td>\n",
       "      <td>5500</td>\n",
       "      <td>24</td>\n",
       "      <td>30</td>\n",
       "      <td>13950.0</td>\n",
       "    </tr>\n",
       "    <tr>\n",
       "      <th>4</th>\n",
       "      <td>5</td>\n",
       "      <td>2</td>\n",
       "      <td>audi 100ls</td>\n",
       "      <td>gas</td>\n",
       "      <td>std</td>\n",
       "      <td>four</td>\n",
       "      <td>sedan</td>\n",
       "      <td>4wd</td>\n",
       "      <td>front</td>\n",
       "      <td>99.4</td>\n",
       "      <td>...</td>\n",
       "      <td>136</td>\n",
       "      <td>mpfi</td>\n",
       "      <td>3.19</td>\n",
       "      <td>3.40</td>\n",
       "      <td>8.0</td>\n",
       "      <td>115</td>\n",
       "      <td>5500</td>\n",
       "      <td>18</td>\n",
       "      <td>22</td>\n",
       "      <td>17450.0</td>\n",
       "    </tr>\n",
       "  </tbody>\n",
       "</table>\n",
       "<p>5 rows × 26 columns</p>\n",
       "</div>"
      ],
      "text/plain": [
       "   car_ID  symboling                   CarName fueltype aspiration doornumber  \\\n",
       "0       1          3        alfa-romero giulia      gas        std        two   \n",
       "1       2          3       alfa-romero stelvio      gas        std        two   \n",
       "2       3          1  alfa-romero Quadrifoglio      gas        std        two   \n",
       "3       4          2               audi 100 ls      gas        std       four   \n",
       "4       5          2                audi 100ls      gas        std       four   \n",
       "\n",
       "       carbody drivewheel enginelocation  wheelbase  ...  enginesize  \\\n",
       "0  convertible        rwd          front       88.6  ...         130   \n",
       "1  convertible        rwd          front       88.6  ...         130   \n",
       "2    hatchback        rwd          front       94.5  ...         152   \n",
       "3        sedan        fwd          front       99.8  ...         109   \n",
       "4        sedan        4wd          front       99.4  ...         136   \n",
       "\n",
       "   fuelsystem  boreratio  stroke compressionratio horsepower  peakrpm citympg  \\\n",
       "0        mpfi       3.47    2.68              9.0        111     5000      21   \n",
       "1        mpfi       3.47    2.68              9.0        111     5000      21   \n",
       "2        mpfi       2.68    3.47              9.0        154     5000      19   \n",
       "3        mpfi       3.19    3.40             10.0        102     5500      24   \n",
       "4        mpfi       3.19    3.40              8.0        115     5500      18   \n",
       "\n",
       "   highwaympg    price  \n",
       "0          27  13495.0  \n",
       "1          27  16500.0  \n",
       "2          26  16500.0  \n",
       "3          30  13950.0  \n",
       "4          22  17450.0  \n",
       "\n",
       "[5 rows x 26 columns]"
      ]
     },
     "execution_count": 119,
     "metadata": {},
     "output_type": "execute_result"
    }
   ],
   "source": [
    "# Ein Überblicküber die Daten\n",
    "df.head()"
   ]
  },
  {
   "cell_type": "markdown",
   "id": "784b3f5c-99f3-45b7-82ff-fd1fbae2faae",
   "metadata": {},
   "source": [
    "### Über df.info() bekommt man einen ersten Überblick über die Daten: Anzahl der Zeilen, Anzahl der Spalten,  Namen der Spalten, Datentype und NaN-Werte  \n",
    "#### 1. Es gibt 26 Spalten und 205 Zeilen\n",
    "#### 2. Es gibt kein NaN Wert\n",
    "#### 3. doornumber und cylindernumber werden als Object gezeigt. Es soll untersucht werden warum nicht als Zahl dargestellt werden.\n"
   ]
  },
  {
   "cell_type": "code",
   "execution_count": 120,
   "id": "ba325aa2-324f-410a-aac3-1b18aa5022bd",
   "metadata": {},
   "outputs": [
    {
     "name": "stdout",
     "output_type": "stream",
     "text": [
      "<class 'pandas.core.frame.DataFrame'>\n",
      "RangeIndex: 205 entries, 0 to 204\n",
      "Data columns (total 26 columns):\n",
      " #   Column            Non-Null Count  Dtype  \n",
      "---  ------            --------------  -----  \n",
      " 0   car_ID            205 non-null    int64  \n",
      " 1   symboling         205 non-null    int64  \n",
      " 2   CarName           205 non-null    object \n",
      " 3   fueltype          205 non-null    object \n",
      " 4   aspiration        205 non-null    object \n",
      " 5   doornumber        205 non-null    object \n",
      " 6   carbody           205 non-null    object \n",
      " 7   drivewheel        205 non-null    object \n",
      " 8   enginelocation    205 non-null    object \n",
      " 9   wheelbase         205 non-null    float64\n",
      " 10  carlength         205 non-null    float64\n",
      " 11  carwidth          205 non-null    float64\n",
      " 12  carheight         205 non-null    float64\n",
      " 13  curbweight        205 non-null    int64  \n",
      " 14  enginetype        205 non-null    object \n",
      " 15  cylindernumber    205 non-null    object \n",
      " 16  enginesize        205 non-null    int64  \n",
      " 17  fuelsystem        205 non-null    object \n",
      " 18  boreratio         205 non-null    float64\n",
      " 19  stroke            205 non-null    float64\n",
      " 20  compressionratio  205 non-null    float64\n",
      " 21  horsepower        205 non-null    int64  \n",
      " 22  peakrpm           205 non-null    int64  \n",
      " 23  citympg           205 non-null    int64  \n",
      " 24  highwaympg        205 non-null    int64  \n",
      " 25  price             205 non-null    float64\n",
      "dtypes: float64(8), int64(8), object(10)\n",
      "memory usage: 41.8+ KB\n"
     ]
    }
   ],
   "source": [
    "#print(df)\n",
    "#print(df[[\"cylindernumber\", \"enginesize\",\"doornumber\"]])\n",
    "#df1=df.sort_values(by='cylindernumber', ascending=True, inplace=False)\n",
    "#pd.set_option('display.max_rows', None) \n",
    "#print(df1.cylindernumber, df1.doornumber )\n",
    "df.info()"
   ]
  },
  {
   "cell_type": "markdown",
   "id": "0902b125-f024-487c-9732-4917acc22fa6",
   "metadata": {},
   "source": [
    "# Check NAN: Ergebnis:keine NaN vorhanden. Die Behandlung von NaN entfällt."
   ]
  },
  {
   "cell_type": "code",
   "execution_count": 121,
   "id": "ec47e4ae-3564-4aaf-b211-bb1225570893",
   "metadata": {},
   "outputs": [
    {
     "data": {
      "text/plain": [
       "car_ID              0\n",
       "symboling           0\n",
       "CarName             0\n",
       "fueltype            0\n",
       "aspiration          0\n",
       "doornumber          0\n",
       "carbody             0\n",
       "drivewheel          0\n",
       "enginelocation      0\n",
       "wheelbase           0\n",
       "carlength           0\n",
       "carwidth            0\n",
       "carheight           0\n",
       "curbweight          0\n",
       "enginetype          0\n",
       "cylindernumber      0\n",
       "enginesize          0\n",
       "fuelsystem          0\n",
       "boreratio           0\n",
       "stroke              0\n",
       "compressionratio    0\n",
       "horsepower          0\n",
       "peakrpm             0\n",
       "citympg             0\n",
       "highwaympg          0\n",
       "price               0\n",
       "dtype: int64"
      ]
     },
     "execution_count": 121,
     "metadata": {},
     "output_type": "execute_result"
    }
   ],
   "source": [
    "# Prüfen wie viele Nan jeder Spalte gibt: \n",
    "# df.isnull().sum()\n",
    "df.isna().sum()"
   ]
  },
  {
   "cell_type": "markdown",
   "id": "99c1ed6b-56a0-44cb-b731-a6c20ac9d522",
   "metadata": {},
   "source": [
    "# Untersuchung von cylindernumber und doornumber: warum haben sie den Type Object\n",
    "## 1. sie sind zahlen, aber mit Zeichen dargestellt\n",
    "## 2. Umwandeln in Zahlen für bessere Bearbeitung"
   ]
  },
  {
   "cell_type": "code",
   "execution_count": 122,
   "id": "a5935e45-4e1f-4adf-94b5-150fbd55772b",
   "metadata": {},
   "outputs": [
    {
     "data": {
      "text/html": [
       "<div>\n",
       "<style scoped>\n",
       "    .dataframe tbody tr th:only-of-type {\n",
       "        vertical-align: middle;\n",
       "    }\n",
       "\n",
       "    .dataframe tbody tr th {\n",
       "        vertical-align: top;\n",
       "    }\n",
       "\n",
       "    .dataframe thead th {\n",
       "        text-align: right;\n",
       "    }\n",
       "</style>\n",
       "<table border=\"1\" class=\"dataframe\">\n",
       "  <thead>\n",
       "    <tr style=\"text-align: right;\">\n",
       "      <th></th>\n",
       "      <th>car_ID</th>\n",
       "      <th>symboling</th>\n",
       "      <th>wheelbase</th>\n",
       "      <th>carlength</th>\n",
       "      <th>carwidth</th>\n",
       "      <th>carheight</th>\n",
       "      <th>curbweight</th>\n",
       "      <th>enginesize</th>\n",
       "      <th>boreratio</th>\n",
       "      <th>stroke</th>\n",
       "      <th>compressionratio</th>\n",
       "      <th>horsepower</th>\n",
       "      <th>peakrpm</th>\n",
       "      <th>citympg</th>\n",
       "      <th>highwaympg</th>\n",
       "      <th>price</th>\n",
       "    </tr>\n",
       "    <tr>\n",
       "      <th>doornumber</th>\n",
       "      <th></th>\n",
       "      <th></th>\n",
       "      <th></th>\n",
       "      <th></th>\n",
       "      <th></th>\n",
       "      <th></th>\n",
       "      <th></th>\n",
       "      <th></th>\n",
       "      <th></th>\n",
       "      <th></th>\n",
       "      <th></th>\n",
       "      <th></th>\n",
       "      <th></th>\n",
       "      <th></th>\n",
       "      <th></th>\n",
       "      <th></th>\n",
       "    </tr>\n",
       "  </thead>\n",
       "  <tbody>\n",
       "    <tr>\n",
       "      <th>four</th>\n",
       "      <td>112.965217</td>\n",
       "      <td>0.104348</td>\n",
       "      <td>101.133913</td>\n",
       "      <td>178.388696</td>\n",
       "      <td>66.300000</td>\n",
       "      <td>54.915652</td>\n",
       "      <td>2646.260870</td>\n",
       "      <td>127.669565</td>\n",
       "      <td>3.358261</td>\n",
       "      <td>3.252348</td>\n",
       "      <td>10.766087</td>\n",
       "      <td>99.686957</td>\n",
       "      <td>5020.869565</td>\n",
       "      <td>25.147826</td>\n",
       "      <td>30.530435</td>\n",
       "      <td>13501.152174</td>\n",
       "    </tr>\n",
       "    <tr>\n",
       "      <th>two</th>\n",
       "      <td>90.266667</td>\n",
       "      <td>1.766667</td>\n",
       "      <td>95.718889</td>\n",
       "      <td>168.504444</td>\n",
       "      <td>65.406667</td>\n",
       "      <td>52.203333</td>\n",
       "      <td>2439.677778</td>\n",
       "      <td>125.933333</td>\n",
       "      <td>3.293333</td>\n",
       "      <td>3.259333</td>\n",
       "      <td>9.345778</td>\n",
       "      <td>109.777778</td>\n",
       "      <td>5258.333333</td>\n",
       "      <td>25.311111</td>\n",
       "      <td>31.033333</td>\n",
       "      <td>12989.924078</td>\n",
       "    </tr>\n",
       "  </tbody>\n",
       "</table>\n",
       "</div>"
      ],
      "text/plain": [
       "                car_ID  symboling   wheelbase   carlength   carwidth  \\\n",
       "doornumber                                                             \n",
       "four        112.965217   0.104348  101.133913  178.388696  66.300000   \n",
       "two          90.266667   1.766667   95.718889  168.504444  65.406667   \n",
       "\n",
       "            carheight   curbweight  enginesize  boreratio    stroke  \\\n",
       "doornumber                                                            \n",
       "four        54.915652  2646.260870  127.669565   3.358261  3.252348   \n",
       "two         52.203333  2439.677778  125.933333   3.293333  3.259333   \n",
       "\n",
       "            compressionratio  horsepower      peakrpm    citympg  highwaympg  \\\n",
       "doornumber                                                                     \n",
       "four               10.766087   99.686957  5020.869565  25.147826   30.530435   \n",
       "two                 9.345778  109.777778  5258.333333  25.311111   31.033333   \n",
       "\n",
       "                   price  \n",
       "doornumber                \n",
       "four        13501.152174  \n",
       "two         12989.924078  "
      ]
     },
     "execution_count": 122,
     "metadata": {},
     "output_type": "execute_result"
    }
   ],
   "source": [
    "df.doornumber.unique()\n",
    "df.groupby(['doornumber']).count()\n",
    "df.groupby(['doornumber']).mean(numeric_only=True)\n",
    "#unv_df.groupby(['year']).mean(numeric_only=True)\n",
    "#df[df[\"doornumber\"]==\"two\"].count()"
   ]
  },
  {
   "cell_type": "code",
   "execution_count": 123,
   "id": "45f16708-1b82-4c36-aae6-53cc8788b66c",
   "metadata": {},
   "outputs": [
    {
     "data": {
      "text/plain": [
       "array(['four', 'six', 'five', 'three', 'twelve', 'two', 'eight'],\n",
       "      dtype=object)"
      ]
     },
     "execution_count": 123,
     "metadata": {},
     "output_type": "execute_result"
    }
   ],
   "source": [
    "df.cylindernumber.unique()"
   ]
  },
  {
   "cell_type": "code",
   "execution_count": 124,
   "id": "c135c0ae-4b77-435f-975e-82024f5b2ea0",
   "metadata": {},
   "outputs": [
    {
     "name": "stdout",
     "output_type": "stream",
     "text": [
      "0      4\n",
      "1      4\n",
      "2      6\n",
      "3      4\n",
      "4      5\n",
      "      ..\n",
      "200    4\n",
      "201    4\n",
      "202    6\n",
      "203    6\n",
      "204    4\n",
      "Name: cylindernumber, Length: 205, dtype: int64\n",
      "0      2\n",
      "1      2\n",
      "2      2\n",
      "3      4\n",
      "4      4\n",
      "      ..\n",
      "200    4\n",
      "201    4\n",
      "202    4\n",
      "203    4\n",
      "204    4\n",
      "Name: doornumber, Length: 205, dtype: int64\n"
     ]
    }
   ],
   "source": [
    "#\n",
    "map_list= {'two':2,'three':3,'four':4, 'five':5,'six':6,'eight':8,'twelve':12}\n",
    "\n",
    "df['cylindernumber'] = df['cylindernumber'].map(map_list).astype(int)\n",
    "df['doornumber'] = df['doornumber'].map(map_list).astype(int)\n",
    "print(df.cylindernumber)\n",
    "print(df.doornumber)"
   ]
  },
  {
   "cell_type": "code",
   "execution_count": 125,
   "id": "b9fc5b88-8ec0-4e3f-a99a-175f6e3461c5",
   "metadata": {},
   "outputs": [],
   "source": [
    "# df.describe(): zeigt die wichtigsten statistische Werte\n",
    "## 1. doornumber und cylindernumber sind jetzt Zahlen\n",
    "## 2. \n",
    "## 3."
   ]
  },
  {
   "cell_type": "code",
   "execution_count": 126,
   "id": "067b21a2-2011-4d4c-b4c2-fcba3b43d0fc",
   "metadata": {},
   "outputs": [
    {
     "data": {
      "text/html": [
       "<div>\n",
       "<style scoped>\n",
       "    .dataframe tbody tr th:only-of-type {\n",
       "        vertical-align: middle;\n",
       "    }\n",
       "\n",
       "    .dataframe tbody tr th {\n",
       "        vertical-align: top;\n",
       "    }\n",
       "\n",
       "    .dataframe thead th {\n",
       "        text-align: right;\n",
       "    }\n",
       "</style>\n",
       "<table border=\"1\" class=\"dataframe\">\n",
       "  <thead>\n",
       "    <tr style=\"text-align: right;\">\n",
       "      <th></th>\n",
       "      <th>car_ID</th>\n",
       "      <th>symboling</th>\n",
       "      <th>doornumber</th>\n",
       "      <th>wheelbase</th>\n",
       "      <th>carlength</th>\n",
       "      <th>carwidth</th>\n",
       "      <th>carheight</th>\n",
       "      <th>curbweight</th>\n",
       "      <th>cylindernumber</th>\n",
       "      <th>enginesize</th>\n",
       "      <th>boreratio</th>\n",
       "      <th>stroke</th>\n",
       "      <th>compressionratio</th>\n",
       "      <th>horsepower</th>\n",
       "      <th>peakrpm</th>\n",
       "      <th>citympg</th>\n",
       "      <th>highwaympg</th>\n",
       "      <th>price</th>\n",
       "    </tr>\n",
       "  </thead>\n",
       "  <tbody>\n",
       "    <tr>\n",
       "      <th>count</th>\n",
       "      <td>205.000000</td>\n",
       "      <td>205.000000</td>\n",
       "      <td>205.000000</td>\n",
       "      <td>205.000000</td>\n",
       "      <td>205.000000</td>\n",
       "      <td>205.000000</td>\n",
       "      <td>205.000000</td>\n",
       "      <td>205.000000</td>\n",
       "      <td>205.000000</td>\n",
       "      <td>205.000000</td>\n",
       "      <td>205.000000</td>\n",
       "      <td>205.000000</td>\n",
       "      <td>205.000000</td>\n",
       "      <td>205.000000</td>\n",
       "      <td>205.000000</td>\n",
       "      <td>205.000000</td>\n",
       "      <td>205.000000</td>\n",
       "      <td>205.000000</td>\n",
       "    </tr>\n",
       "    <tr>\n",
       "      <th>mean</th>\n",
       "      <td>103.000000</td>\n",
       "      <td>0.834146</td>\n",
       "      <td>3.121951</td>\n",
       "      <td>98.756585</td>\n",
       "      <td>174.049268</td>\n",
       "      <td>65.907805</td>\n",
       "      <td>53.724878</td>\n",
       "      <td>2555.565854</td>\n",
       "      <td>4.380488</td>\n",
       "      <td>126.907317</td>\n",
       "      <td>3.329756</td>\n",
       "      <td>3.255415</td>\n",
       "      <td>10.142537</td>\n",
       "      <td>104.117073</td>\n",
       "      <td>5125.121951</td>\n",
       "      <td>25.219512</td>\n",
       "      <td>30.751220</td>\n",
       "      <td>13276.710571</td>\n",
       "    </tr>\n",
       "    <tr>\n",
       "      <th>std</th>\n",
       "      <td>59.322565</td>\n",
       "      <td>1.245307</td>\n",
       "      <td>0.994966</td>\n",
       "      <td>6.021776</td>\n",
       "      <td>12.337289</td>\n",
       "      <td>2.145204</td>\n",
       "      <td>2.443522</td>\n",
       "      <td>520.680204</td>\n",
       "      <td>1.080854</td>\n",
       "      <td>41.642693</td>\n",
       "      <td>0.270844</td>\n",
       "      <td>0.313597</td>\n",
       "      <td>3.972040</td>\n",
       "      <td>39.544167</td>\n",
       "      <td>476.985643</td>\n",
       "      <td>6.542142</td>\n",
       "      <td>6.886443</td>\n",
       "      <td>7988.852332</td>\n",
       "    </tr>\n",
       "    <tr>\n",
       "      <th>min</th>\n",
       "      <td>1.000000</td>\n",
       "      <td>-2.000000</td>\n",
       "      <td>2.000000</td>\n",
       "      <td>86.600000</td>\n",
       "      <td>141.100000</td>\n",
       "      <td>60.300000</td>\n",
       "      <td>47.800000</td>\n",
       "      <td>1488.000000</td>\n",
       "      <td>2.000000</td>\n",
       "      <td>61.000000</td>\n",
       "      <td>2.540000</td>\n",
       "      <td>2.070000</td>\n",
       "      <td>7.000000</td>\n",
       "      <td>48.000000</td>\n",
       "      <td>4150.000000</td>\n",
       "      <td>13.000000</td>\n",
       "      <td>16.000000</td>\n",
       "      <td>5118.000000</td>\n",
       "    </tr>\n",
       "    <tr>\n",
       "      <th>25%</th>\n",
       "      <td>52.000000</td>\n",
       "      <td>0.000000</td>\n",
       "      <td>2.000000</td>\n",
       "      <td>94.500000</td>\n",
       "      <td>166.300000</td>\n",
       "      <td>64.100000</td>\n",
       "      <td>52.000000</td>\n",
       "      <td>2145.000000</td>\n",
       "      <td>4.000000</td>\n",
       "      <td>97.000000</td>\n",
       "      <td>3.150000</td>\n",
       "      <td>3.110000</td>\n",
       "      <td>8.600000</td>\n",
       "      <td>70.000000</td>\n",
       "      <td>4800.000000</td>\n",
       "      <td>19.000000</td>\n",
       "      <td>25.000000</td>\n",
       "      <td>7788.000000</td>\n",
       "    </tr>\n",
       "    <tr>\n",
       "      <th>50%</th>\n",
       "      <td>103.000000</td>\n",
       "      <td>1.000000</td>\n",
       "      <td>4.000000</td>\n",
       "      <td>97.000000</td>\n",
       "      <td>173.200000</td>\n",
       "      <td>65.500000</td>\n",
       "      <td>54.100000</td>\n",
       "      <td>2414.000000</td>\n",
       "      <td>4.000000</td>\n",
       "      <td>120.000000</td>\n",
       "      <td>3.310000</td>\n",
       "      <td>3.290000</td>\n",
       "      <td>9.000000</td>\n",
       "      <td>95.000000</td>\n",
       "      <td>5200.000000</td>\n",
       "      <td>24.000000</td>\n",
       "      <td>30.000000</td>\n",
       "      <td>10295.000000</td>\n",
       "    </tr>\n",
       "    <tr>\n",
       "      <th>75%</th>\n",
       "      <td>154.000000</td>\n",
       "      <td>2.000000</td>\n",
       "      <td>4.000000</td>\n",
       "      <td>102.400000</td>\n",
       "      <td>183.100000</td>\n",
       "      <td>66.900000</td>\n",
       "      <td>55.500000</td>\n",
       "      <td>2935.000000</td>\n",
       "      <td>4.000000</td>\n",
       "      <td>141.000000</td>\n",
       "      <td>3.580000</td>\n",
       "      <td>3.410000</td>\n",
       "      <td>9.400000</td>\n",
       "      <td>116.000000</td>\n",
       "      <td>5500.000000</td>\n",
       "      <td>30.000000</td>\n",
       "      <td>34.000000</td>\n",
       "      <td>16503.000000</td>\n",
       "    </tr>\n",
       "    <tr>\n",
       "      <th>max</th>\n",
       "      <td>205.000000</td>\n",
       "      <td>3.000000</td>\n",
       "      <td>4.000000</td>\n",
       "      <td>120.900000</td>\n",
       "      <td>208.100000</td>\n",
       "      <td>72.300000</td>\n",
       "      <td>59.800000</td>\n",
       "      <td>4066.000000</td>\n",
       "      <td>12.000000</td>\n",
       "      <td>326.000000</td>\n",
       "      <td>3.940000</td>\n",
       "      <td>4.170000</td>\n",
       "      <td>23.000000</td>\n",
       "      <td>288.000000</td>\n",
       "      <td>6600.000000</td>\n",
       "      <td>49.000000</td>\n",
       "      <td>54.000000</td>\n",
       "      <td>45400.000000</td>\n",
       "    </tr>\n",
       "  </tbody>\n",
       "</table>\n",
       "</div>"
      ],
      "text/plain": [
       "           car_ID   symboling  doornumber   wheelbase   carlength    carwidth  \\\n",
       "count  205.000000  205.000000  205.000000  205.000000  205.000000  205.000000   \n",
       "mean   103.000000    0.834146    3.121951   98.756585  174.049268   65.907805   \n",
       "std     59.322565    1.245307    0.994966    6.021776   12.337289    2.145204   \n",
       "min      1.000000   -2.000000    2.000000   86.600000  141.100000   60.300000   \n",
       "25%     52.000000    0.000000    2.000000   94.500000  166.300000   64.100000   \n",
       "50%    103.000000    1.000000    4.000000   97.000000  173.200000   65.500000   \n",
       "75%    154.000000    2.000000    4.000000  102.400000  183.100000   66.900000   \n",
       "max    205.000000    3.000000    4.000000  120.900000  208.100000   72.300000   \n",
       "\n",
       "        carheight   curbweight  cylindernumber  enginesize   boreratio  \\\n",
       "count  205.000000   205.000000      205.000000  205.000000  205.000000   \n",
       "mean    53.724878  2555.565854        4.380488  126.907317    3.329756   \n",
       "std      2.443522   520.680204        1.080854   41.642693    0.270844   \n",
       "min     47.800000  1488.000000        2.000000   61.000000    2.540000   \n",
       "25%     52.000000  2145.000000        4.000000   97.000000    3.150000   \n",
       "50%     54.100000  2414.000000        4.000000  120.000000    3.310000   \n",
       "75%     55.500000  2935.000000        4.000000  141.000000    3.580000   \n",
       "max     59.800000  4066.000000       12.000000  326.000000    3.940000   \n",
       "\n",
       "           stroke  compressionratio  horsepower      peakrpm     citympg  \\\n",
       "count  205.000000        205.000000  205.000000   205.000000  205.000000   \n",
       "mean     3.255415         10.142537  104.117073  5125.121951   25.219512   \n",
       "std      0.313597          3.972040   39.544167   476.985643    6.542142   \n",
       "min      2.070000          7.000000   48.000000  4150.000000   13.000000   \n",
       "25%      3.110000          8.600000   70.000000  4800.000000   19.000000   \n",
       "50%      3.290000          9.000000   95.000000  5200.000000   24.000000   \n",
       "75%      3.410000          9.400000  116.000000  5500.000000   30.000000   \n",
       "max      4.170000         23.000000  288.000000  6600.000000   49.000000   \n",
       "\n",
       "       highwaympg         price  \n",
       "count  205.000000    205.000000  \n",
       "mean    30.751220  13276.710571  \n",
       "std      6.886443   7988.852332  \n",
       "min     16.000000   5118.000000  \n",
       "25%     25.000000   7788.000000  \n",
       "50%     30.000000  10295.000000  \n",
       "75%     34.000000  16503.000000  \n",
       "max     54.000000  45400.000000  "
      ]
     },
     "execution_count": 126,
     "metadata": {},
     "output_type": "execute_result"
    }
   ],
   "source": [
    "df.describe()"
   ]
  },
  {
   "cell_type": "code",
   "execution_count": 127,
   "id": "0dcffe1f-7bb4-4c5e-918c-adf2bd0c15f1",
   "metadata": {},
   "outputs": [
    {
     "data": {
      "text/plain": [
       "car_ID              205\n",
       "symboling             6\n",
       "CarName             147\n",
       "fueltype              2\n",
       "aspiration            2\n",
       "doornumber            2\n",
       "carbody               5\n",
       "drivewheel            3\n",
       "enginelocation        2\n",
       "wheelbase            53\n",
       "carlength            75\n",
       "carwidth             44\n",
       "carheight            49\n",
       "curbweight          171\n",
       "enginetype            7\n",
       "cylindernumber        7\n",
       "enginesize           44\n",
       "fuelsystem            8\n",
       "boreratio            38\n",
       "stroke               37\n",
       "compressionratio     32\n",
       "horsepower           59\n",
       "peakrpm              23\n",
       "citympg              29\n",
       "highwaympg           30\n",
       "price               189\n",
       "dtype: int64"
      ]
     },
     "execution_count": 127,
     "metadata": {},
     "output_type": "execute_result"
    }
   ],
   "source": [
    "df.nunique()"
   ]
  },
  {
   "cell_type": "code",
   "execution_count": 128,
   "id": "035eea95-7745-4bb1-af92-a229a79fc408",
   "metadata": {},
   "outputs": [],
   "source": [
    "# "
   ]
  },
  {
   "cell_type": "code",
   "execution_count": 129,
   "id": "564dda33-2d4a-4372-907d-d558b87f0835",
   "metadata": {},
   "outputs": [
    {
     "data": {
      "application/vnd.plotly.v1+json": {
       "config": {
        "plotlyServerURL": "https://plot.ly"
       },
       "data": [
        {
         "marker": {
          "line": {
           "color": "black",
           "width": 1
          }
         },
         "name": "doornumber",
         "nbinsx": 25,
         "type": "histogram",
         "x": {
          "bdata": "AgICBAQCBAQEAgIEAgQEBAIEAgIEAgICBAQEAgQCAgICAgIEBAICBAQEAgQCBAIEBAICAgIEBAICAgICBAIEBAQEBAQEAgQEAgQCAgICAgICAgICAgQEBAQCAgIEBAICBAQCBAQEBAQCAgIEBAQEBAQEBAQEBAICBAQEBAICAgICAgQCAgQCBAIEAgICBAQEBAQEBAQEAgIEBAQEBAQEBAQEBAICAgICAgICAgIEBAQEBAICBAQCAgQEBAQEAgIEBAQEBAQEBAQEBAQEBA==",
          "dtype": "i1"
         },
         "xaxis": "x",
         "yaxis": "y"
        },
        {
         "marker": {
          "line": {
           "color": "black",
           "width": 1
          }
         },
         "name": "cylindernumber",
         "nbinsx": 25,
         "type": "histogram",
         "x": {
          "bdata": "BAQGBAUFBQUFBQQEBgYGBgYGAwQEBAQEBAQEBAQEBAQEBAQEBAQEBAQEBAQEBAQGBgwEBAQEBAICAgIEBAQEBAQEBAUFBQUICAgIBAQEBAQEBAQEBAQEBAQEBAQEBAQEBAQEBAQGBgYGBgYEBAQEBAQEBAQEBAQEBAQEBAQEBgYGCAQEBAQEBAQEBAQEBAQEBAQEBAQEBAQEBAQEBAQEBAQEBAQEBAQEBAQEBAQEBAQEBAYGBgYEBAQEBAQEBAQFBAQEBAQEBAQEBAYGBA==",
          "dtype": "i1"
         },
         "xaxis": "x2",
         "yaxis": "y2"
        },
        {
         "marker": {
          "line": {
           "color": "black",
           "width": 1
          }
         },
         "name": "wheelbase",
         "nbinsx": 25,
         "type": "histogram",
         "x": {
          "bdata": "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",
          "dtype": "f8"
         },
         "xaxis": "x3",
         "yaxis": "y3"
        },
        {
         "marker": {
          "line": {
           "color": "black",
           "width": 1
          }
         },
         "name": "carlength",
         "nbinsx": 25,
         "type": "histogram",
         "x": {
          "bdata": "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",
          "dtype": "f8"
         },
         "xaxis": "x4",
         "yaxis": "y4"
        },
        {
         "marker": {
          "line": {
           "color": "black",
           "width": 1
          }
         },
         "name": "carwidth",
         "nbinsx": 25,
         "type": "histogram",
         "x": {
          "bdata": "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",
          "dtype": "f8"
         },
         "xaxis": "x5",
         "yaxis": "y5"
        },
        {
         "marker": {
          "line": {
           "color": "black",
           "width": 1
          }
         },
         "name": "carheight",
         "nbinsx": 25,
         "type": "histogram",
         "x": {
          "bdata": "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",
          "dtype": "f8"
         },
         "xaxis": "x6",
         "yaxis": "y6"
        },
        {
         "marker": {
          "line": {
           "color": "black",
           "width": 1
          }
         },
         "name": "curbweight",
         "nbinsx": 25,
         "type": "histogram",
         "x": {
          "bdata": "9An0CQcLIQkIC8sJHAuKCw4M7QtbCVsJlgrNCu8Lngw0DbEN0AVSB3UHVAdUB1AIrwfFB8UHjwjnCfsKsQYbBy0HlAekB9oH6Ae8CPEIAAlECaEJ9QghCVIHdQeuCuIP4g9uD2IHbAdxB5kHngdMCUwJUQnECVEJaglRCWoJiwl5CW4KjAq7DaYOpw26DpwOZQ48D4MOXgt+B5gH1AdhCEIJGAkRC2kLbgs9CWUJYwljCWEH4Qd+B5IH6AefB+wHswf1B9gHFAn+CBcM4Az0C/8LQwxDDMwLfQyeDGYNAwy0DNUMnQ0DDLQMOgx+B1AIrwfFB48I5wkCC9oKxArECvAKJg0TCpwJYgqHCpMKxgr4Ch8LAghICMAIYQiOCCQJUQnOCfIIlwl0CVoKwQf4B98H6AjyCCYMIQg9COMI4wguCEoIXAh5CJwI2Qj8COwJ6An3CXcKmgqfCxYJsAluCW4JmgmgC8gLOwxPDNUIoQjYCKQI4wgPCfwIzgitCGUKEwoDCmAL2gt3C+IL5QtVDIgL6QvEC5EM9gs=",
          "dtype": "i2"
         },
         "xaxis": "x7",
         "yaxis": "y7"
        },
        {
         "marker": {
          "line": {
           "color": "black",
           "width": 1
          }
         },
         "name": "enginesize",
         "nbinsx": 25,
         "type": "histogram",
         "x": {
          "bdata": "ggCCAJgAbQCIAIgAiACIAIMAgwBsAGwApACkAKQA0QDRANEAPQBaAFoAWgBaAGIAWgBaAFoAYgB6AJwAXABcAE8AXABcAFwAXABuAG4AbgBuAG4AbgBvAFoAWgB3AAIBAgFGAVsAWwBbAFsAWwBGAEYARgBQAHoAegB6AHoAegB6AIwAhgC3ALcAtwC3AOoA6gA0ATABjABcAFwAXABiAG4AegCcAJwAnAB6AHoAbgBuAGEAZwBhAGEAYQBhAGEAYQBhAGEAeAB4ALUAtQC1ALUAtQC1AHgAmAB4AJgAeACYAHgAmAB4AJgAhgBaAGIAWgBaAGIAegCcAJcAwgDCAMIAywCEAIQAeQB5AHkAeQB5AHkAYQBsAGwAbABsAGwAbABsAGwAbABsAGwAXABcAFwAXABcAFwAYgBiAG4AbgBiAGIAYgBiAGIAYgBiAJIAkgCSAJIAkgCSAHoAbgB6AHoAegCrAKsAqwChAGEAbQBhAG0AbQBhAG0AbQBtAIgAYQBtAI0AjQCNAI0AggCCAI0AjQCtAJEAjQA=",
          "dtype": "i2"
         },
         "xaxis": "x8",
         "yaxis": "y8"
        },
        {
         "marker": {
          "line": {
           "color": "black",
           "width": 1
          }
         },
         "name": "boreratio",
         "nbinsx": 25,
         "type": "histogram",
         "x": {
          "bdata": "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",
          "dtype": "f8"
         },
         "xaxis": "x9",
         "yaxis": "y9"
        },
        {
         "marker": {
          "line": {
           "color": "black",
           "width": 1
          }
         },
         "name": "stroke",
         "nbinsx": 25,
         "type": "histogram",
         "x": {
          "bdata": "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",
          "dtype": "f8"
         },
         "xaxis": "x10",
         "yaxis": "y10"
        },
        {
         "marker": {
          "line": {
           "color": "black",
           "width": 1
          }
         },
         "name": "compressionratio",
         "nbinsx": 25,
         "type": "histogram",
         "x": {
          "bdata": "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",
          "dtype": "f8"
         },
         "xaxis": "x11",
         "yaxis": "y11"
        },
        {
         "marker": {
          "line": {
           "color": "black",
           "width": 1
          }
         },
         "name": "horsepower",
         "nbinsx": 25,
         "type": "histogram",
         "x": {
          "bdata": "bwBvAJoAZgBzAG4AbgBuAIwAoABlAGUAeQB5AHkAtgC2ALYAMABGAEYARABEAGYARABEAEQAZgBYAJEAOgBMADwATABMAEwATABWAFYAVgBWAGUAZABOAEYARgBaALAAsAAGAUQARABEAEQARABlAGUAZQCHAFQAVABUAFQAQABUAHgASAB7AHsAewB7AJsAmwC4ALgArwBEAEQARABmAHQAWACRAJEAkQBYAFgAdAB0AEUANwBFAEUARQBFAEUARQBFAEUAYQBhAJgAmACYAKAAyACgAGEAXwBhAF8AXwBfAF8AXwBhAF8AjgBEAGYARABEAEQAWACRAI8AzwDPAM8AIAFaAFoAbgBuAG4AbgCgAKAARQBJAEkAUgBSAF4AUgBvAFIAXgBSAG8APgA+AD4APgA+AD4ARgBGADgAOABGAEYARgBGAEYAcABwAHQAdAB0AHQAdAB0AFwASQBcAFwAXAChAKEAnACcADQAVQA0AFUAVQBEAGQAWgBaAG4ARABYAHIAcgByAHIAogCiAHIAoACGAGoAcgA=",
          "dtype": "i2"
         },
         "xaxis": "x12",
         "yaxis": "y12"
        },
        {
         "marker": {
          "line": {
           "color": "black",
           "width": 1
          }
         },
         "name": "peakrpm",
         "nbinsx": 25,
         "type": "histogram",
         "x": {
          "bdata": "iBOIE4gTfBV8FXwVfBV8FXwVfBWoFqgWmhCaEJoQGBUYFRgV7BMYFRgVfBV8FXwVfBV8FXwVfBWIE4gTwBJwF3wVcBdwF3AXcBeoFqgWqBaoFqgWfBXAEhgVGBWIE44SjhKIE4gTiBOIE4gTiBNwF3AXcBdwF8ASwBLAEsASKhLAEogTaBD+EP4Q/hD+EI4SjhKUEZQRiBN8FXwVfBV8FXwViBOIE4gTiBOIE4gTfBV8FVAUwBJQFFAUUBRQFFAUUBRQFFAUUBRQFFAUUBRQFFAUUBRQFIgTNhCIEzYQiBM2EIgTNhCIEzYQ4BV8FXwVfBV8FXwViBOIE3wVDBcMFwwXdhbsE+wTghSCFIIUghR8FXwVJBMwETARwBIwEVAUwBLAEsASUBTAEsASwBLAEsASwBLAEsASwBLAEpQRlBHAEsASwBLAEsASyBnIGcASwBLAEsASwBLAEmgQlBFoEGgQaBBQFFAUUBRQFMASghTAEoIUghSUEXwVfBV8FXwVlBF8FRgVGBUYFRgV7BPsExgVtBR8FcASGBU=",
          "dtype": "i2"
         },
         "xaxis": "x13",
         "yaxis": "y13"
        },
        {
         "marker": {
          "line": {
           "color": "black",
           "width": 1
          }
         },
         "name": "citympg",
         "nbinsx": 25,
         "type": "histogram",
         "x": {
          "bdata": "FRUTGBITExMREBcXFRUUEBAPLyYmJR8YHx8fGBgTMR8mHh4eHhsbGxsYGRgmJhgPDw0eHx8fHxERERAaGhoaJBoTHxYWFhYQEA4OEyUfHxgXGRMTExkZFxcfLR8fHx8fHx8fGxsRERMTERMTHBMZExwTGRMcEiUYHx8fGBMTERERERcXFRUVFRMTHxoaIBwaGBgcGRcXIx8fHxsbHh4iJiYcHB0dGhoYGBgYGBgdHhsbGxQTFBMlGyUbGyUaGBgTIRkXFxgYEREXExIaEw==",
          "dtype": "i1"
         },
         "xaxis": "x14",
         "yaxis": "y14"
        },
        {
         "marker": {
          "line": {
           "color": "black",
           "width": 1
          }
         },
         "name": "highwaympg",
         "nbinsx": 25,
         "type": "histogram",
         "x": {
          "bdata": "GxsaHhYZGRkUFh0dHBwZFhYUNSsrKSYeJiYmHh4YNiYqIiIiIiEhISEcHx0rKx0TExEfJiYmJhcXFxcgICAgKiAbJxkZGRkSEhAQGCkmJh4eIBgYGCAgHh4lMiUlJSUlJSUlIiIWFhkZFxkYIRgZGCEYGRghGCkeJiYmHhgbGRkZHB8fHBwcHBoaJB8fJSEgGR0gHx0XJyYmJSAgJSUkLy8iIiIiHR0eHh4eHh4iISAgIBgYGBguIi4iIiogHR0YJh8cHBwcFhYcGRcbGQ==",
          "dtype": "i1"
         },
         "xaxis": "x15",
         "yaxis": "y15"
        }
       ],
       "layout": {
        "annotations": [
         {
          "font": {
           "size": 16
          },
          "showarrow": false,
          "text": "doornumber",
          "x": 0.08399999999999999,
          "xanchor": "center",
          "xref": "paper",
          "y": 1,
          "yanchor": "bottom",
          "yref": "paper"
         },
         {
          "font": {
           "size": 16
          },
          "showarrow": false,
          "text": "cylindernumber",
          "x": 0.292,
          "xanchor": "center",
          "xref": "paper",
          "y": 1,
          "yanchor": "bottom",
          "yref": "paper"
         },
         {
          "font": {
           "size": 16
          },
          "showarrow": false,
          "text": "wheelbase",
          "x": 0.5,
          "xanchor": "center",
          "xref": "paper",
          "y": 1,
          "yanchor": "bottom",
          "yref": "paper"
         },
         {
          "font": {
           "size": 16
          },
          "showarrow": false,
          "text": "carlength",
          "x": 0.708,
          "xanchor": "center",
          "xref": "paper",
          "y": 1,
          "yanchor": "bottom",
          "yref": "paper"
         },
         {
          "font": {
           "size": 16
          },
          "showarrow": false,
          "text": "carwidth",
          "x": 0.9159999999999999,
          "xanchor": "center",
          "xref": "paper",
          "y": 1,
          "yanchor": "bottom",
          "yref": "paper"
         },
         {
          "font": {
           "size": 16
          },
          "showarrow": false,
          "text": "carheight",
          "x": 0.08399999999999999,
          "xanchor": "center",
          "xref": "paper",
          "y": 0.6111111111111112,
          "yanchor": "bottom",
          "yref": "paper"
         },
         {
          "font": {
           "size": 16
          },
          "showarrow": false,
          "text": "curbweight",
          "x": 0.292,
          "xanchor": "center",
          "xref": "paper",
          "y": 0.6111111111111112,
          "yanchor": "bottom",
          "yref": "paper"
         },
         {
          "font": {
           "size": 16
          },
          "showarrow": false,
          "text": "enginesize",
          "x": 0.5,
          "xanchor": "center",
          "xref": "paper",
          "y": 0.6111111111111112,
          "yanchor": "bottom",
          "yref": "paper"
         },
         {
          "font": {
           "size": 16
          },
          "showarrow": false,
          "text": "boreratio",
          "x": 0.708,
          "xanchor": "center",
          "xref": "paper",
          "y": 0.6111111111111112,
          "yanchor": "bottom",
          "yref": "paper"
         },
         {
          "font": {
           "size": 16
          },
          "showarrow": false,
          "text": "stroke",
          "x": 0.9159999999999999,
          "xanchor": "center",
          "xref": "paper",
          "y": 0.6111111111111112,
          "yanchor": "bottom",
          "yref": "paper"
         },
         {
          "font": {
           "size": 16
          },
          "showarrow": false,
          "text": "compressionratio",
          "x": 0.08399999999999999,
          "xanchor": "center",
          "xref": "paper",
          "y": 0.22222222222222224,
          "yanchor": "bottom",
          "yref": "paper"
         },
         {
          "font": {
           "size": 16
          },
          "showarrow": false,
          "text": "horsepower",
          "x": 0.292,
          "xanchor": "center",
          "xref": "paper",
          "y": 0.22222222222222224,
          "yanchor": "bottom",
          "yref": "paper"
         },
         {
          "font": {
           "size": 16
          },
          "showarrow": false,
          "text": "peakrpm",
          "x": 0.5,
          "xanchor": "center",
          "xref": "paper",
          "y": 0.22222222222222224,
          "yanchor": "bottom",
          "yref": "paper"
         },
         {
          "font": {
           "size": 16
          },
          "showarrow": false,
          "text": "citympg",
          "x": 0.708,
          "xanchor": "center",
          "xref": "paper",
          "y": 0.22222222222222224,
          "yanchor": "bottom",
          "yref": "paper"
         },
         {
          "font": {
           "size": 16
          },
          "showarrow": false,
          "text": "highwaympg",
          "x": 0.9159999999999999,
          "xanchor": "center",
          "xref": "paper",
          "y": 0.22222222222222224,
          "yanchor": "bottom",
          "yref": "paper"
         }
        ],
        "height": 900,
        "showlegend": false,
        "template": {
         "data": {
          "bar": [
           {
            "error_x": {
             "color": "#2a3f5f"
            },
            "error_y": {
             "color": "#2a3f5f"
            },
            "marker": {
             "line": {
              "color": "#E5ECF6",
              "width": 0.5
             },
             "pattern": {
              "fillmode": "overlay",
              "size": 10,
              "solidity": 0.2
             }
            },
            "type": "bar"
           }
          ],
          "barpolar": [
           {
            "marker": {
             "line": {
              "color": "#E5ECF6",
              "width": 0.5
             },
             "pattern": {
              "fillmode": "overlay",
              "size": 10,
              "solidity": 0.2
             }
            },
            "type": "barpolar"
           }
          ],
          "carpet": [
           {
            "aaxis": {
             "endlinecolor": "#2a3f5f",
             "gridcolor": "white",
             "linecolor": "white",
             "minorgridcolor": "white",
             "startlinecolor": "#2a3f5f"
            },
            "baxis": {
             "endlinecolor": "#2a3f5f",
             "gridcolor": "white",
             "linecolor": "white",
             "minorgridcolor": "white",
             "startlinecolor": "#2a3f5f"
            },
            "type": "carpet"
           }
          ],
          "choropleth": [
           {
            "colorbar": {
             "outlinewidth": 0,
             "ticks": ""
            },
            "type": "choropleth"
           }
          ],
          "contour": [
           {
            "colorbar": {
             "outlinewidth": 0,
             "ticks": ""
            },
            "colorscale": [
             [
              0,
              "#0d0887"
             ],
             [
              0.1111111111111111,
              "#46039f"
             ],
             [
              0.2222222222222222,
              "#7201a8"
             ],
             [
              0.3333333333333333,
              "#9c179e"
             ],
             [
              0.4444444444444444,
              "#bd3786"
             ],
             [
              0.5555555555555556,
              "#d8576b"
             ],
             [
              0.6666666666666666,
              "#ed7953"
             ],
             [
              0.7777777777777778,
              "#fb9f3a"
             ],
             [
              0.8888888888888888,
              "#fdca26"
             ],
             [
              1,
              "#f0f921"
             ]
            ],
            "type": "contour"
           }
          ],
          "contourcarpet": [
           {
            "colorbar": {
             "outlinewidth": 0,
             "ticks": ""
            },
            "type": "contourcarpet"
           }
          ],
          "heatmap": [
           {
            "colorbar": {
             "outlinewidth": 0,
             "ticks": ""
            },
            "colorscale": [
             [
              0,
              "#0d0887"
             ],
             [
              0.1111111111111111,
              "#46039f"
             ],
             [
              0.2222222222222222,
              "#7201a8"
             ],
             [
              0.3333333333333333,
              "#9c179e"
             ],
             [
              0.4444444444444444,
              "#bd3786"
             ],
             [
              0.5555555555555556,
              "#d8576b"
             ],
             [
              0.6666666666666666,
              "#ed7953"
             ],
             [
              0.7777777777777778,
              "#fb9f3a"
             ],
             [
              0.8888888888888888,
              "#fdca26"
             ],
             [
              1,
              "#f0f921"
             ]
            ],
            "type": "heatmap"
           }
          ],
          "histogram": [
           {
            "marker": {
             "pattern": {
              "fillmode": "overlay",
              "size": 10,
              "solidity": 0.2
             }
            },
            "type": "histogram"
           }
          ],
          "histogram2d": [
           {
            "colorbar": {
             "outlinewidth": 0,
             "ticks": ""
            },
            "colorscale": [
             [
              0,
              "#0d0887"
             ],
             [
              0.1111111111111111,
              "#46039f"
             ],
             [
              0.2222222222222222,
              "#7201a8"
             ],
             [
              0.3333333333333333,
              "#9c179e"
             ],
             [
              0.4444444444444444,
              "#bd3786"
             ],
             [
              0.5555555555555556,
              "#d8576b"
             ],
             [
              0.6666666666666666,
              "#ed7953"
             ],
             [
              0.7777777777777778,
              "#fb9f3a"
             ],
             [
              0.8888888888888888,
              "#fdca26"
             ],
             [
              1,
              "#f0f921"
             ]
            ],
            "type": "histogram2d"
           }
          ],
          "histogram2dcontour": [
           {
            "colorbar": {
             "outlinewidth": 0,
             "ticks": ""
            },
            "colorscale": [
             [
              0,
              "#0d0887"
             ],
             [
              0.1111111111111111,
              "#46039f"
             ],
             [
              0.2222222222222222,
              "#7201a8"
             ],
             [
              0.3333333333333333,
              "#9c179e"
             ],
             [
              0.4444444444444444,
              "#bd3786"
             ],
             [
              0.5555555555555556,
              "#d8576b"
             ],
             [
              0.6666666666666666,
              "#ed7953"
             ],
             [
              0.7777777777777778,
              "#fb9f3a"
             ],
             [
              0.8888888888888888,
              "#fdca26"
             ],
             [
              1,
              "#f0f921"
             ]
            ],
            "type": "histogram2dcontour"
           }
          ],
          "mesh3d": [
           {
            "colorbar": {
             "outlinewidth": 0,
             "ticks": ""
            },
            "type": "mesh3d"
           }
          ],
          "parcoords": [
           {
            "line": {
             "colorbar": {
              "outlinewidth": 0,
              "ticks": ""
             }
            },
            "type": "parcoords"
           }
          ],
          "pie": [
           {
            "automargin": true,
            "type": "pie"
           }
          ],
          "scatter": [
           {
            "fillpattern": {
             "fillmode": "overlay",
             "size": 10,
             "solidity": 0.2
            },
            "type": "scatter"
           }
          ],
          "scatter3d": [
           {
            "line": {
             "colorbar": {
              "outlinewidth": 0,
              "ticks": ""
             }
            },
            "marker": {
             "colorbar": {
              "outlinewidth": 0,
              "ticks": ""
             }
            },
            "type": "scatter3d"
           }
          ],
          "scattercarpet": [
           {
            "marker": {
             "colorbar": {
              "outlinewidth": 0,
              "ticks": ""
             }
            },
            "type": "scattercarpet"
           }
          ],
          "scattergeo": [
           {
            "marker": {
             "colorbar": {
              "outlinewidth": 0,
              "ticks": ""
             }
            },
            "type": "scattergeo"
           }
          ],
          "scattergl": [
           {
            "marker": {
             "colorbar": {
              "outlinewidth": 0,
              "ticks": ""
             }
            },
            "type": "scattergl"
           }
          ],
          "scattermap": [
           {
            "marker": {
             "colorbar": {
              "outlinewidth": 0,
              "ticks": ""
             }
            },
            "type": "scattermap"
           }
          ],
          "scattermapbox": [
           {
            "marker": {
             "colorbar": {
              "outlinewidth": 0,
              "ticks": ""
             }
            },
            "type": "scattermapbox"
           }
          ],
          "scatterpolar": [
           {
            "marker": {
             "colorbar": {
              "outlinewidth": 0,
              "ticks": ""
             }
            },
            "type": "scatterpolar"
           }
          ],
          "scatterpolargl": [
           {
            "marker": {
             "colorbar": {
              "outlinewidth": 0,
              "ticks": ""
             }
            },
            "type": "scatterpolargl"
           }
          ],
          "scatterternary": [
           {
            "marker": {
             "colorbar": {
              "outlinewidth": 0,
              "ticks": ""
             }
            },
            "type": "scatterternary"
           }
          ],
          "surface": [
           {
            "colorbar": {
             "outlinewidth": 0,
             "ticks": ""
            },
            "colorscale": [
             [
              0,
              "#0d0887"
             ],
             [
              0.1111111111111111,
              "#46039f"
             ],
             [
              0.2222222222222222,
              "#7201a8"
             ],
             [
              0.3333333333333333,
              "#9c179e"
             ],
             [
              0.4444444444444444,
              "#bd3786"
             ],
             [
              0.5555555555555556,
              "#d8576b"
             ],
             [
              0.6666666666666666,
              "#ed7953"
             ],
             [
              0.7777777777777778,
              "#fb9f3a"
             ],
             [
              0.8888888888888888,
              "#fdca26"
             ],
             [
              1,
              "#f0f921"
             ]
            ],
            "type": "surface"
           }
          ],
          "table": [
           {
            "cells": {
             "fill": {
              "color": "#EBF0F8"
             },
             "line": {
              "color": "white"
             }
            },
            "header": {
             "fill": {
              "color": "#C8D4E3"
             },
             "line": {
              "color": "white"
             }
            },
            "type": "table"
           }
          ]
         },
         "layout": {
          "annotationdefaults": {
           "arrowcolor": "#2a3f5f",
           "arrowhead": 0,
           "arrowwidth": 1
          },
          "autotypenumbers": "strict",
          "coloraxis": {
           "colorbar": {
            "outlinewidth": 0,
            "ticks": ""
           }
          },
          "colorscale": {
           "diverging": [
            [
             0,
             "#8e0152"
            ],
            [
             0.1,
             "#c51b7d"
            ],
            [
             0.2,
             "#de77ae"
            ],
            [
             0.3,
             "#f1b6da"
            ],
            [
             0.4,
             "#fde0ef"
            ],
            [
             0.5,
             "#f7f7f7"
            ],
            [
             0.6,
             "#e6f5d0"
            ],
            [
             0.7,
             "#b8e186"
            ],
            [
             0.8,
             "#7fbc41"
            ],
            [
             0.9,
             "#4d9221"
            ],
            [
             1,
             "#276419"
            ]
           ],
           "sequential": [
            [
             0,
             "#0d0887"
            ],
            [
             0.1111111111111111,
             "#46039f"
            ],
            [
             0.2222222222222222,
             "#7201a8"
            ],
            [
             0.3333333333333333,
             "#9c179e"
            ],
            [
             0.4444444444444444,
             "#bd3786"
            ],
            [
             0.5555555555555556,
             "#d8576b"
            ],
            [
             0.6666666666666666,
             "#ed7953"
            ],
            [
             0.7777777777777778,
             "#fb9f3a"
            ],
            [
             0.8888888888888888,
             "#fdca26"
            ],
            [
             1,
             "#f0f921"
            ]
           ],
           "sequentialminus": [
            [
             0,
             "#0d0887"
            ],
            [
             0.1111111111111111,
             "#46039f"
            ],
            [
             0.2222222222222222,
             "#7201a8"
            ],
            [
             0.3333333333333333,
             "#9c179e"
            ],
            [
             0.4444444444444444,
             "#bd3786"
            ],
            [
             0.5555555555555556,
             "#d8576b"
            ],
            [
             0.6666666666666666,
             "#ed7953"
            ],
            [
             0.7777777777777778,
             "#fb9f3a"
            ],
            [
             0.8888888888888888,
             "#fdca26"
            ],
            [
             1,
             "#f0f921"
            ]
           ]
          },
          "colorway": [
           "#636efa",
           "#EF553B",
           "#00cc96",
           "#ab63fa",
           "#FFA15A",
           "#19d3f3",
           "#FF6692",
           "#B6E880",
           "#FF97FF",
           "#FECB52"
          ],
          "font": {
           "color": "#2a3f5f"
          },
          "geo": {
           "bgcolor": "white",
           "lakecolor": "white",
           "landcolor": "#E5ECF6",
           "showlakes": true,
           "showland": true,
           "subunitcolor": "white"
          },
          "hoverlabel": {
           "align": "left"
          },
          "hovermode": "closest",
          "mapbox": {
           "style": "light"
          },
          "paper_bgcolor": "white",
          "plot_bgcolor": "#E5ECF6",
          "polar": {
           "angularaxis": {
            "gridcolor": "white",
            "linecolor": "white",
            "ticks": ""
           },
           "bgcolor": "#E5ECF6",
           "radialaxis": {
            "gridcolor": "white",
            "linecolor": "white",
            "ticks": ""
           }
          },
          "scene": {
           "xaxis": {
            "backgroundcolor": "#E5ECF6",
            "gridcolor": "white",
            "gridwidth": 2,
            "linecolor": "white",
            "showbackground": true,
            "ticks": "",
            "zerolinecolor": "white"
           },
           "yaxis": {
            "backgroundcolor": "#E5ECF6",
            "gridcolor": "white",
            "gridwidth": 2,
            "linecolor": "white",
            "showbackground": true,
            "ticks": "",
            "zerolinecolor": "white"
           },
           "zaxis": {
            "backgroundcolor": "#E5ECF6",
            "gridcolor": "white",
            "gridwidth": 2,
            "linecolor": "white",
            "showbackground": true,
            "ticks": "",
            "zerolinecolor": "white"
           }
          },
          "shapedefaults": {
           "line": {
            "color": "#2a3f5f"
           }
          },
          "ternary": {
           "aaxis": {
            "gridcolor": "white",
            "linecolor": "white",
            "ticks": ""
           },
           "baxis": {
            "gridcolor": "white",
            "linecolor": "white",
            "ticks": ""
           },
           "bgcolor": "#E5ECF6",
           "caxis": {
            "gridcolor": "white",
            "linecolor": "white",
            "ticks": ""
           }
          },
          "title": {
           "x": 0.05
          },
          "xaxis": {
           "automargin": true,
           "gridcolor": "white",
           "linecolor": "white",
           "ticks": "",
           "title": {
            "standoff": 15
           },
           "zerolinecolor": "white",
           "zerolinewidth": 2
          },
          "yaxis": {
           "automargin": true,
           "gridcolor": "white",
           "linecolor": "white",
           "ticks": "",
           "title": {
            "standoff": 15
           },
           "zerolinecolor": "white",
           "zerolinewidth": 2
          }
         }
        },
        "title": {
         "text": "Histogramme der numerischen Features"
        },
        "width": 1400,
        "xaxis": {
         "anchor": "y",
         "domain": [
          0,
          0.16799999999999998
         ]
        },
        "xaxis10": {
         "anchor": "y10",
         "domain": [
          0.832,
          1
         ]
        },
        "xaxis11": {
         "anchor": "y11",
         "domain": [
          0,
          0.16799999999999998
         ]
        },
        "xaxis12": {
         "anchor": "y12",
         "domain": [
          0.208,
          0.376
         ]
        },
        "xaxis13": {
         "anchor": "y13",
         "domain": [
          0.416,
          0.584
         ]
        },
        "xaxis14": {
         "anchor": "y14",
         "domain": [
          0.624,
          0.792
         ]
        },
        "xaxis15": {
         "anchor": "y15",
         "domain": [
          0.832,
          1
         ]
        },
        "xaxis2": {
         "anchor": "y2",
         "domain": [
          0.208,
          0.376
         ]
        },
        "xaxis3": {
         "anchor": "y3",
         "domain": [
          0.416,
          0.584
         ]
        },
        "xaxis4": {
         "anchor": "y4",
         "domain": [
          0.624,
          0.792
         ]
        },
        "xaxis5": {
         "anchor": "y5",
         "domain": [
          0.832,
          1
         ]
        },
        "xaxis6": {
         "anchor": "y6",
         "domain": [
          0,
          0.16799999999999998
         ]
        },
        "xaxis7": {
         "anchor": "y7",
         "domain": [
          0.208,
          0.376
         ]
        },
        "xaxis8": {
         "anchor": "y8",
         "domain": [
          0.416,
          0.584
         ]
        },
        "xaxis9": {
         "anchor": "y9",
         "domain": [
          0.624,
          0.792
         ]
        },
        "yaxis": {
         "anchor": "x",
         "domain": [
          0.7777777777777778,
          1
         ]
        },
        "yaxis10": {
         "anchor": "x10",
         "domain": [
          0.3888888888888889,
          0.6111111111111112
         ]
        },
        "yaxis11": {
         "anchor": "x11",
         "domain": [
          0,
          0.22222222222222224
         ]
        },
        "yaxis12": {
         "anchor": "x12",
         "domain": [
          0,
          0.22222222222222224
         ]
        },
        "yaxis13": {
         "anchor": "x13",
         "domain": [
          0,
          0.22222222222222224
         ]
        },
        "yaxis14": {
         "anchor": "x14",
         "domain": [
          0,
          0.22222222222222224
         ]
        },
        "yaxis15": {
         "anchor": "x15",
         "domain": [
          0,
          0.22222222222222224
         ]
        },
        "yaxis2": {
         "anchor": "x2",
         "domain": [
          0.7777777777777778,
          1
         ]
        },
        "yaxis3": {
         "anchor": "x3",
         "domain": [
          0.7777777777777778,
          1
         ]
        },
        "yaxis4": {
         "anchor": "x4",
         "domain": [
          0.7777777777777778,
          1
         ]
        },
        "yaxis5": {
         "anchor": "x5",
         "domain": [
          0.7777777777777778,
          1
         ]
        },
        "yaxis6": {
         "anchor": "x6",
         "domain": [
          0.3888888888888889,
          0.6111111111111112
         ]
        },
        "yaxis7": {
         "anchor": "x7",
         "domain": [
          0.3888888888888889,
          0.6111111111111112
         ]
        },
        "yaxis8": {
         "anchor": "x8",
         "domain": [
          0.3888888888888889,
          0.6111111111111112
         ]
        },
        "yaxis9": {
         "anchor": "x9",
         "domain": [
          0.3888888888888889,
          0.6111111111111112
         ]
        }
       }
      }
     },
     "metadata": {},
     "output_type": "display_data"
    }
   ],
   "source": [
    "# Feature engneering\n",
    "numerical_columns = ['doornumber','cylindernumber','wheelbase', 'carlength', 'carwidth', 'carheight', 'curbweight',\n",
    "                     'enginesize', 'boreratio', 'stroke', 'compressionratio', 'horsepower',\n",
    "                     'peakrpm', 'citympg', 'highwaympg']\n",
    "\n",
    "cols = 5\n",
    "rows = int(np.ceil(len(numerical_columns) / cols))\n",
    "\n",
    "fig = make_subplots(rows=rows, cols=cols, subplot_titles=numerical_columns)\n",
    "\n",
    "for i, feature in enumerate(numerical_columns):\n",
    "    row = i // cols + 1\n",
    "    col = i % cols + 1\n",
    "\n",
    "    fig.add_trace(\n",
    "    go.Histogram(\n",
    "        x=df[feature],\n",
    "        nbinsx=25,\n",
    "        name=feature,\n",
    "        marker=dict(\n",
    "            line=dict(\n",
    "                color='black',  # Linienfarbe\n",
    "                width=1         # Liniendicke\n",
    "            )\n",
    "        )\n",
    "    ),\n",
    "    row=row, col=col\n",
    "    )\n",
    "\n",
    "\n",
    "fig.update_layout(\n",
    "    height=300 * rows,\n",
    "    width=1400,\n",
    "    title_text=\"Histogramme der numerischen Features\",\n",
    "    showlegend=False\n",
    ")\n",
    "\n",
    "fig.show()\n"
   ]
  },
  {
   "cell_type": "markdown",
   "id": "d293f9b3-fc0c-49e2-8524-77b4c1a79e09",
   "metadata": {},
   "source": [
    "## Der Preis wird extra dargestellt um mehr Details zu erkennen.\n",
    "Es ist zu erkennen dass der Preis eine asymetrische Vertelung hat. \n",
    "### min.: 5118€\n",
    "### Max.: 45400€\n",
    "### mean: 13276€\n",
    "### midian: 10295€\n"
   ]
  },
  {
   "cell_type": "code",
   "execution_count": 130,
   "id": "9ef293bb-2ebb-4736-8307-e5641016ff6e",
   "metadata": {},
   "outputs": [
    {
     "name": "stdout",
     "output_type": "stream",
     "text": [
      "-- statistische Werte von Preis --\n",
      "min.: 5118.0\n",
      "max.: 45400.0\n",
      "mean: 13276.710570731706\n",
      "median: 10295.0\n"
     ]
    },
    {
     "data": {
      "application/vnd.plotly.v1+json": {
       "config": {
        "plotlyServerURL": "https://plot.ly"
       },
       "data": [
        {
         "bingroup": "x",
         "hovertemplate": "price=%{x}<br>count=%{y}<extra></extra>",
         "legendgroup": "",
         "marker": {
          "color": "#636efa",
          "opacity": 0.8,
          "pattern": {
           "shape": ""
          }
         },
         "name": "",
         "nbinsx": 40,
         "orientation": "v",
         "showlegend": false,
         "type": "histogram",
         "x": {
          "bdata": "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",
          "dtype": "f8"
         },
         "xaxis": "x",
         "yaxis": "y"
        },
        {
         "boxpoints": "all",
         "fillcolor": "rgba(255,255,255,0)",
         "hoveron": "points",
         "hovertemplate": "price=%{x}<extra></extra>",
         "jitter": 0,
         "legendgroup": "",
         "line": {
          "color": "rgba(255,255,255,0)"
         },
         "marker": {
          "color": "#636efa",
          "symbol": "line-ns-open"
         },
         "name": "",
         "showlegend": false,
         "type": "box",
         "x": {
          "bdata": "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",
          "dtype": "f8"
         },
         "xaxis": "x2",
         "yaxis": "y2"
        }
       ],
       "layout": {
        "barmode": "relative",
        "height": 600,
        "legend": {
         "tracegroupgap": 0
        },
        "template": {
         "data": {
          "bar": [
           {
            "error_x": {
             "color": "#2a3f5f"
            },
            "error_y": {
             "color": "#2a3f5f"
            },
            "marker": {
             "line": {
              "color": "#E5ECF6",
              "width": 0.5
             },
             "pattern": {
              "fillmode": "overlay",
              "size": 10,
              "solidity": 0.2
             }
            },
            "type": "bar"
           }
          ],
          "barpolar": [
           {
            "marker": {
             "line": {
              "color": "#E5ECF6",
              "width": 0.5
             },
             "pattern": {
              "fillmode": "overlay",
              "size": 10,
              "solidity": 0.2
             }
            },
            "type": "barpolar"
           }
          ],
          "carpet": [
           {
            "aaxis": {
             "endlinecolor": "#2a3f5f",
             "gridcolor": "white",
             "linecolor": "white",
             "minorgridcolor": "white",
             "startlinecolor": "#2a3f5f"
            },
            "baxis": {
             "endlinecolor": "#2a3f5f",
             "gridcolor": "white",
             "linecolor": "white",
             "minorgridcolor": "white",
             "startlinecolor": "#2a3f5f"
            },
            "type": "carpet"
           }
          ],
          "choropleth": [
           {
            "colorbar": {
             "outlinewidth": 0,
             "ticks": ""
            },
            "type": "choropleth"
           }
          ],
          "contour": [
           {
            "colorbar": {
             "outlinewidth": 0,
             "ticks": ""
            },
            "colorscale": [
             [
              0,
              "#0d0887"
             ],
             [
              0.1111111111111111,
              "#46039f"
             ],
             [
              0.2222222222222222,
              "#7201a8"
             ],
             [
              0.3333333333333333,
              "#9c179e"
             ],
             [
              0.4444444444444444,
              "#bd3786"
             ],
             [
              0.5555555555555556,
              "#d8576b"
             ],
             [
              0.6666666666666666,
              "#ed7953"
             ],
             [
              0.7777777777777778,
              "#fb9f3a"
             ],
             [
              0.8888888888888888,
              "#fdca26"
             ],
             [
              1,
              "#f0f921"
             ]
            ],
            "type": "contour"
           }
          ],
          "contourcarpet": [
           {
            "colorbar": {
             "outlinewidth": 0,
             "ticks": ""
            },
            "type": "contourcarpet"
           }
          ],
          "heatmap": [
           {
            "colorbar": {
             "outlinewidth": 0,
             "ticks": ""
            },
            "colorscale": [
             [
              0,
              "#0d0887"
             ],
             [
              0.1111111111111111,
              "#46039f"
             ],
             [
              0.2222222222222222,
              "#7201a8"
             ],
             [
              0.3333333333333333,
              "#9c179e"
             ],
             [
              0.4444444444444444,
              "#bd3786"
             ],
             [
              0.5555555555555556,
              "#d8576b"
             ],
             [
              0.6666666666666666,
              "#ed7953"
             ],
             [
              0.7777777777777778,
              "#fb9f3a"
             ],
             [
              0.8888888888888888,
              "#fdca26"
             ],
             [
              1,
              "#f0f921"
             ]
            ],
            "type": "heatmap"
           }
          ],
          "histogram": [
           {
            "marker": {
             "pattern": {
              "fillmode": "overlay",
              "size": 10,
              "solidity": 0.2
             }
            },
            "type": "histogram"
           }
          ],
          "histogram2d": [
           {
            "colorbar": {
             "outlinewidth": 0,
             "ticks": ""
            },
            "colorscale": [
             [
              0,
              "#0d0887"
             ],
             [
              0.1111111111111111,
              "#46039f"
             ],
             [
              0.2222222222222222,
              "#7201a8"
             ],
             [
              0.3333333333333333,
              "#9c179e"
             ],
             [
              0.4444444444444444,
              "#bd3786"
             ],
             [
              0.5555555555555556,
              "#d8576b"
             ],
             [
              0.6666666666666666,
              "#ed7953"
             ],
             [
              0.7777777777777778,
              "#fb9f3a"
             ],
             [
              0.8888888888888888,
              "#fdca26"
             ],
             [
              1,
              "#f0f921"
             ]
            ],
            "type": "histogram2d"
           }
          ],
          "histogram2dcontour": [
           {
            "colorbar": {
             "outlinewidth": 0,
             "ticks": ""
            },
            "colorscale": [
             [
              0,
              "#0d0887"
             ],
             [
              0.1111111111111111,
              "#46039f"
             ],
             [
              0.2222222222222222,
              "#7201a8"
             ],
             [
              0.3333333333333333,
              "#9c179e"
             ],
             [
              0.4444444444444444,
              "#bd3786"
             ],
             [
              0.5555555555555556,
              "#d8576b"
             ],
             [
              0.6666666666666666,
              "#ed7953"
             ],
             [
              0.7777777777777778,
              "#fb9f3a"
             ],
             [
              0.8888888888888888,
              "#fdca26"
             ],
             [
              1,
              "#f0f921"
             ]
            ],
            "type": "histogram2dcontour"
           }
          ],
          "mesh3d": [
           {
            "colorbar": {
             "outlinewidth": 0,
             "ticks": ""
            },
            "type": "mesh3d"
           }
          ],
          "parcoords": [
           {
            "line": {
             "colorbar": {
              "outlinewidth": 0,
              "ticks": ""
             }
            },
            "type": "parcoords"
           }
          ],
          "pie": [
           {
            "automargin": true,
            "type": "pie"
           }
          ],
          "scatter": [
           {
            "fillpattern": {
             "fillmode": "overlay",
             "size": 10,
             "solidity": 0.2
            },
            "type": "scatter"
           }
          ],
          "scatter3d": [
           {
            "line": {
             "colorbar": {
              "outlinewidth": 0,
              "ticks": ""
             }
            },
            "marker": {
             "colorbar": {
              "outlinewidth": 0,
              "ticks": ""
             }
            },
            "type": "scatter3d"
           }
          ],
          "scattercarpet": [
           {
            "marker": {
             "colorbar": {
              "outlinewidth": 0,
              "ticks": ""
             }
            },
            "type": "scattercarpet"
           }
          ],
          "scattergeo": [
           {
            "marker": {
             "colorbar": {
              "outlinewidth": 0,
              "ticks": ""
             }
            },
            "type": "scattergeo"
           }
          ],
          "scattergl": [
           {
            "marker": {
             "colorbar": {
              "outlinewidth": 0,
              "ticks": ""
             }
            },
            "type": "scattergl"
           }
          ],
          "scattermap": [
           {
            "marker": {
             "colorbar": {
              "outlinewidth": 0,
              "ticks": ""
             }
            },
            "type": "scattermap"
           }
          ],
          "scattermapbox": [
           {
            "marker": {
             "colorbar": {
              "outlinewidth": 0,
              "ticks": ""
             }
            },
            "type": "scattermapbox"
           }
          ],
          "scatterpolar": [
           {
            "marker": {
             "colorbar": {
              "outlinewidth": 0,
              "ticks": ""
             }
            },
            "type": "scatterpolar"
           }
          ],
          "scatterpolargl": [
           {
            "marker": {
             "colorbar": {
              "outlinewidth": 0,
              "ticks": ""
             }
            },
            "type": "scatterpolargl"
           }
          ],
          "scatterternary": [
           {
            "marker": {
             "colorbar": {
              "outlinewidth": 0,
              "ticks": ""
             }
            },
            "type": "scatterternary"
           }
          ],
          "surface": [
           {
            "colorbar": {
             "outlinewidth": 0,
             "ticks": ""
            },
            "colorscale": [
             [
              0,
              "#0d0887"
             ],
             [
              0.1111111111111111,
              "#46039f"
             ],
             [
              0.2222222222222222,
              "#7201a8"
             ],
             [
              0.3333333333333333,
              "#9c179e"
             ],
             [
              0.4444444444444444,
              "#bd3786"
             ],
             [
              0.5555555555555556,
              "#d8576b"
             ],
             [
              0.6666666666666666,
              "#ed7953"
             ],
             [
              0.7777777777777778,
              "#fb9f3a"
             ],
             [
              0.8888888888888888,
              "#fdca26"
             ],
             [
              1,
              "#f0f921"
             ]
            ],
            "type": "surface"
           }
          ],
          "table": [
           {
            "cells": {
             "fill": {
              "color": "#EBF0F8"
             },
             "line": {
              "color": "white"
             }
            },
            "header": {
             "fill": {
              "color": "#C8D4E3"
             },
             "line": {
              "color": "white"
             }
            },
            "type": "table"
           }
          ]
         },
         "layout": {
          "annotationdefaults": {
           "arrowcolor": "#2a3f5f",
           "arrowhead": 0,
           "arrowwidth": 1
          },
          "autotypenumbers": "strict",
          "coloraxis": {
           "colorbar": {
            "outlinewidth": 0,
            "ticks": ""
           }
          },
          "colorscale": {
           "diverging": [
            [
             0,
             "#8e0152"
            ],
            [
             0.1,
             "#c51b7d"
            ],
            [
             0.2,
             "#de77ae"
            ],
            [
             0.3,
             "#f1b6da"
            ],
            [
             0.4,
             "#fde0ef"
            ],
            [
             0.5,
             "#f7f7f7"
            ],
            [
             0.6,
             "#e6f5d0"
            ],
            [
             0.7,
             "#b8e186"
            ],
            [
             0.8,
             "#7fbc41"
            ],
            [
             0.9,
             "#4d9221"
            ],
            [
             1,
             "#276419"
            ]
           ],
           "sequential": [
            [
             0,
             "#0d0887"
            ],
            [
             0.1111111111111111,
             "#46039f"
            ],
            [
             0.2222222222222222,
             "#7201a8"
            ],
            [
             0.3333333333333333,
             "#9c179e"
            ],
            [
             0.4444444444444444,
             "#bd3786"
            ],
            [
             0.5555555555555556,
             "#d8576b"
            ],
            [
             0.6666666666666666,
             "#ed7953"
            ],
            [
             0.7777777777777778,
             "#fb9f3a"
            ],
            [
             0.8888888888888888,
             "#fdca26"
            ],
            [
             1,
             "#f0f921"
            ]
           ],
           "sequentialminus": [
            [
             0,
             "#0d0887"
            ],
            [
             0.1111111111111111,
             "#46039f"
            ],
            [
             0.2222222222222222,
             "#7201a8"
            ],
            [
             0.3333333333333333,
             "#9c179e"
            ],
            [
             0.4444444444444444,
             "#bd3786"
            ],
            [
             0.5555555555555556,
             "#d8576b"
            ],
            [
             0.6666666666666666,
             "#ed7953"
            ],
            [
             0.7777777777777778,
             "#fb9f3a"
            ],
            [
             0.8888888888888888,
             "#fdca26"
            ],
            [
             1,
             "#f0f921"
            ]
           ]
          },
          "colorway": [
           "#636efa",
           "#EF553B",
           "#00cc96",
           "#ab63fa",
           "#FFA15A",
           "#19d3f3",
           "#FF6692",
           "#B6E880",
           "#FF97FF",
           "#FECB52"
          ],
          "font": {
           "color": "#2a3f5f"
          },
          "geo": {
           "bgcolor": "white",
           "lakecolor": "white",
           "landcolor": "#E5ECF6",
           "showlakes": true,
           "showland": true,
           "subunitcolor": "white"
          },
          "hoverlabel": {
           "align": "left"
          },
          "hovermode": "closest",
          "mapbox": {
           "style": "light"
          },
          "paper_bgcolor": "white",
          "plot_bgcolor": "#E5ECF6",
          "polar": {
           "angularaxis": {
            "gridcolor": "white",
            "linecolor": "white",
            "ticks": ""
           },
           "bgcolor": "#E5ECF6",
           "radialaxis": {
            "gridcolor": "white",
            "linecolor": "white",
            "ticks": ""
           }
          },
          "scene": {
           "xaxis": {
            "backgroundcolor": "#E5ECF6",
            "gridcolor": "white",
            "gridwidth": 2,
            "linecolor": "white",
            "showbackground": true,
            "ticks": "",
            "zerolinecolor": "white"
           },
           "yaxis": {
            "backgroundcolor": "#E5ECF6",
            "gridcolor": "white",
            "gridwidth": 2,
            "linecolor": "white",
            "showbackground": true,
            "ticks": "",
            "zerolinecolor": "white"
           },
           "zaxis": {
            "backgroundcolor": "#E5ECF6",
            "gridcolor": "white",
            "gridwidth": 2,
            "linecolor": "white",
            "showbackground": true,
            "ticks": "",
            "zerolinecolor": "white"
           }
          },
          "shapedefaults": {
           "line": {
            "color": "#2a3f5f"
           }
          },
          "ternary": {
           "aaxis": {
            "gridcolor": "white",
            "linecolor": "white",
            "ticks": ""
           },
           "baxis": {
            "gridcolor": "white",
            "linecolor": "white",
            "ticks": ""
           },
           "bgcolor": "#E5ECF6",
           "caxis": {
            "gridcolor": "white",
            "linecolor": "white",
            "ticks": ""
           }
          },
          "title": {
           "x": 0.05
          },
          "xaxis": {
           "automargin": true,
           "gridcolor": "white",
           "linecolor": "white",
           "ticks": "",
           "title": {
            "standoff": 15
           },
           "zerolinecolor": "white",
           "zerolinewidth": 2
          },
          "yaxis": {
           "automargin": true,
           "gridcolor": "white",
           "linecolor": "white",
           "ticks": "",
           "title": {
            "standoff": 15
           },
           "zerolinecolor": "white",
           "zerolinewidth": 2
          }
         }
        },
        "title": {
         "text": "Distribution of Price"
        },
        "xaxis": {
         "anchor": "y",
         "domain": [
          0,
          1
         ],
         "dtick": 2000,
         "tick0": 0,
         "tickmode": "linear",
         "title": {
          "text": "Price"
         }
        },
        "xaxis2": {
         "anchor": "y2",
         "domain": [
          0,
          1
         ],
         "dtick": 2000,
         "matches": "x",
         "showgrid": true,
         "showticklabels": false,
         "tick0": 0,
         "tickmode": "linear"
        },
        "yaxis": {
         "anchor": "x",
         "domain": [
          0,
          0.8316
         ],
         "title": {
          "text": "Count"
         }
        },
        "yaxis2": {
         "anchor": "x2",
         "domain": [
          0.8416,
          1
         ],
         "matches": "y2",
         "showgrid": false,
         "showline": false,
         "showticklabels": false,
         "ticks": ""
        }
       }
      }
     },
     "metadata": {},
     "output_type": "display_data"
    }
   ],
   "source": [
    "# Analyse von Preis:\n",
    "\n",
    "print(\"-- statistische Werte von Preis --\")\n",
    "\n",
    "print(\"min.:\", df['price'].min())\n",
    "print(\"max.:\",df['price'].max())\n",
    "print(\"mean:\",df['price'].mean())\n",
    "print(\"median:\",df['price'].median())\n",
    "\n",
    "\n",
    "fig = px.histogram(df, x='price', nbins=40, marginal=\"rug\", title='Distribution of Price', opacity=0.8)\n",
    "\n",
    "fig.update_layout(\n",
    "    xaxis_title='Price',\n",
    "    yaxis_title='Count',\n",
    "    height=600  # Höhe des Plots\n",
    ")\n",
    "\n",
    "fig.update_xaxes(\n",
    "    tickmode='linear',\n",
    "    tick0=0,\n",
    "    dtick=2000\n",
    ")\n",
    "\n",
    "fig.show()\n"
   ]
  },
  {
   "cell_type": "code",
   "execution_count": 131,
   "id": "d54fef40-695a-42cd-9bbe-6bdae0fb5512",
   "metadata": {},
   "outputs": [
    {
     "data": {
      "application/vnd.plotly.v1+json": {
       "config": {
        "plotlyServerURL": "https://plot.ly"
       },
       "data": [
        {
         "bingroup": "x",
         "hovertemplate": "fueltype=%{x}<br>count=%{y}<extra></extra>",
         "legendgroup": "",
         "marker": {
          "color": "rgb(127, 60, 141)",
          "pattern": {
           "shape": ""
          }
         },
         "name": "",
         "orientation": "v",
         "showlegend": false,
         "type": "histogram",
         "x": [
          "gas",
          "gas",
          "gas",
          "gas",
          "gas",
          "gas",
          "gas",
          "gas",
          "gas",
          "gas",
          "gas",
          "gas",
          "gas",
          "gas",
          "gas",
          "gas",
          "gas",
          "gas",
          "gas",
          "gas",
          "gas",
          "gas",
          "gas",
          "gas",
          "gas",
          "gas",
          "gas",
          "gas",
          "gas",
          "gas",
          "gas",
          "gas",
          "gas",
          "gas",
          "gas",
          "gas",
          "gas",
          "gas",
          "gas",
          "gas",
          "gas",
          "gas",
          "gas",
          "gas",
          "gas",
          "gas",
          "gas",
          "gas",
          "gas",
          "gas",
          "gas",
          "gas",
          "gas",
          "gas",
          "gas",
          "gas",
          "gas",
          "gas",
          "gas",
          "gas",
          "gas",
          "gas",
          "gas",
          "diesel",
          "gas",
          "gas",
          "diesel",
          "diesel",
          "diesel",
          "diesel",
          "diesel",
          "gas",
          "gas",
          "gas",
          "gas",
          "gas",
          "gas",
          "gas",
          "gas",
          "gas",
          "gas",
          "gas",
          "gas",
          "gas",
          "gas",
          "gas",
          "gas",
          "gas",
          "gas",
          "gas",
          "diesel",
          "gas",
          "gas",
          "gas",
          "gas",
          "gas",
          "gas",
          "gas",
          "gas",
          "gas",
          "gas",
          "gas",
          "gas",
          "gas",
          "gas",
          "gas",
          "gas",
          "gas",
          "diesel",
          "gas",
          "diesel",
          "gas",
          "diesel",
          "gas",
          "diesel",
          "gas",
          "diesel",
          "gas",
          "gas",
          "gas",
          "gas",
          "gas",
          "gas",
          "gas",
          "gas",
          "gas",
          "gas",
          "gas",
          "gas",
          "gas",
          "gas",
          "gas",
          "gas",
          "gas",
          "gas",
          "gas",
          "gas",
          "gas",
          "gas",
          "gas",
          "gas",
          "gas",
          "gas",
          "gas",
          "gas",
          "gas",
          "gas",
          "gas",
          "gas",
          "gas",
          "gas",
          "gas",
          "gas",
          "gas",
          "gas",
          "gas",
          "gas",
          "gas",
          "diesel",
          "diesel",
          "gas",
          "gas",
          "gas",
          "gas",
          "gas",
          "gas",
          "gas",
          "gas",
          "gas",
          "gas",
          "gas",
          "gas",
          "gas",
          "gas",
          "diesel",
          "gas",
          "gas",
          "gas",
          "gas",
          "gas",
          "gas",
          "gas",
          "diesel",
          "gas",
          "diesel",
          "gas",
          "gas",
          "diesel",
          "gas",
          "gas",
          "gas",
          "gas",
          "diesel",
          "gas",
          "gas",
          "gas",
          "gas",
          "gas",
          "gas",
          "gas",
          "gas",
          "gas",
          "gas",
          "diesel",
          "gas"
         ],
         "xaxis": "x",
         "yaxis": "y"
        },
        {
         "bingroup": "x",
         "hovertemplate": "aspiration=%{x}<br>count=%{y}<extra></extra>",
         "legendgroup": "",
         "marker": {
          "color": "rgb(127, 60, 141)",
          "pattern": {
           "shape": ""
          }
         },
         "name": "",
         "orientation": "v",
         "showlegend": false,
         "type": "histogram",
         "x": [
          "std",
          "std",
          "std",
          "std",
          "std",
          "std",
          "std",
          "std",
          "turbo",
          "turbo",
          "std",
          "std",
          "std",
          "std",
          "std",
          "std",
          "std",
          "std",
          "std",
          "std",
          "std",
          "std",
          "std",
          "turbo",
          "std",
          "std",
          "std",
          "turbo",
          "std",
          "turbo",
          "std",
          "std",
          "std",
          "std",
          "std",
          "std",
          "std",
          "std",
          "std",
          "std",
          "std",
          "std",
          "std",
          "std",
          "std",
          "std",
          "std",
          "std",
          "std",
          "std",
          "std",
          "std",
          "std",
          "std",
          "std",
          "std",
          "std",
          "std",
          "std",
          "std",
          "std",
          "std",
          "std",
          "std",
          "std",
          "std",
          "std",
          "turbo",
          "turbo",
          "turbo",
          "turbo",
          "std",
          "std",
          "std",
          "std",
          "turbo",
          "std",
          "std",
          "std",
          "turbo",
          "turbo",
          "std",
          "turbo",
          "turbo",
          "turbo",
          "std",
          "std",
          "turbo",
          "std",
          "std",
          "std",
          "std",
          "std",
          "std",
          "std",
          "std",
          "std",
          "std",
          "std",
          "std",
          "std",
          "std",
          "std",
          "std",
          "std",
          "turbo",
          "std",
          "std",
          "turbo",
          "std",
          "turbo",
          "std",
          "turbo",
          "std",
          "turbo",
          "std",
          "turbo",
          "turbo",
          "std",
          "turbo",
          "std",
          "std",
          "std",
          "std",
          "turbo",
          "std",
          "std",
          "std",
          "std",
          "std",
          "std",
          "std",
          "std",
          "std",
          "std",
          "std",
          "turbo",
          "turbo",
          "std",
          "std",
          "std",
          "std",
          "std",
          "std",
          "std",
          "turbo",
          "std",
          "std",
          "std",
          "turbo",
          "std",
          "std",
          "std",
          "std",
          "std",
          "std",
          "std",
          "std",
          "std",
          "std",
          "std",
          "std",
          "std",
          "std",
          "std",
          "std",
          "std",
          "std",
          "std",
          "std",
          "std",
          "std",
          "std",
          "std",
          "turbo",
          "std",
          "std",
          "std",
          "std",
          "std",
          "std",
          "std",
          "std",
          "std",
          "std",
          "std",
          "std",
          "turbo",
          "std",
          "std",
          "std",
          "std",
          "turbo",
          "std",
          "std",
          "std",
          "std",
          "std",
          "turbo",
          "turbo",
          "std",
          "turbo",
          "std",
          "turbo",
          "turbo"
         ],
         "xaxis": "x2",
         "yaxis": "y2"
        },
        {
         "bingroup": "x",
         "hovertemplate": "carbody=%{x}<br>count=%{y}<extra></extra>",
         "legendgroup": "",
         "marker": {
          "color": "rgb(127, 60, 141)",
          "pattern": {
           "shape": ""
          }
         },
         "name": "",
         "orientation": "v",
         "showlegend": false,
         "type": "histogram",
         "x": [
          "convertible",
          "convertible",
          "hatchback",
          "sedan",
          "sedan",
          "sedan",
          "sedan",
          "wagon",
          "sedan",
          "hatchback",
          "sedan",
          "sedan",
          "sedan",
          "sedan",
          "sedan",
          "sedan",
          "sedan",
          "sedan",
          "hatchback",
          "hatchback",
          "sedan",
          "hatchback",
          "hatchback",
          "hatchback",
          "hatchback",
          "sedan",
          "sedan",
          "sedan",
          "wagon",
          "hatchback",
          "hatchback",
          "hatchback",
          "hatchback",
          "hatchback",
          "hatchback",
          "sedan",
          "wagon",
          "hatchback",
          "hatchback",
          "sedan",
          "sedan",
          "sedan",
          "sedan",
          "sedan",
          "sedan",
          "sedan",
          "hatchback",
          "sedan",
          "sedan",
          "sedan",
          "hatchback",
          "hatchback",
          "hatchback",
          "sedan",
          "sedan",
          "hatchback",
          "hatchback",
          "hatchback",
          "hatchback",
          "hatchback",
          "sedan",
          "hatchback",
          "sedan",
          "sedan",
          "hatchback",
          "sedan",
          "sedan",
          "sedan",
          "wagon",
          "hardtop",
          "sedan",
          "sedan",
          "convertible",
          "sedan",
          "hardtop",
          "hatchback",
          "hatchback",
          "hatchback",
          "hatchback",
          "hatchback",
          "hatchback",
          "hatchback",
          "hatchback",
          "hatchback",
          "hatchback",
          "sedan",
          "sedan",
          "sedan",
          "sedan",
          "sedan",
          "sedan",
          "sedan",
          "sedan",
          "wagon",
          "sedan",
          "hatchback",
          "sedan",
          "wagon",
          "hardtop",
          "hatchback",
          "sedan",
          "sedan",
          "wagon",
          "sedan",
          "hatchback",
          "hatchback",
          "hatchback",
          "sedan",
          "sedan",
          "wagon",
          "wagon",
          "sedan",
          "sedan",
          "wagon",
          "wagon",
          "sedan",
          "sedan",
          "sedan",
          "hatchback",
          "hatchback",
          "hatchback",
          "sedan",
          "sedan",
          "wagon",
          "hatchback",
          "hatchback",
          "hardtop",
          "hardtop",
          "convertible",
          "hatchback",
          "wagon",
          "hatchback",
          "hatchback",
          "sedan",
          "hatchback",
          "sedan",
          "hatchback",
          "sedan",
          "hatchback",
          "hatchback",
          "hatchback",
          "sedan",
          "sedan",
          "sedan",
          "sedan",
          "sedan",
          "wagon",
          "wagon",
          "wagon",
          "wagon",
          "hatchback",
          "hatchback",
          "hatchback",
          "wagon",
          "wagon",
          "wagon",
          "sedan",
          "hatchback",
          "sedan",
          "hatchback",
          "sedan",
          "hatchback",
          "sedan",
          "sedan",
          "hatchback",
          "sedan",
          "hatchback",
          "hardtop",
          "hardtop",
          "hatchback",
          "hardtop",
          "hatchback",
          "convertible",
          "sedan",
          "sedan",
          "hatchback",
          "sedan",
          "hatchback",
          "hatchback",
          "hatchback",
          "sedan",
          "wagon",
          "sedan",
          "sedan",
          "sedan",
          "sedan",
          "sedan",
          "sedan",
          "sedan",
          "convertible",
          "hatchback",
          "sedan",
          "sedan",
          "wagon",
          "sedan",
          "wagon",
          "sedan",
          "wagon",
          "sedan",
          "wagon",
          "sedan",
          "sedan",
          "sedan",
          "sedan",
          "sedan"
         ],
         "xaxis": "x3",
         "yaxis": "y3"
        },
        {
         "bingroup": "x",
         "hovertemplate": "drivewheel=%{x}<br>count=%{y}<extra></extra>",
         "legendgroup": "",
         "marker": {
          "color": "rgb(127, 60, 141)",
          "pattern": {
           "shape": ""
          }
         },
         "name": "",
         "orientation": "v",
         "showlegend": false,
         "type": "histogram",
         "x": [
          "rwd",
          "rwd",
          "rwd",
          "fwd",
          "4wd",
          "fwd",
          "fwd",
          "fwd",
          "fwd",
          "4wd",
          "rwd",
          "rwd",
          "rwd",
          "rwd",
          "rwd",
          "rwd",
          "rwd",
          "rwd",
          "fwd",
          "fwd",
          "fwd",
          "fwd",
          "fwd",
          "fwd",
          "fwd",
          "fwd",
          "fwd",
          "fwd",
          "fwd",
          "fwd",
          "fwd",
          "fwd",
          "fwd",
          "fwd",
          "fwd",
          "fwd",
          "fwd",
          "fwd",
          "fwd",
          "fwd",
          "fwd",
          "fwd",
          "fwd",
          "rwd",
          "fwd",
          "fwd",
          "rwd",
          "rwd",
          "rwd",
          "rwd",
          "fwd",
          "fwd",
          "fwd",
          "fwd",
          "fwd",
          "rwd",
          "rwd",
          "rwd",
          "rwd",
          "fwd",
          "fwd",
          "fwd",
          "fwd",
          "fwd",
          "fwd",
          "rwd",
          "rwd",
          "rwd",
          "rwd",
          "rwd",
          "rwd",
          "rwd",
          "rwd",
          "rwd",
          "rwd",
          "rwd",
          "fwd",
          "fwd",
          "fwd",
          "fwd",
          "fwd",
          "fwd",
          "fwd",
          "fwd",
          "fwd",
          "fwd",
          "fwd",
          "fwd",
          "fwd",
          "fwd",
          "fwd",
          "fwd",
          "fwd",
          "fwd",
          "fwd",
          "fwd",
          "fwd",
          "fwd",
          "fwd",
          "fwd",
          "fwd",
          "fwd",
          "fwd",
          "fwd",
          "rwd",
          "rwd",
          "rwd",
          "rwd",
          "rwd",
          "rwd",
          "rwd",
          "rwd",
          "rwd",
          "rwd",
          "rwd",
          "rwd",
          "rwd",
          "rwd",
          "fwd",
          "fwd",
          "fwd",
          "fwd",
          "fwd",
          "fwd",
          "rwd",
          "rwd",
          "rwd",
          "rwd",
          "rwd",
          "rwd",
          "fwd",
          "fwd",
          "fwd",
          "fwd",
          "fwd",
          "fwd",
          "fwd",
          "fwd",
          "fwd",
          "fwd",
          "4wd",
          "fwd",
          "fwd",
          "fwd",
          "4wd",
          "4wd",
          "fwd",
          "fwd",
          "4wd",
          "4wd",
          "fwd",
          "fwd",
          "fwd",
          "fwd",
          "4wd",
          "4wd",
          "fwd",
          "fwd",
          "fwd",
          "fwd",
          "fwd",
          "fwd",
          "fwd",
          "rwd",
          "rwd",
          "rwd",
          "rwd",
          "rwd",
          "rwd",
          "rwd",
          "rwd",
          "rwd",
          "rwd",
          "fwd",
          "fwd",
          "fwd",
          "fwd",
          "fwd",
          "rwd",
          "rwd",
          "rwd",
          "rwd",
          "fwd",
          "fwd",
          "fwd",
          "fwd",
          "fwd",
          "fwd",
          "fwd",
          "fwd",
          "fwd",
          "fwd",
          "fwd",
          "fwd",
          "rwd",
          "rwd",
          "rwd",
          "rwd",
          "rwd",
          "rwd",
          "rwd",
          "rwd",
          "rwd",
          "rwd",
          "rwd"
         ],
         "xaxis": "x4",
         "yaxis": "y4"
        },
        {
         "bingroup": "x",
         "hovertemplate": "enginelocation=%{x}<br>count=%{y}<extra></extra>",
         "legendgroup": "",
         "marker": {
          "color": "rgb(127, 60, 141)",
          "pattern": {
           "shape": ""
          }
         },
         "name": "",
         "orientation": "v",
         "showlegend": false,
         "type": "histogram",
         "x": [
          "front",
          "front",
          "front",
          "front",
          "front",
          "front",
          "front",
          "front",
          "front",
          "front",
          "front",
          "front",
          "front",
          "front",
          "front",
          "front",
          "front",
          "front",
          "front",
          "front",
          "front",
          "front",
          "front",
          "front",
          "front",
          "front",
          "front",
          "front",
          "front",
          "front",
          "front",
          "front",
          "front",
          "front",
          "front",
          "front",
          "front",
          "front",
          "front",
          "front",
          "front",
          "front",
          "front",
          "front",
          "front",
          "front",
          "front",
          "front",
          "front",
          "front",
          "front",
          "front",
          "front",
          "front",
          "front",
          "front",
          "front",
          "front",
          "front",
          "front",
          "front",
          "front",
          "front",
          "front",
          "front",
          "front",
          "front",
          "front",
          "front",
          "front",
          "front",
          "front",
          "front",
          "front",
          "front",
          "front",
          "front",
          "front",
          "front",
          "front",
          "front",
          "front",
          "front",
          "front",
          "front",
          "front",
          "front",
          "front",
          "front",
          "front",
          "front",
          "front",
          "front",
          "front",
          "front",
          "front",
          "front",
          "front",
          "front",
          "front",
          "front",
          "front",
          "front",
          "front",
          "front",
          "front",
          "front",
          "front",
          "front",
          "front",
          "front",
          "front",
          "front",
          "front",
          "front",
          "front",
          "front",
          "front",
          "front",
          "front",
          "front",
          "front",
          "front",
          "front",
          "front",
          "front",
          "rear",
          "rear",
          "rear",
          "front",
          "front",
          "front",
          "front",
          "front",
          "front",
          "front",
          "front",
          "front",
          "front",
          "front",
          "front",
          "front",
          "front",
          "front",
          "front",
          "front",
          "front",
          "front",
          "front",
          "front",
          "front",
          "front",
          "front",
          "front",
          "front",
          "front",
          "front",
          "front",
          "front",
          "front",
          "front",
          "front",
          "front",
          "front",
          "front",
          "front",
          "front",
          "front",
          "front",
          "front",
          "front",
          "front",
          "front",
          "front",
          "front",
          "front",
          "front",
          "front",
          "front",
          "front",
          "front",
          "front",
          "front",
          "front",
          "front",
          "front",
          "front",
          "front",
          "front",
          "front",
          "front",
          "front",
          "front",
          "front",
          "front",
          "front",
          "front",
          "front",
          "front",
          "front",
          "front",
          "front",
          "front",
          "front",
          "front"
         ],
         "xaxis": "x5",
         "yaxis": "y5"
        },
        {
         "bingroup": "x",
         "hovertemplate": "enginetype=%{x}<br>count=%{y}<extra></extra>",
         "legendgroup": "",
         "marker": {
          "color": "rgb(127, 60, 141)",
          "pattern": {
           "shape": ""
          }
         },
         "name": "",
         "orientation": "v",
         "showlegend": false,
         "type": "histogram",
         "x": [
          "dohc",
          "dohc",
          "ohcv",
          "ohc",
          "ohc",
          "ohc",
          "ohc",
          "ohc",
          "ohc",
          "ohc",
          "ohc",
          "ohc",
          "ohc",
          "ohc",
          "ohc",
          "ohc",
          "ohc",
          "ohc",
          "l",
          "ohc",
          "ohc",
          "ohc",
          "ohc",
          "ohc",
          "ohc",
          "ohc",
          "ohc",
          "ohc",
          "ohc",
          "ohc",
          "ohc",
          "ohc",
          "ohc",
          "ohc",
          "ohc",
          "ohc",
          "ohc",
          "ohc",
          "ohc",
          "ohc",
          "ohc",
          "ohc",
          "ohc",
          "ohc",
          "ohc",
          "ohc",
          "ohc",
          "dohc",
          "dohc",
          "ohcv",
          "ohc",
          "ohc",
          "ohc",
          "ohc",
          "ohc",
          "rotor",
          "rotor",
          "rotor",
          "rotor",
          "ohc",
          "ohc",
          "ohc",
          "ohc",
          "ohc",
          "ohc",
          "ohc",
          "ohc",
          "ohc",
          "ohc",
          "ohc",
          "ohc",
          "ohcv",
          "ohcv",
          "ohcv",
          "ohcv",
          "ohc",
          "ohc",
          "ohc",
          "ohc",
          "ohc",
          "ohc",
          "ohc",
          "ohc",
          "ohc",
          "ohc",
          "ohc",
          "ohc",
          "ohc",
          "ohc",
          "ohc",
          "ohc",
          "ohc",
          "ohc",
          "ohc",
          "ohc",
          "ohc",
          "ohc",
          "ohc",
          "ohc",
          "ohc",
          "ohc",
          "ohcv",
          "ohcv",
          "ohcv",
          "ohcv",
          "ohcv",
          "ohcv",
          "l",
          "l",
          "l",
          "l",
          "l",
          "l",
          "l",
          "l",
          "l",
          "l",
          "l",
          "ohc",
          "ohc",
          "ohc",
          "ohc",
          "ohc",
          "ohc",
          "ohc",
          "ohc",
          "ohcf",
          "ohcf",
          "ohcf",
          "dohcv",
          "ohc",
          "ohc",
          "ohc",
          "ohc",
          "ohc",
          "ohc",
          "dohc",
          "dohc",
          "ohcf",
          "ohcf",
          "ohcf",
          "ohcf",
          "ohcf",
          "ohcf",
          "ohcf",
          "ohcf",
          "ohcf",
          "ohcf",
          "ohcf",
          "ohcf",
          "ohc",
          "ohc",
          "ohc",
          "ohc",
          "ohc",
          "ohc",
          "ohc",
          "ohc",
          "ohc",
          "ohc",
          "ohc",
          "ohc",
          "ohc",
          "ohc",
          "ohc",
          "dohc",
          "dohc",
          "ohc",
          "ohc",
          "ohc",
          "ohc",
          "ohc",
          "ohc",
          "ohc",
          "ohc",
          "ohc",
          "ohc",
          "ohc",
          "dohc",
          "dohc",
          "dohc",
          "dohc",
          "ohc",
          "ohc",
          "ohc",
          "ohc",
          "ohc",
          "ohc",
          "ohc",
          "ohc",
          "ohc",
          "ohc",
          "ohc",
          "ohc",
          "ohc",
          "ohc",
          "ohc",
          "ohc",
          "ohc",
          "ohc",
          "ohc",
          "ohc",
          "ohcv",
          "ohc",
          "ohc"
         ],
         "xaxis": "x6",
         "yaxis": "y6"
        },
        {
         "bingroup": "x",
         "hovertemplate": "fuelsystem=%{x}<br>count=%{y}<extra></extra>",
         "legendgroup": "",
         "marker": {
          "color": "rgb(127, 60, 141)",
          "pattern": {
           "shape": ""
          }
         },
         "name": "",
         "orientation": "v",
         "showlegend": false,
         "type": "histogram",
         "x": [
          "mpfi",
          "mpfi",
          "mpfi",
          "mpfi",
          "mpfi",
          "mpfi",
          "mpfi",
          "mpfi",
          "mpfi",
          "mpfi",
          "mpfi",
          "mpfi",
          "mpfi",
          "mpfi",
          "mpfi",
          "mpfi",
          "mpfi",
          "mpfi",
          "2bbl",
          "2bbl",
          "2bbl",
          "2bbl",
          "2bbl",
          "mpfi",
          "2bbl",
          "2bbl",
          "2bbl",
          "mpfi",
          "2bbl",
          "mfi",
          "1bbl",
          "1bbl",
          "1bbl",
          "1bbl",
          "1bbl",
          "1bbl",
          "1bbl",
          "1bbl",
          "1bbl",
          "1bbl",
          "1bbl",
          "mpfi",
          "2bbl",
          "2bbl",
          "2bbl",
          "2bbl",
          "spfi",
          "mpfi",
          "mpfi",
          "mpfi",
          "2bbl",
          "2bbl",
          "2bbl",
          "2bbl",
          "2bbl",
          "4bbl",
          "4bbl",
          "4bbl",
          "mpfi",
          "2bbl",
          "2bbl",
          "2bbl",
          "2bbl",
          "idi",
          "2bbl",
          "mpfi",
          "idi",
          "idi",
          "idi",
          "idi",
          "idi",
          "mpfi",
          "mpfi",
          "mpfi",
          "mpfi",
          "mpfi",
          "2bbl",
          "2bbl",
          "2bbl",
          "spdi",
          "spdi",
          "2bbl",
          "spdi",
          "spdi",
          "spdi",
          "2bbl",
          "2bbl",
          "spdi",
          "spdi",
          "2bbl",
          "idi",
          "2bbl",
          "2bbl",
          "2bbl",
          "2bbl",
          "2bbl",
          "2bbl",
          "2bbl",
          "2bbl",
          "2bbl",
          "2bbl",
          "mpfi",
          "mpfi",
          "mpfi",
          "mpfi",
          "mpfi",
          "mpfi",
          "mpfi",
          "idi",
          "mpfi",
          "idi",
          "mpfi",
          "idi",
          "mpfi",
          "idi",
          "mpfi",
          "idi",
          "mpfi",
          "2bbl",
          "spdi",
          "2bbl",
          "2bbl",
          "2bbl",
          "2bbl",
          "spdi",
          "mpfi",
          "mpfi",
          "mpfi",
          "mpfi",
          "mpfi",
          "mpfi",
          "mpfi",
          "mpfi",
          "mpfi",
          "mpfi",
          "mpfi",
          "mpfi",
          "mpfi",
          "2bbl",
          "2bbl",
          "2bbl",
          "2bbl",
          "2bbl",
          "mpfi",
          "2bbl",
          "mpfi",
          "2bbl",
          "mpfi",
          "2bbl",
          "mpfi",
          "2bbl",
          "2bbl",
          "2bbl",
          "2bbl",
          "2bbl",
          "2bbl",
          "2bbl",
          "2bbl",
          "idi",
          "idi",
          "2bbl",
          "2bbl",
          "2bbl",
          "2bbl",
          "2bbl",
          "mpfi",
          "mpfi",
          "mpfi",
          "mpfi",
          "mpfi",
          "mpfi",
          "mpfi",
          "mpfi",
          "mpfi",
          "idi",
          "mpfi",
          "mpfi",
          "mpfi",
          "mpfi",
          "mpfi",
          "mpfi",
          "mpfi",
          "idi",
          "mpfi",
          "idi",
          "mpfi",
          "mpfi",
          "idi",
          "mpfi",
          "mpfi",
          "mpfi",
          "mpfi",
          "idi",
          "mpfi",
          "mpfi",
          "mpfi",
          "mpfi",
          "mpfi",
          "mpfi",
          "mpfi",
          "mpfi",
          "mpfi",
          "mpfi",
          "idi",
          "mpfi"
         ],
         "xaxis": "x7",
         "yaxis": "y7"
        }
       ],
       "layout": {
        "annotations": [
         {
          "font": {
           "size": 16
          },
          "showarrow": false,
          "text": "Fueltype",
          "x": 0.14444444444444446,
          "xanchor": "center",
          "xref": "paper",
          "y": 1,
          "yanchor": "bottom",
          "yref": "paper"
         },
         {
          "font": {
           "size": 16
          },
          "showarrow": false,
          "text": "Aspiration",
          "x": 0.5,
          "xanchor": "center",
          "xref": "paper",
          "y": 1,
          "yanchor": "bottom",
          "yref": "paper"
         },
         {
          "font": {
           "size": 16
          },
          "showarrow": false,
          "text": "Carbody",
          "x": 0.8555555555555556,
          "xanchor": "center",
          "xref": "paper",
          "y": 1,
          "yanchor": "bottom",
          "yref": "paper"
         },
         {
          "font": {
           "size": 16
          },
          "showarrow": false,
          "text": "Drivewheel",
          "x": 0.14444444444444446,
          "xanchor": "center",
          "xref": "paper",
          "y": 0.6111111111111112,
          "yanchor": "bottom",
          "yref": "paper"
         },
         {
          "font": {
           "size": 16
          },
          "showarrow": false,
          "text": "Enginelocation",
          "x": 0.5,
          "xanchor": "center",
          "xref": "paper",
          "y": 0.6111111111111112,
          "yanchor": "bottom",
          "yref": "paper"
         },
         {
          "font": {
           "size": 16
          },
          "showarrow": false,
          "text": "Enginetype",
          "x": 0.8555555555555556,
          "xanchor": "center",
          "xref": "paper",
          "y": 0.6111111111111112,
          "yanchor": "bottom",
          "yref": "paper"
         },
         {
          "font": {
           "size": 16
          },
          "showarrow": false,
          "text": "Fuelsystem",
          "x": 0.14444444444444446,
          "xanchor": "center",
          "xref": "paper",
          "y": 0.22222222222222224,
          "yanchor": "bottom",
          "yref": "paper"
         }
        ],
        "height": 900,
        "showlegend": false,
        "template": {
         "data": {
          "bar": [
           {
            "error_x": {
             "color": "#2a3f5f"
            },
            "error_y": {
             "color": "#2a3f5f"
            },
            "marker": {
             "line": {
              "color": "#E5ECF6",
              "width": 0.5
             },
             "pattern": {
              "fillmode": "overlay",
              "size": 10,
              "solidity": 0.2
             }
            },
            "type": "bar"
           }
          ],
          "barpolar": [
           {
            "marker": {
             "line": {
              "color": "#E5ECF6",
              "width": 0.5
             },
             "pattern": {
              "fillmode": "overlay",
              "size": 10,
              "solidity": 0.2
             }
            },
            "type": "barpolar"
           }
          ],
          "carpet": [
           {
            "aaxis": {
             "endlinecolor": "#2a3f5f",
             "gridcolor": "white",
             "linecolor": "white",
             "minorgridcolor": "white",
             "startlinecolor": "#2a3f5f"
            },
            "baxis": {
             "endlinecolor": "#2a3f5f",
             "gridcolor": "white",
             "linecolor": "white",
             "minorgridcolor": "white",
             "startlinecolor": "#2a3f5f"
            },
            "type": "carpet"
           }
          ],
          "choropleth": [
           {
            "colorbar": {
             "outlinewidth": 0,
             "ticks": ""
            },
            "type": "choropleth"
           }
          ],
          "contour": [
           {
            "colorbar": {
             "outlinewidth": 0,
             "ticks": ""
            },
            "colorscale": [
             [
              0,
              "#0d0887"
             ],
             [
              0.1111111111111111,
              "#46039f"
             ],
             [
              0.2222222222222222,
              "#7201a8"
             ],
             [
              0.3333333333333333,
              "#9c179e"
             ],
             [
              0.4444444444444444,
              "#bd3786"
             ],
             [
              0.5555555555555556,
              "#d8576b"
             ],
             [
              0.6666666666666666,
              "#ed7953"
             ],
             [
              0.7777777777777778,
              "#fb9f3a"
             ],
             [
              0.8888888888888888,
              "#fdca26"
             ],
             [
              1,
              "#f0f921"
             ]
            ],
            "type": "contour"
           }
          ],
          "contourcarpet": [
           {
            "colorbar": {
             "outlinewidth": 0,
             "ticks": ""
            },
            "type": "contourcarpet"
           }
          ],
          "heatmap": [
           {
            "colorbar": {
             "outlinewidth": 0,
             "ticks": ""
            },
            "colorscale": [
             [
              0,
              "#0d0887"
             ],
             [
              0.1111111111111111,
              "#46039f"
             ],
             [
              0.2222222222222222,
              "#7201a8"
             ],
             [
              0.3333333333333333,
              "#9c179e"
             ],
             [
              0.4444444444444444,
              "#bd3786"
             ],
             [
              0.5555555555555556,
              "#d8576b"
             ],
             [
              0.6666666666666666,
              "#ed7953"
             ],
             [
              0.7777777777777778,
              "#fb9f3a"
             ],
             [
              0.8888888888888888,
              "#fdca26"
             ],
             [
              1,
              "#f0f921"
             ]
            ],
            "type": "heatmap"
           }
          ],
          "histogram": [
           {
            "marker": {
             "pattern": {
              "fillmode": "overlay",
              "size": 10,
              "solidity": 0.2
             }
            },
            "type": "histogram"
           }
          ],
          "histogram2d": [
           {
            "colorbar": {
             "outlinewidth": 0,
             "ticks": ""
            },
            "colorscale": [
             [
              0,
              "#0d0887"
             ],
             [
              0.1111111111111111,
              "#46039f"
             ],
             [
              0.2222222222222222,
              "#7201a8"
             ],
             [
              0.3333333333333333,
              "#9c179e"
             ],
             [
              0.4444444444444444,
              "#bd3786"
             ],
             [
              0.5555555555555556,
              "#d8576b"
             ],
             [
              0.6666666666666666,
              "#ed7953"
             ],
             [
              0.7777777777777778,
              "#fb9f3a"
             ],
             [
              0.8888888888888888,
              "#fdca26"
             ],
             [
              1,
              "#f0f921"
             ]
            ],
            "type": "histogram2d"
           }
          ],
          "histogram2dcontour": [
           {
            "colorbar": {
             "outlinewidth": 0,
             "ticks": ""
            },
            "colorscale": [
             [
              0,
              "#0d0887"
             ],
             [
              0.1111111111111111,
              "#46039f"
             ],
             [
              0.2222222222222222,
              "#7201a8"
             ],
             [
              0.3333333333333333,
              "#9c179e"
             ],
             [
              0.4444444444444444,
              "#bd3786"
             ],
             [
              0.5555555555555556,
              "#d8576b"
             ],
             [
              0.6666666666666666,
              "#ed7953"
             ],
             [
              0.7777777777777778,
              "#fb9f3a"
             ],
             [
              0.8888888888888888,
              "#fdca26"
             ],
             [
              1,
              "#f0f921"
             ]
            ],
            "type": "histogram2dcontour"
           }
          ],
          "mesh3d": [
           {
            "colorbar": {
             "outlinewidth": 0,
             "ticks": ""
            },
            "type": "mesh3d"
           }
          ],
          "parcoords": [
           {
            "line": {
             "colorbar": {
              "outlinewidth": 0,
              "ticks": ""
             }
            },
            "type": "parcoords"
           }
          ],
          "pie": [
           {
            "automargin": true,
            "type": "pie"
           }
          ],
          "scatter": [
           {
            "fillpattern": {
             "fillmode": "overlay",
             "size": 10,
             "solidity": 0.2
            },
            "type": "scatter"
           }
          ],
          "scatter3d": [
           {
            "line": {
             "colorbar": {
              "outlinewidth": 0,
              "ticks": ""
             }
            },
            "marker": {
             "colorbar": {
              "outlinewidth": 0,
              "ticks": ""
             }
            },
            "type": "scatter3d"
           }
          ],
          "scattercarpet": [
           {
            "marker": {
             "colorbar": {
              "outlinewidth": 0,
              "ticks": ""
             }
            },
            "type": "scattercarpet"
           }
          ],
          "scattergeo": [
           {
            "marker": {
             "colorbar": {
              "outlinewidth": 0,
              "ticks": ""
             }
            },
            "type": "scattergeo"
           }
          ],
          "scattergl": [
           {
            "marker": {
             "colorbar": {
              "outlinewidth": 0,
              "ticks": ""
             }
            },
            "type": "scattergl"
           }
          ],
          "scattermap": [
           {
            "marker": {
             "colorbar": {
              "outlinewidth": 0,
              "ticks": ""
             }
            },
            "type": "scattermap"
           }
          ],
          "scattermapbox": [
           {
            "marker": {
             "colorbar": {
              "outlinewidth": 0,
              "ticks": ""
             }
            },
            "type": "scattermapbox"
           }
          ],
          "scatterpolar": [
           {
            "marker": {
             "colorbar": {
              "outlinewidth": 0,
              "ticks": ""
             }
            },
            "type": "scatterpolar"
           }
          ],
          "scatterpolargl": [
           {
            "marker": {
             "colorbar": {
              "outlinewidth": 0,
              "ticks": ""
             }
            },
            "type": "scatterpolargl"
           }
          ],
          "scatterternary": [
           {
            "marker": {
             "colorbar": {
              "outlinewidth": 0,
              "ticks": ""
             }
            },
            "type": "scatterternary"
           }
          ],
          "surface": [
           {
            "colorbar": {
             "outlinewidth": 0,
             "ticks": ""
            },
            "colorscale": [
             [
              0,
              "#0d0887"
             ],
             [
              0.1111111111111111,
              "#46039f"
             ],
             [
              0.2222222222222222,
              "#7201a8"
             ],
             [
              0.3333333333333333,
              "#9c179e"
             ],
             [
              0.4444444444444444,
              "#bd3786"
             ],
             [
              0.5555555555555556,
              "#d8576b"
             ],
             [
              0.6666666666666666,
              "#ed7953"
             ],
             [
              0.7777777777777778,
              "#fb9f3a"
             ],
             [
              0.8888888888888888,
              "#fdca26"
             ],
             [
              1,
              "#f0f921"
             ]
            ],
            "type": "surface"
           }
          ],
          "table": [
           {
            "cells": {
             "fill": {
              "color": "#EBF0F8"
             },
             "line": {
              "color": "white"
             }
            },
            "header": {
             "fill": {
              "color": "#C8D4E3"
             },
             "line": {
              "color": "white"
             }
            },
            "type": "table"
           }
          ]
         },
         "layout": {
          "annotationdefaults": {
           "arrowcolor": "#2a3f5f",
           "arrowhead": 0,
           "arrowwidth": 1
          },
          "autotypenumbers": "strict",
          "coloraxis": {
           "colorbar": {
            "outlinewidth": 0,
            "ticks": ""
           }
          },
          "colorscale": {
           "diverging": [
            [
             0,
             "#8e0152"
            ],
            [
             0.1,
             "#c51b7d"
            ],
            [
             0.2,
             "#de77ae"
            ],
            [
             0.3,
             "#f1b6da"
            ],
            [
             0.4,
             "#fde0ef"
            ],
            [
             0.5,
             "#f7f7f7"
            ],
            [
             0.6,
             "#e6f5d0"
            ],
            [
             0.7,
             "#b8e186"
            ],
            [
             0.8,
             "#7fbc41"
            ],
            [
             0.9,
             "#4d9221"
            ],
            [
             1,
             "#276419"
            ]
           ],
           "sequential": [
            [
             0,
             "#0d0887"
            ],
            [
             0.1111111111111111,
             "#46039f"
            ],
            [
             0.2222222222222222,
             "#7201a8"
            ],
            [
             0.3333333333333333,
             "#9c179e"
            ],
            [
             0.4444444444444444,
             "#bd3786"
            ],
            [
             0.5555555555555556,
             "#d8576b"
            ],
            [
             0.6666666666666666,
             "#ed7953"
            ],
            [
             0.7777777777777778,
             "#fb9f3a"
            ],
            [
             0.8888888888888888,
             "#fdca26"
            ],
            [
             1,
             "#f0f921"
            ]
           ],
           "sequentialminus": [
            [
             0,
             "#0d0887"
            ],
            [
             0.1111111111111111,
             "#46039f"
            ],
            [
             0.2222222222222222,
             "#7201a8"
            ],
            [
             0.3333333333333333,
             "#9c179e"
            ],
            [
             0.4444444444444444,
             "#bd3786"
            ],
            [
             0.5555555555555556,
             "#d8576b"
            ],
            [
             0.6666666666666666,
             "#ed7953"
            ],
            [
             0.7777777777777778,
             "#fb9f3a"
            ],
            [
             0.8888888888888888,
             "#fdca26"
            ],
            [
             1,
             "#f0f921"
            ]
           ]
          },
          "colorway": [
           "#636efa",
           "#EF553B",
           "#00cc96",
           "#ab63fa",
           "#FFA15A",
           "#19d3f3",
           "#FF6692",
           "#B6E880",
           "#FF97FF",
           "#FECB52"
          ],
          "font": {
           "color": "#2a3f5f"
          },
          "geo": {
           "bgcolor": "white",
           "lakecolor": "white",
           "landcolor": "#E5ECF6",
           "showlakes": true,
           "showland": true,
           "subunitcolor": "white"
          },
          "hoverlabel": {
           "align": "left"
          },
          "hovermode": "closest",
          "mapbox": {
           "style": "light"
          },
          "paper_bgcolor": "white",
          "plot_bgcolor": "#E5ECF6",
          "polar": {
           "angularaxis": {
            "gridcolor": "white",
            "linecolor": "white",
            "ticks": ""
           },
           "bgcolor": "#E5ECF6",
           "radialaxis": {
            "gridcolor": "white",
            "linecolor": "white",
            "ticks": ""
           }
          },
          "scene": {
           "xaxis": {
            "backgroundcolor": "#E5ECF6",
            "gridcolor": "white",
            "gridwidth": 2,
            "linecolor": "white",
            "showbackground": true,
            "ticks": "",
            "zerolinecolor": "white"
           },
           "yaxis": {
            "backgroundcolor": "#E5ECF6",
            "gridcolor": "white",
            "gridwidth": 2,
            "linecolor": "white",
            "showbackground": true,
            "ticks": "",
            "zerolinecolor": "white"
           },
           "zaxis": {
            "backgroundcolor": "#E5ECF6",
            "gridcolor": "white",
            "gridwidth": 2,
            "linecolor": "white",
            "showbackground": true,
            "ticks": "",
            "zerolinecolor": "white"
           }
          },
          "shapedefaults": {
           "line": {
            "color": "#2a3f5f"
           }
          },
          "ternary": {
           "aaxis": {
            "gridcolor": "white",
            "linecolor": "white",
            "ticks": ""
           },
           "baxis": {
            "gridcolor": "white",
            "linecolor": "white",
            "ticks": ""
           },
           "bgcolor": "#E5ECF6",
           "caxis": {
            "gridcolor": "white",
            "linecolor": "white",
            "ticks": ""
           }
          },
          "title": {
           "x": 0.05
          },
          "xaxis": {
           "automargin": true,
           "gridcolor": "white",
           "linecolor": "white",
           "ticks": "",
           "title": {
            "standoff": 15
           },
           "zerolinecolor": "white",
           "zerolinewidth": 2
          },
          "yaxis": {
           "automargin": true,
           "gridcolor": "white",
           "linecolor": "white",
           "ticks": "",
           "title": {
            "standoff": 15
           },
           "zerolinecolor": "white",
           "zerolinewidth": 2
          }
         }
        },
        "title": {
         "text": "Categorical Features Count Plots"
        },
        "width": 1000,
        "xaxis": {
         "anchor": "y",
         "domain": [
          0,
          0.2888888888888889
         ],
         "title": {
          "text": "Fueltype"
         }
        },
        "xaxis2": {
         "anchor": "y2",
         "domain": [
          0.35555555555555557,
          0.6444444444444445
         ],
         "title": {
          "text": "Aspiration"
         }
        },
        "xaxis3": {
         "anchor": "y3",
         "domain": [
          0.7111111111111111,
          1
         ],
         "title": {
          "text": "Carbody"
         }
        },
        "xaxis4": {
         "anchor": "y4",
         "domain": [
          0,
          0.2888888888888889
         ],
         "title": {
          "text": "Drivewheel"
         }
        },
        "xaxis5": {
         "anchor": "y5",
         "domain": [
          0.35555555555555557,
          0.6444444444444445
         ],
         "title": {
          "text": "Enginelocation"
         }
        },
        "xaxis6": {
         "anchor": "y6",
         "domain": [
          0.7111111111111111,
          1
         ],
         "title": {
          "text": "Enginetype"
         }
        },
        "xaxis7": {
         "anchor": "y7",
         "domain": [
          0,
          0.2888888888888889
         ],
         "title": {
          "text": "Fuelsystem"
         }
        },
        "xaxis8": {
         "anchor": "y8",
         "domain": [
          0.35555555555555557,
          0.6444444444444445
         ]
        },
        "xaxis9": {
         "anchor": "y9",
         "domain": [
          0.7111111111111111,
          1
         ]
        },
        "yaxis": {
         "anchor": "x",
         "domain": [
          0.7777777777777778,
          1
         ],
         "title": {
          "text": "Count"
         }
        },
        "yaxis2": {
         "anchor": "x2",
         "domain": [
          0.7777777777777778,
          1
         ],
         "title": {
          "text": "Count"
         }
        },
        "yaxis3": {
         "anchor": "x3",
         "domain": [
          0.7777777777777778,
          1
         ],
         "title": {
          "text": "Count"
         }
        },
        "yaxis4": {
         "anchor": "x4",
         "domain": [
          0.3888888888888889,
          0.6111111111111112
         ],
         "title": {
          "text": "Count"
         }
        },
        "yaxis5": {
         "anchor": "x5",
         "domain": [
          0.3888888888888889,
          0.6111111111111112
         ],
         "title": {
          "text": "Count"
         }
        },
        "yaxis6": {
         "anchor": "x6",
         "domain": [
          0.3888888888888889,
          0.6111111111111112
         ],
         "title": {
          "text": "Count"
         }
        },
        "yaxis7": {
         "anchor": "x7",
         "domain": [
          0,
          0.22222222222222224
         ],
         "title": {
          "text": "Count"
         }
        },
        "yaxis8": {
         "anchor": "x8",
         "domain": [
          0,
          0.22222222222222224
         ]
        },
        "yaxis9": {
         "anchor": "x9",
         "domain": [
          0,
          0.22222222222222224
         ]
        }
       }
      }
     },
     "metadata": {},
     "output_type": "display_data"
    }
   ],
   "source": [
    "import plotly.express as px\n",
    "import plotly.subplots as sp\n",
    "\n",
    "categorical_columns = ['fueltype', 'aspiration', 'carbody', 'drivewheel',\n",
    "                       'enginelocation', 'enginetype', 'fuelsystem']\n",
    "\n",
    "# Erstelle 3x3 Subplot-Layout (9 Felder, aber wir brauchen nur 7)\n",
    "fig = sp.make_subplots(rows=3, cols=3, subplot_titles=[col.capitalize() for col in categorical_columns])\n",
    "\n",
    "row, col = 1, 1\n",
    "for column in categorical_columns:\n",
    "    # Erstelle Histogramm (entspricht Countplot in Seaborn)\n",
    "    fig_hist = px.histogram(df, x=column, color_discrete_sequence=px.colors.qualitative.Bold)\n",
    "    \n",
    "    # Füge jede Spur zum Subplot hinzu\n",
    "    for trace in fig_hist.data:\n",
    "        fig.add_trace(trace, row=row, col=col)\n",
    "    \n",
    "    # Achsenlabels setzen\n",
    "    fig.update_xaxes(title_text=column.capitalize(), row=row, col=col)\n",
    "    fig.update_yaxes(title_text=\"Count\", row=row, col=col)\n",
    "    \n",
    "    # Nächste Position berechnen\n",
    "    col += 1\n",
    "    if col > 3:\n",
    "        col = 1\n",
    "        row += 1\n",
    "\n",
    "# Layout-Anpassung\n",
    "fig.update_layout(height=900, width=1000, showlegend=False, title_text=\"Categorical Features Count Plots\")\n",
    "\n",
    "fig.show()\n"
   ]
  },
  {
   "cell_type": "code",
   "execution_count": 132,
   "id": "55ff828b-4649-4558-9e77-6c837bbfef1e",
   "metadata": {},
   "outputs": [
    {
     "data": {
      "image/png": "[encoded data removed]",
      "text/plain": [
       "<Figure size 1000x600 with 1 Axes>"
      ]
     },
     "metadata": {},
     "output_type": "display_data"
    }
   ],
   "source": [
    "n = 20  # Number of top car models to plot\n",
    "top_car_models = df['CarName'].value_counts().head(n)\n",
    "\n",
    "plt.figure(figsize=(10, 6))\n",
    "sns.barplot(x=top_car_models.values, y=top_car_models.index)\n",
    "plt.title(f'Top {n} Car Models by Frequency')\n",
    "plt.xlabel('Frequency')\n",
    "plt.ylabel('Car Model')\n",
    "plt.tight_layout()\n",
    "plt.show()"
   ]
  },
  {
   "cell_type": "code",
   "execution_count": 133,
   "id": "849b0a47-f116-4e47-9127-a147a4c7964b",
   "metadata": {},
   "outputs": [
    {
     "data": {
      "image/png": "[encoded data removed]",
      "text/plain": [
       "<Figure size 1000x600 with 1 Axes>"
      ]
     },
     "metadata": {},
     "output_type": "display_data"
    }
   ],
   "source": [
    "# Calculate average price for each car model\n",
    "avg_prices_by_car = df.groupby('CarName')['price'].mean().sort_values(ascending=False)\n",
    "\n",
    "# Plot top N car models by average price\n",
    "n = 20  # Number of top car models to plot\n",
    "top_car_models = avg_prices_by_car.head(n)\n",
    "\n",
    "plt.figure(figsize=(10, 6))\n",
    "sns.barplot(x=top_car_models.values, y=top_car_models.index)\n",
    "plt.title(f'Top {n} Car Models by Average Price')\n",
    "plt.xlabel('Average Price')\n",
    "plt.ylabel('Car Model')\n",
    "plt.tight_layout()\n",
    "plt.show()"
   ]
  },
  {
   "cell_type": "code",
   "execution_count": 134,
   "id": "ba4f98d3-6535-471c-8bd3-884d43c76594",
   "metadata": {},
   "outputs": [
    {
     "data": {
      "image/png": "[encoded data removed]",
      "text/plain": [
       "<Figure size 1200x800 with 7 Axes>"
      ]
     },
     "metadata": {},
     "output_type": "display_data"
    }
   ],
   "source": [
    "# Categorical Feature vs. Price\n",
    "plt.figure(figsize=(12, 8))\n",
    "for feature in categorical_columns:\n",
    "    plt.subplot(3, 3, categorical_columns.index(feature) + 1)\n",
    "    sns.boxplot(data=df, x=feature, y='price')\n",
    "    plt.title(f'{feature} vs. Price')\n",
    "plt.tight_layout()\n",
    "plt.show()"
   ]
  },
  {
   "cell_type": "code",
   "execution_count": 135,
   "id": "ba26e943-b44b-4cd5-bd32-ef7dcb9ebb43",
   "metadata": {},
   "outputs": [
    {
     "data": {
      "application/vnd.plotly.v1+json": {
       "config": {
        "plotlyServerURL": "https://plot.ly"
       },
       "data": [
        {
         "marker": {
          "color": "blue"
         },
         "text": {
          "bdata": "AAAAAADAXEAAAAAAAIBWQA==",
          "dtype": "f8"
         },
         "textposition": "outside",
         "type": "bar",
         "x": {
          "bdata": "BAI=",
          "dtype": "i1"
         },
         "xaxis": "x",
         "y": {
          "bdata": "c1o=",
          "dtype": "i1"
         },
         "yaxis": "y"
        },
        {
         "marker": {
          "color": "blue"
         },
         "text": {
          "bdata": "AAAAAADgY0AAAAAAAAA4QAAAAAAAACZAAAAAAAAAFEAAAAAAAAAQQAAAAAAAAPA/AAAAAAAA8D8=",
          "dtype": "f8"
         },
         "textposition": "outside",
         "type": "bar",
         "x": {
          "bdata": "BAYFCAIMAw==",
          "dtype": "i1"
         },
         "xaxis": "x2",
         "y": {
          "bdata": "nwAYAAsABQAEAAEAAQA=",
          "dtype": "i2"
         },
         "yaxis": "y2"
        },
        {
         "marker": {
          "color": "blue"
         },
         "text": {
          "bdata": "AAAAAAAANUAAAAAAAAA0QAAAAAAAACpAAAAAAAAAIEAAAAAAAAAcQAAAAAAAABxAAAAAAAAAGEAAAAAAAAAYQAAAAAAAABhAAAAAAAAAGEAAAAAAAAAYQAAAAAAAABhAAAAAAAAAFEAAAAAAAAAUQAAAAAAAABRAAAAAAAAAFEAAAAAAAAAUQAAAAAAAABBAAAAAAAAAEEAAAAAAAAAQQAAAAAAAABBAAAAAAAAACEAAAAAAAAAIQAAAAAAAAAhAAAAAAAAACEAAAAAAAAAAQAAAAAAAAABAAAAAAAAAAEAAAAAAAAAAQAAAAAAAAABAAAAAAAAAAEAAAAAAAAAAQAAAAAAAAABAAAAAAAAAAEAAAAAAAAAAQAAAAAAAAABAAAAAAAAAAEAAAAAAAADwPwAAAAAAAPA/AAAAAAAA8D8AAAAAAADwPwAAAAAAAPA/AAAAAAAA8D8AAAAAAADwPwAAAAAAAPA/AAAAAAAA8D8AAAAAAADwPwAAAAAAAPA/AAAAAAAA8D8AAAAAAADwPwAAAAAAAPA/AAAAAAAA8D8AAAAAAADwPw==",
          "dtype": "f8"
         },
         "textposition": "outside",
         "type": "bar",
         "x": {
          "bdata": "AAAAAACgV0DNzMzMzGxXQM3MzMzM7FdAAAAAAAAgWECamZmZmZlYQDMzMzMzU1hAMzMzMzMTWECamZmZmflaQGZmZmZmxlhAMzMzMzOzWECamZmZmRlZQDMzMzMzE1pAzczMzMxMWEBmZmZmZkZbQJqZmZmZmVlAmpmZmZn5V0BmZmZmZkZXQM3MzMzMTFlAMzMzMzPTV0DNzMzMzIxcQAAAAAAAQFhAMzMzMzNzWkAAAAAAAIBbQAAAAAAAYFZAAAAAAADgWUAzMzMzM9NWQGZmZmZm5lxAZmZmZmYGWEAzMzMzM9NZQDMzMzMz81hAZmZmZmYmVkAAAAAAAEBcQJqZmZmZOVhAmpmZmZm5WUAAAAAAACBaQGZmZmZmplVAmpmZmZk5WkAAAAAAAIBZQAAAAAAAAFhAMzMzMzOTV0CamZmZmRlWQAAAAAAA4FhAmpmZmZnZWEAAAAAAAABcQM3MzMzMrFlAzczMzMzMWEBmZmZmZsZXQAAAAAAAQFdAzczMzMysWkBmZmZmZiZYQJqZmZmZOV5AMzMzMzNTV0AAAAAAAABbQA==",
          "dtype": "f8"
         },
         "xaxis": "x3",
         "y": {
          "bdata": "FRQNCAcHBgYGBgYGBQUFBQUEBAQEAwMDAwICAgICAgICAgICAgEBAQEBAQEBAQEBAQEBAQE=",
          "dtype": "i1"
         },
         "yaxis": "y3"
        },
        {
         "marker": {
          "color": "blue"
         },
         "text": {
          "bdata": "AAAAAAAALkAAAAAAAAAmQAAAAAAAABxAAAAAAAAAHEAAAAAAAAAcQAAAAAAAABhAAAAAAAAAGEAAAAAAAAAYQAAAAAAAABhAAAAAAAAAFEAAAAAAAAAUQAAAAAAAABRAAAAAAAAAFEAAAAAAAAAQQAAAAAAAABBAAAAAAAAAEEAAAAAAAAAQQAAAAAAAABBAAAAAAAAACEAAAAAAAAAIQAAAAAAAAAhAAAAAAAAACEAAAAAAAAAIQAAAAAAAAAhAAAAAAAAACEAAAAAAAAAIQAAAAAAAAABAAAAAAAAAAEAAAAAAAAAAQAAAAAAAAABAAAAAAAAAAEAAAAAAAAAAQAAAAAAAAABAAAAAAAAAAEAAAAAAAAAAQAAAAAAAAABAAAAAAAAAAEAAAAAAAAAAQAAAAAAAAABAAAAAAAAAAEAAAAAAAAAAQAAAAAAAAABAAAAAAAAAAEAAAAAAAAAAQAAAAAAAAABAAAAAAAAAAEAAAAAAAAAAQAAAAAAAAPA/AAAAAAAA8D8AAAAAAADwPwAAAAAAAPA/AAAAAAAA8D8AAAAAAADwPwAAAAAAAPA/AAAAAAAA8D8AAAAAAADwPwAAAAAAAPA/AAAAAAAA8D8AAAAAAADwPwAAAAAAAPA/AAAAAAAA8D8AAAAAAADwPwAAAAAAAPA/AAAAAAAA8D8AAAAAAADwPwAAAAAAAPA/AAAAAAAA8D8AAAAAAADwPwAAAAAAAPA/AAAAAAAA8D8AAAAAAADwPwAAAAAAAPA/AAAAAAAA8D8AAAAAAADwPwAAAAAAAPA/",
          "dtype": "f8"
         },
         "textposition": "outside",
         "type": "bar",
         "x": {
          "bdata": "mpmZmZmpY0CamZmZmZlnQGZmZmZmVmdAmpmZmZnJZEBmZmZmZnZlQJqZmZmZOWZAmpmZmZmpZEBmZmZmZgZmQDMzMzMzU2dAAAAAAACAZUCamZmZmRlmQDMzMzMz82VAZmZmZmamZUBmZmZmZhZlQM3MzMzMjGVAAAAAAAAgZUDNzMzMzBxlQM3MzMzM3GhAZmZmZmZWZUBmZmZmZtZjQGZmZmZmFmhAMzMzMzPjY0BmZmZmZjZlQAAAAAAAwGJAzczMzMzsZUDNzMzMzHxjQJqZmZmZGWVAMzMzMzOzZUAAAAAAALBlQJqZmZmZeWdAAAAAAADwZkBmZmZmZoZmQJqZmZmZ6WRAMzMzMzMTZkAAAAAAAKBnQGZmZmZmRmVAMzMzMzNTaUAAAAAAAKBlQM3MzMzM3GdAMzMzMzPzaEAAAAAAAPBkQDMzMzMzE2JAMzMzMzPTZUCamZmZmdlkQAAAAAAA4GVAzczMzMysZUAzMzMzMxNnQJqZmZmZKWZAZmZmZmZmZUCamZmZmTloQGZmZmZmRmZAMzMzMzOjYUAAAAAAAKBoQM3MzMzMbGRAmpmZmZnZY0AzMzMzMyNlQDMzMzMzo2NAMzMzMzOTZUBmZmZmZvZnQJqZmZmZiWZAMzMzMzMDakBmZmZmZuZoQM3MzMzMTGZAAAAAAABwZ0DNzMzMzExkQDMzMzMzs2RAAAAAAABQZkDNzMzMzLxjQM3MzMzMnGNAZmZmZmb2ZUAAAAAAALBmQGZmZmZmtmZAmpmZmZnpY0BmZmZmZrZkQDMzMzMz42ZA",
          "dtype": "f8"
         },
         "xaxis": "x4",
         "y": {
          "bdata": "DwsHBwcGBgYGBQUFBQQEBAQEAwMDAwMDAwMCAgICAgICAgICAgICAgICAgICAgIBAQEBAQEBAQEBAQEBAQEBAQEBAQEBAQEBAQEB",
          "dtype": "i1"
         },
         "yaxis": "y4"
        },
        {
         "marker": {
          "color": "blue"
         },
         "text": {
          "bdata": "AAAAAAAAOEAAAAAAAAA3QAAAAAAAAC5AAAAAAAAAJkAAAAAAAAAkQAAAAAAAACRAAAAAAAAAIkAAAAAAAAAgQAAAAAAAABxAAAAAAAAAGEAAAAAAAAAYQAAAAAAAABhAAAAAAAAAGEAAAAAAAAAUQAAAAAAAABRAAAAAAAAAEEAAAAAAAAAQQAAAAAAAABBAAAAAAAAACEAAAAAAAAAIQAAAAAAAAAhAAAAAAAAACEAAAAAAAAAIQAAAAAAAAABAAAAAAAAAAEAAAAAAAAAAQAAAAAAAAABAAAAAAAAAAEAAAAAAAAAAQAAAAAAAAPA/AAAAAAAA8D8AAAAAAADwPwAAAAAAAPA/AAAAAAAA8D8AAAAAAADwPwAAAAAAAPA/AAAAAAAA8D8AAAAAAADwPwAAAAAAAPA/AAAAAAAA8D8AAAAAAADwPwAAAAAAAPA/AAAAAAAA8D8AAAAAAADwPw==",
          "dtype": "f8"
         },
         "textposition": "outside",
         "type": "bar",
         "x": {
          "bdata": "ZmZmZmbmT0AAAAAAAKBQQJqZmZmZWVBAzczMzMzMT0CamZmZmRlQQJqZmZmZGVFAAAAAAAAAUEAAAAAAAGBQQM3MzMzMTFBAzczMzMwMUEAzMzMzM5NQQGZmZmZmZlBAzczMzMzMUECamZmZmblQQJqZmZmZ+VBAmpmZmZk5UUAzMzMzMzNQQM3MzMzMbFBAzczMzMzsUUCamZmZmdlRQDMzMzMzk1FAAAAAAABAUEAzMzMzM/NPQM3MzMzM7FBAZmZmZmYGUEBmZmZmZoZQQGZmZmZmZlFAMzMzMzMTUUBmZmZmZiZQQJqZmZmZuVFAzczMzMyMUECamZmZmZlQQGZmZmZmJk5AAAAAAABAT0AAAAAAAIBQQGZmZmZm5k5AZmZmZmamUUAAAAAAAABSQAAAAAAAAFFAAAAAAACgUUAzMzMzM7NPQGZmZmZmplBAMzMzMzMTUkAzMzMzMzNRQA==",
          "dtype": "f8"
         },
         "xaxis": "x5",
         "y": {
          "bdata": "GBcPCwoKCQgHBgYGBgUFBAQEAwMDAwMCAgICAgIBAQEBAQEBAQEBAQEBAQE=",
          "dtype": "i1"
         },
         "yaxis": "y5"
        },
        {
         "marker": {
          "color": "blue"
         },
         "text": {
          "bdata": "AAAAAAAALEAAAAAAAAAoQAAAAAAAAChAAAAAAAAAJEAAAAAAAAAkQAAAAAAAACJAAAAAAAAAIEAAAAAAAAAgQAAAAAAAABxAAAAAAAAAHEAAAAAAAAAcQAAAAAAAABhAAAAAAAAAGEAAAAAAAAAYQAAAAAAAABhAAAAAAAAAFEAAAAAAAAAUQAAAAAAAABRAAAAAAAAAEEAAAAAAAAAQQAAAAAAAABBAAAAAAAAACEAAAAAAAAAIQAAAAAAAAAhAAAAAAAAACEAAAAAAAAAIQAAAAAAAAAhAAAAAAAAAAEAAAAAAAAAAQAAAAAAAAABAAAAAAAAAAEAAAAAAAAAAQAAAAAAAAABAAAAAAAAAAEAAAAAAAAAAQAAAAAAAAABAAAAAAAAAAEAAAAAAAADwPwAAAAAAAPA/AAAAAAAA8D8AAAAAAADwPwAAAAAAAPA/AAAAAAAA8D8AAAAAAADwPwAAAAAAAPA/AAAAAAAA8D8AAAAAAADwPwAAAAAAAPA/AAAAAAAA8D8=",
          "dtype": "f8"
         },
         "textposition": "outside",
         "type": "bar",
         "x": {
          "bdata": "ZmZmZmZmSUAAAAAAAABKQJqZmZmZ2UtAAAAAAABAS0DNzMzMzAxLQAAAAAAAwEtAmpmZmZlZTEBmZmZmZiZLQM3MzMzMTEpAzczMzMzMSUDNzMzMzAxMQAAAAAAAgEpAMzMzMzNzS0BmZmZmZmZKQJqZmZmZGUlAzczMzMxMSUCamZmZmdlKQM3MzMzMjEtAmpmZmZlZTUDNzMzMzMxIQGZmZmZmpkpAAAAAAADASkAAAAAAAEBKQM3MzMzMjE1AAAAAAADATECamZmZmRlMQJqZmZmZ2UhAMzMzMzOzSEAAAAAAAEBJQDMzMzMzM0tAZmZmZmYmTEBmZmZmZuZNQGZmZmZmZkhAMzMzMzPzSkAzMzMzM7NJQAAAAAAAQExAmpmZmZlZS0AzMzMzMzNKQJqZmZmZmUpAzczMzMyMSkAzMzMzM/NLQGZmZmZmJk1AMzMzMzOzS0AAAAAAAIBJQGZmZmZm5kdAZmZmZmZmS0AAAAAAAABMQJqZmZmZmUtAzczMzMzMS0A=",
          "dtype": "f8"
         },
         "xaxis": "x6",
         "y": {
          "bdata": "DgwMCgoJCAgHBwcGBgYGBQUFBAQEAwMDAwMDAgICAgICAgICAgEBAQEBAQEBAQEBAQ==",
          "dtype": "i1"
         },
         "yaxis": "y6"
        },
        {
         "marker": {
          "color": "blue"
         },
         "text": {
          "bdata": "AAAAAAAAEEAAAAAAAAAIQAAAAAAAAAhAAAAAAAAACEAAAAAAAAAAQAAAAAAAAABAAAAAAAAAAEAAAAAAAAAAQAAAAAAAAABAAAAAAAAAAEAAAAAAAAAAQAAAAAAAAABAAAAAAAAAAEAAAAAAAAAAQAAAAAAAAABAAAAAAAAAAEAAAAAAAAAAQAAAAAAAAABAAAAAAAAAAEAAAAAAAAAAQAAAAAAAAABAAAAAAAAAAEAAAAAAAAAAQAAAAAAAAABAAAAAAAAAAEAAAAAAAAAAQAAAAAAAAABAAAAAAAAAAEAAAAAAAAAAQAAAAAAAAPA/AAAAAAAA8D8AAAAAAADwPwAAAAAAAPA/AAAAAAAA8D8AAAAAAADwPwAAAAAAAPA/AAAAAAAA8D8AAAAAAADwPwAAAAAAAPA/AAAAAAAA8D8AAAAAAADwPwAAAAAAAPA/AAAAAAAA8D8AAAAAAADwPwAAAAAAAPA/AAAAAAAA8D8AAAAAAADwPwAAAAAAAPA/AAAAAAAA8D8AAAAAAADwPwAAAAAAAPA/AAAAAAAA8D8AAAAAAADwPwAAAAAAAPA/AAAAAAAA8D8AAAAAAADwPwAAAAAAAPA/AAAAAAAA8D8AAAAAAADwPwAAAAAAAPA/AAAAAAAA8D8AAAAAAADwPwAAAAAAAPA/AAAAAAAA8D8AAAAAAADwPwAAAAAAAPA/AAAAAAAA8D8AAAAAAADwPwAAAAAAAPA/AAAAAAAA8D8AAAAAAADwPwAAAAAAAPA/AAAAAAAA8D8AAAAAAADwPwAAAAAAAPA/AAAAAAAA8D8AAAAAAADwPwAAAAAAAPA/AAAAAAAA8D8AAAAAAADwPwAAAAAAAPA/AAAAAAAA8D8AAAAAAADwPwAAAAAAAPA/AAAAAAAA8D8AAAAAAADwPwAAAAAAAPA/AAAAAAAA8D8AAAAAAADwPwAAAAAAAPA/AAAAAAAA8D8AAAAAAADwPwAAAAAAAPA/AAAAAAAA8D8AAAAAAADwPwAAAAAAAPA/AAAAAAAA8D8AAAAAAADwPwAAAAAAAPA/AAAAAAAA8D8AAAAAAADwPwAAAAAAAPA/AAAAAAAA8D8AAAAAAADwPwAAAAAAAPA/AAAAAAAA8D8AAAAAAADwPwAAAAAAAPA/AAAAAAAA8D8AAAAAAADwPwAAAAAAAPA/AAAAAAAA8D8AAAAAAADwPwAAAAAAAPA/AAAAAAAA8D8AAAAAAADwPwAAAAAAAPA/AAAAAAAA8D8AAAAAAADwPwAAAAAAAPA/AAAAAAAA8D8AAAAAAADwPwAAAAAAAPA/AAAAAAAA8D8AAAAAAADwPwAAAAAAAPA/AAAAAAAA8D8AAAAAAADwPwAAAAAAAPA/AAAAAAAA8D8AAAAAAADwPwAAAAAAAPA/AAAAAAAA8D8AAAAAAADwPwAAAAAAAPA/AAAAAAAA8D8AAAAAAADwPwAAAAAAAPA/AAAAAAAA8D8AAAAAAADwPwAAAAAAAPA/AAAAAAAA8D8AAAAAAADwPwAAAAAAAPA/AAAAAAAA8D8AAAAAAADwPwAAAAAAAPA/AAAAAAAA8D8AAAAAAADwPwAAAAAAAPA/AAAAAAAA8D8AAAAAAADwPwAAAAAAAPA/AAAAAAAA8D8AAAAAAADwPwAAAAAAAPA/AAAAAAAA8D8AAAAAAADwPwAAAAAAAPA/AAAAAAAA8D8AAAAAAADwPwAAAAAAAPA/AAAAAAAA8D8AAAAAAADwPwAAAAAAAPA/AAAAAAAA8D8AAAAAAADwPwAAAAAAAPA/AAAAAAAA8D8AAAAAAADwPwAAAAAAAPA/",
          "dtype": "f8"
         },
         "textposition": "outside",
         "type": "bar",
         "x": {
          "bdata": "UQl+B8UH4wiPCFAIrwd1B1QHIQn0CecJ6AfiD24JYwkTCsQKAwxMCUMMtAxhCGoJUgeeDFsJ/AjyCLEGigvLCRwLCAsHC5YK7QsODLENzQrQBe8LNA1iB24Prgr1CEQJoQkACfEILQe8CNoHpAcbB5QH+wp5CboOpw08D5wOgw5eC5gHZQ7UB0IJbgqMCosJmQeeB2wHZQk9CW4LaQsRCxgJ4QdhB/UH2Af+CBQJnwfsB7MHkgf/C/QL4AwXDGYN1Qx9DMwLOgydDdoKAgu7DaYOcQfECWIKnAkmDfAKHwsCCMYKhwrACI4IJAnOCZcJdAlICJMKwQdaCugI+AcmDCEIPQjfBy4ISgh5CFwInAjZCOwJ+AroCfcJmgp3Cp8LFgmwCZoJoAvICzsMTwzVCKEI2AikCA8JzgitCGUKAwpgC9oLdwviC+ULVQyIC+kLxAuRDPYL",
          "dtype": "i2"
         },
         "xaxis": "x7",
         "y": {
          "bdata": "BAMDAwICAgICAgICAgICAgICAgICAgICAgICAgIBAQEBAQEBAQEBAQEBAQEBAQEBAQEBAQEBAQEBAQEBAQEBAQEBAQEBAQEBAQEBAQEBAQEBAQEBAQEBAQEBAQEBAQEBAQEBAQEBAQEBAQEBAQEBAQEBAQEBAQEBAQEBAQEBAQEBAQEBAQEBAQEBAQEBAQEBAQEBAQEBAQEBAQEBAQEBAQEBAQEBAQEBAQEB",
          "dtype": "i1"
         },
         "yaxis": "y7"
        },
        {
         "marker": {
          "color": "blue"
         },
         "text": {
          "bdata": "AAAAAAAALkAAAAAAAAAuQAAAAAAAACxAAAAAAAAALEAAAAAAAAAqQAAAAAAAAChAAAAAAAAAKEAAAAAAAAAgQAAAAAAAABxAAAAAAAAAHEAAAAAAAAAYQAAAAAAAABhAAAAAAAAAGEAAAAAAAAAYQAAAAAAAABRAAAAAAAAAFEAAAAAAAAAUQAAAAAAAABBAAAAAAAAAEEAAAAAAAAAIQAAAAAAAAAhAAAAAAAAACEAAAAAAAAAIQAAAAAAAAAhAAAAAAAAAAEAAAAAAAAAAQAAAAAAAAABAAAAAAAAAAEAAAAAAAAAAQAAAAAAAAABAAAAAAAAA8D8AAAAAAADwPwAAAAAAAPA/AAAAAAAA8D8AAAAAAADwPwAAAAAAAPA/AAAAAAAA8D8AAAAAAADwPwAAAAAAAPA/AAAAAAAA8D8AAAAAAADwPwAAAAAAAPA/AAAAAAAA8D8AAAAAAADwPw==",
          "dtype": "f8"
         },
         "textposition": "outside",
         "type": "bar",
         "x": {
          "bdata": "egBcAGEAYgBsAG4AWgBtAHgAjQC1AJgAkgB5AJwAWwCIAIIAtwCkAMIARgDRAKsAhACDAIwAAgGGAOoAPQBQAE8AbwB3AEYBNAGXADABZwDLAKEArQCRAA==",
          "dtype": "i2"
         },
         "xaxis": "x8",
         "y": {
          "bdata": "Dw8ODg0MDAgHBwYGBgYFBQUEBAMDAwMDAgICAgICAQEBAQEBAQEBAQEBAQE=",
          "dtype": "i1"
         },
         "yaxis": "y8"
        },
        {
         "marker": {
          "color": "blue"
         },
         "text": {
          "bdata": "AAAAAAAAN0AAAAAAAAA0QAAAAAAAAC5AAAAAAAAAKEAAAAAAAAAoQAAAAAAAACJAAAAAAAAAIEAAAAAAAAAgQAAAAAAAACBAAAAAAAAAHEAAAAAAAAAcQAAAAAAAABhAAAAAAAAAGEAAAAAAAAAYQAAAAAAAABhAAAAAAAAAGEAAAAAAAAAUQAAAAAAAABRAAAAAAAAAEEAAAAAAAAAIQAAAAAAAAAhAAAAAAAAACEAAAAAAAAAAQAAAAAAAAABAAAAAAAAAAEAAAAAAAAAAQAAAAAAAAABAAAAAAAAAAEAAAAAAAAAAQAAAAAAAAPA/AAAAAAAA8D8AAAAAAADwPwAAAAAAAPA/AAAAAAAA8D8AAAAAAADwPwAAAAAAAPA/AAAAAAAA8D8AAAAAAADwPw==",
          "dtype": "f8"
         },
         "textposition": "outside",
         "type": "bar",
         "x": {
          "bdata": "9ihcj8L1DECF61G4HoUJQDMzMzMzMwlAw/UoXI/CB0A9CtejcD0IQK5H4XoUrgtAexSuR+F6CkBxPQrXo3ALQD0K16NwPQ5ASOF6FK5HB0ApXI/C9SgKQKRwPQrXowxAUrgehetRDEAfhetRuB4LQGZmZmZmZghApHA9CtejCkAUrkfhehQIQJqZmZmZmQ1AzczMzMzMCkDsUbgehesNQFyPwvUoXAlAuB6F61G4DEDsUbgehesJQAAAAAAAAAxAw/UoXI/CC0AK16NwPQoJQIXrUbgehQ9ACtejcD0KDUBmZmZmZmYOQHE9CtejcAVAFK5H4XoUDkCkcD0K16MIQM3MzMzMzAxAXI/C9ShcB0C4HoXrUbgKQOxRuB6F6wdAUrgehetRBEDhehSuR+EMQA==",
          "dtype": "f8"
         },
         "xaxis": "x9",
         "y": {
          "bdata": "FxQPDAwJCAgIBwcGBgYGBgUFBAMDAwICAgICAgIBAQEBAQEBAQE=",
          "dtype": "i1"
         },
         "yaxis": "y9"
        },
        {
         "marker": {
          "color": "blue"
         },
         "text": {
          "bdata": "AAAAAAAANEAAAAAAAAAsQAAAAAAAACxAAAAAAAAALEAAAAAAAAAqQAAAAAAAACZAAAAAAAAAIkAAAAAAAAAiQAAAAAAAACBAAAAAAAAAGEAAAAAAAAAYQAAAAAAAABhAAAAAAAAAGEAAAAAAAAAYQAAAAAAAABhAAAAAAAAAGEAAAAAAAAAUQAAAAAAAABRAAAAAAAAAEEAAAAAAAAAQQAAAAAAAABBAAAAAAAAAEEAAAAAAAAAIQAAAAAAAAAhAAAAAAAAAAEAAAAAAAAAAQAAAAAAAAABAAAAAAAAAAEAAAAAAAAAAQAAAAAAAAABAAAAAAAAA8D8AAAAAAADwPwAAAAAAAPA/AAAAAAAA8D8AAAAAAADwPwAAAAAAAPA/AAAAAAAA8D8=",
          "dtype": "f8"
         },
         "textposition": "outside",
         "type": "bar",
         "x": {
          "bdata": "MzMzMzMzC0DXo3A9CtcJQDMzMzMzMwlAPQrXo3A9CEAfhetRuB4LQB+F61G4HgVAzczMzMzMCkBSuB6F61EKQK5H4XoUrgtApHA9CtejDEDhehSuR+EIQI/C9ShcjwhAhetRuB6FCUApXI/C9SgKQEjhehSuRwtAAAAAAAAADEApXI/C9SgMQB+F61G4Hg1A4XoUrkfhDkDD9Shcj8ILQArXo3A9CgpAUrgehetRDEAzMzMzMzMHQDMzMzMzMw9AcT0K16NwBUBmZmZmZmYGQKRwPQrXowhArkfhehSuEEDNzMzMzMwIQIXrUbgehQFAFK5H4XoUBkBI4XoUrkcJQPYoXI/C9QhArkfhehSuCUCPwvUoXI8AQOF6FK5H4QJA9ihcj8L1BkA=",
          "dtype": "f8"
         },
         "xaxis": "x10",
         "y": {
          "bdata": "FA4ODg0LCQkIBgYGBgYGBgUFBAQEBAMDAgICAgICAQEBAQEBAQ==",
          "dtype": "i1"
         },
         "yaxis": "y10"
        },
        {
         "marker": {
          "color": "blue"
         },
         "text": {
          "bdata": "AAAAAAAAR0AAAAAAAAA6QAAAAAAAACxAAAAAAAAAKkAAAAAAAAAmQAAAAAAAACJAAAAAAAAAIEAAAAAAAAAgQAAAAAAAABxAAAAAAAAAFEAAAAAAAAAUQAAAAAAAABRAAAAAAAAAFEAAAAAAAAAUQAAAAAAAABRAAAAAAAAAEEAAAAAAAAAQQAAAAAAAAAhAAAAAAAAACEAAAAAAAAAIQAAAAAAAAAhAAAAAAAAAAEAAAAAAAAAAQAAAAAAAAPA/AAAAAAAA8D8AAAAAAADwPwAAAAAAAPA/AAAAAAAA8D8AAAAAAADwPwAAAAAAAPA/AAAAAAAA8D8AAAAAAADwPw==",
          "dtype": "f8"
         },
         "textposition": "outside",
         "type": "bar",
         "x": {
          "bdata": "AAAAAAAAIkDNzMzMzMwiQAAAAAAAACFAAAAAAAAAI0CamZmZmZkiQGZmZmZmZiFAZmZmZmZmIkAAAAAAAAAgQAAAAAAAABxAAAAAAAAAN0AAAAAAAAAeQM3MzMzMzCBAAAAAAAAANUAzMzMzMzMhQDMzMzMzMyNAZmZmZmZmHkAAAAAAAIA1QAAAAAAAgDZAmpmZmZmZIUAAAAAAAAAkQJqZmZmZmSBAzczMzMzMHkAzMzMzMzMgQFK4HoXr0SJAMzMzMzMzIkAzMzMzMzMkQDMzMzMzMx9AAAAAAAAANkAAAAAAAAAnQGZmZmZm5jVAMzMzMzOzNkAfhetRuJ4iQA==",
          "dtype": "f8"
         },
         "xaxis": "x11",
         "y": {
          "bdata": "LhoODQsJCAgHBQUFBQUFBAQDAwMDAgIBAQEBAQEBAQE=",
          "dtype": "i1"
         },
         "yaxis": "y11"
        },
        {
         "marker": {
          "color": "blue"
         },
         "text": {
          "bdata": "AAAAAAAAM0AAAAAAAAAmQAAAAAAAACRAAAAAAAAAIkAAAAAAAAAgQAAAAAAAABxAAAAAAAAAGEAAAAAAAAAYQAAAAAAAABhAAAAAAAAAGEAAAAAAAAAYQAAAAAAAABRAAAAAAAAAFEAAAAAAAAAUQAAAAAAAABRAAAAAAAAAFEAAAAAAAAAUQAAAAAAAABRAAAAAAAAAEEAAAAAAAAAQQAAAAAAAABBAAAAAAAAAEEAAAAAAAAAIQAAAAAAAAAhAAAAAAAAACEAAAAAAAAAIQAAAAAAAAAhAAAAAAAAACEAAAAAAAAAAQAAAAAAAAABAAAAAAAAAAEAAAAAAAAAAQAAAAAAAAABAAAAAAAAAAEAAAAAAAAAAQAAAAAAAAABAAAAAAAAAAEAAAAAAAAAAQAAAAAAAAABAAAAAAAAA8D8AAAAAAADwPwAAAAAAAPA/AAAAAAAA8D8AAAAAAADwPwAAAAAAAPA/AAAAAAAA8D8AAAAAAADwPwAAAAAAAPA/AAAAAAAA8D8AAAAAAADwPwAAAAAAAPA/AAAAAAAA8D8AAAAAAADwPwAAAAAAAPA/AAAAAAAA8D8AAAAAAADwPwAAAAAAAPA/AAAAAAAA8D8AAAAAAADwPw==",
          "dtype": "f8"
         },
         "textposition": "outside",
         "type": "bar",
         "x": {
          "bdata": "RABGAEUAdABuAF8AoAA+AFgAZQByAJEAYQBSAGYAWgBUAEwAbwB7AFYAXAB5AFUASQDPALYAmABwAJwAoQA0AF4AuACbAKIAOABkALAAmgBzAIwAMABAAIcABgFOADoAPACvAEgAjwCOADcAyAB4ACABhgBqAA==",
          "dtype": "i2"
         },
         "xaxis": "x12",
         "y": {
          "bdata": "EwsKCQgHBgYGBgYFBQUFBQUFBAQEBAMDAwMDAwICAgICAgICAgICAQEBAQEBAQEBAQEBAQEBAQEBAQE=",
          "dtype": "i1"
         },
         "yaxis": "y12"
        },
        {
         "marker": {
          "color": "blue"
         },
         "text": {
          "bdata": "AAAAAACAQkAAAAAAAABCQAAAAAAAADtAAAAAAAAAN0AAAAAAAAAqQAAAAAAAACJAAAAAAAAAHEAAAAAAAAAcQAAAAAAAABxAAAAAAAAAFEAAAAAAAAAUQAAAAAAAABRAAAAAAAAAEEAAAAAAAAAQQAAAAAAAAAhAAAAAAAAACEAAAAAAAAAIQAAAAAAAAABAAAAAAAAA8D8AAAAAAADwPwAAAAAAAPA/AAAAAAAA8D8AAAAAAADwPw==",
          "dtype": "f8"
         },
         "textposition": "outside",
         "type": "bar",
         "x": {
          "bdata": "fBXAEogTUBQYFXAXqBaUEYIUNhDsE2gQ/hCOEpoQMBEMF8gZKhJ2FuAVJBO0FA==",
          "dtype": "i2"
         },
         "xaxis": "x13",
         "y": {
          "bdata": "JSQbFw0JBwcHBQUFBAQDAwMCAQEBAQE=",
          "dtype": "i1"
         },
         "yaxis": "y13"
        },
        {
         "marker": {
          "color": "blue"
         },
         "text": {
          "bdata": "AAAAAAAAPEAAAAAAAAA7QAAAAAAAADZAAAAAAAAALEAAAAAAAAAqQAAAAAAAAChAAAAAAAAAKEAAAAAAAAAgQAAAAAAAACBAAAAAAAAAIEAAAAAAAAAcQAAAAAAAABxAAAAAAAAAGEAAAAAAAAAYQAAAAAAAABBAAAAAAAAACEAAAAAAAAAIQAAAAAAAAAhAAAAAAAAACEAAAAAAAAAAQAAAAAAAAPA/AAAAAAAA8D8AAAAAAADwPwAAAAAAAPA/AAAAAAAA8D8AAAAAAADwPwAAAAAAAPA/AAAAAAAA8D8AAAAAAADwPw==",
          "dtype": "f8"
         },
         "textposition": "outside",
         "type": "bar",
         "x": {
          "bdata": "HxMYGxEaFxUZHiYcJRAWFBIdDw4vJA0xLSAjIiE=",
          "dtype": "i1"
         },
         "xaxis": "x14",
         "y": {
          "bdata": "HBsWDg0MDAgICAcHBgYEAwMDAwIBAQEBAQEBAQE=",
          "dtype": "i1"
         },
         "yaxis": "y14"
        },
        {
         "marker": {
          "color": "blue"
         },
         "text": {
          "bdata": "AAAAAAAAM0AAAAAAAAAxQAAAAAAAADFAAAAAAAAAMEAAAAAAAAAwQAAAAAAAACxAAAAAAAAAKkAAAAAAAAAqQAAAAAAAACRAAAAAAAAAIkAAAAAAAAAgQAAAAAAAACBAAAAAAAAAHEAAAAAAAAAUQAAAAAAAABBAAAAAAAAACEAAAAAAAAAIQAAAAAAAAAhAAAAAAAAAAEAAAAAAAAAAQAAAAAAAAABAAAAAAAAAAEAAAAAAAAAAQAAAAAAAAABAAAAAAAAAAEAAAAAAAAAAQAAAAAAAAPA/AAAAAAAA8D8AAAAAAADwPwAAAAAAAPA/",
          "dtype": "f8"
         },
         "textposition": "outside",
         "type": "bar",
         "x": {
          "bdata": "GRgmHiAiHCUdIRYfFxsrGiopJCcUEy4vEhA2NREy",
          "dtype": "i1"
         },
         "xaxis": "x15",
         "y": {
          "bdata": "ExEREBAODQ0KCQgIBwUEAwMDAgICAgICAgIBAQEB",
          "dtype": "i1"
         },
         "yaxis": "y15"
        }
       ],
       "layout": {
        "annotations": [
         {
          "font": {
           "size": 16
          },
          "showarrow": false,
          "text": "Doornumber",
          "x": 0.2375,
          "xanchor": "center",
          "xref": "paper",
          "y": 1,
          "yanchor": "bottom",
          "yref": "paper"
         },
         {
          "font": {
           "size": 16
          },
          "showarrow": false,
          "text": "Cylindernumber",
          "x": 0.7625,
          "xanchor": "center",
          "xref": "paper",
          "y": 1,
          "yanchor": "bottom",
          "yref": "paper"
         },
         {
          "font": {
           "size": 16
          },
          "showarrow": false,
          "text": "Wheelbase",
          "x": 0.2375,
          "xanchor": "center",
          "xref": "paper",
          "y": 0.865,
          "yanchor": "bottom",
          "yref": "paper"
         },
         {
          "font": {
           "size": 16
          },
          "showarrow": false,
          "text": "Carlength",
          "x": 0.7625,
          "xanchor": "center",
          "xref": "paper",
          "y": 0.865,
          "yanchor": "bottom",
          "yref": "paper"
         },
         {
          "font": {
           "size": 16
          },
          "showarrow": false,
          "text": "Carwidth",
          "x": 0.2375,
          "xanchor": "center",
          "xref": "paper",
          "y": 0.73,
          "yanchor": "bottom",
          "yref": "paper"
         },
         {
          "font": {
           "size": 16
          },
          "showarrow": false,
          "text": "Carheight",
          "x": 0.7625,
          "xanchor": "center",
          "xref": "paper",
          "y": 0.73,
          "yanchor": "bottom",
          "yref": "paper"
         },
         {
          "font": {
           "size": 16
          },
          "showarrow": false,
          "text": "Curbweight",
          "x": 0.2375,
          "xanchor": "center",
          "xref": "paper",
          "y": 0.595,
          "yanchor": "bottom",
          "yref": "paper"
         },
         {
          "font": {
           "size": 16
          },
          "showarrow": false,
          "text": "Enginesize",
          "x": 0.7625,
          "xanchor": "center",
          "xref": "paper",
          "y": 0.595,
          "yanchor": "bottom",
          "yref": "paper"
         },
         {
          "font": {
           "size": 16
          },
          "showarrow": false,
          "text": "Boreratio",
          "x": 0.2375,
          "xanchor": "center",
          "xref": "paper",
          "y": 0.45999999999999996,
          "yanchor": "bottom",
          "yref": "paper"
         },
         {
          "font": {
           "size": 16
          },
          "showarrow": false,
          "text": "Stroke",
          "x": 0.7625,
          "xanchor": "center",
          "xref": "paper",
          "y": 0.45999999999999996,
          "yanchor": "bottom",
          "yref": "paper"
         },
         {
          "font": {
           "size": 16
          },
          "showarrow": false,
          "text": "Compressionratio",
          "x": 0.2375,
          "xanchor": "center",
          "xref": "paper",
          "y": 0.325,
          "yanchor": "bottom",
          "yref": "paper"
         },
         {
          "font": {
           "size": 16
          },
          "showarrow": false,
          "text": "Horsepower",
          "x": 0.7625,
          "xanchor": "center",
          "xref": "paper",
          "y": 0.325,
          "yanchor": "bottom",
          "yref": "paper"
         },
         {
          "font": {
           "size": 16
          },
          "showarrow": false,
          "text": "Peakrpm",
          "x": 0.2375,
          "xanchor": "center",
          "xref": "paper",
          "y": 0.19,
          "yanchor": "bottom",
          "yref": "paper"
         },
         {
          "font": {
           "size": 16
          },
          "showarrow": false,
          "text": "Citympg",
          "x": 0.7625,
          "xanchor": "center",
          "xref": "paper",
          "y": 0.19,
          "yanchor": "bottom",
          "yref": "paper"
         },
         {
          "font": {
           "size": 16
          },
          "showarrow": false,
          "text": "Highwaympg",
          "x": 0.2375,
          "xanchor": "center",
          "xref": "paper",
          "y": 0.05499999999999999,
          "yanchor": "bottom",
          "yref": "paper"
         }
        ],
        "height": 2200,
        "showlegend": false,
        "template": {
         "data": {
          "bar": [
           {
            "error_x": {
             "color": "#2a3f5f"
            },
            "error_y": {
             "color": "#2a3f5f"
            },
            "marker": {
             "line": {
              "color": "#E5ECF6",
              "width": 0.5
             },
             "pattern": {
              "fillmode": "overlay",
              "size": 10,
              "solidity": 0.2
             }
            },
            "type": "bar"
           }
          ],
          "barpolar": [
           {
            "marker": {
             "line": {
              "color": "#E5ECF6",
              "width": 0.5
             },
             "pattern": {
              "fillmode": "overlay",
              "size": 10,
              "solidity": 0.2
             }
            },
            "type": "barpolar"
           }
          ],
          "carpet": [
           {
            "aaxis": {
             "endlinecolor": "#2a3f5f",
             "gridcolor": "white",
             "linecolor": "white",
             "minorgridcolor": "white",
             "startlinecolor": "#2a3f5f"
            },
            "baxis": {
             "endlinecolor": "#2a3f5f",
             "gridcolor": "white",
             "linecolor": "white",
             "minorgridcolor": "white",
             "startlinecolor": "#2a3f5f"
            },
            "type": "carpet"
           }
          ],
          "choropleth": [
           {
            "colorbar": {
             "outlinewidth": 0,
             "ticks": ""
            },
            "type": "choropleth"
           }
          ],
          "contour": [
           {
            "colorbar": {
             "outlinewidth": 0,
             "ticks": ""
            },
            "colorscale": [
             [
              0,
              "#0d0887"
             ],
             [
              0.1111111111111111,
              "#46039f"
             ],
             [
              0.2222222222222222,
              "#7201a8"
             ],
             [
              0.3333333333333333,
              "#9c179e"
             ],
             [
              0.4444444444444444,
              "#bd3786"
             ],
             [
              0.5555555555555556,
              "#d8576b"
             ],
             [
              0.6666666666666666,
              "#ed7953"
             ],
             [
              0.7777777777777778,
              "#fb9f3a"
             ],
             [
              0.8888888888888888,
              "#fdca26"
             ],
             [
              1,
              "#f0f921"
             ]
            ],
            "type": "contour"
           }
          ],
          "contourcarpet": [
           {
            "colorbar": {
             "outlinewidth": 0,
             "ticks": ""
            },
            "type": "contourcarpet"
           }
          ],
          "heatmap": [
           {
            "colorbar": {
             "outlinewidth": 0,
             "ticks": ""
            },
            "colorscale": [
             [
              0,
              "#0d0887"
             ],
             [
              0.1111111111111111,
              "#46039f"
             ],
             [
              0.2222222222222222,
              "#7201a8"
             ],
             [
              0.3333333333333333,
              "#9c179e"
             ],
             [
              0.4444444444444444,
              "#bd3786"
             ],
             [
              0.5555555555555556,
              "#d8576b"
             ],
             [
              0.6666666666666666,
              "#ed7953"
             ],
             [
              0.7777777777777778,
              "#fb9f3a"
             ],
             [
              0.8888888888888888,
              "#fdca26"
             ],
             [
              1,
              "#f0f921"
             ]
            ],
            "type": "heatmap"
           }
          ],
          "histogram": [
           {
            "marker": {
             "pattern": {
              "fillmode": "overlay",
              "size": 10,
              "solidity": 0.2
             }
            },
            "type": "histogram"
           }
          ],
          "histogram2d": [
           {
            "colorbar": {
             "outlinewidth": 0,
             "ticks": ""
            },
            "colorscale": [
             [
              0,
              "#0d0887"
             ],
             [
              0.1111111111111111,
              "#46039f"
             ],
             [
              0.2222222222222222,
              "#7201a8"
             ],
             [
              0.3333333333333333,
              "#9c179e"
             ],
             [
              0.4444444444444444,
              "#bd3786"
             ],
             [
              0.5555555555555556,
              "#d8576b"
             ],
             [
              0.6666666666666666,
              "#ed7953"
             ],
             [
              0.7777777777777778,
              "#fb9f3a"
             ],
             [
              0.8888888888888888,
              "#fdca26"
             ],
             [
              1,
              "#f0f921"
             ]
            ],
            "type": "histogram2d"
           }
          ],
          "histogram2dcontour": [
           {
            "colorbar": {
             "outlinewidth": 0,
             "ticks": ""
            },
            "colorscale": [
             [
              0,
              "#0d0887"
             ],
             [
              0.1111111111111111,
              "#46039f"
             ],
             [
              0.2222222222222222,
              "#7201a8"
             ],
             [
              0.3333333333333333,
              "#9c179e"
             ],
             [
              0.4444444444444444,
              "#bd3786"
             ],
             [
              0.5555555555555556,
              "#d8576b"
             ],
             [
              0.6666666666666666,
              "#ed7953"
             ],
             [
              0.7777777777777778,
              "#fb9f3a"
             ],
             [
              0.8888888888888888,
              "#fdca26"
             ],
             [
              1,
              "#f0f921"
             ]
            ],
            "type": "histogram2dcontour"
           }
          ],
          "mesh3d": [
           {
            "colorbar": {
             "outlinewidth": 0,
             "ticks": ""
            },
            "type": "mesh3d"
           }
          ],
          "parcoords": [
           {
            "line": {
             "colorbar": {
              "outlinewidth": 0,
              "ticks": ""
             }
            },
            "type": "parcoords"
           }
          ],
          "pie": [
           {
            "automargin": true,
            "type": "pie"
           }
          ],
          "scatter": [
           {
            "fillpattern": {
             "fillmode": "overlay",
             "size": 10,
             "solidity": 0.2
            },
            "type": "scatter"
           }
          ],
          "scatter3d": [
           {
            "line": {
             "colorbar": {
              "outlinewidth": 0,
              "ticks": ""
             }
            },
            "marker": {
             "colorbar": {
              "outlinewidth": 0,
              "ticks": ""
             }
            },
            "type": "scatter3d"
           }
          ],
          "scattercarpet": [
           {
            "marker": {
             "colorbar": {
              "outlinewidth": 0,
              "ticks": ""
             }
            },
            "type": "scattercarpet"
           }
          ],
          "scattergeo": [
           {
            "marker": {
             "colorbar": {
              "outlinewidth": 0,
              "ticks": ""
             }
            },
            "type": "scattergeo"
           }
          ],
          "scattergl": [
           {
            "marker": {
             "colorbar": {
              "outlinewidth": 0,
              "ticks": ""
             }
            },
            "type": "scattergl"
           }
          ],
          "scattermap": [
           {
            "marker": {
             "colorbar": {
              "outlinewidth": 0,
              "ticks": ""
             }
            },
            "type": "scattermap"
           }
          ],
          "scattermapbox": [
           {
            "marker": {
             "colorbar": {
              "outlinewidth": 0,
              "ticks": ""
             }
            },
            "type": "scattermapbox"
           }
          ],
          "scatterpolar": [
           {
            "marker": {
             "colorbar": {
              "outlinewidth": 0,
              "ticks": ""
             }
            },
            "type": "scatterpolar"
           }
          ],
          "scatterpolargl": [
           {
            "marker": {
             "colorbar": {
              "outlinewidth": 0,
              "ticks": ""
             }
            },
            "type": "scatterpolargl"
           }
          ],
          "scatterternary": [
           {
            "marker": {
             "colorbar": {
              "outlinewidth": 0,
              "ticks": ""
             }
            },
            "type": "scatterternary"
           }
          ],
          "surface": [
           {
            "colorbar": {
             "outlinewidth": 0,
             "ticks": ""
            },
            "colorscale": [
             [
              0,
              "#0d0887"
             ],
             [
              0.1111111111111111,
              "#46039f"
             ],
             [
              0.2222222222222222,
              "#7201a8"
             ],
             [
              0.3333333333333333,
              "#9c179e"
             ],
             [
              0.4444444444444444,
              "#bd3786"
             ],
             [
              0.5555555555555556,
              "#d8576b"
             ],
             [
              0.6666666666666666,
              "#ed7953"
             ],
             [
              0.7777777777777778,
              "#fb9f3a"
             ],
             [
              0.8888888888888888,
              "#fdca26"
             ],
             [
              1,
              "#f0f921"
             ]
            ],
            "type": "surface"
           }
          ],
          "table": [
           {
            "cells": {
             "fill": {
              "color": "#EBF0F8"
             },
             "line": {
              "color": "white"
             }
            },
            "header": {
             "fill": {
              "color": "#C8D4E3"
             },
             "line": {
              "color": "white"
             }
            },
            "type": "table"
           }
          ]
         },
         "layout": {
          "annotationdefaults": {
           "arrowcolor": "#2a3f5f",
           "arrowhead": 0,
           "arrowwidth": 1
          },
          "autotypenumbers": "strict",
          "coloraxis": {
           "colorbar": {
            "outlinewidth": 0,
            "ticks": ""
           }
          },
          "colorscale": {
           "diverging": [
            [
             0,
             "#8e0152"
            ],
            [
             0.1,
             "#c51b7d"
            ],
            [
             0.2,
             "#de77ae"
            ],
            [
             0.3,
             "#f1b6da"
            ],
            [
             0.4,
             "#fde0ef"
            ],
            [
             0.5,
             "#f7f7f7"
            ],
            [
             0.6,
             "#e6f5d0"
            ],
            [
             0.7,
             "#b8e186"
            ],
            [
             0.8,
             "#7fbc41"
            ],
            [
             0.9,
             "#4d9221"
            ],
            [
             1,
             "#276419"
            ]
           ],
           "sequential": [
            [
             0,
             "#0d0887"
            ],
            [
             0.1111111111111111,
             "#46039f"
            ],
            [
             0.2222222222222222,
             "#7201a8"
            ],
            [
             0.3333333333333333,
             "#9c179e"
            ],
            [
             0.4444444444444444,
             "#bd3786"
            ],
            [
             0.5555555555555556,
             "#d8576b"
            ],
            [
             0.6666666666666666,
             "#ed7953"
            ],
            [
             0.7777777777777778,
             "#fb9f3a"
            ],
            [
             0.8888888888888888,
             "#fdca26"
            ],
            [
             1,
             "#f0f921"
            ]
           ],
           "sequentialminus": [
            [
             0,
             "#0d0887"
            ],
            [
             0.1111111111111111,
             "#46039f"
            ],
            [
             0.2222222222222222,
             "#7201a8"
            ],
            [
             0.3333333333333333,
             "#9c179e"
            ],
            [
             0.4444444444444444,
             "#bd3786"
            ],
            [
             0.5555555555555556,
             "#d8576b"
            ],
            [
             0.6666666666666666,
             "#ed7953"
            ],
            [
             0.7777777777777778,
             "#fb9f3a"
            ],
            [
             0.8888888888888888,
             "#fdca26"
            ],
            [
             1,
             "#f0f921"
            ]
           ]
          },
          "colorway": [
           "#636efa",
           "#EF553B",
           "#00cc96",
           "#ab63fa",
           "#FFA15A",
           "#19d3f3",
           "#FF6692",
           "#B6E880",
           "#FF97FF",
           "#FECB52"
          ],
          "font": {
           "color": "#2a3f5f"
          },
          "geo": {
           "bgcolor": "white",
           "lakecolor": "white",
           "landcolor": "#E5ECF6",
           "showlakes": true,
           "showland": true,
           "subunitcolor": "white"
          },
          "hoverlabel": {
           "align": "left"
          },
          "hovermode": "closest",
          "mapbox": {
           "style": "light"
          },
          "paper_bgcolor": "white",
          "plot_bgcolor": "#E5ECF6",
          "polar": {
           "angularaxis": {
            "gridcolor": "white",
            "linecolor": "white",
            "ticks": ""
           },
           "bgcolor": "#E5ECF6",
           "radialaxis": {
            "gridcolor": "white",
            "linecolor": "white",
            "ticks": ""
           }
          },
          "scene": {
           "xaxis": {
            "backgroundcolor": "#E5ECF6",
            "gridcolor": "white",
            "gridwidth": 2,
            "linecolor": "white",
            "showbackground": true,
            "ticks": "",
            "zerolinecolor": "white"
           },
           "yaxis": {
            "backgroundcolor": "#E5ECF6",
            "gridcolor": "white",
            "gridwidth": 2,
            "linecolor": "white",
            "showbackground": true,
            "ticks": "",
            "zerolinecolor": "white"
           },
           "zaxis": {
            "backgroundcolor": "#E5ECF6",
            "gridcolor": "white",
            "gridwidth": 2,
            "linecolor": "white",
            "showbackground": true,
            "ticks": "",
            "zerolinecolor": "white"
           }
          },
          "shapedefaults": {
           "line": {
            "color": "#2a3f5f"
           }
          },
          "ternary": {
           "aaxis": {
            "gridcolor": "white",
            "linecolor": "white",
            "ticks": ""
           },
           "baxis": {
            "gridcolor": "white",
            "linecolor": "white",
            "ticks": ""
           },
           "bgcolor": "#E5ECF6",
           "caxis": {
            "gridcolor": "white",
            "linecolor": "white",
            "ticks": ""
           }
          },
          "title": {
           "x": 0.05
          },
          "xaxis": {
           "automargin": true,
           "gridcolor": "white",
           "linecolor": "white",
           "ticks": "",
           "title": {
            "standoff": 15
           },
           "zerolinecolor": "white",
           "zerolinewidth": 2
          },
          "yaxis": {
           "automargin": true,
           "gridcolor": "white",
           "linecolor": "white",
           "ticks": "",
           "title": {
            "standoff": 15
           },
           "zerolinecolor": "white",
           "zerolinewidth": 2
          }
         }
        },
        "title": {
         "text": "Count Plots of Numerical Columns"
        },
        "width": 1600,
        "xaxis": {
         "anchor": "y",
         "domain": [
          0,
          0.475
         ]
        },
        "xaxis10": {
         "anchor": "y10",
         "domain": [
          0.525,
          1
         ]
        },
        "xaxis11": {
         "anchor": "y11",
         "domain": [
          0,
          0.475
         ]
        },
        "xaxis12": {
         "anchor": "y12",
         "domain": [
          0.525,
          1
         ]
        },
        "xaxis13": {
         "anchor": "y13",
         "domain": [
          0,
          0.475
         ]
        },
        "xaxis14": {
         "anchor": "y14",
         "domain": [
          0.525,
          1
         ]
        },
        "xaxis15": {
         "anchor": "y15",
         "domain": [
          0,
          0.475
         ]
        },
        "xaxis16": {
         "anchor": "y16",
         "domain": [
          0.525,
          1
         ]
        },
        "xaxis2": {
         "anchor": "y2",
         "domain": [
          0.525,
          1
         ]
        },
        "xaxis3": {
         "anchor": "y3",
         "domain": [
          0,
          0.475
         ]
        },
        "xaxis4": {
         "anchor": "y4",
         "domain": [
          0.525,
          1
         ]
        },
        "xaxis5": {
         "anchor": "y5",
         "domain": [
          0,
          0.475
         ]
        },
        "xaxis6": {
         "anchor": "y6",
         "domain": [
          0.525,
          1
         ]
        },
        "xaxis7": {
         "anchor": "y7",
         "domain": [
          0,
          0.475
         ]
        },
        "xaxis8": {
         "anchor": "y8",
         "domain": [
          0.525,
          1
         ]
        },
        "xaxis9": {
         "anchor": "y9",
         "domain": [
          0,
          0.475
         ]
        },
        "yaxis": {
         "anchor": "x",
         "domain": [
          0.9450000000000001,
          1
         ]
        },
        "yaxis10": {
         "anchor": "x10",
         "domain": [
          0.40499999999999997,
          0.45999999999999996
         ]
        },
        "yaxis11": {
         "anchor": "x11",
         "domain": [
          0.27,
          0.325
         ]
        },
        "yaxis12": {
         "anchor": "x12",
         "domain": [
          0.27,
          0.325
         ]
        },
        "yaxis13": {
         "anchor": "x13",
         "domain": [
          0.135,
          0.19
         ]
        },
        "yaxis14": {
         "anchor": "x14",
         "domain": [
          0.135,
          0.19
         ]
        },
        "yaxis15": {
         "anchor": "x15",
         "domain": [
          0,
          0.05499999999999999
         ]
        },
        "yaxis16": {
         "anchor": "x16",
         "domain": [
          0,
          0.05499999999999999
         ]
        },
        "yaxis2": {
         "anchor": "x2",
         "domain": [
          0.9450000000000001,
          1
         ]
        },
        "yaxis3": {
         "anchor": "x3",
         "domain": [
          0.8099999999999999,
          0.865
         ]
        },
        "yaxis4": {
         "anchor": "x4",
         "domain": [
          0.8099999999999999,
          0.865
         ]
        },
        "yaxis5": {
         "anchor": "x5",
         "domain": [
          0.675,
          0.73
         ]
        },
        "yaxis6": {
         "anchor": "x6",
         "domain": [
          0.675,
          0.73
         ]
        },
        "yaxis7": {
         "anchor": "x7",
         "domain": [
          0.54,
          0.595
         ]
        },
        "yaxis8": {
         "anchor": "x8",
         "domain": [
          0.54,
          0.595
         ]
        },
        "yaxis9": {
         "anchor": "x9",
         "domain": [
          0.40499999999999997,
          0.45999999999999996
         ]
        }
       }
      }
     },
     "metadata": {},
     "output_type": "display_data"
    }
   ],
   "source": [
    "\n",
    "\n",
    "numerical_columns = ['doornumber','cylindernumber','wheelbase', 'carlength', 'carwidth', 'carheight', 'curbweight',\n",
    "                     'enginesize', 'boreratio', 'stroke', 'compressionratio', 'horsepower',\n",
    "                     'peakrpm', 'citympg', 'highwaympg']\n",
    "\n",
    "single_color = 'blue'  # eine Farbe für alle Plots\n",
    "\n",
    "fig = make_subplots(\n",
    "    rows=8, cols=2,\n",
    "    subplot_titles=[col.capitalize() for col in numerical_columns],\n",
    "    horizontal_spacing=0.05,  # engerer horizontaler Abstand\n",
    "    vertical_spacing=0.08\n",
    ")\n",
    "\n",
    "row, col = 1, 1\n",
    "for col_name in numerical_columns:\n",
    "    counts = df[col_name].value_counts().reset_index()\n",
    "    counts.columns = [col_name, 'Count']\n",
    "\n",
    "    fig.add_trace(\n",
    "        go.Bar(\n",
    "            x=counts[col_name],\n",
    "            y=counts['Count'],\n",
    "            text=counts['Count'],\n",
    "            textposition='outside',\n",
    "            marker_color=single_color\n",
    "         \n",
    "        ),\n",
    "        row=row, col=col\n",
    "    )\n",
    "\n",
    "    col += 1\n",
    "    if col > 2:  # nur 2 Spalten\n",
    "        col = 1\n",
    "        row += 1\n",
    "\n",
    "fig.update_layout(\n",
    "    height=2200, width=1600,  # Höhe und Breite anpassen\n",
    "    title_text=\"Count Plots of Numerical Columns\",\n",
    "    showlegend=False\n",
    ")\n",
    "\n",
    "fig.show()\n"
   ]
  },
  {
   "cell_type": "markdown",
   "id": "53f33a8b-c71a-4d21-8598-f2d06728c958",
   "metadata": {},
   "source": [
    "## 2.2 Explorative Datenanalyse (EDA)"
   ]
  },
  {
   "cell_type": "code",
   "execution_count": 136,
   "id": "c6dd6d62-c171-40b4-9c2a-a4c64e038001",
   "metadata": {},
   "outputs": [
    {
     "name": "stdout",
     "output_type": "stream",
     "text": [
      "['doornumber', 'cylindernumber', 'wheelbase', 'carlength', 'carwidth', 'carheight', 'curbweight', 'enginesize', 'boreratio', 'stroke', 'compressionratio', 'horsepower', 'peakrpm', 'citympg', 'highwaympg']\n"
     ]
    },
    {
     "data": {
      "application/vnd.plotly.v1+json": {
       "config": {
        "plotlyServerURL": "https://plot.ly"
       },
       "data": [
        {
         "mode": "markers",
         "name": "doornumber",
         "type": "scatter",
         "x": {
          "bdata": "AgICBAQCBAQEAgIEAgQEBAIEAgIEAgICBAQEAgQCAgICAgIEBAICBAQEAgQCBAIEBAICAgIEBAICAgICBAIEBAQEBAQEAgQEAgQCAgICAgICAgICAgQEBAQCAgIEBAICBAQCBAQEBAQCAgIEBAQEBAQEBAQEBAICBAQEBAICAgICAgQCAgQCBAIEAgICBAQEBAQEBAQEAgIEBAQEBAQEBAQEBAICAgICAgICAgIEBAQEBAICBAQCAgQEBAQEAgIEBAQEBAQEBAQEBAQEBA==",
          "dtype": "i1"
         },
         "xaxis": "x",
         "y": {
          "bdata": "AAAAAIBbykAAAAAAAB3QQAAAAAAAHdBAAAAAAAA/y0AAAAAAgArRQAAAAAAAyc1AAAAAAIBL0UAAAAAAAHrSQAAAAADAUNdAnMQgsMpw0UAAAAAAgAvQQAAAAABAh9BAAAAAAIB61EAAAAAAQJzUQAAAAABA/ddAAAAAAAAK3kAAAAAAYCzkQAAAAAAAAuJAAAAAAAAftEAAAAAAAJe4QAAAAAAAr7lAAAAAAADEtUAAAAAAAOm4QAAAAAAAFb9AAAAAAABVuEAAAAAAACS6QAAAAAAAub1AAAAAAAC3wEAAAAAAgGzBQAAAAAAAUslAAAAAAABPuUAAAAAAAMe6QAAAAAAAF7VAAAAAAACBuUAAAAAAANm7QAAAAAAAf7xAAAAAAAB/vEAAAAAAANe+QAAAAACAw8FAAAAAAIBGwUAAAAAAgBvEQAAAAACASMlAAAAAAIA0xEAAAAAAAIG6QAAAAABAasFAAAAAAEBqwUAAAAAAAJTFQAAAAACAft9AAAAAAMBb4UAAAAAAAJThQAAAAAAAS7RAAAAAAADPt0AAAAAAAIu6QAAAAAAAJ7pAAAAAAADjvEAAAAAAgGDFQAAAAACAIsdAAAAAAICmykAAAAAAgI7OQAAAAACARsFAAAAAAICXwEAAAAAAgLHEQAAAAACAAsRAAAAAAIAVxUAAAAAAgPbFQAAAAAAA2tFAAAAAAADq0UAAAAAAAPTYQAAAAAAAlttAAAAAAACE20AAAAAAANzeQAAAAAAAseBAAAAAAAAe4UAAAAAAAADkQAAAAAAAK+ZAAAAAAMAd0EAAAAAAAA21QAAAAAAALbhAAAAAAAANukAAAAAAAAm+QAAAAACAc8NAAAAAAICZwEAAAAAAgKrIQAAAAACACs1AAAAAAIBMzEAAAAAAAE27QAAAAAAA/b9AAAAAAIAfwkAAAAAAgB/CQAAAAAAAe7VAAAAAAAC7u0AAAAAAAPm5QAAAAAAAwbpAAAAAAAC1vEAAAAAAAIO8QAAAAAAAd75AAAAAAABLvUAAAAAAAD+/QAAAAACAHMBAAAAAAIB6wUAAAAAAgKbCQAAAAACAXcpAAAAAAIAfzEAAAAAAgF3KQAAAAADAy9BAAAAAAMA800AAAAAAwPfRQAAAAAAAPsdAAAAAAADIyUAAAAAAAEzIQAAAAAAAEstAAAAAAABuzkAAAAAAAIHQQAAAAADATdBAAAAAAMCs0EAAAAAAgD3QQAAAAACAh9FAAAAAAIC50UAAAAAAAMS1QAAAAAAAFb9AAAAAAABVuEAAAAAAACS6QAAAAAAAub1AAAAAAIBswUAAAAAAAO7IQAAAAACAgNVAAAAAAADE30AAAAAAgJ3gQAAAAACAFOJAAAAAACCq3kAAAAAAgCfCQAAAAACAU8NAAAAAAAAlx0AAAAAAAMXHQAAAAAAAYM1AAAAAAABLzkAAAAAAgLnRQAAAAAAAL9JAAAAAAAD+s0AAAAAAAI27QAAAAAAAs71AAAAAAADWu0AAAAAAAF++QAAAAAAAdMNAAAAAAIAIwkAAAAAAgP3FQAAAAAAAJ71AAAAAAADrw0AAAAAAAE2/QAAAAAAA18ZAAAAAAADktEAAAAAAAMK4QAAAAAAAWLlAAAAAAAAGu0AAAAAAANq+QAAAAAAAJcFAAAAAAAAau0AAAAAAAB68QAAAAAAA2r5AAAAAAABsvkAAAAAAADq+QAAAAAAAU8BAAAAAAAAVwkAAAAAAAHq/QAAAAAAAF8BAAAAAAAApwkAAAAAAAKHCQAAAAACAgMBAAAAAAIDTwkAAAAAAgILDQAAAAACA38VAAAAAAICOxkAAAAAAQEHRQAAAAAAAesFAAAAAAADlxEAAAAAAAILDQAAAAAAAScVAAAAAAAD4xUAAAAAAgCvQQAAAAAAAP89AAAAAAAClzkAAAAAAAMPOQAAAAAAAX75AAAAAAAAnv0AAAAAAADu/QAAAAACAAcBAAAAAAICXwEAAAAAAgIvCQAAAAACAhcNAAAAAAIClxkAAAAAAAH7DQAAAAACA98lAAAAAAIAKy0AAAAAAAAHIQAAAAAAARslAAAAAAIAzykAAAAAAgDjPQAAAAADAINBAAAAAAAD90UAAAAAAgIHSQAAAAABAc9BAAAAAAECZ0kAAAAAAQPvUQAAAAACA8dVAAAAAAEAY1kA=",
          "dtype": "f8"
         },
         "yaxis": "y"
        },
        {
         "mode": "markers",
         "name": "cylindernumber",
         "type": "scatter",
         "x": {
          "bdata": "BAQGBAUFBQUFBQQEBgYGBgYGAwQEBAQEBAQEBAQEBAQEBAQEBAQEBAQEBAQEBAQGBgwEBAQEBAICAgIEBAQEBAQEBAUFBQUICAgIBAQEBAQEBAQEBAQEBAQEBAQEBAQEBAQEBAQGBgYGBgYEBAQEBAQEBAQEBAQEBAQEBAQEBgYGCAQEBAQEBAQEBAQEBAQEBAQEBAQEBAQEBAQEBAQEBAQEBAQEBAQEBAQEBAQEBAQEBAYGBgYEBAQEBAQEBAQFBAQEBAQEBAQEBAYGBA==",
          "dtype": "i1"
         },
         "xaxis": "x2",
         "y": {
          "bdata": "AAAAAIBbykAAAAAAAB3QQAAAAAAAHdBAAAAAAAA/y0AAAAAAgArRQAAAAAAAyc1AAAAAAIBL0UAAAAAAAHrSQAAAAADAUNdAnMQgsMpw0UAAAAAAgAvQQAAAAABAh9BAAAAAAIB61EAAAAAAQJzUQAAAAABA/ddAAAAAAAAK3kAAAAAAYCzkQAAAAAAAAuJAAAAAAAAftEAAAAAAAJe4QAAAAAAAr7lAAAAAAADEtUAAAAAAAOm4QAAAAAAAFb9AAAAAAABVuEAAAAAAACS6QAAAAAAAub1AAAAAAAC3wEAAAAAAgGzBQAAAAAAAUslAAAAAAABPuUAAAAAAAMe6QAAAAAAAF7VAAAAAAACBuUAAAAAAANm7QAAAAAAAf7xAAAAAAAB/vEAAAAAAANe+QAAAAACAw8FAAAAAAIBGwUAAAAAAgBvEQAAAAACASMlAAAAAAIA0xEAAAAAAAIG6QAAAAABAasFAAAAAAEBqwUAAAAAAAJTFQAAAAACAft9AAAAAAMBb4UAAAAAAAJThQAAAAAAAS7RAAAAAAADPt0AAAAAAAIu6QAAAAAAAJ7pAAAAAAADjvEAAAAAAgGDFQAAAAACAIsdAAAAAAICmykAAAAAAgI7OQAAAAACARsFAAAAAAICXwEAAAAAAgLHEQAAAAACAAsRAAAAAAIAVxUAAAAAAgPbFQAAAAAAA2tFAAAAAAADq0UAAAAAAAPTYQAAAAAAAlttAAAAAAACE20AAAAAAANzeQAAAAAAAseBAAAAAAAAe4UAAAAAAAADkQAAAAAAAK+ZAAAAAAMAd0EAAAAAAAA21QAAAAAAALbhAAAAAAAANukAAAAAAAAm+QAAAAACAc8NAAAAAAICZwEAAAAAAgKrIQAAAAACACs1AAAAAAIBMzEAAAAAAAE27QAAAAAAA/b9AAAAAAIAfwkAAAAAAgB/CQAAAAAAAe7VAAAAAAAC7u0AAAAAAAPm5QAAAAAAAwbpAAAAAAAC1vEAAAAAAAIO8QAAAAAAAd75AAAAAAABLvUAAAAAAAD+/QAAAAACAHMBAAAAAAIB6wUAAAAAAgKbCQAAAAACAXcpAAAAAAIAfzEAAAAAAgF3KQAAAAADAy9BAAAAAAMA800AAAAAAwPfRQAAAAAAAPsdAAAAAAADIyUAAAAAAAEzIQAAAAAAAEstAAAAAAABuzkAAAAAAAIHQQAAAAADATdBAAAAAAMCs0EAAAAAAgD3QQAAAAACAh9FAAAAAAIC50UAAAAAAAMS1QAAAAAAAFb9AAAAAAABVuEAAAAAAACS6QAAAAAAAub1AAAAAAIBswUAAAAAAAO7IQAAAAACAgNVAAAAAAADE30AAAAAAgJ3gQAAAAACAFOJAAAAAACCq3kAAAAAAgCfCQAAAAACAU8NAAAAAAAAlx0AAAAAAAMXHQAAAAAAAYM1AAAAAAABLzkAAAAAAgLnRQAAAAAAAL9JAAAAAAAD+s0AAAAAAAI27QAAAAAAAs71AAAAAAADWu0AAAAAAAF++QAAAAAAAdMNAAAAAAIAIwkAAAAAAgP3FQAAAAAAAJ71AAAAAAADrw0AAAAAAAE2/QAAAAAAA18ZAAAAAAADktEAAAAAAAMK4QAAAAAAAWLlAAAAAAAAGu0AAAAAAANq+QAAAAAAAJcFAAAAAAAAau0AAAAAAAB68QAAAAAAA2r5AAAAAAABsvkAAAAAAADq+QAAAAAAAU8BAAAAAAAAVwkAAAAAAAHq/QAAAAAAAF8BAAAAAAAApwkAAAAAAAKHCQAAAAACAgMBAAAAAAIDTwkAAAAAAgILDQAAAAACA38VAAAAAAICOxkAAAAAAQEHRQAAAAAAAesFAAAAAAADlxEAAAAAAAILDQAAAAAAAScVAAAAAAAD4xUAAAAAAgCvQQAAAAAAAP89AAAAAAAClzkAAAAAAAMPOQAAAAAAAX75AAAAAAAAnv0AAAAAAADu/QAAAAACAAcBAAAAAAICXwEAAAAAAgIvCQAAAAACAhcNAAAAAAIClxkAAAAAAAH7DQAAAAACA98lAAAAAAIAKy0AAAAAAAAHIQAAAAAAARslAAAAAAIAzykAAAAAAgDjPQAAAAADAINBAAAAAAAD90UAAAAAAgIHSQAAAAABAc9BAAAAAAECZ0kAAAAAAQPvUQAAAAACA8dVAAAAAAEAY1kA=",
          "dtype": "f8"
         },
         "yaxis": "y2"
        },
        {
         "mode": "markers",
         "name": "wheelbase",
         "type": "scatter",
         "x": {
          "bdata": "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",
          "dtype": "f8"
         },
         "xaxis": "x3",
         "y": {
          "bdata": "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",
          "dtype": "f8"
         },
         "yaxis": "y3"
        },
        {
         "mode": "markers",
         "name": "carlength",
         "type": "scatter",
         "x": {
          "bdata": "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",
          "dtype": "f8"
         },
         "xaxis": "x4",
         "y": {
          "bdata": "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",
          "dtype": "f8"
         },
         "yaxis": "y4"
        },
        {
         "mode": "markers",
         "name": "carwidth",
         "type": "scatter",
         "x": {
          "bdata": "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",
          "dtype": "f8"
         },
         "xaxis": "x5",
         "y": {
          "bdata": "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",
          "dtype": "f8"
         },
         "yaxis": "y5"
        },
        {
         "mode": "markers",
         "name": "carheight",
         "type": "scatter",
         "x": {
          "bdata": "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",
          "dtype": "f8"
         },
         "xaxis": "x6",
         "y": {
          "bdata": "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",
          "dtype": "f8"
         },
         "yaxis": "y6"
        },
        {
         "mode": "markers",
         "name": "curbweight",
         "type": "scatter",
         "x": {
          "bdata": "9An0CQcLIQkIC8sJHAuKCw4M7QtbCVsJlgrNCu8Lngw0DbEN0AVSB3UHVAdUB1AIrwfFB8UHjwjnCfsKsQYbBy0HlAekB9oH6Ae8CPEIAAlECaEJ9QghCVIHdQeuCuIP4g9uD2IHbAdxB5kHngdMCUwJUQnECVEJaglRCWoJiwl5CW4KjAq7DaYOpw26DpwOZQ48D4MOXgt+B5gH1AdhCEIJGAkRC2kLbgs9CWUJYwljCWEH4Qd+B5IH6AefB+wHswf1B9gHFAn+CBcM4Az0C/8LQwxDDMwLfQyeDGYNAwy0DNUMnQ0DDLQMOgx+B1AIrwfFB48I5wkCC9oKxArECvAKJg0TCpwJYgqHCpMKxgr4Ch8LAghICMAIYQiOCCQJUQnOCfIIlwl0CVoKwQf4B98H6AjyCCYMIQg9COMI4wguCEoIXAh5CJwI2Qj8COwJ6An3CXcKmgqfCxYJsAluCW4JmgmgC8gLOwxPDNUIoQjYCKQI4wgPCfwIzgitCGUKEwoDCmAL2gt3C+IL5QtVDIgL6QvEC5EM9gs=",
          "dtype": "i2"
         },
         "xaxis": "x7",
         "y": {
          "bdata": "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",
          "dtype": "f8"
         },
         "yaxis": "y7"
        },
        {
         "mode": "markers",
         "name": "enginesize",
         "type": "scatter",
         "x": {
          "bdata": "ggCCAJgAbQCIAIgAiACIAIMAgwBsAGwApACkAKQA0QDRANEAPQBaAFoAWgBaAGIAWgBaAFoAYgB6AJwAXABcAE8AXABcAFwAXABuAG4AbgBuAG4AbgBvAFoAWgB3AAIBAgFGAVsAWwBbAFsAWwBGAEYARgBQAHoAegB6AHoAegB6AIwAhgC3ALcAtwC3AOoA6gA0ATABjABcAFwAXABiAG4AegCcAJwAnAB6AHoAbgBuAGEAZwBhAGEAYQBhAGEAYQBhAGEAeAB4ALUAtQC1ALUAtQC1AHgAmAB4AJgAeACYAHgAmAB4AJgAhgBaAGIAWgBaAGIAegCcAJcAwgDCAMIAywCEAIQAeQB5AHkAeQB5AHkAYQBsAGwAbABsAGwAbABsAGwAbABsAGwAXABcAFwAXABcAFwAYgBiAG4AbgBiAGIAYgBiAGIAYgBiAJIAkgCSAJIAkgCSAHoAbgB6AHoAegCrAKsAqwChAGEAbQBhAG0AbQBhAG0AbQBtAIgAYQBtAI0AjQCNAI0AggCCAI0AjQCtAJEAjQA=",
          "dtype": "i2"
         },
         "xaxis": "x8",
         "y": {
          "bdata": "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",
          "dtype": "f8"
         },
         "yaxis": "y8"
        },
        {
         "mode": "markers",
         "name": "boreratio",
         "type": "scatter",
         "x": {
          "bdata": "w/UoXI/CC0DD9Shcj8ILQHE9CtejcAVAhetRuB6FCUCF61G4HoUJQIXrUbgehQlAhetRuB6FCUCF61G4HoUJQArXo3A9CglACtejcD0KCUAAAAAAAAAMQAAAAAAAAAxAexSuR+F6CkB7FK5H4XoKQHsUrkfhegpA9ihcj8L1DED2KFyPwvUMQPYoXI/C9QxASOF6FK5HB0A9CtejcD0IQD0K16NwPQhAw/UoXI/CB0DD9Shcj8IHQD0K16NwPQhAw/UoXI/CB0DD9Shcj8IHQMP1KFyPwgdAPQrXo3A9CEC4HoXrUbgKQM3MzMzMzAxASOF6FK5HB0BI4XoUrkcHQEjhehSuRwdASOF6FK5HB0BI4XoUrkcHQEjhehSuRwdAXI/C9ShcB0AzMzMzMzMJQDMzMzMzMwlAMzMzMzMzCUAzMzMzMzMJQDMzMzMzMwlAMzMzMzMzCUB7FK5H4XoKQD0K16NwPQhAPQrXo3A9CEBxPQrXo3ALQArXo3A9Cg1ACtejcD0KDUBSuB6F61EMQD0K16NwPQhAPQrXo3A9CEA9CtejcD0IQD0K16NwPQhApHA9CtejCECkcD0K16MKQKRwPQrXowpApHA9CtejCkCkcD0K16MKQB+F61G4HgtAH4XrUbgeC0AfhetRuB4LQB+F61G4HgtAH4XrUbgeC0AfhetRuB4LQBSuR+F6FA5AcT0K16NwC0CkcD0K16MMQKRwPQrXowxApHA9CtejDECkcD0K16MMQK5H4XoUrgtArkfhehSuC0BmZmZmZmYOQGZmZmZmZg5APQrXo3A9DkDD9Shcj8IHQMP1KFyPwgdAw/UoXI/CB0A9CtejcD0IQFyPwvUoXAlAzczMzMzMCkCkcD0K16MMQLgehetRuAxAuB6F61G4DEDNzMzMzMwKQM3MzMzMzApAXI/C9ShcCUBcj8L1KFwJQDMzMzMzMwlA7FG4HoXrB0AzMzMzMzMJQDMzMzMzMwlAMzMzMzMzCUAzMzMzMzMJQDMzMzMzMwlAMzMzMzMzCUAzMzMzMzMJQDMzMzMzMwlApHA9CtejCkCkcD0K16MKQHE9CtejcAtAcT0K16NwC0BxPQrXo3ALQHE9CtejcAtAcT0K16NwC0BxPQrXo3ALQK5H4XoUrgtAmpmZmZmZDUCuR+F6FK4LQJqZmZmZmQ1ArkfhehSuC0CamZmZmZkNQK5H4XoUrgtAmpmZmZmZDUCuR+F6FK4LQJqZmZmZmQ1A4XoUrkfhDEDD9Shcj8IHQD0K16NwPQhAw/UoXI/CB0DD9Shcj8IHQMP1KFyPwgdAzczMzMzMCkC4HoXrUbgMQIXrUbgehQ9A7FG4HoXrDUDsUbgehesNQOxRuB6F6w1AhetRuB6FD0CuR+F6FK4LQK5H4XoUrgtAUrgehetRDEBSuB6F61EMQFK4HoXrUQRAUrgehetRDEBSuB6F61EMQFK4HoXrUQxA9ihcj8L1DED2KFyPwvUMQPYoXI/C9QxA9ihcj8L1DED2KFyPwvUMQPYoXI/C9QxA9ihcj8L1DED2KFyPwvUMQPYoXI/C9QxA9ihcj8L1DED2KFyPwvUMQPYoXI/C9QxAZmZmZmZmCEBmZmZmZmYIQGZmZmZmZghAZmZmZmZmCEBmZmZmZmYIQGZmZmZmZghAhetRuB6FCUCF61G4HoUJQClcj8L1KApAKVyPwvUoCkCF61G4HoUJQIXrUbgehQlAhetRuB6FCUCF61G4HoUJQIXrUbgehQlA7FG4HoXrCUDsUbgehesJQPYoXI/C9QxA9ihcj8L1DED2KFyPwvUMQPYoXI/C9QxA9ihcj8L1DED2KFyPwvUMQHsUrkfhegpAKVyPwvUoCkB7FK5H4XoKQHsUrkfhegpAexSuR+F6CkApXI/C9SgKQClcj8L1KApAKVyPwvUoCkApXI/C9SgKQBSuR+F6FAhAhetRuB6FCUAUrkfhehQIQIXrUbgehQlAhetRuB6FCUAUrkfhehQIQIXrUbgehQlAhetRuB6FCUCF61G4HoUJQIXrUbgehQlAFK5H4XoUCECF61G4HoUJQD0K16NwPQ5APQrXo3A9DkA9CtejcD0OQD0K16NwPQ5A9ihcj8L1DED2KFyPwvUMQD0K16NwPQ5APQrXo3A9DkCkcD0K16MMQBSuR+F6FAhAPQrXo3A9DkA=",
          "dtype": "f8"
         },
         "xaxis": "x9",
         "y": {
          "bdata": "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",
          "dtype": "f8"
         },
         "yaxis": "y9"
        },
        {
         "mode": "markers",
         "name": "stroke",
         "type": "scatter",
         "x": {
          "bdata": "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",
          "dtype": "f8"
         },
         "xaxis": "x10",
         "y": {
          "bdata": "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",
          "dtype": "f8"
         },
         "yaxis": "y10"
        },
        {
         "mode": "markers",
         "name": "compressionratio",
         "type": "scatter",
         "x": {
          "bdata": "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",
          "dtype": "f8"
         },
         "xaxis": "x11",
         "y": {
          "bdata": "AAAAAIBbykAAAAAAAB3QQAAAAAAAHdBAAAAAAAA/y0AAAAAAgArRQAAAAAAAyc1AAAAAAIBL0UAAAAAAAHrSQAAAAADAUNdAnMQgsMpw0UAAAAAAgAvQQAAAAABAh9BAAAAAAIB61EAAAAAAQJzUQAAAAABA/ddAAAAAAAAK3kAAAAAAYCzkQAAAAAAAAuJAAAAAAAAftEAAAAAAAJe4QAAAAAAAr7lAAAAAAADEtUAAAAAAAOm4QAAAAAAAFb9AAAAAAABVuEAAAAAAACS6QAAAAAAAub1AAAAAAAC3wEAAAAAAgGzBQAAAAAAAUslAAAAAAABPuUAAAAAAAMe6QAAAAAAAF7VAAAAAAACBuUAAAAAAANm7QAAAAAAAf7xAAAAAAAB/vEAAAAAAANe+QAAAAACAw8FAAAAAAIBGwUAAAAAAgBvEQAAAAACASMlAAAAAAIA0xEAAAAAAAIG6QAAAAABAasFAAAAAAEBqwUAAAAAAAJTFQAAAAACAft9AAAAAAMBb4UAAAAAAAJThQAAAAAAAS7RAAAAAAADPt0AAAAAAAIu6QAAAAAAAJ7pAAAAAAADjvEAAAAAAgGDFQAAAAACAIsdAAAAAAICmykAAAAAAgI7OQAAAAACARsFAAAAAAICXwEAAAAAAgLHEQAAAAACAAsRAAAAAAIAVxUAAAAAAgPbFQAAAAAAA2tFAAAAAAADq0UAAAAAAAPTYQAAAAAAAlttAAAAAAACE20AAAAAAANzeQAAAAAAAseBAAAAAAAAe4UAAAAAAAADkQAAAAAAAK+ZAAAAAAMAd0EAAAAAAAA21QAAAAAAALbhAAAAAAAANukAAAAAAAAm+QAAAAACAc8NAAAAAAICZwEAAAAAAgKrIQAAAAACACs1AAAAAAIBMzEAAAAAAAE27QAAAAAAA/b9AAAAAAIAfwkAAAAAAgB/CQAAAAAAAe7VAAAAAAAC7u0AAAAAAAPm5QAAAAAAAwbpAAAAAAAC1vEAAAAAAAIO8QAAAAAAAd75AAAAAAABLvUAAAAAAAD+/QAAAAACAHMBAAAAAAIB6wUAAAAAAgKbCQAAAAACAXcpAAAAAAIAfzEAAAAAAgF3KQAAAAADAy9BAAAAAAMA800AAAAAAwPfRQAAAAAAAPsdAAAAAAADIyUAAAAAAAEzIQAAAAAAAEstAAAAAAABuzkAAAAAAAIHQQAAAAADATdBAAAAAAMCs0EAAAAAAgD3QQAAAAACAh9FAAAAAAIC50UAAAAAAAMS1QAAAAAAAFb9AAAAAAABVuEAAAAAAACS6QAAAAAAAub1AAAAAAIBswUAAAAAAAO7IQAAAAACAgNVAAAAAAADE30AAAAAAgJ3gQAAAAACAFOJAAAAAACCq3kAAAAAAgCfCQAAAAACAU8NAAAAAAAAlx0AAAAAAAMXHQAAAAAAAYM1AAAAAAABLzkAAAAAAgLnRQAAAAAAAL9JAAAAAAAD+s0AAAAAAAI27QAAAAAAAs71AAAAAAADWu0AAAAAAAF++QAAAAAAAdMNAAAAAAIAIwkAAAAAAgP3FQAAAAAAAJ71AAAAAAADrw0AAAAAAAE2/QAAAAAAA18ZAAAAAAADktEAAAAAAAMK4QAAAAAAAWLlAAAAAAAAGu0AAAAAAANq+QAAAAAAAJcFAAAAAAAAau0AAAAAAAB68QAAAAAAA2r5AAAAAAABsvkAAAAAAADq+QAAAAAAAU8BAAAAAAAAVwkAAAAAAAHq/QAAAAAAAF8BAAAAAAAApwkAAAAAAAKHCQAAAAACAgMBAAAAAAIDTwkAAAAAAgILDQAAAAACA38VAAAAAAICOxkAAAAAAQEHRQAAAAAAAesFAAAAAAADlxEAAAAAAAILDQAAAAAAAScVAAAAAAAD4xUAAAAAAgCvQQAAAAAAAP89AAAAAAAClzkAAAAAAAMPOQAAAAAAAX75AAAAAAAAnv0AAAAAAADu/QAAAAACAAcBAAAAAAICXwEAAAAAAgIvCQAAAAACAhcNAAAAAAIClxkAAAAAAAH7DQAAAAACA98lAAAAAAIAKy0AAAAAAAAHIQAAAAAAARslAAAAAAIAzykAAAAAAgDjPQAAAAADAINBAAAAAAAD90UAAAAAAgIHSQAAAAABAc9BAAAAAAECZ0kAAAAAAQPvUQAAAAACA8dVAAAAAAEAY1kA=",
          "dtype": "f8"
         },
         "yaxis": "y11"
        },
        {
         "mode": "markers",
         "name": "horsepower",
         "type": "scatter",
         "x": {
          "bdata": "bwBvAJoAZgBzAG4AbgBuAIwAoABlAGUAeQB5AHkAtgC2ALYAMABGAEYARABEAGYARABEAEQAZgBYAJEAOgBMADwATABMAEwATABWAFYAVgBWAGUAZABOAEYARgBaALAAsAAGAUQARABEAEQARABlAGUAZQCHAFQAVABUAFQAQABUAHgASAB7AHsAewB7AJsAmwC4ALgArwBEAEQARABmAHQAWACRAJEAkQBYAFgAdAB0AEUANwBFAEUARQBFAEUARQBFAEUAYQBhAJgAmACYAKAAyACgAGEAXwBhAF8AXwBfAF8AXwBhAF8AjgBEAGYARABEAEQAWACRAI8AzwDPAM8AIAFaAFoAbgBuAG4AbgCgAKAARQBJAEkAUgBSAF4AUgBvAFIAXgBSAG8APgA+AD4APgA+AD4ARgBGADgAOABGAEYARgBGAEYAcABwAHQAdAB0AHQAdAB0AFwASQBcAFwAXAChAKEAnACcADQAVQA0AFUAVQBEAGQAWgBaAG4ARABYAHIAcgByAHIAogCiAHIAoACGAGoAcgA=",
          "dtype": "i2"
         },
         "xaxis": "x12",
         "y": {
          "bdata": "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",
          "dtype": "f8"
         },
         "yaxis": "y12"
        },
        {
         "mode": "markers",
         "name": "peakrpm",
         "type": "scatter",
         "x": {
          "bdata": "iBOIE4gTfBV8FXwVfBV8FXwVfBWoFqgWmhCaEJoQGBUYFRgV7BMYFRgVfBV8FXwVfBV8FXwVfBWIE4gTwBJwF3wVcBdwF3AXcBeoFqgWqBaoFqgWfBXAEhgVGBWIE44SjhKIE4gTiBOIE4gTiBNwF3AXcBdwF8ASwBLAEsASKhLAEogTaBD+EP4Q/hD+EI4SjhKUEZQRiBN8FXwVfBV8FXwViBOIE4gTiBOIE4gTfBV8FVAUwBJQFFAUUBRQFFAUUBRQFFAUUBRQFFAUUBRQFFAUUBRQFIgTNhCIEzYQiBM2EIgTNhCIEzYQ4BV8FXwVfBV8FXwViBOIE3wVDBcMFwwXdhbsE+wTghSCFIIUghR8FXwVJBMwETARwBIwEVAUwBLAEsASUBTAEsASwBLAEsASwBLAEsASwBLAEpQRlBHAEsASwBLAEsASyBnIGcASwBLAEsASwBLAEmgQlBFoEGgQaBBQFFAUUBRQFMASghTAEoIUghSUEXwVfBV8FXwVlBF8FRgVGBUYFRgV7BPsExgVtBR8FcASGBU=",
          "dtype": "i2"
         },
         "xaxis": "x13",
         "y": {
          "bdata": "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",
          "dtype": "f8"
         },
         "yaxis": "y13"
        },
        {
         "mode": "markers",
         "name": "citympg",
         "type": "scatter",
         "x": {
          "bdata": "FRUTGBITExMREBcXFRUUEBAPLyYmJR8YHx8fGBgTMR8mHh4eHhsbGxsYGRgmJhgPDw0eHx8fHxERERAaGhoaJBoTHxYWFhYQEA4OEyUfHxgXGRMTExkZFxcfLR8fHx8fHx8fGxsRERMTERMTHBMZExwTGRMcEiUYHx8fGBMTERERERcXFRUVFRMTHxoaIBwaGBgcGRcXIx8fHxsbHh4iJiYcHB0dGhoYGBgYGBgdHhsbGxQTFBMlGyUbGyUaGBgTIRkXFxgYEREXExIaEw==",
          "dtype": "i1"
         },
         "xaxis": "x14",
         "y": {
          "bdata": "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",
          "dtype": "f8"
         },
         "yaxis": "y14"
        },
        {
         "mode": "markers",
         "name": "highwaympg",
         "type": "scatter",
         "x": {
          "bdata": "GxsaHhYZGRkUFh0dHBwZFhYUNSsrKSYeJiYmHh4YNiYqIiIiIiEhISEcHx0rKx0TExEfJiYmJhcXFxcgICAgKiAbJxkZGRkSEhAQGCkmJh4eIBgYGCAgHh4lMiUlJSUlJSUlIiIWFhkZFxkYIRgZGCEYGRghGCkeJiYmHhgbGRkZHB8fHBwcHBoaJB8fJSEgGR0gHx0XJyYmJSAgJSUkLy8iIiIiHR0eHh4eHh4iISAgIBgYGBguIi4iIiogHR0YJh8cHBwcFhYcGRcbGQ==",
          "dtype": "i1"
         },
         "xaxis": "x15",
         "y": {
          "bdata": "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",
          "dtype": "f8"
         },
         "yaxis": "y15"
        }
       ],
       "layout": {
        "annotations": [
         {
          "font": {
           "size": 16
          },
          "showarrow": false,
          "text": "doornumber vs price",
          "x": 0.14444444444444446,
          "xanchor": "center",
          "xref": "paper",
          "y": 0.9999999999999999,
          "yanchor": "bottom",
          "yref": "paper"
         },
         {
          "font": {
           "size": 16
          },
          "showarrow": false,
          "text": "cylindernumber vs price",
          "x": 0.5,
          "xanchor": "center",
          "xref": "paper",
          "y": 0.9999999999999999,
          "yanchor": "bottom",
          "yref": "paper"
         },
         {
          "font": {
           "size": 16
          },
          "showarrow": false,
          "text": "wheelbase vs price",
          "x": 0.8555555555555556,
          "xanchor": "center",
          "xref": "paper",
          "y": 0.9999999999999999,
          "yanchor": "bottom",
          "yref": "paper"
         },
         {
          "font": {
           "size": 16
          },
          "showarrow": false,
          "text": "carlength vs price",
          "x": 0.14444444444444446,
          "xanchor": "center",
          "xref": "paper",
          "y": 0.7839999999999999,
          "yanchor": "bottom",
          "yref": "paper"
         },
         {
          "font": {
           "size": 16
          },
          "showarrow": false,
          "text": "carwidth vs price",
          "x": 0.5,
          "xanchor": "center",
          "xref": "paper",
          "y": 0.7839999999999999,
          "yanchor": "bottom",
          "yref": "paper"
         },
         {
          "font": {
           "size": 16
          },
          "showarrow": false,
          "text": "carheight vs price",
          "x": 0.8555555555555556,
          "xanchor": "center",
          "xref": "paper",
          "y": 0.7839999999999999,
          "yanchor": "bottom",
          "yref": "paper"
         },
         {
          "font": {
           "size": 16
          },
          "showarrow": false,
          "text": "curbweight vs price",
          "x": 0.14444444444444446,
          "xanchor": "center",
          "xref": "paper",
          "y": 0.568,
          "yanchor": "bottom",
          "yref": "paper"
         },
         {
          "font": {
           "size": 16
          },
          "showarrow": false,
          "text": "enginesize vs price",
          "x": 0.5,
          "xanchor": "center",
          "xref": "paper",
          "y": 0.568,
          "yanchor": "bottom",
          "yref": "paper"
         },
         {
          "font": {
           "size": 16
          },
          "showarrow": false,
          "text": "boreratio vs price",
          "x": 0.8555555555555556,
          "xanchor": "center",
          "xref": "paper",
          "y": 0.568,
          "yanchor": "bottom",
          "yref": "paper"
         },
         {
          "font": {
           "size": 16
          },
          "showarrow": false,
          "text": "stroke vs price",
          "x": 0.14444444444444446,
          "xanchor": "center",
          "xref": "paper",
          "y": 0.352,
          "yanchor": "bottom",
          "yref": "paper"
         },
         {
          "font": {
           "size": 16
          },
          "showarrow": false,
          "text": "compressionratio vs price",
          "x": 0.5,
          "xanchor": "center",
          "xref": "paper",
          "y": 0.352,
          "yanchor": "bottom",
          "yref": "paper"
         },
         {
          "font": {
           "size": 16
          },
          "showarrow": false,
          "text": "horsepower vs price",
          "x": 0.8555555555555556,
          "xanchor": "center",
          "xref": "paper",
          "y": 0.352,
          "yanchor": "bottom",
          "yref": "paper"
         },
         {
          "font": {
           "size": 16
          },
          "showarrow": false,
          "text": "peakrpm vs price",
          "x": 0.14444444444444446,
          "xanchor": "center",
          "xref": "paper",
          "y": 0.13599999999999998,
          "yanchor": "bottom",
          "yref": "paper"
         },
         {
          "font": {
           "size": 16
          },
          "showarrow": false,
          "text": "citympg vs price",
          "x": 0.5,
          "xanchor": "center",
          "xref": "paper",
          "y": 0.13599999999999998,
          "yanchor": "bottom",
          "yref": "paper"
         },
         {
          "font": {
           "size": 16
          },
          "showarrow": false,
          "text": "highwaympg vs price",
          "x": 0.8555555555555556,
          "xanchor": "center",
          "xref": "paper",
          "y": 0.13599999999999998,
          "yanchor": "bottom",
          "yref": "paper"
         }
        ],
        "height": 1500,
        "margin": {
         "b": 40,
         "l": 40,
         "r": 40,
         "t": 80
        },
        "showlegend": false,
        "template": {
         "data": {
          "bar": [
           {
            "error_x": {
             "color": "#2a3f5f"
            },
            "error_y": {
             "color": "#2a3f5f"
            },
            "marker": {
             "line": {
              "color": "#E5ECF6",
              "width": 0.5
             },
             "pattern": {
              "fillmode": "overlay",
              "size": 10,
              "solidity": 0.2
             }
            },
            "type": "bar"
           }
          ],
          "barpolar": [
           {
            "marker": {
             "line": {
              "color": "#E5ECF6",
              "width": 0.5
             },
             "pattern": {
              "fillmode": "overlay",
              "size": 10,
              "solidity": 0.2
             }
            },
            "type": "barpolar"
           }
          ],
          "carpet": [
           {
            "aaxis": {
             "endlinecolor": "#2a3f5f",
             "gridcolor": "white",
             "linecolor": "white",
             "minorgridcolor": "white",
             "startlinecolor": "#2a3f5f"
            },
            "baxis": {
             "endlinecolor": "#2a3f5f",
             "gridcolor": "white",
             "linecolor": "white",
             "minorgridcolor": "white",
             "startlinecolor": "#2a3f5f"
            },
            "type": "carpet"
           }
          ],
          "choropleth": [
           {
            "colorbar": {
             "outlinewidth": 0,
             "ticks": ""
            },
            "type": "choropleth"
           }
          ],
          "contour": [
           {
            "colorbar": {
             "outlinewidth": 0,
             "ticks": ""
            },
            "colorscale": [
             [
              0,
              "#0d0887"
             ],
             [
              0.1111111111111111,
              "#46039f"
             ],
             [
              0.2222222222222222,
              "#7201a8"
             ],
             [
              0.3333333333333333,
              "#9c179e"
             ],
             [
              0.4444444444444444,
              "#bd3786"
             ],
             [
              0.5555555555555556,
              "#d8576b"
             ],
             [
              0.6666666666666666,
              "#ed7953"
             ],
             [
              0.7777777777777778,
              "#fb9f3a"
             ],
             [
              0.8888888888888888,
              "#fdca26"
             ],
             [
              1,
              "#f0f921"
             ]
            ],
            "type": "contour"
           }
          ],
          "contourcarpet": [
           {
            "colorbar": {
             "outlinewidth": 0,
             "ticks": ""
            },
            "type": "contourcarpet"
           }
          ],
          "heatmap": [
           {
            "colorbar": {
             "outlinewidth": 0,
             "ticks": ""
            },
            "colorscale": [
             [
              0,
              "#0d0887"
             ],
             [
              0.1111111111111111,
              "#46039f"
             ],
             [
              0.2222222222222222,
              "#7201a8"
             ],
             [
              0.3333333333333333,
              "#9c179e"
             ],
             [
              0.4444444444444444,
              "#bd3786"
             ],
             [
              0.5555555555555556,
              "#d8576b"
             ],
             [
              0.6666666666666666,
              "#ed7953"
             ],
             [
              0.7777777777777778,
              "#fb9f3a"
             ],
             [
              0.8888888888888888,
              "#fdca26"
             ],
             [
              1,
              "#f0f921"
             ]
            ],
            "type": "heatmap"
           }
          ],
          "histogram": [
           {
            "marker": {
             "pattern": {
              "fillmode": "overlay",
              "size": 10,
              "solidity": 0.2
             }
            },
            "type": "histogram"
           }
          ],
          "histogram2d": [
           {
            "colorbar": {
             "outlinewidth": 0,
             "ticks": ""
            },
            "colorscale": [
             [
              0,
              "#0d0887"
             ],
             [
              0.1111111111111111,
              "#46039f"
             ],
             [
              0.2222222222222222,
              "#7201a8"
             ],
             [
              0.3333333333333333,
              "#9c179e"
             ],
             [
              0.4444444444444444,
              "#bd3786"
             ],
             [
              0.5555555555555556,
              "#d8576b"
             ],
             [
              0.6666666666666666,
              "#ed7953"
             ],
             [
              0.7777777777777778,
              "#fb9f3a"
             ],
             [
              0.8888888888888888,
              "#fdca26"
             ],
             [
              1,
              "#f0f921"
             ]
            ],
            "type": "histogram2d"
           }
          ],
          "histogram2dcontour": [
           {
            "colorbar": {
             "outlinewidth": 0,
             "ticks": ""
            },
            "colorscale": [
             [
              0,
              "#0d0887"
             ],
             [
              0.1111111111111111,
              "#46039f"
             ],
             [
              0.2222222222222222,
              "#7201a8"
             ],
             [
              0.3333333333333333,
              "#9c179e"
             ],
             [
              0.4444444444444444,
              "#bd3786"
             ],
             [
              0.5555555555555556,
              "#d8576b"
             ],
             [
              0.6666666666666666,
              "#ed7953"
             ],
             [
              0.7777777777777778,
              "#fb9f3a"
             ],
             [
              0.8888888888888888,
              "#fdca26"
             ],
             [
              1,
              "#f0f921"
             ]
            ],
            "type": "histogram2dcontour"
           }
          ],
          "mesh3d": [
           {
            "colorbar": {
             "outlinewidth": 0,
             "ticks": ""
            },
            "type": "mesh3d"
           }
          ],
          "parcoords": [
           {
            "line": {
             "colorbar": {
              "outlinewidth": 0,
              "ticks": ""
             }
            },
            "type": "parcoords"
           }
          ],
          "pie": [
           {
            "automargin": true,
            "type": "pie"
           }
          ],
          "scatter": [
           {
            "fillpattern": {
             "fillmode": "overlay",
             "size": 10,
             "solidity": 0.2
            },
            "type": "scatter"
           }
          ],
          "scatter3d": [
           {
            "line": {
             "colorbar": {
              "outlinewidth": 0,
              "ticks": ""
             }
            },
            "marker": {
             "colorbar": {
              "outlinewidth": 0,
              "ticks": ""
             }
            },
            "type": "scatter3d"
           }
          ],
          "scattercarpet": [
           {
            "marker": {
             "colorbar": {
              "outlinewidth": 0,
              "ticks": ""
             }
            },
            "type": "scattercarpet"
           }
          ],
          "scattergeo": [
           {
            "marker": {
             "colorbar": {
              "outlinewidth": 0,
              "ticks": ""
             }
            },
            "type": "scattergeo"
           }
          ],
          "scattergl": [
           {
            "marker": {
             "colorbar": {
              "outlinewidth": 0,
              "ticks": ""
             }
            },
            "type": "scattergl"
           }
          ],
          "scattermap": [
           {
            "marker": {
             "colorbar": {
              "outlinewidth": 0,
              "ticks": ""
             }
            },
            "type": "scattermap"
           }
          ],
          "scattermapbox": [
           {
            "marker": {
             "colorbar": {
              "outlinewidth": 0,
              "ticks": ""
             }
            },
            "type": "scattermapbox"
           }
          ],
          "scatterpolar": [
           {
            "marker": {
             "colorbar": {
              "outlinewidth": 0,
              "ticks": ""
             }
            },
            "type": "scatterpolar"
           }
          ],
          "scatterpolargl": [
           {
            "marker": {
             "colorbar": {
              "outlinewidth": 0,
              "ticks": ""
             }
            },
            "type": "scatterpolargl"
           }
          ],
          "scatterternary": [
           {
            "marker": {
             "colorbar": {
              "outlinewidth": 0,
              "ticks": ""
             }
            },
            "type": "scatterternary"
           }
          ],
          "surface": [
           {
            "colorbar": {
             "outlinewidth": 0,
             "ticks": ""
            },
            "colorscale": [
             [
              0,
              "#0d0887"
             ],
             [
              0.1111111111111111,
              "#46039f"
             ],
             [
              0.2222222222222222,
              "#7201a8"
             ],
             [
              0.3333333333333333,
              "#9c179e"
             ],
             [
              0.4444444444444444,
              "#bd3786"
             ],
             [
              0.5555555555555556,
              "#d8576b"
             ],
             [
              0.6666666666666666,
              "#ed7953"
             ],
             [
              0.7777777777777778,
              "#fb9f3a"
             ],
             [
              0.8888888888888888,
              "#fdca26"
             ],
             [
              1,
              "#f0f921"
             ]
            ],
            "type": "surface"
           }
          ],
          "table": [
           {
            "cells": {
             "fill": {
              "color": "#EBF0F8"
             },
             "line": {
              "color": "white"
             }
            },
            "header": {
             "fill": {
              "color": "#C8D4E3"
             },
             "line": {
              "color": "white"
             }
            },
            "type": "table"
           }
          ]
         },
         "layout": {
          "annotationdefaults": {
           "arrowcolor": "#2a3f5f",
           "arrowhead": 0,
           "arrowwidth": 1
          },
          "autotypenumbers": "strict",
          "coloraxis": {
           "colorbar": {
            "outlinewidth": 0,
            "ticks": ""
           }
          },
          "colorscale": {
           "diverging": [
            [
             0,
             "#8e0152"
            ],
            [
             0.1,
             "#c51b7d"
            ],
            [
             0.2,
             "#de77ae"
            ],
            [
             0.3,
             "#f1b6da"
            ],
            [
             0.4,
             "#fde0ef"
            ],
            [
             0.5,
             "#f7f7f7"
            ],
            [
             0.6,
             "#e6f5d0"
            ],
            [
             0.7,
             "#b8e186"
            ],
            [
             0.8,
             "#7fbc41"
            ],
            [
             0.9,
             "#4d9221"
            ],
            [
             1,
             "#276419"
            ]
           ],
           "sequential": [
            [
             0,
             "#0d0887"
            ],
            [
             0.1111111111111111,
             "#46039f"
            ],
            [
             0.2222222222222222,
             "#7201a8"
            ],
            [
             0.3333333333333333,
             "#9c179e"
            ],
            [
             0.4444444444444444,
             "#bd3786"
            ],
            [
             0.5555555555555556,
             "#d8576b"
            ],
            [
             0.6666666666666666,
             "#ed7953"
            ],
            [
             0.7777777777777778,
             "#fb9f3a"
            ],
            [
             0.8888888888888888,
             "#fdca26"
            ],
            [
             1,
             "#f0f921"
            ]
           ],
           "sequentialminus": [
            [
             0,
             "#0d0887"
            ],
            [
             0.1111111111111111,
             "#46039f"
            ],
            [
             0.2222222222222222,
             "#7201a8"
            ],
            [
             0.3333333333333333,
             "#9c179e"
            ],
            [
             0.4444444444444444,
             "#bd3786"
            ],
            [
             0.5555555555555556,
             "#d8576b"
            ],
            [
             0.6666666666666666,
             "#ed7953"
            ],
            [
             0.7777777777777778,
             "#fb9f3a"
            ],
            [
             0.8888888888888888,
             "#fdca26"
            ],
            [
             1,
             "#f0f921"
            ]
           ]
          },
          "colorway": [
           "#636efa",
           "#EF553B",
           "#00cc96",
           "#ab63fa",
           "#FFA15A",
           "#19d3f3",
           "#FF6692",
           "#B6E880",
           "#FF97FF",
           "#FECB52"
          ],
          "font": {
           "color": "#2a3f5f"
          },
          "geo": {
           "bgcolor": "white",
           "lakecolor": "white",
           "landcolor": "#E5ECF6",
           "showlakes": true,
           "showland": true,
           "subunitcolor": "white"
          },
          "hoverlabel": {
           "align": "left"
          },
          "hovermode": "closest",
          "mapbox": {
           "style": "light"
          },
          "paper_bgcolor": "white",
          "plot_bgcolor": "#E5ECF6",
          "polar": {
           "angularaxis": {
            "gridcolor": "white",
            "linecolor": "white",
            "ticks": ""
           },
           "bgcolor": "#E5ECF6",
           "radialaxis": {
            "gridcolor": "white",
            "linecolor": "white",
            "ticks": ""
           }
          },
          "scene": {
           "xaxis": {
            "backgroundcolor": "#E5ECF6",
            "gridcolor": "white",
            "gridwidth": 2,
            "linecolor": "white",
            "showbackground": true,
            "ticks": "",
            "zerolinecolor": "white"
           },
           "yaxis": {
            "backgroundcolor": "#E5ECF6",
            "gridcolor": "white",
            "gridwidth": 2,
            "linecolor": "white",
            "showbackground": true,
            "ticks": "",
            "zerolinecolor": "white"
           },
           "zaxis": {
            "backgroundcolor": "#E5ECF6",
            "gridcolor": "white",
            "gridwidth": 2,
            "linecolor": "white",
            "showbackground": true,
            "ticks": "",
            "zerolinecolor": "white"
           }
          },
          "shapedefaults": {
           "line": {
            "color": "#2a3f5f"
           }
          },
          "ternary": {
           "aaxis": {
            "gridcolor": "white",
            "linecolor": "white",
            "ticks": ""
           },
           "baxis": {
            "gridcolor": "white",
            "linecolor": "white",
            "ticks": ""
           },
           "bgcolor": "#E5ECF6",
           "caxis": {
            "gridcolor": "white",
            "linecolor": "white",
            "ticks": ""
           }
          },
          "title": {
           "x": 0.05
          },
          "xaxis": {
           "automargin": true,
           "gridcolor": "white",
           "linecolor": "white",
           "ticks": "",
           "title": {
            "standoff": 15
           },
           "zerolinecolor": "white",
           "zerolinewidth": 2
          },
          "yaxis": {
           "automargin": true,
           "gridcolor": "white",
           "linecolor": "white",
           "ticks": "",
           "title": {
            "standoff": 15
           },
           "zerolinecolor": "white",
           "zerolinewidth": 2
          }
         }
        },
        "title": {
         "text": "Scatterplots Features vs. price (3 Spalten Layout)"
        },
        "width": 1300,
        "xaxis": {
         "anchor": "y",
         "domain": [
          0,
          0.2888888888888889
         ],
         "nticks": 5,
         "range": [
          1.9,
          4.1
         ],
         "title": {
          "text": "doornumber"
         }
        },
        "xaxis10": {
         "anchor": "y10",
         "domain": [
          0,
          0.2888888888888889
         ],
         "nticks": 5,
         "range": [
          1.9649999999999999,
          4.275
         ],
         "title": {
          "text": "stroke"
         }
        },
        "xaxis11": {
         "anchor": "y11",
         "domain": [
          0.35555555555555557,
          0.6444444444444445
         ],
         "nticks": 5,
         "range": [
          6.2,
          23.8
         ],
         "title": {
          "text": "compressionratio"
         }
        },
        "xaxis12": {
         "anchor": "y12",
         "domain": [
          0.7111111111111111,
          1
         ],
         "nticks": 5,
         "range": [
          36,
          300
         ],
         "title": {
          "text": "horsepower"
         }
        },
        "xaxis13": {
         "anchor": "y13",
         "domain": [
          0,
          0.2888888888888889
         ],
         "nticks": 5,
         "range": [
          4027.5,
          6722.5
         ],
         "title": {
          "text": "peakrpm"
         }
        },
        "xaxis14": {
         "anchor": "y14",
         "domain": [
          0.35555555555555557,
          0.6444444444444445
         ],
         "nticks": 5,
         "range": [
          11.2,
          50.8
         ],
         "title": {
          "text": "citympg"
         }
        },
        "xaxis15": {
         "anchor": "y15",
         "domain": [
          0.7111111111111111,
          1
         ],
         "nticks": 5,
         "range": [
          14.1,
          55.9
         ],
         "title": {
          "text": "highwaympg"
         }
        },
        "xaxis2": {
         "anchor": "y2",
         "domain": [
          0.35555555555555557,
          0.6444444444444445
         ],
         "nticks": 5,
         "range": [
          1.5,
          12.5
         ],
         "title": {
          "text": "cylindernumber"
         }
        },
        "xaxis3": {
         "anchor": "y3",
         "domain": [
          0.7111111111111111,
          1
         ],
         "nticks": 5,
         "range": [
          84.88499999999999,
          122.61500000000001
         ],
         "title": {
          "text": "wheelbase"
         }
        },
        "xaxis4": {
         "anchor": "y4",
         "domain": [
          0,
          0.2888888888888889
         ],
         "nticks": 5,
         "range": [
          137.75,
          211.45
         ],
         "title": {
          "text": "carlength"
         }
        },
        "xaxis5": {
         "anchor": "y5",
         "domain": [
          0.35555555555555557,
          0.6444444444444445
         ],
         "nticks": 5,
         "range": [
          59.699999999999996,
          72.89999999999999
         ],
         "title": {
          "text": "carwidth"
         }
        },
        "xaxis6": {
         "anchor": "y6",
         "domain": [
          0.7111111111111111,
          1
         ],
         "nticks": 5,
         "range": [
          47.199999999999996,
          60.4
         ],
         "title": {
          "text": "carheight"
         }
        },
        "xaxis7": {
         "anchor": "y7",
         "domain": [
          0,
          0.2888888888888889
         ],
         "nticks": 5,
         "range": [
          1359.1,
          4194.9
         ],
         "title": {
          "text": "curbweight"
         }
        },
        "xaxis8": {
         "anchor": "y8",
         "domain": [
          0.35555555555555557,
          0.6444444444444445
         ],
         "nticks": 5,
         "range": [
          47.75,
          339.25
         ],
         "title": {
          "text": "enginesize"
         }
        },
        "xaxis9": {
         "anchor": "y9",
         "domain": [
          0.7111111111111111,
          1
         ],
         "nticks": 5,
         "range": [
          2.47,
          4.01
         ],
         "title": {
          "text": "boreratio"
         }
        },
        "yaxis": {
         "anchor": "x",
         "domain": [
          0.8639999999999999,
          0.9999999999999999
         ],
         "title": {
          "text": "price"
         }
        },
        "yaxis10": {
         "anchor": "x10",
         "domain": [
          0.21599999999999997,
          0.352
         ],
         "title": {
          "text": "price"
         }
        },
        "yaxis11": {
         "anchor": "x11",
         "domain": [
          0.21599999999999997,
          0.352
         ],
         "title": {
          "text": "price"
         }
        },
        "yaxis12": {
         "anchor": "x12",
         "domain": [
          0.21599999999999997,
          0.352
         ],
         "title": {
          "text": "price"
         }
        },
        "yaxis13": {
         "anchor": "x13",
         "domain": [
          0,
          0.13599999999999998
         ],
         "title": {
          "text": "price"
         }
        },
        "yaxis14": {
         "anchor": "x14",
         "domain": [
          0,
          0.13599999999999998
         ],
         "title": {
          "text": "price"
         }
        },
        "yaxis15": {
         "anchor": "x15",
         "domain": [
          0,
          0.13599999999999998
         ],
         "title": {
          "text": "price"
         }
        },
        "yaxis2": {
         "anchor": "x2",
         "domain": [
          0.8639999999999999,
          0.9999999999999999
         ],
         "title": {
          "text": "price"
         }
        },
        "yaxis3": {
         "anchor": "x3",
         "domain": [
          0.8639999999999999,
          0.9999999999999999
         ],
         "title": {
          "text": "price"
         }
        },
        "yaxis4": {
         "anchor": "x4",
         "domain": [
          0.6479999999999999,
          0.7839999999999999
         ],
         "title": {
          "text": "price"
         }
        },
        "yaxis5": {
         "anchor": "x5",
         "domain": [
          0.6479999999999999,
          0.7839999999999999
         ],
         "title": {
          "text": "price"
         }
        },
        "yaxis6": {
         "anchor": "x6",
         "domain": [
          0.6479999999999999,
          0.7839999999999999
         ],
         "title": {
          "text": "price"
         }
        },
        "yaxis7": {
         "anchor": "x7",
         "domain": [
          0.43199999999999994,
          0.568
         ],
         "title": {
          "text": "price"
         }
        },
        "yaxis8": {
         "anchor": "x8",
         "domain": [
          0.43199999999999994,
          0.568
         ],
         "title": {
          "text": "price"
         }
        },
        "yaxis9": {
         "anchor": "x9",
         "domain": [
          0.43199999999999994,
          0.568
         ],
         "title": {
          "text": "price"
         }
        }
       }
      }
     },
     "metadata": {},
     "output_type": "display_data"
    }
   ],
   "source": [
    "\n",
    "\n",
    "numerical_columns = ['doornumber','cylindernumber','wheelbase', 'carlength', 'carwidth', 'carheight', 'curbweight',\n",
    "                     'enginesize', 'boreratio', 'stroke', 'compressionratio', 'horsepower',\n",
    "                     'peakrpm', 'citympg', 'highwaympg']\n",
    "\n",
    "target = 'price'\n",
    "# Annahme: df ist dein DataFrame und features_for_scatter deine Liste der Features\n",
    "# Beispielhafte Berechnung der Achsenbereiche, wie zuvor bestimmt (hier musst du ggf. deine realen Daten nutzen)\n",
    "features_for_scatter = [f for f in numerical_columns if f != target]\n",
    "print(features_for_scatter)\n",
    "feature_ranges = {\n",
    "    feature: (df[feature].min(), df[feature].max()) for feature in features_for_scatter\n",
    "}\n",
    "\n",
    "# Subplot-Layout mit 3 Spalten und entsprechender Zeilenanzahl\n",
    "num_features = len(features_for_scatter)\n",
    "num_cols = 3\n",
    "num_rows = (num_features + num_cols - 1) // num_cols\n",
    "\n",
    "fig = make_subplots(\n",
    "    rows=num_rows, cols=num_cols,\n",
    "    subplot_titles=[f\"{feat} vs {target}\" for feat in features_for_scatter],\n",
    "    vertical_spacing=0.08  # Weniger Abstand zwischen den Reihen\n",
    ")\n",
    "\n",
    "#fig = make_subplots(rows=num_rows, cols=num_cols,subplot_titles=[f\"{feat} vs {target}\" for feat in features_for_scatter])\n",
    "\n",
    "for i, feature in enumerate(features_for_scatter):\n",
    "    row = i // num_cols + 1\n",
    "    col = i % num_cols + 1\n",
    "    # 5% Padding links und rechts für x-Achse\n",
    "    x_min, x_max = feature_ranges[feature]\n",
    "    x_range_pad = (x_max - x_min) * 0.05\n",
    "    x_axis_range = [x_min - x_range_pad, x_max + x_range_pad]\n",
    "\n",
    "    scatter = go.Scatter(x=df[feature], y=df[target], mode='markers', name=feature)\n",
    "    fig.add_trace(scatter, row=row, col=col)\n",
    "\n",
    "    # Setze die x-Achse des Subplots mit Range und angemessener Tick-Anzahl\n",
    "    fig.update_xaxes(range=x_axis_range, row=row, col=col, nticks=5)\n",
    "\n",
    "    # Label für jede Achse hinzufügen (optional)\n",
    "    fig.update_xaxes(title_text=feature, row=row, col=col)\n",
    "    fig.update_yaxes(title_text=target, row=row, col=col)\n",
    "\n",
    "# Layout anpassen: Grösse, Abstand, Titel\n",
    "fig.update_layout(height=300*num_rows, width=1300,  # statt 1000 jetzt 1200 für +20%\n",
    "                  title_text=\"Scatterplots Features vs. price (3 Spalten Layout)\",\n",
    "                  showlegend=False,\n",
    "                  margin=dict(l=40, r=40, t=80, b=40))\n",
    "\n",
    "\n",
    "fig.show()\n"
   ]
  },
  {
   "cell_type": "markdown",
   "id": "9d91b48d-e182-4ff3-bd11-e6092608a9db",
   "metadata": {},
   "source": [
    "## Correlation Map of numerical_columns"
   ]
  },
  {
   "cell_type": "code",
   "execution_count": 137,
   "id": "2a5748ae-08b3-428e-9f9a-2117ad0da114",
   "metadata": {},
   "outputs": [
    {
     "data": {
      "application/vnd.plotly.v1+json": {
       "config": {
        "plotlyServerURL": "https://plot.ly"
       },
       "data": [
        {
         "coloraxis": "coloraxis",
         "hovertemplate": "x: %{x}<br>y: %{y}<br>color: %{z}<extra></extra>",
         "name": "0",
         "texttemplate": "%{z}",
         "type": "heatmap",
         "x": [
          "doornumber",
          "cylindernumber",
          "wheelbase",
          "carlength",
          "carwidth",
          "carheight",
          "curbweight",
          "enginesize",
          "boreratio",
          "stroke",
          "compressionratio",
          "horsepower",
          "peakrpm",
          "citympg",
          "highwaympg"
         ],
         "xaxis": "x",
         "y": [
          "doornumber",
          "cylindernumber",
          "wheelbase",
          "carlength",
          "carwidth",
          "carheight",
          "curbweight",
          "enginesize",
          "boreratio",
          "stroke",
          "compressionratio",
          "horsepower",
          "peakrpm",
          "citympg",
          "highwaympg"
         ],
         "yaxis": "y",
         "z": {
          "bdata": "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",
          "dtype": "f8",
          "shape": "15, 15"
         }
        }
       ],
       "layout": {
        "coloraxis": {
         "colorscale": [
          [
           0,
           "rgb(5,48,97)"
          ],
          [
           0.1,
           "rgb(33,102,172)"
          ],
          [
           0.2,
           "rgb(67,147,195)"
          ],
          [
           0.3,
           "rgb(146,197,222)"
          ],
          [
           0.4,
           "rgb(209,229,240)"
          ],
          [
           0.5,
           "rgb(247,247,247)"
          ],
          [
           0.6,
           "rgb(253,219,199)"
          ],
          [
           0.7,
           "rgb(244,165,130)"
          ],
          [
           0.8,
           "rgb(214,96,77)"
          ],
          [
           0.9,
           "rgb(178,24,43)"
          ],
          [
           1,
           "rgb(103,0,31)"
          ]
         ]
        },
        "height": 1200,
        "template": {
         "data": {
          "bar": [
           {
            "error_x": {
             "color": "#2a3f5f"
            },
            "error_y": {
             "color": "#2a3f5f"
            },
            "marker": {
             "line": {
              "color": "#E5ECF6",
              "width": 0.5
             },
             "pattern": {
              "fillmode": "overlay",
              "size": 10,
              "solidity": 0.2
             }
            },
            "type": "bar"
           }
          ],
          "barpolar": [
           {
            "marker": {
             "line": {
              "color": "#E5ECF6",
              "width": 0.5
             },
             "pattern": {
              "fillmode": "overlay",
              "size": 10,
              "solidity": 0.2
             }
            },
            "type": "barpolar"
           }
          ],
          "carpet": [
           {
            "aaxis": {
             "endlinecolor": "#2a3f5f",
             "gridcolor": "white",
             "linecolor": "white",
             "minorgridcolor": "white",
             "startlinecolor": "#2a3f5f"
            },
            "baxis": {
             "endlinecolor": "#2a3f5f",
             "gridcolor": "white",
             "linecolor": "white",
             "minorgridcolor": "white",
             "startlinecolor": "#2a3f5f"
            },
            "type": "carpet"
           }
          ],
          "choropleth": [
           {
            "colorbar": {
             "outlinewidth": 0,
             "ticks": ""
            },
            "type": "choropleth"
           }
          ],
          "contour": [
           {
            "colorbar": {
             "outlinewidth": 0,
             "ticks": ""
            },
            "colorscale": [
             [
              0,
              "#0d0887"
             ],
             [
              0.1111111111111111,
              "#46039f"
             ],
             [
              0.2222222222222222,
              "#7201a8"
             ],
             [
              0.3333333333333333,
              "#9c179e"
             ],
             [
              0.4444444444444444,
              "#bd3786"
             ],
             [
              0.5555555555555556,
              "#d8576b"
             ],
             [
              0.6666666666666666,
              "#ed7953"
             ],
             [
              0.7777777777777778,
              "#fb9f3a"
             ],
             [
              0.8888888888888888,
              "#fdca26"
             ],
             [
              1,
              "#f0f921"
             ]
            ],
            "type": "contour"
           }
          ],
          "contourcarpet": [
           {
            "colorbar": {
             "outlinewidth": 0,
             "ticks": ""
            },
            "type": "contourcarpet"
           }
          ],
          "heatmap": [
           {
            "colorbar": {
             "outlinewidth": 0,
             "ticks": ""
            },
            "colorscale": [
             [
              0,
              "#0d0887"
             ],
             [
              0.1111111111111111,
              "#46039f"
             ],
             [
              0.2222222222222222,
              "#7201a8"
             ],
             [
              0.3333333333333333,
              "#9c179e"
             ],
             [
              0.4444444444444444,
              "#bd3786"
             ],
             [
              0.5555555555555556,
              "#d8576b"
             ],
             [
              0.6666666666666666,
              "#ed7953"
             ],
             [
              0.7777777777777778,
              "#fb9f3a"
             ],
             [
              0.8888888888888888,
              "#fdca26"
             ],
             [
              1,
              "#f0f921"
             ]
            ],
            "type": "heatmap"
           }
          ],
          "histogram": [
           {
            "marker": {
             "pattern": {
              "fillmode": "overlay",
              "size": 10,
              "solidity": 0.2
             }
            },
            "type": "histogram"
           }
          ],
          "histogram2d": [
           {
            "colorbar": {
             "outlinewidth": 0,
             "ticks": ""
            },
            "colorscale": [
             [
              0,
              "#0d0887"
             ],
             [
              0.1111111111111111,
              "#46039f"
             ],
             [
              0.2222222222222222,
              "#7201a8"
             ],
             [
              0.3333333333333333,
              "#9c179e"
             ],
             [
              0.4444444444444444,
              "#bd3786"
             ],
             [
              0.5555555555555556,
              "#d8576b"
             ],
             [
              0.6666666666666666,
              "#ed7953"
             ],
             [
              0.7777777777777778,
              "#fb9f3a"
             ],
             [
              0.8888888888888888,
              "#fdca26"
             ],
             [
              1,
              "#f0f921"
             ]
            ],
            "type": "histogram2d"
           }
          ],
          "histogram2dcontour": [
           {
            "colorbar": {
             "outlinewidth": 0,
             "ticks": ""
            },
            "colorscale": [
             [
              0,
              "#0d0887"
             ],
             [
              0.1111111111111111,
              "#46039f"
             ],
             [
              0.2222222222222222,
              "#7201a8"
             ],
             [
              0.3333333333333333,
              "#9c179e"
             ],
             [
              0.4444444444444444,
              "#bd3786"
             ],
             [
              0.5555555555555556,
              "#d8576b"
             ],
             [
              0.6666666666666666,
              "#ed7953"
             ],
             [
              0.7777777777777778,
              "#fb9f3a"
             ],
             [
              0.8888888888888888,
              "#fdca26"
             ],
             [
              1,
              "#f0f921"
             ]
            ],
            "type": "histogram2dcontour"
           }
          ],
          "mesh3d": [
           {
            "colorbar": {
             "outlinewidth": 0,
             "ticks": ""
            },
            "type": "mesh3d"
           }
          ],
          "parcoords": [
           {
            "line": {
             "colorbar": {
              "outlinewidth": 0,
              "ticks": ""
             }
            },
            "type": "parcoords"
           }
          ],
          "pie": [
           {
            "automargin": true,
            "type": "pie"
           }
          ],
          "scatter": [
           {
            "fillpattern": {
             "fillmode": "overlay",
             "size": 10,
             "solidity": 0.2
            },
            "type": "scatter"
           }
          ],
          "scatter3d": [
           {
            "line": {
             "colorbar": {
              "outlinewidth": 0,
              "ticks": ""
             }
            },
            "marker": {
             "colorbar": {
              "outlinewidth": 0,
              "ticks": ""
             }
            },
            "type": "scatter3d"
           }
          ],
          "scattercarpet": [
           {
            "marker": {
             "colorbar": {
              "outlinewidth": 0,
              "ticks": ""
             }
            },
            "type": "scattercarpet"
           }
          ],
          "scattergeo": [
           {
            "marker": {
             "colorbar": {
              "outlinewidth": 0,
              "ticks": ""
             }
            },
            "type": "scattergeo"
           }
          ],
          "scattergl": [
           {
            "marker": {
             "colorbar": {
              "outlinewidth": 0,
              "ticks": ""
             }
            },
            "type": "scattergl"
           }
          ],
          "scattermap": [
           {
            "marker": {
             "colorbar": {
              "outlinewidth": 0,
              "ticks": ""
             }
            },
            "type": "scattermap"
           }
          ],
          "scattermapbox": [
           {
            "marker": {
             "colorbar": {
              "outlinewidth": 0,
              "ticks": ""
             }
            },
            "type": "scattermapbox"
           }
          ],
          "scatterpolar": [
           {
            "marker": {
             "colorbar": {
              "outlinewidth": 0,
              "ticks": ""
             }
            },
            "type": "scatterpolar"
           }
          ],
          "scatterpolargl": [
           {
            "marker": {
             "colorbar": {
              "outlinewidth": 0,
              "ticks": ""
             }
            },
            "type": "scatterpolargl"
           }
          ],
          "scatterternary": [
           {
            "marker": {
             "colorbar": {
              "outlinewidth": 0,
              "ticks": ""
             }
            },
            "type": "scatterternary"
           }
          ],
          "surface": [
           {
            "colorbar": {
             "outlinewidth": 0,
             "ticks": ""
            },
            "colorscale": [
             [
              0,
              "#0d0887"
             ],
             [
              0.1111111111111111,
              "#46039f"
             ],
             [
              0.2222222222222222,
              "#7201a8"
             ],
             [
              0.3333333333333333,
              "#9c179e"
             ],
             [
              0.4444444444444444,
              "#bd3786"
             ],
             [
              0.5555555555555556,
              "#d8576b"
             ],
             [
              0.6666666666666666,
              "#ed7953"
             ],
             [
              0.7777777777777778,
              "#fb9f3a"
             ],
             [
              0.8888888888888888,
              "#fdca26"
             ],
             [
              1,
              "#f0f921"
             ]
            ],
            "type": "surface"
           }
          ],
          "table": [
           {
            "cells": {
             "fill": {
              "color": "#EBF0F8"
             },
             "line": {
              "color": "white"
             }
            },
            "header": {
             "fill": {
              "color": "#C8D4E3"
             },
             "line": {
              "color": "white"
             }
            },
            "type": "table"
           }
          ]
         },
         "layout": {
          "annotationdefaults": {
           "arrowcolor": "#2a3f5f",
           "arrowhead": 0,
           "arrowwidth": 1
          },
          "autotypenumbers": "strict",
          "coloraxis": {
           "colorbar": {
            "outlinewidth": 0,
            "ticks": ""
           }
          },
          "colorscale": {
           "diverging": [
            [
             0,
             "#8e0152"
            ],
            [
             0.1,
             "#c51b7d"
            ],
            [
             0.2,
             "#de77ae"
            ],
            [
             0.3,
             "#f1b6da"
            ],
            [
             0.4,
             "#fde0ef"
            ],
            [
             0.5,
             "#f7f7f7"
            ],
            [
             0.6,
             "#e6f5d0"
            ],
            [
             0.7,
             "#b8e186"
            ],
            [
             0.8,
             "#7fbc41"
            ],
            [
             0.9,
             "#4d9221"
            ],
            [
             1,
             "#276419"
            ]
           ],
           "sequential": [
            [
             0,
             "#0d0887"
            ],
            [
             0.1111111111111111,
             "#46039f"
            ],
            [
             0.2222222222222222,
             "#7201a8"
            ],
            [
             0.3333333333333333,
             "#9c179e"
            ],
            [
             0.4444444444444444,
             "#bd3786"
            ],
            [
             0.5555555555555556,
             "#d8576b"
            ],
            [
             0.6666666666666666,
             "#ed7953"
            ],
            [
             0.7777777777777778,
             "#fb9f3a"
            ],
            [
             0.8888888888888888,
             "#fdca26"
            ],
            [
             1,
             "#f0f921"
            ]
           ],
           "sequentialminus": [
            [
             0,
             "#0d0887"
            ],
            [
             0.1111111111111111,
             "#46039f"
            ],
            [
             0.2222222222222222,
             "#7201a8"
            ],
            [
             0.3333333333333333,
             "#9c179e"
            ],
            [
             0.4444444444444444,
             "#bd3786"
            ],
            [
             0.5555555555555556,
             "#d8576b"
            ],
            [
             0.6666666666666666,
             "#ed7953"
            ],
            [
             0.7777777777777778,
             "#fb9f3a"
            ],
            [
             0.8888888888888888,
             "#fdca26"
            ],
            [
             1,
             "#f0f921"
            ]
           ]
          },
          "colorway": [
           "#636efa",
           "#EF553B",
           "#00cc96",
           "#ab63fa",
           "#FFA15A",
           "#19d3f3",
           "#FF6692",
           "#B6E880",
           "#FF97FF",
           "#FECB52"
          ],
          "font": {
           "color": "#2a3f5f"
          },
          "geo": {
           "bgcolor": "white",
           "lakecolor": "white",
           "landcolor": "#E5ECF6",
           "showlakes": true,
           "showland": true,
           "subunitcolor": "white"
          },
          "hoverlabel": {
           "align": "left"
          },
          "hovermode": "closest",
          "mapbox": {
           "style": "light"
          },
          "paper_bgcolor": "white",
          "plot_bgcolor": "#E5ECF6",
          "polar": {
           "angularaxis": {
            "gridcolor": "white",
            "linecolor": "white",
            "ticks": ""
           },
           "bgcolor": "#E5ECF6",
           "radialaxis": {
            "gridcolor": "white",
            "linecolor": "white",
            "ticks": ""
           }
          },
          "scene": {
           "xaxis": {
            "backgroundcolor": "#E5ECF6",
            "gridcolor": "white",
            "gridwidth": 2,
            "linecolor": "white",
            "showbackground": true,
            "ticks": "",
            "zerolinecolor": "white"
           },
           "yaxis": {
            "backgroundcolor": "#E5ECF6",
            "gridcolor": "white",
            "gridwidth": 2,
            "linecolor": "white",
            "showbackground": true,
            "ticks": "",
            "zerolinecolor": "white"
           },
           "zaxis": {
            "backgroundcolor": "#E5ECF6",
            "gridcolor": "white",
            "gridwidth": 2,
            "linecolor": "white",
            "showbackground": true,
            "ticks": "",
            "zerolinecolor": "white"
           }
          },
          "shapedefaults": {
           "line": {
            "color": "#2a3f5f"
           }
          },
          "ternary": {
           "aaxis": {
            "gridcolor": "white",
            "linecolor": "white",
            "ticks": ""
           },
           "baxis": {
            "gridcolor": "white",
            "linecolor": "white",
            "ticks": ""
           },
           "bgcolor": "#E5ECF6",
           "caxis": {
            "gridcolor": "white",
            "linecolor": "white",
            "ticks": ""
           }
          },
          "title": {
           "x": 0.05
          },
          "xaxis": {
           "automargin": true,
           "gridcolor": "white",
           "linecolor": "white",
           "ticks": "",
           "title": {
            "standoff": 15
           },
           "zerolinecolor": "white",
           "zerolinewidth": 2
          },
          "yaxis": {
           "automargin": true,
           "gridcolor": "white",
           "linecolor": "white",
           "ticks": "",
           "title": {
            "standoff": 15
           },
           "zerolinecolor": "white",
           "zerolinewidth": 2
          }
         }
        },
        "title": {
         "text": "Correlation Heatmap"
        },
        "width": 1200,
        "xaxis": {
         "anchor": "y",
         "constrain": "domain",
         "domain": [
          0,
          1
         ],
         "scaleanchor": "y"
        },
        "yaxis": {
         "anchor": "x",
         "autorange": "reversed",
         "constrain": "domain",
         "domain": [
          0,
          1
         ]
        }
       }
      }
     },
     "metadata": {},
     "output_type": "display_data"
    }
   ],
   "source": [
    "# correlation map for numerical_columns\n",
    "correlation_matrix = df[numerical_columns].corr().round(2)\n",
    "# Heatmap mit Plotly Express\n",
    "fig = px.imshow(\n",
    "    correlation_matrix,\n",
    "    text_auto=True,         # Werte direkt in die Zellen schreiben\n",
    "    color_continuous_scale='RdBu_r',  # entspricht 'coolwarm'\n",
    "    title=\"Correlation Heatmap\"\n",
    ")\n",
    "fig.update_layout(width=1200, height=1200)\n",
    "fig.show()"
   ]
  },
  {
   "attachments": {
    "41727ebe-6292-4bb7-96d0-b1fc0330eac4.jpg": {
     "image/jpeg": "[encoded data removed]"
    },
    "b8f8ed80-605a-458f-be14-a8b0830954ed.png": {
     "image/png": "[encoded data removed]"
    }
   },
   "cell_type": "markdown",
   "id": "3b525a52-e24d-4ec3-aebb-ebd4f60608f2",
   "metadata": {},
   "source": [
    "# 3. Data Preparation (Datenaufbereitung)\n",
    "Für Machine-Learning ist sehr wichtig, eine gute aufbereitete Daten zu haben, um ein allgemein aussagkräftiges Modell zu tranineren.\n",
    "## 3.1. Datenaufbereitung\n",
    "citympg und hightwaympg: die Verteilung wird noch mal genau angeschaut. Die Aussereisser werden bereinigt.\n",
    "## 3.2. Umwandlung von kategorischen Daten in numerischen Daten\n",
    "Anzahl von Türen und Zylindern sind als kategorische Daten dargestellt. sie werden in Zahlen umgewandelt(schon erledigt in der Deskriptiven Analyse)\n",
    "## 3.3. Zerlegung von kategorischen Daten in einer Spalten\n",
    "In der Spalte 'CarName' sind Information über Marke und Modelle zusammengefasst. Sie sollen in zwei Spalten dargestellt werden\n",
    "## 3.4. Analyse von Ausreißern in citympg und highwaympg\n",
    "\n",
    "![Formel_std.png](attachment:b8f8ed80-605a-458f-be14-a8b0830954ed.png)\n",
    "\n",
    "\n",
    "## Statistische Betrachtung:\n",
    "### Was ist die Standardabweichung (σ oder std)?\n",
    "Die Standardabweichung misst, wie stark die einzelnen Werte einer Datenmenge im Durchschnitt von deren Mittelwert (Durchschnitt) abweichen.\n",
    "•\tKleine Standardabweichung → die Werte liegen eng um den Mittelwert herum (geringe Streuung).\n",
    "•\tGroße Standardabweichung → die Werte sind weit vom Mittelwert verteilt (hohe Streuung).\n",
    "💡 Formel (für eine Stichprobe):\n",
    "\n",
    "wobei\n",
    "xi = einzelner Wert,\n",
    "xˉ = Mittelwert,\n",
    "n = Anzahl der Werte.\n",
    "\n",
    "### Was bedeutet „3-fache Standardabweichung“?\n",
    "Wenn die Daten annähernd normalverteilt (Glockenkurve) sind, gilt die sogenannte 68–95–99,7-Regel:\n",
    "•\t±1 σ → ca. 68 % aller Werte liegen innerhalb einer Standardabweichung vom Mittelwert.\n",
    "•\t±2 σ → ca. 95 % aller Werte liegen innerhalb von zwei Standardabweichungen.\n",
    "•\t±3 σ → ca. 99,7 % aller Werte liegen innerhalb von drei Standardabweichungen.\n",
    "### Das heißt: die Werte außer ±3σ werden beseitigt.\n",
    "Werte, die mehr als 3 Standardabweichungen vom Mittelwert entfernt sind, treten sehr selten auf (~0,3 % Wahrscheinlichkeit). In der Statistik werden diese oft als Ausreißer betrachtet.\n",
    "\n",
    "\n",
    "\n",
    "      \n",
    "![WP_Normalverteilung.jpg](attachment:41727ebe-6292-4bb7-96d0-b1fc0330eac4.jpg)"
   ]
  },
  {
   "cell_type": "code",
   "execution_count": 138,
   "id": "70b8ffb2-a7de-42a4-904d-a7bf594db79f",
   "metadata": {},
   "outputs": [],
   "source": [
    "#sns.pairplot(df)"
   ]
  },
  {
   "cell_type": "code",
   "execution_count": 139,
   "id": "2fd0d6cf-ebee-48a2-a30f-19e82d799e6e",
   "metadata": {},
   "outputs": [],
   "source": [
    "## Analyse von Preis:"
   ]
  },
  {
   "cell_type": "code",
   "execution_count": 140,
   "id": "baa31156-58a4-4eeb-b831-0ae124f1ea45",
   "metadata": {},
   "outputs": [
    {
     "name": "stdout",
     "output_type": "stream",
     "text": [
      "-- statistische Werte von citympg und highwaympg --\n",
      "min.: 16\n",
      "max.: 54\n",
      "mean: 30.75121951219512\n",
      "median: 30.0\n",
      "std: 6.886443130941824\n",
      "6*std: 20.659329392825473\n"
     ]
    },
    {
     "data": {
      "application/vnd.plotly.v1+json": {
       "config": {
        "plotlyServerURL": "https://plot.ly"
       },
       "data": [
        {
         "bingroup": "x",
         "hovertemplate": "highwaympg=%{x}<br>count=%{y}<extra></extra>",
         "legendgroup": "",
         "marker": {
          "color": "#636efa",
          "opacity": 0.8,
          "pattern": {
           "shape": ""
          }
         },
         "name": "",
         "nbinsx": 40,
         "orientation": "v",
         "showlegend": false,
         "type": "histogram",
         "x": {
          "bdata": "GxsaHhYZGRkUFh0dHBwZFhYUNSsrKSYeJiYmHh4YNiYqIiIiIiEhISEcHx0rKx0TExEfJiYmJhcXFxcgICAgKiAbJxkZGRkSEhAQGCkmJh4eIBgYGCAgHh4lMiUlJSUlJSUlIiIWFhkZFxkYIRgZGCEYGRghGCkeJiYmHhgbGRkZHB8fHBwcHBoaJB8fJSEgGR0gHx0XJyYmJSAgJSUkLy8iIiIiHR0eHh4eHh4iISAgIBgYGBguIi4iIiogHR0YJh8cHBwcFhYcGRcbGQ==",
          "dtype": "i1"
         },
         "xaxis": "x",
         "yaxis": "y"
        },
        {
         "boxpoints": "all",
         "fillcolor": "rgba(255,255,255,0)",
         "hoveron": "points",
         "hovertemplate": "highwaympg=%{x}<extra></extra>",
         "jitter": 0,
         "legendgroup": "",
         "line": {
          "color": "rgba(255,255,255,0)"
         },
         "marker": {
          "color": "#636efa",
          "symbol": "line-ns-open"
         },
         "name": "",
         "showlegend": false,
         "type": "box",
         "x": {
          "bdata": "GxsaHhYZGRkUFh0dHBwZFhYUNSsrKSYeJiYmHh4YNiYqIiIiIiEhISEcHx0rKx0TExEfJiYmJhcXFxcgICAgKiAbJxkZGRkSEhAQGCkmJh4eIBgYGCAgHh4lMiUlJSUlJSUlIiIWFhkZFxkYIRgZGCEYGRghGCkeJiYmHhgbGRkZHB8fHBwcHBoaJB8fJSEgGR0gHx0XJyYmJSAgJSUkLy8iIiIiHR0eHh4eHh4iISAgIBgYGBguIi4iIiogHR0YJh8cHBwcFhYcGRcbGQ==",
          "dtype": "i1"
         },
         "xaxis": "x2",
         "yaxis": "y2"
        }
       ],
       "layout": {
        "barmode": "relative",
        "height": 600,
        "legend": {
         "tracegroupgap": 0
        },
        "template": {
         "data": {
          "bar": [
           {
            "error_x": {
             "color": "#2a3f5f"
            },
            "error_y": {
             "color": "#2a3f5f"
            },
            "marker": {
             "line": {
              "color": "#E5ECF6",
              "width": 0.5
             },
             "pattern": {
              "fillmode": "overlay",
              "size": 10,
              "solidity": 0.2
             }
            },
            "type": "bar"
           }
          ],
          "barpolar": [
           {
            "marker": {
             "line": {
              "color": "#E5ECF6",
              "width": 0.5
             },
             "pattern": {
              "fillmode": "overlay",
              "size": 10,
              "solidity": 0.2
             }
            },
            "type": "barpolar"
           }
          ],
          "carpet": [
           {
            "aaxis": {
             "endlinecolor": "#2a3f5f",
             "gridcolor": "white",
             "linecolor": "white",
             "minorgridcolor": "white",
             "startlinecolor": "#2a3f5f"
            },
            "baxis": {
             "endlinecolor": "#2a3f5f",
             "gridcolor": "white",
             "linecolor": "white",
             "minorgridcolor": "white",
             "startlinecolor": "#2a3f5f"
            },
            "type": "carpet"
           }
          ],
          "choropleth": [
           {
            "colorbar": {
             "outlinewidth": 0,
             "ticks": ""
            },
            "type": "choropleth"
           }
          ],
          "contour": [
           {
            "colorbar": {
             "outlinewidth": 0,
             "ticks": ""
            },
            "colorscale": [
             [
              0,
              "#0d0887"
             ],
             [
              0.1111111111111111,
              "#46039f"
             ],
             [
              0.2222222222222222,
              "#7201a8"
             ],
             [
              0.3333333333333333,
              "#9c179e"
             ],
             [
              0.4444444444444444,
              "#bd3786"
             ],
             [
              0.5555555555555556,
              "#d8576b"
             ],
             [
              0.6666666666666666,
              "#ed7953"
             ],
             [
              0.7777777777777778,
              "#fb9f3a"
             ],
             [
              0.8888888888888888,
              "#fdca26"
             ],
             [
              1,
              "#f0f921"
             ]
            ],
            "type": "contour"
           }
          ],
          "contourcarpet": [
           {
            "colorbar": {
             "outlinewidth": 0,
             "ticks": ""
            },
            "type": "contourcarpet"
           }
          ],
          "heatmap": [
           {
            "colorbar": {
             "outlinewidth": 0,
             "ticks": ""
            },
            "colorscale": [
             [
              0,
              "#0d0887"
             ],
             [
              0.1111111111111111,
              "#46039f"
             ],
             [
              0.2222222222222222,
              "#7201a8"
             ],
             [
              0.3333333333333333,
              "#9c179e"
             ],
             [
              0.4444444444444444,
              "#bd3786"
             ],
             [
              0.5555555555555556,
              "#d8576b"
             ],
             [
              0.6666666666666666,
              "#ed7953"
             ],
             [
              0.7777777777777778,
              "#fb9f3a"
             ],
             [
              0.8888888888888888,
              "#fdca26"
             ],
             [
              1,
              "#f0f921"
             ]
            ],
            "type": "heatmap"
           }
          ],
          "histogram": [
           {
            "marker": {
             "pattern": {
              "fillmode": "overlay",
              "size": 10,
              "solidity": 0.2
             }
            },
            "type": "histogram"
           }
          ],
          "histogram2d": [
           {
            "colorbar": {
             "outlinewidth": 0,
             "ticks": ""
            },
            "colorscale": [
             [
              0,
              "#0d0887"
             ],
             [
              0.1111111111111111,
              "#46039f"
             ],
             [
              0.2222222222222222,
              "#7201a8"
             ],
             [
              0.3333333333333333,
              "#9c179e"
             ],
             [
              0.4444444444444444,
              "#bd3786"
             ],
             [
              0.5555555555555556,
              "#d8576b"
             ],
             [
              0.6666666666666666,
              "#ed7953"
             ],
             [
              0.7777777777777778,
              "#fb9f3a"
             ],
             [
              0.8888888888888888,
              "#fdca26"
             ],
             [
              1,
              "#f0f921"
             ]
            ],
            "type": "histogram2d"
           }
          ],
          "histogram2dcontour": [
           {
            "colorbar": {
             "outlinewidth": 0,
             "ticks": ""
            },
            "colorscale": [
             [
              0,
              "#0d0887"
             ],
             [
              0.1111111111111111,
              "#46039f"
             ],
             [
              0.2222222222222222,
              "#7201a8"
             ],
             [
              0.3333333333333333,
              "#9c179e"
             ],
             [
              0.4444444444444444,
              "#bd3786"
             ],
             [
              0.5555555555555556,
              "#d8576b"
             ],
             [
              0.6666666666666666,
              "#ed7953"
             ],
             [
              0.7777777777777778,
              "#fb9f3a"
             ],
             [
              0.8888888888888888,
              "#fdca26"
             ],
             [
              1,
              "#f0f921"
             ]
            ],
            "type": "histogram2dcontour"
           }
          ],
          "mesh3d": [
           {
            "colorbar": {
             "outlinewidth": 0,
             "ticks": ""
            },
            "type": "mesh3d"
           }
          ],
          "parcoords": [
           {
            "line": {
             "colorbar": {
              "outlinewidth": 0,
              "ticks": ""
             }
            },
            "type": "parcoords"
           }
          ],
          "pie": [
           {
            "automargin": true,
            "type": "pie"
           }
          ],
          "scatter": [
           {
            "fillpattern": {
             "fillmode": "overlay",
             "size": 10,
             "solidity": 0.2
            },
            "type": "scatter"
           }
          ],
          "scatter3d": [
           {
            "line": {
             "colorbar": {
              "outlinewidth": 0,
              "ticks": ""
             }
            },
            "marker": {
             "colorbar": {
              "outlinewidth": 0,
              "ticks": ""
             }
            },
            "type": "scatter3d"
           }
          ],
          "scattercarpet": [
           {
            "marker": {
             "colorbar": {
              "outlinewidth": 0,
              "ticks": ""
             }
            },
            "type": "scattercarpet"
           }
          ],
          "scattergeo": [
           {
            "marker": {
             "colorbar": {
              "outlinewidth": 0,
              "ticks": ""
             }
            },
            "type": "scattergeo"
           }
          ],
          "scattergl": [
           {
            "marker": {
             "colorbar": {
              "outlinewidth": 0,
              "ticks": ""
             }
            },
            "type": "scattergl"
           }
          ],
          "scattermap": [
           {
            "marker": {
             "colorbar": {
              "outlinewidth": 0,
              "ticks": ""
             }
            },
            "type": "scattermap"
           }
          ],
          "scattermapbox": [
           {
            "marker": {
             "colorbar": {
              "outlinewidth": 0,
              "ticks": ""
             }
            },
            "type": "scattermapbox"
           }
          ],
          "scatterpolar": [
           {
            "marker": {
             "colorbar": {
              "outlinewidth": 0,
              "ticks": ""
             }
            },
            "type": "scatterpolar"
           }
          ],
          "scatterpolargl": [
           {
            "marker": {
             "colorbar": {
              "outlinewidth": 0,
              "ticks": ""
             }
            },
            "type": "scatterpolargl"
           }
          ],
          "scatterternary": [
           {
            "marker": {
             "colorbar": {
              "outlinewidth": 0,
              "ticks": ""
             }
            },
            "type": "scatterternary"
           }
          ],
          "surface": [
           {
            "colorbar": {
             "outlinewidth": 0,
             "ticks": ""
            },
            "colorscale": [
             [
              0,
              "#0d0887"
             ],
             [
              0.1111111111111111,
              "#46039f"
             ],
             [
              0.2222222222222222,
              "#7201a8"
             ],
             [
              0.3333333333333333,
              "#9c179e"
             ],
             [
              0.4444444444444444,
              "#bd3786"
             ],
             [
              0.5555555555555556,
              "#d8576b"
             ],
             [
              0.6666666666666666,
              "#ed7953"
             ],
             [
              0.7777777777777778,
              "#fb9f3a"
             ],
             [
              0.8888888888888888,
              "#fdca26"
             ],
             [
              1,
              "#f0f921"
             ]
            ],
            "type": "surface"
           }
          ],
          "table": [
           {
            "cells": {
             "fill": {
              "color": "#EBF0F8"
             },
             "line": {
              "color": "white"
             }
            },
            "header": {
             "fill": {
              "color": "#C8D4E3"
             },
             "line": {
              "color": "white"
             }
            },
            "type": "table"
           }
          ]
         },
         "layout": {
          "annotationdefaults": {
           "arrowcolor": "#2a3f5f",
           "arrowhead": 0,
           "arrowwidth": 1
          },
          "autotypenumbers": "strict",
          "coloraxis": {
           "colorbar": {
            "outlinewidth": 0,
            "ticks": ""
           }
          },
          "colorscale": {
           "diverging": [
            [
             0,
             "#8e0152"
            ],
            [
             0.1,
             "#c51b7d"
            ],
            [
             0.2,
             "#de77ae"
            ],
            [
             0.3,
             "#f1b6da"
            ],
            [
             0.4,
             "#fde0ef"
            ],
            [
             0.5,
             "#f7f7f7"
            ],
            [
             0.6,
             "#e6f5d0"
            ],
            [
             0.7,
             "#b8e186"
            ],
            [
             0.8,
             "#7fbc41"
            ],
            [
             0.9,
             "#4d9221"
            ],
            [
             1,
             "#276419"
            ]
           ],
           "sequential": [
            [
             0,
             "#0d0887"
            ],
            [
             0.1111111111111111,
             "#46039f"
            ],
            [
             0.2222222222222222,
             "#7201a8"
            ],
            [
             0.3333333333333333,
             "#9c179e"
            ],
            [
             0.4444444444444444,
             "#bd3786"
            ],
            [
             0.5555555555555556,
             "#d8576b"
            ],
            [
             0.6666666666666666,
             "#ed7953"
            ],
            [
             0.7777777777777778,
             "#fb9f3a"
            ],
            [
             0.8888888888888888,
             "#fdca26"
            ],
            [
             1,
             "#f0f921"
            ]
           ],
           "sequentialminus": [
            [
             0,
             "#0d0887"
            ],
            [
             0.1111111111111111,
             "#46039f"
            ],
            [
             0.2222222222222222,
             "#7201a8"
            ],
            [
             0.3333333333333333,
             "#9c179e"
            ],
            [
             0.4444444444444444,
             "#bd3786"
            ],
            [
             0.5555555555555556,
             "#d8576b"
            ],
            [
             0.6666666666666666,
             "#ed7953"
            ],
            [
             0.7777777777777778,
             "#fb9f3a"
            ],
            [
             0.8888888888888888,
             "#fdca26"
            ],
            [
             1,
             "#f0f921"
            ]
           ]
          },
          "colorway": [
           "#636efa",
           "#EF553B",
           "#00cc96",
           "#ab63fa",
           "#FFA15A",
           "#19d3f3",
           "#FF6692",
           "#B6E880",
           "#FF97FF",
           "#FECB52"
          ],
          "font": {
           "color": "#2a3f5f"
          },
          "geo": {
           "bgcolor": "white",
           "lakecolor": "white",
           "landcolor": "#E5ECF6",
           "showlakes": true,
           "showland": true,
           "subunitcolor": "white"
          },
          "hoverlabel": {
           "align": "left"
          },
          "hovermode": "closest",
          "mapbox": {
           "style": "light"
          },
          "paper_bgcolor": "white",
          "plot_bgcolor": "#E5ECF6",
          "polar": {
           "angularaxis": {
            "gridcolor": "white",
            "linecolor": "white",
            "ticks": ""
           },
           "bgcolor": "#E5ECF6",
           "radialaxis": {
            "gridcolor": "white",
            "linecolor": "white",
            "ticks": ""
           }
          },
          "scene": {
           "xaxis": {
            "backgroundcolor": "#E5ECF6",
            "gridcolor": "white",
            "gridwidth": 2,
            "linecolor": "white",
            "showbackground": true,
            "ticks": "",
            "zerolinecolor": "white"
           },
           "yaxis": {
            "backgroundcolor": "#E5ECF6",
            "gridcolor": "white",
            "gridwidth": 2,
            "linecolor": "white",
            "showbackground": true,
            "ticks": "",
            "zerolinecolor": "white"
           },
           "zaxis": {
            "backgroundcolor": "#E5ECF6",
            "gridcolor": "white",
            "gridwidth": 2,
            "linecolor": "white",
            "showbackground": true,
            "ticks": "",
            "zerolinecolor": "white"
           }
          },
          "shapedefaults": {
           "line": {
            "color": "#2a3f5f"
           }
          },
          "ternary": {
           "aaxis": {
            "gridcolor": "white",
            "linecolor": "white",
            "ticks": ""
           },
           "baxis": {
            "gridcolor": "white",
            "linecolor": "white",
            "ticks": ""
           },
           "bgcolor": "#E5ECF6",
           "caxis": {
            "gridcolor": "white",
            "linecolor": "white",
            "ticks": ""
           }
          },
          "title": {
           "x": 0.05
          },
          "xaxis": {
           "automargin": true,
           "gridcolor": "white",
           "linecolor": "white",
           "ticks": "",
           "title": {
            "standoff": 15
           },
           "zerolinecolor": "white",
           "zerolinewidth": 2
          },
          "yaxis": {
           "automargin": true,
           "gridcolor": "white",
           "linecolor": "white",
           "ticks": "",
           "title": {
            "standoff": 15
           },
           "zerolinecolor": "white",
           "zerolinewidth": 2
          }
         }
        },
        "title": {
         "text": "Distribution of highwaympg"
        },
        "xaxis": {
         "anchor": "y",
         "domain": [
          0,
          1
         ],
         "dtick": 1,
         "tick0": 0,
         "tickmode": "linear",
         "title": {
          "text": "highwaympg"
         }
        },
        "xaxis2": {
         "anchor": "y2",
         "domain": [
          0,
          1
         ],
         "dtick": 1,
         "matches": "x",
         "showgrid": true,
         "showticklabels": false,
         "tick0": 0,
         "tickmode": "linear"
        },
        "yaxis": {
         "anchor": "x",
         "domain": [
          0,
          0.8316
         ],
         "title": {
          "text": "Count"
         }
        },
        "yaxis2": {
         "anchor": "x2",
         "domain": [
          0.8416,
          1
         ],
         "matches": "y2",
         "showgrid": false,
         "showline": false,
         "showticklabels": false,
         "ticks": ""
        }
       }
      }
     },
     "metadata": {},
     "output_type": "display_data"
    }
   ],
   "source": [
    "# # Analyse von Preis:\n",
    "\n",
    "print(\"-- statistische Werte von citympg und highwaympg --\")\n",
    "\n",
    "print(\"min.:\", df['highwaympg'].min())\n",
    "print(\"max.:\",df['highwaympg'].max())\n",
    "print(\"mean:\",df['highwaympg'].mean())\n",
    "print(\"median:\",df['highwaympg'].median())\n",
    "print(\"std:\",df['highwaympg'].std())\n",
    "print(\"6*std:\",3*df['highwaympg'].std())\n",
    "\n",
    "\n",
    "fig = px.histogram(df, x='highwaympg', nbins=40, marginal=\"rug\", title='Distribution of highwaympg', opacity=0.8)\n",
    "\n",
    "fig.update_layout(\n",
    "    xaxis_title='highwaympg',\n",
    "    yaxis_title='Count',\n",
    "    height=600  # Höhe des Plots\n",
    ")\n",
    "\n",
    "fig.update_xaxes(\n",
    "    tickmode='linear',\n",
    "    tick0=0,\n",
    "    dtick=1  # Tick-Beschriftungen alle 2 Einheiten\n",
    ")\n",
    "\n",
    "fig.show()"
   ]
  },
  {
   "cell_type": "markdown",
   "id": "1fde38e9-3041-46f4-894e-8a89e299459d",
   "metadata": {},
   "source": [
    "## Löschbedingung von Ausreißern: highwaympg\n",
    " ### mean: 30.75121951219512\n",
    " ### std:  6.886443130941824\n",
    " ### limit_right:  mean+3*std=30.75+3*6.88(20.64)= ca. 52;   Werte > 52 werden gelöscht: nur zwei Werte 53, 54 betroffen\n",
    " ### limit_left:   mean-+3*std= 30.75-3*6.88(20.64)= ca. 10; Werte < 10 werden gelöscht: keine Werte betroffen"
   ]
  },
  {
   "cell_type": "code",
   "execution_count": 141,
   "id": "741db1a6-94cf-496a-ac8f-bbf113f86e4e",
   "metadata": {},
   "outputs": [],
   "source": [
    "limit_highwaympg_r=52\n",
    "limit_highwaympg_l=10\n"
   ]
  },
  {
   "cell_type": "code",
   "execution_count": 142,
   "id": "26da7f37-9574-476a-99ad-4a00548f6d17",
   "metadata": {},
   "outputs": [
    {
     "data": {
      "text/html": [
       "<div>\n",
       "<style scoped>\n",
       "    .dataframe tbody tr th:only-of-type {\n",
       "        vertical-align: middle;\n",
       "    }\n",
       "\n",
       "    .dataframe tbody tr th {\n",
       "        vertical-align: top;\n",
       "    }\n",
       "\n",
       "    .dataframe thead th {\n",
       "        text-align: right;\n",
       "    }\n",
       "</style>\n",
       "<table border=\"1\" class=\"dataframe\">\n",
       "  <thead>\n",
       "    <tr style=\"text-align: right;\">\n",
       "      <th></th>\n",
       "      <th>car_ID</th>\n",
       "      <th>symboling</th>\n",
       "      <th>CarName</th>\n",
       "      <th>fueltype</th>\n",
       "      <th>aspiration</th>\n",
       "      <th>doornumber</th>\n",
       "      <th>carbody</th>\n",
       "      <th>drivewheel</th>\n",
       "      <th>enginelocation</th>\n",
       "      <th>wheelbase</th>\n",
       "      <th>...</th>\n",
       "      <th>boreratio</th>\n",
       "      <th>stroke</th>\n",
       "      <th>compressionratio</th>\n",
       "      <th>horsepower</th>\n",
       "      <th>peakrpm</th>\n",
       "      <th>citympg</th>\n",
       "      <th>highwaympg</th>\n",
       "      <th>price</th>\n",
       "      <th>brand</th>\n",
       "      <th>model</th>\n",
       "    </tr>\n",
       "  </thead>\n",
       "  <tbody>\n",
       "    <tr>\n",
       "      <th>0</th>\n",
       "      <td>1</td>\n",
       "      <td>3</td>\n",
       "      <td>alfa-romero giulia</td>\n",
       "      <td>gas</td>\n",
       "      <td>std</td>\n",
       "      <td>2</td>\n",
       "      <td>convertible</td>\n",
       "      <td>rwd</td>\n",
       "      <td>front</td>\n",
       "      <td>88.6</td>\n",
       "      <td>...</td>\n",
       "      <td>3.47</td>\n",
       "      <td>2.68</td>\n",
       "      <td>9.0</td>\n",
       "      <td>111</td>\n",
       "      <td>5000</td>\n",
       "      <td>21</td>\n",
       "      <td>27</td>\n",
       "      <td>13495.0</td>\n",
       "      <td>alfa-romero</td>\n",
       "      <td>giulia</td>\n",
       "    </tr>\n",
       "    <tr>\n",
       "      <th>1</th>\n",
       "      <td>2</td>\n",
       "      <td>3</td>\n",
       "      <td>alfa-romero stelvio</td>\n",
       "      <td>gas</td>\n",
       "      <td>std</td>\n",
       "      <td>2</td>\n",
       "      <td>convertible</td>\n",
       "      <td>rwd</td>\n",
       "      <td>front</td>\n",
       "      <td>88.6</td>\n",
       "      <td>...</td>\n",
       "      <td>3.47</td>\n",
       "      <td>2.68</td>\n",
       "      <td>9.0</td>\n",
       "      <td>111</td>\n",
       "      <td>5000</td>\n",
       "      <td>21</td>\n",
       "      <td>27</td>\n",
       "      <td>16500.0</td>\n",
       "      <td>alfa-romero</td>\n",
       "      <td>stelvio</td>\n",
       "    </tr>\n",
       "    <tr>\n",
       "      <th>2</th>\n",
       "      <td>3</td>\n",
       "      <td>1</td>\n",
       "      <td>alfa-romero Quadrifoglio</td>\n",
       "      <td>gas</td>\n",
       "      <td>std</td>\n",
       "      <td>2</td>\n",
       "      <td>hatchback</td>\n",
       "      <td>rwd</td>\n",
       "      <td>front</td>\n",
       "      <td>94.5</td>\n",
       "      <td>...</td>\n",
       "      <td>2.68</td>\n",
       "      <td>3.47</td>\n",
       "      <td>9.0</td>\n",
       "      <td>154</td>\n",
       "      <td>5000</td>\n",
       "      <td>19</td>\n",
       "      <td>26</td>\n",
       "      <td>16500.0</td>\n",
       "      <td>alfa-romero</td>\n",
       "      <td>Quadrifoglio</td>\n",
       "    </tr>\n",
       "    <tr>\n",
       "      <th>3</th>\n",
       "      <td>4</td>\n",
       "      <td>2</td>\n",
       "      <td>audi 100 ls</td>\n",
       "      <td>gas</td>\n",
       "      <td>std</td>\n",
       "      <td>4</td>\n",
       "      <td>sedan</td>\n",
       "      <td>fwd</td>\n",
       "      <td>front</td>\n",
       "      <td>99.8</td>\n",
       "      <td>...</td>\n",
       "      <td>3.19</td>\n",
       "      <td>3.40</td>\n",
       "      <td>10.0</td>\n",
       "      <td>102</td>\n",
       "      <td>5500</td>\n",
       "      <td>24</td>\n",
       "      <td>30</td>\n",
       "      <td>13950.0</td>\n",
       "      <td>audi</td>\n",
       "      <td>100 ls</td>\n",
       "    </tr>\n",
       "    <tr>\n",
       "      <th>4</th>\n",
       "      <td>5</td>\n",
       "      <td>2</td>\n",
       "      <td>audi 100ls</td>\n",
       "      <td>gas</td>\n",
       "      <td>std</td>\n",
       "      <td>4</td>\n",
       "      <td>sedan</td>\n",
       "      <td>4wd</td>\n",
       "      <td>front</td>\n",
       "      <td>99.4</td>\n",
       "      <td>...</td>\n",
       "      <td>3.19</td>\n",
       "      <td>3.40</td>\n",
       "      <td>8.0</td>\n",
       "      <td>115</td>\n",
       "      <td>5500</td>\n",
       "      <td>18</td>\n",
       "      <td>22</td>\n",
       "      <td>17450.0</td>\n",
       "      <td>audi</td>\n",
       "      <td>100ls</td>\n",
       "    </tr>\n",
       "    <tr>\n",
       "      <th>...</th>\n",
       "      <td>...</td>\n",
       "      <td>...</td>\n",
       "      <td>...</td>\n",
       "      <td>...</td>\n",
       "      <td>...</td>\n",
       "      <td>...</td>\n",
       "      <td>...</td>\n",
       "      <td>...</td>\n",
       "      <td>...</td>\n",
       "      <td>...</td>\n",
       "      <td>...</td>\n",
       "      <td>...</td>\n",
       "      <td>...</td>\n",
       "      <td>...</td>\n",
       "      <td>...</td>\n",
       "      <td>...</td>\n",
       "      <td>...</td>\n",
       "      <td>...</td>\n",
       "      <td>...</td>\n",
       "      <td>...</td>\n",
       "      <td>...</td>\n",
       "    </tr>\n",
       "    <tr>\n",
       "      <th>200</th>\n",
       "      <td>201</td>\n",
       "      <td>-1</td>\n",
       "      <td>volvo 145e (sw)</td>\n",
       "      <td>gas</td>\n",
       "      <td>std</td>\n",
       "      <td>4</td>\n",
       "      <td>sedan</td>\n",
       "      <td>rwd</td>\n",
       "      <td>front</td>\n",
       "      <td>109.1</td>\n",
       "      <td>...</td>\n",
       "      <td>3.78</td>\n",
       "      <td>3.15</td>\n",
       "      <td>9.5</td>\n",
       "      <td>114</td>\n",
       "      <td>5400</td>\n",
       "      <td>23</td>\n",
       "      <td>28</td>\n",
       "      <td>16845.0</td>\n",
       "      <td>volvo</td>\n",
       "      <td>145e (sw)</td>\n",
       "    </tr>\n",
       "    <tr>\n",
       "      <th>201</th>\n",
       "      <td>202</td>\n",
       "      <td>-1</td>\n",
       "      <td>volvo 144ea</td>\n",
       "      <td>gas</td>\n",
       "      <td>turbo</td>\n",
       "      <td>4</td>\n",
       "      <td>sedan</td>\n",
       "      <td>rwd</td>\n",
       "      <td>front</td>\n",
       "      <td>109.1</td>\n",
       "      <td>...</td>\n",
       "      <td>3.78</td>\n",
       "      <td>3.15</td>\n",
       "      <td>8.7</td>\n",
       "      <td>160</td>\n",
       "      <td>5300</td>\n",
       "      <td>19</td>\n",
       "      <td>25</td>\n",
       "      <td>19045.0</td>\n",
       "      <td>volvo</td>\n",
       "      <td>144ea</td>\n",
       "    </tr>\n",
       "    <tr>\n",
       "      <th>202</th>\n",
       "      <td>203</td>\n",
       "      <td>-1</td>\n",
       "      <td>volvo 244dl</td>\n",
       "      <td>gas</td>\n",
       "      <td>std</td>\n",
       "      <td>4</td>\n",
       "      <td>sedan</td>\n",
       "      <td>rwd</td>\n",
       "      <td>front</td>\n",
       "      <td>109.1</td>\n",
       "      <td>...</td>\n",
       "      <td>3.58</td>\n",
       "      <td>2.87</td>\n",
       "      <td>8.8</td>\n",
       "      <td>134</td>\n",
       "      <td>5500</td>\n",
       "      <td>18</td>\n",
       "      <td>23</td>\n",
       "      <td>21485.0</td>\n",
       "      <td>volvo</td>\n",
       "      <td>244dl</td>\n",
       "    </tr>\n",
       "    <tr>\n",
       "      <th>203</th>\n",
       "      <td>204</td>\n",
       "      <td>-1</td>\n",
       "      <td>volvo 246</td>\n",
       "      <td>diesel</td>\n",
       "      <td>turbo</td>\n",
       "      <td>4</td>\n",
       "      <td>sedan</td>\n",
       "      <td>rwd</td>\n",
       "      <td>front</td>\n",
       "      <td>109.1</td>\n",
       "      <td>...</td>\n",
       "      <td>3.01</td>\n",
       "      <td>3.40</td>\n",
       "      <td>23.0</td>\n",
       "      <td>106</td>\n",
       "      <td>4800</td>\n",
       "      <td>26</td>\n",
       "      <td>27</td>\n",
       "      <td>22470.0</td>\n",
       "      <td>volvo</td>\n",
       "      <td>246</td>\n",
       "    </tr>\n",
       "    <tr>\n",
       "      <th>204</th>\n",
       "      <td>205</td>\n",
       "      <td>-1</td>\n",
       "      <td>volvo 264gl</td>\n",
       "      <td>gas</td>\n",
       "      <td>turbo</td>\n",
       "      <td>4</td>\n",
       "      <td>sedan</td>\n",
       "      <td>rwd</td>\n",
       "      <td>front</td>\n",
       "      <td>109.1</td>\n",
       "      <td>...</td>\n",
       "      <td>3.78</td>\n",
       "      <td>3.15</td>\n",
       "      <td>9.5</td>\n",
       "      <td>114</td>\n",
       "      <td>5400</td>\n",
       "      <td>19</td>\n",
       "      <td>25</td>\n",
       "      <td>22625.0</td>\n",
       "      <td>volvo</td>\n",
       "      <td>264gl</td>\n",
       "    </tr>\n",
       "  </tbody>\n",
       "</table>\n",
       "<p>205 rows × 28 columns</p>\n",
       "</div>"
      ],
      "text/plain": [
       "     car_ID  symboling                   CarName fueltype aspiration  \\\n",
       "0         1          3        alfa-romero giulia      gas        std   \n",
       "1         2          3       alfa-romero stelvio      gas        std   \n",
       "2         3          1  alfa-romero Quadrifoglio      gas        std   \n",
       "3         4          2               audi 100 ls      gas        std   \n",
       "4         5          2                audi 100ls      gas        std   \n",
       "..      ...        ...                       ...      ...        ...   \n",
       "200     201         -1           volvo 145e (sw)      gas        std   \n",
       "201     202         -1               volvo 144ea      gas      turbo   \n",
       "202     203         -1               volvo 244dl      gas        std   \n",
       "203     204         -1                 volvo 246   diesel      turbo   \n",
       "204     205         -1               volvo 264gl      gas      turbo   \n",
       "\n",
       "     doornumber      carbody drivewheel enginelocation  wheelbase  ...  \\\n",
       "0             2  convertible        rwd          front       88.6  ...   \n",
       "1             2  convertible        rwd          front       88.6  ...   \n",
       "2             2    hatchback        rwd          front       94.5  ...   \n",
       "3             4        sedan        fwd          front       99.8  ...   \n",
       "4             4        sedan        4wd          front       99.4  ...   \n",
       "..          ...          ...        ...            ...        ...  ...   \n",
       "200           4        sedan        rwd          front      109.1  ...   \n",
       "201           4        sedan        rwd          front      109.1  ...   \n",
       "202           4        sedan        rwd          front      109.1  ...   \n",
       "203           4        sedan        rwd          front      109.1  ...   \n",
       "204           4        sedan        rwd          front      109.1  ...   \n",
       "\n",
       "     boreratio  stroke  compressionratio  horsepower peakrpm  citympg  \\\n",
       "0         3.47    2.68               9.0         111    5000       21   \n",
       "1         3.47    2.68               9.0         111    5000       21   \n",
       "2         2.68    3.47               9.0         154    5000       19   \n",
       "3         3.19    3.40              10.0         102    5500       24   \n",
       "4         3.19    3.40               8.0         115    5500       18   \n",
       "..         ...     ...               ...         ...     ...      ...   \n",
       "200       3.78    3.15               9.5         114    5400       23   \n",
       "201       3.78    3.15               8.7         160    5300       19   \n",
       "202       3.58    2.87               8.8         134    5500       18   \n",
       "203       3.01    3.40              23.0         106    4800       26   \n",
       "204       3.78    3.15               9.5         114    5400       19   \n",
       "\n",
       "     highwaympg    price        brand         model  \n",
       "0            27  13495.0  alfa-romero        giulia  \n",
       "1            27  16500.0  alfa-romero       stelvio  \n",
       "2            26  16500.0  alfa-romero  Quadrifoglio  \n",
       "3            30  13950.0         audi        100 ls  \n",
       "4            22  17450.0         audi         100ls  \n",
       "..          ...      ...          ...           ...  \n",
       "200          28  16845.0        volvo     145e (sw)  \n",
       "201          25  19045.0        volvo         144ea  \n",
       "202          23  21485.0        volvo         244dl  \n",
       "203          27  22470.0        volvo           246  \n",
       "204          25  22625.0        volvo         264gl  \n",
       "\n",
       "[205 rows x 28 columns]"
      ]
     },
     "execution_count": 142,
     "metadata": {},
     "output_type": "execute_result"
    }
   ],
   "source": [
    "#\n",
    "split_cols = df['CarName'].str.split(' ', n=1, expand=True)\n",
    "df['brand'] = split_cols[0]        # erstes Wort\n",
    "df['model'] = split_cols[1]        # alles nach dem ersten Leerzeichen\n",
    "df"
   ]
  },
  {
   "cell_type": "code",
   "execution_count": 143,
   "id": "490fba9e-087b-48ca-95da-05a4bedf6784",
   "metadata": {},
   "outputs": [
    {
     "name": "stdout",
     "output_type": "stream",
     "text": [
      "<class 'pandas.core.frame.DataFrame'>\n",
      "RangeIndex: 205 entries, 0 to 204\n",
      "Data columns (total 28 columns):\n",
      " #   Column            Non-Null Count  Dtype  \n",
      "---  ------            --------------  -----  \n",
      " 0   car_ID            205 non-null    int64  \n",
      " 1   symboling         205 non-null    int64  \n",
      " 2   CarName           205 non-null    object \n",
      " 3   fueltype          205 non-null    object \n",
      " 4   aspiration        205 non-null    object \n",
      " 5   doornumber        205 non-null    int64  \n",
      " 6   carbody           205 non-null    object \n",
      " 7   drivewheel        205 non-null    object \n",
      " 8   enginelocation    205 non-null    object \n",
      " 9   wheelbase         205 non-null    float64\n",
      " 10  carlength         205 non-null    float64\n",
      " 11  carwidth          205 non-null    float64\n",
      " 12  carheight         205 non-null    float64\n",
      " 13  curbweight        205 non-null    int64  \n",
      " 14  enginetype        205 non-null    object \n",
      " 15  cylindernumber    205 non-null    int64  \n",
      " 16  enginesize        205 non-null    int64  \n",
      " 17  fuelsystem        205 non-null    object \n",
      " 18  boreratio         205 non-null    float64\n",
      " 19  stroke            205 non-null    float64\n",
      " 20  compressionratio  205 non-null    float64\n",
      " 21  horsepower        205 non-null    int64  \n",
      " 22  peakrpm           205 non-null    int64  \n",
      " 23  citympg           205 non-null    int64  \n",
      " 24  highwaympg        205 non-null    int64  \n",
      " 25  price             205 non-null    float64\n",
      " 26  brand             205 non-null    object \n",
      " 27  model             203 non-null    object \n",
      "dtypes: float64(8), int64(10), object(10)\n",
      "memory usage: 45.0+ KB\n"
     ]
    }
   ],
   "source": [
    "df.info()"
   ]
  },
  {
   "cell_type": "code",
   "execution_count": 144,
   "id": "133161d9-5a94-4b85-a34b-ad513b273197",
   "metadata": {},
   "outputs": [
    {
     "data": {
      "text/html": [
       "<div>\n",
       "<style scoped>\n",
       "    .dataframe tbody tr th:only-of-type {\n",
       "        vertical-align: middle;\n",
       "    }\n",
       "\n",
       "    .dataframe tbody tr th {\n",
       "        vertical-align: top;\n",
       "    }\n",
       "\n",
       "    .dataframe thead th {\n",
       "        text-align: right;\n",
       "    }\n",
       "</style>\n",
       "<table border=\"1\" class=\"dataframe\">\n",
       "  <thead>\n",
       "    <tr style=\"text-align: right;\">\n",
       "      <th></th>\n",
       "      <th>car_ID</th>\n",
       "      <th>symboling</th>\n",
       "      <th>CarName</th>\n",
       "      <th>fueltype</th>\n",
       "      <th>aspiration</th>\n",
       "      <th>doornumber</th>\n",
       "      <th>carbody</th>\n",
       "      <th>drivewheel</th>\n",
       "      <th>enginelocation</th>\n",
       "      <th>wheelbase</th>\n",
       "      <th>...</th>\n",
       "      <th>boreratio</th>\n",
       "      <th>stroke</th>\n",
       "      <th>compressionratio</th>\n",
       "      <th>horsepower</th>\n",
       "      <th>peakrpm</th>\n",
       "      <th>citympg</th>\n",
       "      <th>highwaympg</th>\n",
       "      <th>price</th>\n",
       "      <th>brand</th>\n",
       "      <th>model</th>\n",
       "    </tr>\n",
       "  </thead>\n",
       "  <tbody>\n",
       "    <tr>\n",
       "      <th>0</th>\n",
       "      <td>1</td>\n",
       "      <td>3</td>\n",
       "      <td>alfa-romero giulia</td>\n",
       "      <td>gas</td>\n",
       "      <td>std</td>\n",
       "      <td>2</td>\n",
       "      <td>convertible</td>\n",
       "      <td>rwd</td>\n",
       "      <td>front</td>\n",
       "      <td>88.6</td>\n",
       "      <td>...</td>\n",
       "      <td>3.47</td>\n",
       "      <td>2.68</td>\n",
       "      <td>9.0</td>\n",
       "      <td>111</td>\n",
       "      <td>5000</td>\n",
       "      <td>21</td>\n",
       "      <td>27</td>\n",
       "      <td>13495.0</td>\n",
       "      <td>alfa-romero</td>\n",
       "      <td>giulia</td>\n",
       "    </tr>\n",
       "    <tr>\n",
       "      <th>1</th>\n",
       "      <td>2</td>\n",
       "      <td>3</td>\n",
       "      <td>alfa-romero stelvio</td>\n",
       "      <td>gas</td>\n",
       "      <td>std</td>\n",
       "      <td>2</td>\n",
       "      <td>convertible</td>\n",
       "      <td>rwd</td>\n",
       "      <td>front</td>\n",
       "      <td>88.6</td>\n",
       "      <td>...</td>\n",
       "      <td>3.47</td>\n",
       "      <td>2.68</td>\n",
       "      <td>9.0</td>\n",
       "      <td>111</td>\n",
       "      <td>5000</td>\n",
       "      <td>21</td>\n",
       "      <td>27</td>\n",
       "      <td>16500.0</td>\n",
       "      <td>alfa-romero</td>\n",
       "      <td>stelvio</td>\n",
       "    </tr>\n",
       "    <tr>\n",
       "      <th>2</th>\n",
       "      <td>3</td>\n",
       "      <td>1</td>\n",
       "      <td>alfa-romero Quadrifoglio</td>\n",
       "      <td>gas</td>\n",
       "      <td>std</td>\n",
       "      <td>2</td>\n",
       "      <td>hatchback</td>\n",
       "      <td>rwd</td>\n",
       "      <td>front</td>\n",
       "      <td>94.5</td>\n",
       "      <td>...</td>\n",
       "      <td>2.68</td>\n",
       "      <td>3.47</td>\n",
       "      <td>9.0</td>\n",
       "      <td>154</td>\n",
       "      <td>5000</td>\n",
       "      <td>19</td>\n",
       "      <td>26</td>\n",
       "      <td>16500.0</td>\n",
       "      <td>alfa-romero</td>\n",
       "      <td>Quadrifoglio</td>\n",
       "    </tr>\n",
       "    <tr>\n",
       "      <th>3</th>\n",
       "      <td>4</td>\n",
       "      <td>2</td>\n",
       "      <td>audi 100 ls</td>\n",
       "      <td>gas</td>\n",
       "      <td>std</td>\n",
       "      <td>4</td>\n",
       "      <td>sedan</td>\n",
       "      <td>fwd</td>\n",
       "      <td>front</td>\n",
       "      <td>99.8</td>\n",
       "      <td>...</td>\n",
       "      <td>3.19</td>\n",
       "      <td>3.40</td>\n",
       "      <td>10.0</td>\n",
       "      <td>102</td>\n",
       "      <td>5500</td>\n",
       "      <td>24</td>\n",
       "      <td>30</td>\n",
       "      <td>13950.0</td>\n",
       "      <td>audi</td>\n",
       "      <td>100 ls</td>\n",
       "    </tr>\n",
       "    <tr>\n",
       "      <th>4</th>\n",
       "      <td>5</td>\n",
       "      <td>2</td>\n",
       "      <td>audi 100ls</td>\n",
       "      <td>gas</td>\n",
       "      <td>std</td>\n",
       "      <td>4</td>\n",
       "      <td>sedan</td>\n",
       "      <td>4wd</td>\n",
       "      <td>front</td>\n",
       "      <td>99.4</td>\n",
       "      <td>...</td>\n",
       "      <td>3.19</td>\n",
       "      <td>3.40</td>\n",
       "      <td>8.0</td>\n",
       "      <td>115</td>\n",
       "      <td>5500</td>\n",
       "      <td>18</td>\n",
       "      <td>22</td>\n",
       "      <td>17450.0</td>\n",
       "      <td>audi</td>\n",
       "      <td>100ls</td>\n",
       "    </tr>\n",
       "    <tr>\n",
       "      <th>...</th>\n",
       "      <td>...</td>\n",
       "      <td>...</td>\n",
       "      <td>...</td>\n",
       "      <td>...</td>\n",
       "      <td>...</td>\n",
       "      <td>...</td>\n",
       "      <td>...</td>\n",
       "      <td>...</td>\n",
       "      <td>...</td>\n",
       "      <td>...</td>\n",
       "      <td>...</td>\n",
       "      <td>...</td>\n",
       "      <td>...</td>\n",
       "      <td>...</td>\n",
       "      <td>...</td>\n",
       "      <td>...</td>\n",
       "      <td>...</td>\n",
       "      <td>...</td>\n",
       "      <td>...</td>\n",
       "      <td>...</td>\n",
       "      <td>...</td>\n",
       "    </tr>\n",
       "    <tr>\n",
       "      <th>200</th>\n",
       "      <td>201</td>\n",
       "      <td>-1</td>\n",
       "      <td>volvo 145e (sw)</td>\n",
       "      <td>gas</td>\n",
       "      <td>std</td>\n",
       "      <td>4</td>\n",
       "      <td>sedan</td>\n",
       "      <td>rwd</td>\n",
       "      <td>front</td>\n",
       "      <td>109.1</td>\n",
       "      <td>...</td>\n",
       "      <td>3.78</td>\n",
       "      <td>3.15</td>\n",
       "      <td>9.5</td>\n",
       "      <td>114</td>\n",
       "      <td>5400</td>\n",
       "      <td>23</td>\n",
       "      <td>28</td>\n",
       "      <td>16845.0</td>\n",
       "      <td>volvo</td>\n",
       "      <td>145e (sw)</td>\n",
       "    </tr>\n",
       "    <tr>\n",
       "      <th>201</th>\n",
       "      <td>202</td>\n",
       "      <td>-1</td>\n",
       "      <td>volvo 144ea</td>\n",
       "      <td>gas</td>\n",
       "      <td>turbo</td>\n",
       "      <td>4</td>\n",
       "      <td>sedan</td>\n",
       "      <td>rwd</td>\n",
       "      <td>front</td>\n",
       "      <td>109.1</td>\n",
       "      <td>...</td>\n",
       "      <td>3.78</td>\n",
       "      <td>3.15</td>\n",
       "      <td>8.7</td>\n",
       "      <td>160</td>\n",
       "      <td>5300</td>\n",
       "      <td>19</td>\n",
       "      <td>25</td>\n",
       "      <td>19045.0</td>\n",
       "      <td>volvo</td>\n",
       "      <td>144ea</td>\n",
       "    </tr>\n",
       "    <tr>\n",
       "      <th>202</th>\n",
       "      <td>203</td>\n",
       "      <td>-1</td>\n",
       "      <td>volvo 244dl</td>\n",
       "      <td>gas</td>\n",
       "      <td>std</td>\n",
       "      <td>4</td>\n",
       "      <td>sedan</td>\n",
       "      <td>rwd</td>\n",
       "      <td>front</td>\n",
       "      <td>109.1</td>\n",
       "      <td>...</td>\n",
       "      <td>3.58</td>\n",
       "      <td>2.87</td>\n",
       "      <td>8.8</td>\n",
       "      <td>134</td>\n",
       "      <td>5500</td>\n",
       "      <td>18</td>\n",
       "      <td>23</td>\n",
       "      <td>21485.0</td>\n",
       "      <td>volvo</td>\n",
       "      <td>244dl</td>\n",
       "    </tr>\n",
       "    <tr>\n",
       "      <th>203</th>\n",
       "      <td>204</td>\n",
       "      <td>-1</td>\n",
       "      <td>volvo 246</td>\n",
       "      <td>diesel</td>\n",
       "      <td>turbo</td>\n",
       "      <td>4</td>\n",
       "      <td>sedan</td>\n",
       "      <td>rwd</td>\n",
       "      <td>front</td>\n",
       "      <td>109.1</td>\n",
       "      <td>...</td>\n",
       "      <td>3.01</td>\n",
       "      <td>3.40</td>\n",
       "      <td>23.0</td>\n",
       "      <td>106</td>\n",
       "      <td>4800</td>\n",
       "      <td>26</td>\n",
       "      <td>27</td>\n",
       "      <td>22470.0</td>\n",
       "      <td>volvo</td>\n",
       "      <td>246</td>\n",
       "    </tr>\n",
       "    <tr>\n",
       "      <th>204</th>\n",
       "      <td>205</td>\n",
       "      <td>-1</td>\n",
       "      <td>volvo 264gl</td>\n",
       "      <td>gas</td>\n",
       "      <td>turbo</td>\n",
       "      <td>4</td>\n",
       "      <td>sedan</td>\n",
       "      <td>rwd</td>\n",
       "      <td>front</td>\n",
       "      <td>109.1</td>\n",
       "      <td>...</td>\n",
       "      <td>3.78</td>\n",
       "      <td>3.15</td>\n",
       "      <td>9.5</td>\n",
       "      <td>114</td>\n",
       "      <td>5400</td>\n",
       "      <td>19</td>\n",
       "      <td>25</td>\n",
       "      <td>22625.0</td>\n",
       "      <td>volvo</td>\n",
       "      <td>264gl</td>\n",
       "    </tr>\n",
       "  </tbody>\n",
       "</table>\n",
       "<p>205 rows × 28 columns</p>\n",
       "</div>"
      ],
      "text/plain": [
       "     car_ID  symboling                   CarName fueltype aspiration  \\\n",
       "0         1          3        alfa-romero giulia      gas        std   \n",
       "1         2          3       alfa-romero stelvio      gas        std   \n",
       "2         3          1  alfa-romero Quadrifoglio      gas        std   \n",
       "3         4          2               audi 100 ls      gas        std   \n",
       "4         5          2                audi 100ls      gas        std   \n",
       "..      ...        ...                       ...      ...        ...   \n",
       "200     201         -1           volvo 145e (sw)      gas        std   \n",
       "201     202         -1               volvo 144ea      gas      turbo   \n",
       "202     203         -1               volvo 244dl      gas        std   \n",
       "203     204         -1                 volvo 246   diesel      turbo   \n",
       "204     205         -1               volvo 264gl      gas      turbo   \n",
       "\n",
       "     doornumber      carbody drivewheel enginelocation  wheelbase  ...  \\\n",
       "0             2  convertible        rwd          front       88.6  ...   \n",
       "1             2  convertible        rwd          front       88.6  ...   \n",
       "2             2    hatchback        rwd          front       94.5  ...   \n",
       "3             4        sedan        fwd          front       99.8  ...   \n",
       "4             4        sedan        4wd          front       99.4  ...   \n",
       "..          ...          ...        ...            ...        ...  ...   \n",
       "200           4        sedan        rwd          front      109.1  ...   \n",
       "201           4        sedan        rwd          front      109.1  ...   \n",
       "202           4        sedan        rwd          front      109.1  ...   \n",
       "203           4        sedan        rwd          front      109.1  ...   \n",
       "204           4        sedan        rwd          front      109.1  ...   \n",
       "\n",
       "     boreratio  stroke  compressionratio  horsepower peakrpm  citympg  \\\n",
       "0         3.47    2.68               9.0         111    5000       21   \n",
       "1         3.47    2.68               9.0         111    5000       21   \n",
       "2         2.68    3.47               9.0         154    5000       19   \n",
       "3         3.19    3.40              10.0         102    5500       24   \n",
       "4         3.19    3.40               8.0         115    5500       18   \n",
       "..         ...     ...               ...         ...     ...      ...   \n",
       "200       3.78    3.15               9.5         114    5400       23   \n",
       "201       3.78    3.15               8.7         160    5300       19   \n",
       "202       3.58    2.87               8.8         134    5500       18   \n",
       "203       3.01    3.40              23.0         106    4800       26   \n",
       "204       3.78    3.15               9.5         114    5400       19   \n",
       "\n",
       "     highwaympg    price        brand         model  \n",
       "0            27  13495.0  alfa-romero        giulia  \n",
       "1            27  16500.0  alfa-romero       stelvio  \n",
       "2            26  16500.0  alfa-romero  Quadrifoglio  \n",
       "3            30  13950.0         audi        100 ls  \n",
       "4            22  17450.0         audi         100ls  \n",
       "..          ...      ...          ...           ...  \n",
       "200          28  16845.0        volvo     145e (sw)  \n",
       "201          25  19045.0        volvo         144ea  \n",
       "202          23  21485.0        volvo         244dl  \n",
       "203          27  22470.0        volvo           246  \n",
       "204          25  22625.0        volvo         264gl  \n",
       "\n",
       "[205 rows x 28 columns]"
      ]
     },
     "execution_count": 144,
     "metadata": {},
     "output_type": "execute_result"
    }
   ],
   "source": [
    "# separate brand and model \n",
    "split_cols = df['CarName'].str.split(' ', n=1, expand=True)\n",
    "# Spalten zuordnen\n",
    "df['brand'] = split_cols[0]        # erstes Wort\n",
    "df['model'] = split_cols[1]  \n",
    "# originale Daten sichern, für weitere Modellevariante\n",
    "df_cp= df.copy(deep= True)\n",
    "df"
   ]
  },
  {
   "cell_type": "code",
   "execution_count": 145,
   "id": "60247fcf-ffee-41d4-95b5-1391f0146111",
   "metadata": {},
   "outputs": [
    {
     "name": "stdout",
     "output_type": "stream",
     "text": [
      "['gas' 'diesel'] ['std' 'turbo'] ['convertible' 'hatchback' 'sedan' 'wagon' 'hardtop'] ['rwd' 'fwd' '4wd'] ['front' 'rear'] ['dohc' 'ohcv' 'ohc' 'l' 'rotor' 'ohcf' 'dohcv'] ['mpfi' '2bbl' 'mfi' '1bbl' 'spfi' '4bbl' 'idi' 'spdi']\n",
      "[130 152 109 136 131 108 164 209  61  90  98 122 156  92  79 110 111 119\n",
      " 258 326  91  70  80 140 134 183 234 308 304  97 103 120 181 151 194 203\n",
      " 132 121 146 171 161 141 173 145]\n"
     ]
    }
   ],
   "source": [
    "# Define categorical and numerical columns\n",
    "categorical_columns = ['fueltype', 'aspiration',  'carbody', 'drivewheel',\n",
    "                       'enginelocation', 'enginetype', 'fuelsystem', 'brand', 'model']\n",
    "numerical_columns = ['doornumber','cylindernumber','wheelbase', 'carlength', 'carwidth', 'carheight', 'curbweight',\n",
    "                     'enginesize', 'boreratio', 'stroke', 'compressionratio', 'horsepower',\n",
    "                     'peakrpm', 'citympg', 'highwaympg']\n",
    "\n",
    "print(df[\"fueltype\"].unique(), df[\"aspiration\"].unique(),  df[\"carbody\"].unique(), df[\"drivewheel\"].unique(), df[\"enginelocation\"].unique(), \n",
    "      df[\"enginetype\"].unique(), df[\"fuelsystem\"].unique())\n",
    "\n",
    "print(df[\"enginesize\"].unique())"
   ]
  },
  {
   "cell_type": "markdown",
   "id": "825b288b-9cdd-4e1e-abbc-3655e2d601dc",
   "metadata": {},
   "source": [
    "# Machine Learning(ML): \n",
    "## Linear model\n",
    "### Encoding: \n",
    "#### 1. categorical colums as one-hot value + numerical columns (standardisiert)  -> Linear model\n",
    "#### 2. categorical colums as ordinal value ++ numerical columns (standardisiert) -> Linear model\n",
    "#### 3. categorical as ordinal value\n",
    "\n",
    "was bedeutet \"standardisiert\"?\n",
    "\n",
    "StandardScaler() ist ein Werkzeug aus scikit-learn, das numerische Features standardisiert: Es bringt alle angegebenen Spalten (Features) auf eine gemeinsame Skala, indem jeder Wert so transformiert wird:\n",
    "z=x−μσ\n",
    "z=σx−μ\n",
    "\n",
    "Dabei ist xx der Originalwert, μμ der Mittelwert und σσ die Standardabweichung der jeweiligen Spalte.\n",
    "\n",
    "fit_transform() berechnet zuerst Mittelwert und Standardabweichung für jede numerische Spalte – und transformiert dann alle Werte entsprechend.\n",
    "\n",
    "Das Ergebnis: Alle Werte der angegebenen numerischen Spalten haben danach Mittelwert=0 und Standardabweichung=1. Die Skalierung ist jetzt vergleichbar, egal ob z.B. Einkommen, Alter oder Wohnfläche vorher unterschiedlich große Zahlen waren.\n",
    "\n"
   ]
  },
  {
   "cell_type": "raw",
   "id": "2ee8bf5d-ae5f-4fe5-86b7-626d90e6c47a",
   "metadata": {},
   "source": [
    "Beispiel:\n",
    "R-squared: 0.8615670883410504\n",
    "Mean Squared Error: 10928450.668435916\n",
    "\n",
    "\n",
    "one-hot linear\n",
    "R-squared: 0.7035909203538129\n",
    "Mean Squared Error: 23399724.572508715\n",
    "\n",
    "ordinal linear\n",
    "[205 rows x 30 columns]\n",
    "R-squared: 0.8728500290005163\n",
    "Mean Squared Error: 10037729.965431107\n",
    "\n",
    "\n",
    "R-squared: 0.8644990767631923\n",
    "Mean Squared Error: 10696987.71321944\n",
    "\n",
    "\n",
    "cols_num= 15\n",
    "remove:citympg\n",
    "R-squared: 0.8739991577767028\n",
    "Mean Squared Error: 9947013.119330423\n",
    "\n",
    "\n",
    "remove:highwaympg\n",
    "R-squared: 0.8732015028060888\n",
    "Mean Squared Error: 10009983.20998534\n",
    "\n",
    "df_cp['horsepw_squared'] = (df_cp['horsepower'] **2)/2\n",
    "R-squared: 0.8762924004789298\n",
    "Mean Squared Error: 9765975.319563704"
   ]
  },
  {
   "cell_type": "markdown",
   "id": "277fd259-8505-4be2-b323-7e6ba28730a8",
   "metadata": {},
   "source": [
    "## 1. categorical colums as one-hot value + numerical columns (standardisiert) -> Linear model"
   ]
  },
  {
   "cell_type": "code",
   "execution_count": 146,
   "id": "e67e5a2c-5c98-4f58-a6f9-338fc06d99bc",
   "metadata": {},
   "outputs": [],
   "source": [
    "# modue für ML importieren\n",
    "\n",
    "from sklearn.preprocessing import LabelEncoder, StandardScaler\n",
    "from sklearn.model_selection import train_test_split\n",
    "from sklearn.linear_model import LinearRegression\n",
    "from sklearn.metrics import mean_squared_error,r2_score\n"
   ]
  },
  {
   "cell_type": "code",
   "execution_count": 147,
   "id": "e5374d6a-ec2c-4a21-a47d-74bc82b2071c",
   "metadata": {},
   "outputs": [
    {
     "name": "stdout",
     "output_type": "stream",
     "text": [
      "R-squared: 0.6978378968599681\n",
      "Mean Squared Error: 23853891.379327953\n"
     ]
    }
   ],
   "source": [
    "\n",
    "df_cp= df.copy(deep= True)\n",
    "#1. categorical colums as one-hot value + numerical columns (standardisiert) -> Linear model\n",
    "# ----------------------\n",
    "# One-Hot-Encoding\n",
    "# ----------------------\n",
    "# One-Hot für alle kategorischen Spalten\n",
    "#df = pd.get_dummies(df, columns=categorical_columns, drop_first=True)  \n",
    "df_cp = pd.get_dummies(df_cp, columns=categorical_columns, drop_first=True)  \n",
    "# drop_first=True → vermeidet Dummy Variable Trap\n",
    "\n",
    "# ----------------------\n",
    "# Feature Engineering\n",
    "# ----------------------\n",
    "df_cp['power_to_weight_ratio'] = df_cp['horsepower'] / df_cp['curbweight']\n",
    "df_cp['log_enginesize'] = np.log(df_cp['enginesize'] + 1)\n",
    "\n",
    "#print(df_cp)\n",
    "# ----------------------\n",
    "# Feature Scaling (nur numerische Originalspalten, nicht die One-Hot Spalten)\n",
    "# ----------------------\n",
    "scaler = StandardScaler()\n",
    "df_cp[numerical_columns] = scaler.fit_transform(df_cp[numerical_columns])\n",
    "\n",
    "# ----------------------\n",
    "# Train-Test-Split\n",
    "# ----------------------\n",
    "X = df_cp.drop(['price', 'CarName'], axis=1)\n",
    "y = df_cp['price']\n",
    "\n",
    "X_train, X_test, y_train, y_test = train_test_split(X, y, test_size=0.2, random_state=42)\n",
    "\n",
    "# ----------------------\n",
    "# Modelltraining\n",
    "# ----------------------\n",
    "model = LinearRegression()\n",
    "model.fit(X_train, y_train)\n",
    "\n",
    "# ----------------------\n",
    "# Vorhersagen\n",
    "# ----------------------\n",
    "y_pred = model.predict(X_test)\n",
    "\n",
    "# ----------------------\n",
    "# Modellbewertung\n",
    "# ----------------------\n",
    "mse = mean_squared_error(y_test, y_pred)\n",
    "r2_square = r2_score(y_test, y_pred)\n",
    "\n",
    "print(f\"R-squared: {r2_square}\")\n",
    "print(f\"Mean Squared Error: {mse}\")\n",
    "\n",
    "# ----------------------\n",
    "# Vergleich der Vorhersagen\n",
    "# ----------------------\n",
    "pred_df = pd.DataFrame({\n",
    "    'Actual Value': y_test,\n",
    "    'Predicted Value': y_pred,\n",
    "    'Difference': y_test - y_pred,\n",
    "    'rel%': abs((y_test - y_pred)) / y_test * 100\n",
    "})\n",
    "\n",
    "#pred_df\n"
   ]
  },
  {
   "cell_type": "code",
   "execution_count": 148,
   "id": "90a45c05-1d29-4ea9-840f-80426628c14c",
   "metadata": {},
   "outputs": [
    {
     "data": {
      "application/vnd.plotly.v1+json": {
       "config": {
        "plotlyServerURL": "https://plot.ly"
       },
       "data": [
        {
         "bingroup": "x",
         "hovertemplate": "relativer Prozentsatz=%{x}<br>count=%{y}<extra></extra>",
         "legendgroup": "",
         "marker": {
          "color": "#636efa",
          "pattern": {
           "shape": ""
          }
         },
         "name": "",
         "nbinsx": 20,
         "orientation": "v",
         "showlegend": false,
         "type": "histogram",
         "x": {
          "bdata": "HYriRKHTMUA2RtkmE6QgQGgaXed7GiZAUx+H/JOWAkAWP6C/3qQ6QOfwA9knrhpApCxrns3zIEAMAu/ZXm0CQHjySewycDBAfwvfQVMQcEDpQq8CmBFDQIxQAi+ycDFAZrpurBUFFEDfx4msmNQqQEB1owiRkjZArU7mRvuaJkAKbdba+C1QQM95WSwKgyRAgLK0PD+mOkBCAJmbXpAiQJf9/ajHjjVAhQUnJ3VHRECkPHH2CYIwQKuK8x9VgFRAW37MCKg4NEBDaA/hyg5AQNE5cyGuripA8/6AEH1u+z8o9EKXb7E4QF3MObGFKyJAbzlkkh1jK0BDTYkDOsg2QI4jyU8SUDdAsmB95qXGIkCfmU6RSdZDQEGEAdoiCCdARxS8FQarGkCdLeD6fltNQDcP2ok4gD9A1JAh1vOcNUD2zGWeoY4nQA==",
          "dtype": "f8"
         },
         "xaxis": "x",
         "yaxis": "y"
        }
       ],
       "layout": {
        "barmode": "relative",
        "height": 600,
        "legend": {
         "tracegroupgap": 0
        },
        "template": {
         "data": {
          "bar": [
           {
            "error_x": {
             "color": "#2a3f5f"
            },
            "error_y": {
             "color": "#2a3f5f"
            },
            "marker": {
             "line": {
              "color": "#E5ECF6",
              "width": 0.5
             },
             "pattern": {
              "fillmode": "overlay",
              "size": 10,
              "solidity": 0.2
             }
            },
            "type": "bar"
           }
          ],
          "barpolar": [
           {
            "marker": {
             "line": {
              "color": "#E5ECF6",
              "width": 0.5
             },
             "pattern": {
              "fillmode": "overlay",
              "size": 10,
              "solidity": 0.2
             }
            },
            "type": "barpolar"
           }
          ],
          "carpet": [
           {
            "aaxis": {
             "endlinecolor": "#2a3f5f",
             "gridcolor": "white",
             "linecolor": "white",
             "minorgridcolor": "white",
             "startlinecolor": "#2a3f5f"
            },
            "baxis": {
             "endlinecolor": "#2a3f5f",
             "gridcolor": "white",
             "linecolor": "white",
             "minorgridcolor": "white",
             "startlinecolor": "#2a3f5f"
            },
            "type": "carpet"
           }
          ],
          "choropleth": [
           {
            "colorbar": {
             "outlinewidth": 0,
             "ticks": ""
            },
            "type": "choropleth"
           }
          ],
          "contour": [
           {
            "colorbar": {
             "outlinewidth": 0,
             "ticks": ""
            },
            "colorscale": [
             [
              0,
              "#0d0887"
             ],
             [
              0.1111111111111111,
              "#46039f"
             ],
             [
              0.2222222222222222,
              "#7201a8"
             ],
             [
              0.3333333333333333,
              "#9c179e"
             ],
             [
              0.4444444444444444,
              "#bd3786"
             ],
             [
              0.5555555555555556,
              "#d8576b"
             ],
             [
              0.6666666666666666,
              "#ed7953"
             ],
             [
              0.7777777777777778,
              "#fb9f3a"
             ],
             [
              0.8888888888888888,
              "#fdca26"
             ],
             [
              1,
              "#f0f921"
             ]
            ],
            "type": "contour"
           }
          ],
          "contourcarpet": [
           {
            "colorbar": {
             "outlinewidth": 0,
             "ticks": ""
            },
            "type": "contourcarpet"
           }
          ],
          "heatmap": [
           {
            "colorbar": {
             "outlinewidth": 0,
             "ticks": ""
            },
            "colorscale": [
             [
              0,
              "#0d0887"
             ],
             [
              0.1111111111111111,
              "#46039f"
             ],
             [
              0.2222222222222222,
              "#7201a8"
             ],
             [
              0.3333333333333333,
              "#9c179e"
             ],
             [
              0.4444444444444444,
              "#bd3786"
             ],
             [
              0.5555555555555556,
              "#d8576b"
             ],
             [
              0.6666666666666666,
              "#ed7953"
             ],
             [
              0.7777777777777778,
              "#fb9f3a"
             ],
             [
              0.8888888888888888,
              "#fdca26"
             ],
             [
              1,
              "#f0f921"
             ]
            ],
            "type": "heatmap"
           }
          ],
          "histogram": [
           {
            "marker": {
             "pattern": {
              "fillmode": "overlay",
              "size": 10,
              "solidity": 0.2
             }
            },
            "type": "histogram"
           }
          ],
          "histogram2d": [
           {
            "colorbar": {
             "outlinewidth": 0,
             "ticks": ""
            },
            "colorscale": [
             [
              0,
              "#0d0887"
             ],
             [
              0.1111111111111111,
              "#46039f"
             ],
             [
              0.2222222222222222,
              "#7201a8"
             ],
             [
              0.3333333333333333,
              "#9c179e"
             ],
             [
              0.4444444444444444,
              "#bd3786"
             ],
             [
              0.5555555555555556,
              "#d8576b"
             ],
             [
              0.6666666666666666,
              "#ed7953"
             ],
             [
              0.7777777777777778,
              "#fb9f3a"
             ],
             [
              0.8888888888888888,
              "#fdca26"
             ],
             [
              1,
              "#f0f921"
             ]
            ],
            "type": "histogram2d"
           }
          ],
          "histogram2dcontour": [
           {
            "colorbar": {
             "outlinewidth": 0,
             "ticks": ""
            },
            "colorscale": [
             [
              0,
              "#0d0887"
             ],
             [
              0.1111111111111111,
              "#46039f"
             ],
             [
              0.2222222222222222,
              "#7201a8"
             ],
             [
              0.3333333333333333,
              "#9c179e"
             ],
             [
              0.4444444444444444,
              "#bd3786"
             ],
             [
              0.5555555555555556,
              "#d8576b"
             ],
             [
              0.6666666666666666,
              "#ed7953"
             ],
             [
              0.7777777777777778,
              "#fb9f3a"
             ],
             [
              0.8888888888888888,
              "#fdca26"
             ],
             [
              1,
              "#f0f921"
             ]
            ],
            "type": "histogram2dcontour"
           }
          ],
          "mesh3d": [
           {
            "colorbar": {
             "outlinewidth": 0,
             "ticks": ""
            },
            "type": "mesh3d"
           }
          ],
          "parcoords": [
           {
            "line": {
             "colorbar": {
              "outlinewidth": 0,
              "ticks": ""
             }
            },
            "type": "parcoords"
           }
          ],
          "pie": [
           {
            "automargin": true,
            "type": "pie"
           }
          ],
          "scatter": [
           {
            "fillpattern": {
             "fillmode": "overlay",
             "size": 10,
             "solidity": 0.2
            },
            "type": "scatter"
           }
          ],
          "scatter3d": [
           {
            "line": {
             "colorbar": {
              "outlinewidth": 0,
              "ticks": ""
             }
            },
            "marker": {
             "colorbar": {
              "outlinewidth": 0,
              "ticks": ""
             }
            },
            "type": "scatter3d"
           }
          ],
          "scattercarpet": [
           {
            "marker": {
             "colorbar": {
              "outlinewidth": 0,
              "ticks": ""
             }
            },
            "type": "scattercarpet"
           }
          ],
          "scattergeo": [
           {
            "marker": {
             "colorbar": {
              "outlinewidth": 0,
              "ticks": ""
             }
            },
            "type": "scattergeo"
           }
          ],
          "scattergl": [
           {
            "marker": {
             "colorbar": {
              "outlinewidth": 0,
              "ticks": ""
             }
            },
            "type": "scattergl"
           }
          ],
          "scattermap": [
           {
            "marker": {
             "colorbar": {
              "outlinewidth": 0,
              "ticks": ""
             }
            },
            "type": "scattermap"
           }
          ],
          "scattermapbox": [
           {
            "marker": {
             "colorbar": {
              "outlinewidth": 0,
              "ticks": ""
             }
            },
            "type": "scattermapbox"
           }
          ],
          "scatterpolar": [
           {
            "marker": {
             "colorbar": {
              "outlinewidth": 0,
              "ticks": ""
             }
            },
            "type": "scatterpolar"
           }
          ],
          "scatterpolargl": [
           {
            "marker": {
             "colorbar": {
              "outlinewidth": 0,
              "ticks": ""
             }
            },
            "type": "scatterpolargl"
           }
          ],
          "scatterternary": [
           {
            "marker": {
             "colorbar": {
              "outlinewidth": 0,
              "ticks": ""
             }
            },
            "type": "scatterternary"
           }
          ],
          "surface": [
           {
            "colorbar": {
             "outlinewidth": 0,
             "ticks": ""
            },
            "colorscale": [
             [
              0,
              "#0d0887"
             ],
             [
              0.1111111111111111,
              "#46039f"
             ],
             [
              0.2222222222222222,
              "#7201a8"
             ],
             [
              0.3333333333333333,
              "#9c179e"
             ],
             [
              0.4444444444444444,
              "#bd3786"
             ],
             [
              0.5555555555555556,
              "#d8576b"
             ],
             [
              0.6666666666666666,
              "#ed7953"
             ],
             [
              0.7777777777777778,
              "#fb9f3a"
             ],
             [
              0.8888888888888888,
              "#fdca26"
             ],
             [
              1,
              "#f0f921"
             ]
            ],
            "type": "surface"
           }
          ],
          "table": [
           {
            "cells": {
             "fill": {
              "color": "#EBF0F8"
             },
             "line": {
              "color": "white"
             }
            },
            "header": {
             "fill": {
              "color": "#C8D4E3"
             },
             "line": {
              "color": "white"
             }
            },
            "type": "table"
           }
          ]
         },
         "layout": {
          "annotationdefaults": {
           "arrowcolor": "#2a3f5f",
           "arrowhead": 0,
           "arrowwidth": 1
          },
          "autotypenumbers": "strict",
          "coloraxis": {
           "colorbar": {
            "outlinewidth": 0,
            "ticks": ""
           }
          },
          "colorscale": {
           "diverging": [
            [
             0,
             "#8e0152"
            ],
            [
             0.1,
             "#c51b7d"
            ],
            [
             0.2,
             "#de77ae"
            ],
            [
             0.3,
             "#f1b6da"
            ],
            [
             0.4,
             "#fde0ef"
            ],
            [
             0.5,
             "#f7f7f7"
            ],
            [
             0.6,
             "#e6f5d0"
            ],
            [
             0.7,
             "#b8e186"
            ],
            [
             0.8,
             "#7fbc41"
            ],
            [
             0.9,
             "#4d9221"
            ],
            [
             1,
             "#276419"
            ]
           ],
           "sequential": [
            [
             0,
             "#0d0887"
            ],
            [
             0.1111111111111111,
             "#46039f"
            ],
            [
             0.2222222222222222,
             "#7201a8"
            ],
            [
             0.3333333333333333,
             "#9c179e"
            ],
            [
             0.4444444444444444,
             "#bd3786"
            ],
            [
             0.5555555555555556,
             "#d8576b"
            ],
            [
             0.6666666666666666,
             "#ed7953"
            ],
            [
             0.7777777777777778,
             "#fb9f3a"
            ],
            [
             0.8888888888888888,
             "#fdca26"
            ],
            [
             1,
             "#f0f921"
            ]
           ],
           "sequentialminus": [
            [
             0,
             "#0d0887"
            ],
            [
             0.1111111111111111,
             "#46039f"
            ],
            [
             0.2222222222222222,
             "#7201a8"
            ],
            [
             0.3333333333333333,
             "#9c179e"
            ],
            [
             0.4444444444444444,
             "#bd3786"
            ],
            [
             0.5555555555555556,
             "#d8576b"
            ],
            [
             0.6666666666666666,
             "#ed7953"
            ],
            [
             0.7777777777777778,
             "#fb9f3a"
            ],
            [
             0.8888888888888888,
             "#fdca26"
            ],
            [
             1,
             "#f0f921"
            ]
           ]
          },
          "colorway": [
           "#636efa",
           "#EF553B",
           "#00cc96",
           "#ab63fa",
           "#FFA15A",
           "#19d3f3",
           "#FF6692",
           "#B6E880",
           "#FF97FF",
           "#FECB52"
          ],
          "font": {
           "color": "#2a3f5f"
          },
          "geo": {
           "bgcolor": "white",
           "lakecolor": "white",
           "landcolor": "#E5ECF6",
           "showlakes": true,
           "showland": true,
           "subunitcolor": "white"
          },
          "hoverlabel": {
           "align": "left"
          },
          "hovermode": "closest",
          "mapbox": {
           "style": "light"
          },
          "paper_bgcolor": "white",
          "plot_bgcolor": "#E5ECF6",
          "polar": {
           "angularaxis": {
            "gridcolor": "white",
            "linecolor": "white",
            "ticks": ""
           },
           "bgcolor": "#E5ECF6",
           "radialaxis": {
            "gridcolor": "white",
            "linecolor": "white",
            "ticks": ""
           }
          },
          "scene": {
           "xaxis": {
            "backgroundcolor": "#E5ECF6",
            "gridcolor": "white",
            "gridwidth": 2,
            "linecolor": "white",
            "showbackground": true,
            "ticks": "",
            "zerolinecolor": "white"
           },
           "yaxis": {
            "backgroundcolor": "#E5ECF6",
            "gridcolor": "white",
            "gridwidth": 2,
            "linecolor": "white",
            "showbackground": true,
            "ticks": "",
            "zerolinecolor": "white"
           },
           "zaxis": {
            "backgroundcolor": "#E5ECF6",
            "gridcolor": "white",
            "gridwidth": 2,
            "linecolor": "white",
            "showbackground": true,
            "ticks": "",
            "zerolinecolor": "white"
           }
          },
          "shapedefaults": {
           "line": {
            "color": "#2a3f5f"
           }
          },
          "ternary": {
           "aaxis": {
            "gridcolor": "white",
            "linecolor": "white",
            "ticks": ""
           },
           "baxis": {
            "gridcolor": "white",
            "linecolor": "white",
            "ticks": ""
           },
           "bgcolor": "#E5ECF6",
           "caxis": {
            "gridcolor": "white",
            "linecolor": "white",
            "ticks": ""
           }
          },
          "title": {
           "x": 0.05
          },
          "xaxis": {
           "automargin": true,
           "gridcolor": "white",
           "linecolor": "white",
           "ticks": "",
           "title": {
            "standoff": 15
           },
           "zerolinecolor": "white",
           "zerolinewidth": 2
          },
          "yaxis": {
           "automargin": true,
           "gridcolor": "white",
           "linecolor": "white",
           "ticks": "",
           "title": {
            "standoff": 15
           },
           "zerolinecolor": "white",
           "zerolinewidth": 2
          }
         }
        },
        "title": {
         "text": "Histogramm von rel%"
        },
        "xaxis": {
         "anchor": "y",
         "domain": [
          0,
          1
         ],
         "title": {
          "text": "relativer Prozentsatz"
         }
        },
        "yaxis": {
         "anchor": "x",
         "domain": [
          0,
          1
         ],
         "title": {
          "text": "count"
         }
        }
       }
      },
      "image/png": "[encoded data removed]"
     },
     "metadata": {},
     "output_type": "display_data"
    }
   ],
   "source": [
    "\n",
    "fig = px.histogram(pred_df, x='rel%', nbins=20, height=600,\n",
    "                   title='Histogramm von rel%',\n",
    "                   labels={'rel%': 'relativer Prozentsatz'})\n",
    "fig.show()\n"
   ]
  },
  {
   "cell_type": "markdown",
   "id": "eb5869a2-5bdd-44d4-a8a4-4e9a570b9a93",
   "metadata": {},
   "source": [
    "## 2. categorical colums as ordinal value + numerical columns (standardisiert) -> Linear model"
   ]
  },
  {
   "cell_type": "code",
   "execution_count": 149,
   "id": "cb3ae8ca-99da-4e52-aa0f-1a7511a05159",
   "metadata": {},
   "outputs": [
    {
     "name": "stdout",
     "output_type": "stream",
     "text": [
      "R-squared: 0.8728500290005163\n",
      "Mean Squared Error: 10037729.965431107\n"
     ]
    }
   ],
   "source": [
    "# get the original data from df:\n",
    "df_cp= df.copy(deep= True)\n",
    "\n",
    "# 2. categorical colums as ordinal value ++ numerical columns (standardisiert) -> Linear model\n",
    "# ----------------------\n",
    "#  ordinal-Encoding\n",
    "# ----------------------\n",
    "label_encoder = LabelEncoder()\n",
    "for column in categorical_columns:\n",
    "    df_cp[column] = label_encoder.fit_transform(df_cp[column])\n",
    "    \n",
    "# ----------------------\n",
    "# Feature Engineering\n",
    "# ----------------------\n",
    "df_cp['power_to_weight_ratio'] = df_cp['horsepower'] / df_cp['curbweight']\n",
    "\n",
    "#for column in numerical_columns:\n",
    "#    df_cp[f'{column}_squared'] = df_cp[column] ** 2\n",
    "\n",
    "df_cp['log_enginesize'] = np.log(df_cp['enginesize'] + 1)\n",
    "#print(df_cp)\n",
    "# ----------------------\n",
    "# Feature Scaling (nur numerische Originalspalten, nicht die One-Hot Spalten)\n",
    "# ----------------------\n",
    "scaler = StandardScaler()\n",
    "df_cp[numerical_columns] = scaler.fit_transform(df_cp[numerical_columns])\n",
    "\n",
    "# ----------------------\n",
    "# Train-Test-Split\n",
    "# ----------------------\n",
    "X = df_cp.drop(['price', 'CarName'], axis=1)\n",
    "y = df_cp['price']\n",
    "\n",
    "X_train, X_test, y_train, y_test = train_test_split(X, y, test_size=0.2, random_state=42)\n",
    "\n",
    "# ----------------------\n",
    "# Modelltraining\n",
    "# ----------------------\n",
    "model = LinearRegression()\n",
    "model.fit(X_train, y_train)\n",
    "\n",
    "# ----------------------\n",
    "# Vorhersagen\n",
    "# ----------------------\n",
    "\n",
    "y_pred = model.predict(X_test)\n",
    "\n",
    "# ----------------------\n",
    "# Modellbewertung\n",
    "# ----------------------\n",
    "mse = mean_squared_error(y_test, y_pred)\n",
    "r2_square = r2_score(y_test, y_pred)\n",
    "\n",
    "print(f\"R-squared: {r2_square}\")\n",
    "print(f\"Mean Squared Error: {mse}\")\n",
    "\n",
    "# ----------------------\n",
    "# Vergleich der Vorhersagen\n",
    "# ----------------------\n",
    "pred_df = pd.DataFrame({\n",
    "    'Actual Value': y_test,\n",
    "    'Predicted Value': y_pred,\n",
    "    'Difference': y_test - y_pred,\n",
    "    'rel%': abs((y_test - y_pred)) / y_test * 100\n",
    "})\n",
    "\n",
    "#pred_df\n"
   ]
  },
  {
   "cell_type": "code",
   "execution_count": 150,
   "id": "3fd2e3a2-08e5-42a4-b135-6c3b4130eea6",
   "metadata": {},
   "outputs": [
    {
     "data": {
      "application/vnd.plotly.v1+json": {
       "config": {
        "plotlyServerURL": "https://plot.ly"
       },
       "data": [
        {
         "bingroup": "x",
         "hovertemplate": "relativer Prozentsatz=%{x}<br>count=%{y}<extra></extra>",
         "legendgroup": "",
         "marker": {
          "color": "#636efa",
          "pattern": {
           "shape": ""
          }
         },
         "name": "",
         "nbinsx": 20,
         "orientation": "v",
         "showlegend": false,
         "type": "histogram",
         "x": {
          "bdata": "tV4YykIjLkDm4cm5qRTwP8NzjpX3w/Q/b53kS22mLECDiJvYz6seQGvZQeyD5SlA2jg+bgSJJ0B4eTztBUo/QAupayS0mNE/3DMZ2dI0KkANcxfJzufoP3E8Sn0JozhAparw7dyNKUCqQ15q9nohQPjVId5YOARAGRMpVQR8EkAp2TgYGd0hQKOCmUPTFCpA4NeT1zEFIUCYzMEb+q50Py9ECD2wSDxAVJO4/i8rRkC+or8BOAMXQDv7L80aIk5ANb2YH+SXGUAU18pavS9DQAKiExt5k0BAsg91Ba7PJ0A0YX/whgQ/QO4RiSQTCDRAVGR22acIB0AxBKMMJBQwQF9gsZ5fKjhAR3z11C53HkClMTNaduguQA+8jiH4ERZAOInXImR80T/6tMmG7/YpQID8bELjB0BAdVTkogPG2D9PvpHceyYSQA==",
          "dtype": "f8"
         },
         "xaxis": "x",
         "yaxis": "y"
        }
       ],
       "layout": {
        "barmode": "relative",
        "height": 600,
        "legend": {
         "tracegroupgap": 0
        },
        "template": {
         "data": {
          "bar": [
           {
            "error_x": {
             "color": "#2a3f5f"
            },
            "error_y": {
             "color": "#2a3f5f"
            },
            "marker": {
             "line": {
              "color": "#E5ECF6",
              "width": 0.5
             },
             "pattern": {
              "fillmode": "overlay",
              "size": 10,
              "solidity": 0.2
             }
            },
            "type": "bar"
           }
          ],
          "barpolar": [
           {
            "marker": {
             "line": {
              "color": "#E5ECF6",
              "width": 0.5
             },
             "pattern": {
              "fillmode": "overlay",
              "size": 10,
              "solidity": 0.2
             }
            },
            "type": "barpolar"
           }
          ],
          "carpet": [
           {
            "aaxis": {
             "endlinecolor": "#2a3f5f",
             "gridcolor": "white",
             "linecolor": "white",
             "minorgridcolor": "white",
             "startlinecolor": "#2a3f5f"
            },
            "baxis": {
             "endlinecolor": "#2a3f5f",
             "gridcolor": "white",
             "linecolor": "white",
             "minorgridcolor": "white",
             "startlinecolor": "#2a3f5f"
            },
            "type": "carpet"
           }
          ],
          "choropleth": [
           {
            "colorbar": {
             "outlinewidth": 0,
             "ticks": ""
            },
            "type": "choropleth"
           }
          ],
          "contour": [
           {
            "colorbar": {
             "outlinewidth": 0,
             "ticks": ""
            },
            "colorscale": [
             [
              0,
              "#0d0887"
             ],
             [
              0.1111111111111111,
              "#46039f"
             ],
             [
              0.2222222222222222,
              "#7201a8"
             ],
             [
              0.3333333333333333,
              "#9c179e"
             ],
             [
              0.4444444444444444,
              "#bd3786"
             ],
             [
              0.5555555555555556,
              "#d8576b"
             ],
             [
              0.6666666666666666,
              "#ed7953"
             ],
             [
              0.7777777777777778,
              "#fb9f3a"
             ],
             [
              0.8888888888888888,
              "#fdca26"
             ],
             [
              1,
              "#f0f921"
             ]
            ],
            "type": "contour"
           }
          ],
          "contourcarpet": [
           {
            "colorbar": {
             "outlinewidth": 0,
             "ticks": ""
            },
            "type": "contourcarpet"
           }
          ],
          "heatmap": [
           {
            "colorbar": {
             "outlinewidth": 0,
             "ticks": ""
            },
            "colorscale": [
             [
              0,
              "#0d0887"
             ],
             [
              0.1111111111111111,
              "#46039f"
             ],
             [
              0.2222222222222222,
              "#7201a8"
             ],
             [
              0.3333333333333333,
              "#9c179e"
             ],
             [
              0.4444444444444444,
              "#bd3786"
             ],
             [
              0.5555555555555556,
              "#d8576b"
             ],
             [
              0.6666666666666666,
              "#ed7953"
             ],
             [
              0.7777777777777778,
              "#fb9f3a"
             ],
             [
              0.8888888888888888,
              "#fdca26"
             ],
             [
              1,
              "#f0f921"
             ]
            ],
            "type": "heatmap"
           }
          ],
          "histogram": [
           {
            "marker": {
             "pattern": {
              "fillmode": "overlay",
              "size": 10,
              "solidity": 0.2
             }
            },
            "type": "histogram"
           }
          ],
          "histogram2d": [
           {
            "colorbar": {
             "outlinewidth": 0,
             "ticks": ""
            },
            "colorscale": [
             [
              0,
              "#0d0887"
             ],
             [
              0.1111111111111111,
              "#46039f"
             ],
             [
              0.2222222222222222,
              "#7201a8"
             ],
             [
              0.3333333333333333,
              "#9c179e"
             ],
             [
              0.4444444444444444,
              "#bd3786"
             ],
             [
              0.5555555555555556,
              "#d8576b"
             ],
             [
              0.6666666666666666,
              "#ed7953"
             ],
             [
              0.7777777777777778,
              "#fb9f3a"
             ],
             [
              0.8888888888888888,
              "#fdca26"
             ],
             [
              1,
              "#f0f921"
             ]
            ],
            "type": "histogram2d"
           }
          ],
          "histogram2dcontour": [
           {
            "colorbar": {
             "outlinewidth": 0,
             "ticks": ""
            },
            "colorscale": [
             [
              0,
              "#0d0887"
             ],
             [
              0.1111111111111111,
              "#46039f"
             ],
             [
              0.2222222222222222,
              "#7201a8"
             ],
             [
              0.3333333333333333,
              "#9c179e"
             ],
             [
              0.4444444444444444,
              "#bd3786"
             ],
             [
              0.5555555555555556,
              "#d8576b"
             ],
             [
              0.6666666666666666,
              "#ed7953"
             ],
             [
              0.7777777777777778,
              "#fb9f3a"
             ],
             [
              0.8888888888888888,
              "#fdca26"
             ],
             [
              1,
              "#f0f921"
             ]
            ],
            "type": "histogram2dcontour"
           }
          ],
          "mesh3d": [
           {
            "colorbar": {
             "outlinewidth": 0,
             "ticks": ""
            },
            "type": "mesh3d"
           }
          ],
          "parcoords": [
           {
            "line": {
             "colorbar": {
              "outlinewidth": 0,
              "ticks": ""
             }
            },
            "type": "parcoords"
           }
          ],
          "pie": [
           {
            "automargin": true,
            "type": "pie"
           }
          ],
          "scatter": [
           {
            "fillpattern": {
             "fillmode": "overlay",
             "size": 10,
             "solidity": 0.2
            },
            "type": "scatter"
           }
          ],
          "scatter3d": [
           {
            "line": {
             "colorbar": {
              "outlinewidth": 0,
              "ticks": ""
             }
            },
            "marker": {
             "colorbar": {
              "outlinewidth": 0,
              "ticks": ""
             }
            },
            "type": "scatter3d"
           }
          ],
          "scattercarpet": [
           {
            "marker": {
             "colorbar": {
              "outlinewidth": 0,
              "ticks": ""
             }
            },
            "type": "scattercarpet"
           }
          ],
          "scattergeo": [
           {
            "marker": {
             "colorbar": {
              "outlinewidth": 0,
              "ticks": ""
             }
            },
            "type": "scattergeo"
           }
          ],
          "scattergl": [
           {
            "marker": {
             "colorbar": {
              "outlinewidth": 0,
              "ticks": ""
             }
            },
            "type": "scattergl"
           }
          ],
          "scattermap": [
           {
            "marker": {
             "colorbar": {
              "outlinewidth": 0,
              "ticks": ""
             }
            },
            "type": "scattermap"
           }
          ],
          "scattermapbox": [
           {
            "marker": {
             "colorbar": {
              "outlinewidth": 0,
              "ticks": ""
             }
            },
            "type": "scattermapbox"
           }
          ],
          "scatterpolar": [
           {
            "marker": {
             "colorbar": {
              "outlinewidth": 0,
              "ticks": ""
             }
            },
            "type": "scatterpolar"
           }
          ],
          "scatterpolargl": [
           {
            "marker": {
             "colorbar": {
              "outlinewidth": 0,
              "ticks": ""
             }
            },
            "type": "scatterpolargl"
           }
          ],
          "scatterternary": [
           {
            "marker": {
             "colorbar": {
              "outlinewidth": 0,
              "ticks": ""
             }
            },
            "type": "scatterternary"
           }
          ],
          "surface": [
           {
            "colorbar": {
             "outlinewidth": 0,
             "ticks": ""
            },
            "colorscale": [
             [
              0,
              "#0d0887"
             ],
             [
              0.1111111111111111,
              "#46039f"
             ],
             [
              0.2222222222222222,
              "#7201a8"
             ],
             [
              0.3333333333333333,
              "#9c179e"
             ],
             [
              0.4444444444444444,
              "#bd3786"
             ],
             [
              0.5555555555555556,
              "#d8576b"
             ],
             [
              0.6666666666666666,
              "#ed7953"
             ],
             [
              0.7777777777777778,
              "#fb9f3a"
             ],
             [
              0.8888888888888888,
              "#fdca26"
             ],
             [
              1,
              "#f0f921"
             ]
            ],
            "type": "surface"
           }
          ],
          "table": [
           {
            "cells": {
             "fill": {
              "color": "#EBF0F8"
             },
             "line": {
              "color": "white"
             }
            },
            "header": {
             "fill": {
              "color": "#C8D4E3"
             },
             "line": {
              "color": "white"
             }
            },
            "type": "table"
           }
          ]
         },
         "layout": {
          "annotationdefaults": {
           "arrowcolor": "#2a3f5f",
           "arrowhead": 0,
           "arrowwidth": 1
          },
          "autotypenumbers": "strict",
          "coloraxis": {
           "colorbar": {
            "outlinewidth": 0,
            "ticks": ""
           }
          },
          "colorscale": {
           "diverging": [
            [
             0,
             "#8e0152"
            ],
            [
             0.1,
             "#c51b7d"
            ],
            [
             0.2,
             "#de77ae"
            ],
            [
             0.3,
             "#f1b6da"
            ],
            [
             0.4,
             "#fde0ef"
            ],
            [
             0.5,
             "#f7f7f7"
            ],
            [
             0.6,
             "#e6f5d0"
            ],
            [
             0.7,
             "#b8e186"
            ],
            [
             0.8,
             "#7fbc41"
            ],
            [
             0.9,
             "#4d9221"
            ],
            [
             1,
             "#276419"
            ]
           ],
           "sequential": [
            [
             0,
             "#0d0887"
            ],
            [
             0.1111111111111111,
             "#46039f"
            ],
            [
             0.2222222222222222,
             "#7201a8"
            ],
            [
             0.3333333333333333,
             "#9c179e"
            ],
            [
             0.4444444444444444,
             "#bd3786"
            ],
            [
             0.5555555555555556,
             "#d8576b"
            ],
            [
             0.6666666666666666,
             "#ed7953"
            ],
            [
             0.7777777777777778,
             "#fb9f3a"
            ],
            [
             0.8888888888888888,
             "#fdca26"
            ],
            [
             1,
             "#f0f921"
            ]
           ],
           "sequentialminus": [
            [
             0,
             "#0d0887"
            ],
            [
             0.1111111111111111,
             "#46039f"
            ],
            [
             0.2222222222222222,
             "#7201a8"
            ],
            [
             0.3333333333333333,
             "#9c179e"
            ],
            [
             0.4444444444444444,
             "#bd3786"
            ],
            [
             0.5555555555555556,
             "#d8576b"
            ],
            [
             0.6666666666666666,
             "#ed7953"
            ],
            [
             0.7777777777777778,
             "#fb9f3a"
            ],
            [
             0.8888888888888888,
             "#fdca26"
            ],
            [
             1,
             "#f0f921"
            ]
           ]
          },
          "colorway": [
           "#636efa",
           "#EF553B",
           "#00cc96",
           "#ab63fa",
           "#FFA15A",
           "#19d3f3",
           "#FF6692",
           "#B6E880",
           "#FF97FF",
           "#FECB52"
          ],
          "font": {
           "color": "#2a3f5f"
          },
          "geo": {
           "bgcolor": "white",
           "lakecolor": "white",
           "landcolor": "#E5ECF6",
           "showlakes": true,
           "showland": true,
           "subunitcolor": "white"
          },
          "hoverlabel": {
           "align": "left"
          },
          "hovermode": "closest",
          "mapbox": {
           "style": "light"
          },
          "paper_bgcolor": "white",
          "plot_bgcolor": "#E5ECF6",
          "polar": {
           "angularaxis": {
            "gridcolor": "white",
            "linecolor": "white",
            "ticks": ""
           },
           "bgcolor": "#E5ECF6",
           "radialaxis": {
            "gridcolor": "white",
            "linecolor": "white",
            "ticks": ""
           }
          },
          "scene": {
           "xaxis": {
            "backgroundcolor": "#E5ECF6",
            "gridcolor": "white",
            "gridwidth": 2,
            "linecolor": "white",
            "showbackground": true,
            "ticks": "",
            "zerolinecolor": "white"
           },
           "yaxis": {
            "backgroundcolor": "#E5ECF6",
            "gridcolor": "white",
            "gridwidth": 2,
            "linecolor": "white",
            "showbackground": true,
            "ticks": "",
            "zerolinecolor": "white"
           },
           "zaxis": {
            "backgroundcolor": "#E5ECF6",
            "gridcolor": "white",
            "gridwidth": 2,
            "linecolor": "white",
            "showbackground": true,
            "ticks": "",
            "zerolinecolor": "white"
           }
          },
          "shapedefaults": {
           "line": {
            "color": "#2a3f5f"
           }
          },
          "ternary": {
           "aaxis": {
            "gridcolor": "white",
            "linecolor": "white",
            "ticks": ""
           },
           "baxis": {
            "gridcolor": "white",
            "linecolor": "white",
            "ticks": ""
           },
           "bgcolor": "#E5ECF6",
           "caxis": {
            "gridcolor": "white",
            "linecolor": "white",
            "ticks": ""
           }
          },
          "title": {
           "x": 0.05
          },
          "xaxis": {
           "automargin": true,
           "gridcolor": "white",
           "linecolor": "white",
           "ticks": "",
           "title": {
            "standoff": 15
           },
           "zerolinecolor": "white",
           "zerolinewidth": 2
          },
          "yaxis": {
           "automargin": true,
           "gridcolor": "white",
           "linecolor": "white",
           "ticks": "",
           "title": {
            "standoff": 15
           },
           "zerolinecolor": "white",
           "zerolinewidth": 2
          }
         }
        },
        "title": {
         "text": "Histogramm von rel%"
        },
        "xaxis": {
         "anchor": "y",
         "domain": [
          0,
          1
         ],
         "title": {
          "text": "relativer Prozentsatz"
         }
        },
        "yaxis": {
         "anchor": "x",
         "domain": [
          0,
          1
         ],
         "title": {
          "text": "count"
         }
        }
       }
      }
     },
     "metadata": {},
     "output_type": "display_data"
    }
   ],
   "source": [
    "\n",
    "fig = px.histogram(pred_df, x='rel%', nbins=20, height=600,\n",
    "                   title='Histogramm von rel%',\n",
    "                   labels={'rel%': 'relativer Prozentsatz'})\n",
    "fig.show()\n"
   ]
  },
  {
   "cell_type": "markdown",
   "id": "a5b1b5ec-4499-4054-83bd-9a1fe9f8f64c",
   "metadata": {},
   "source": [
    "## 2.1 categorical colums as ordinal value + numerical columns (standardisiert) -> Linear model \n",
    " Aufbereitung von highwaympg: limit_highwaympg_r=52"
   ]
  },
  {
   "cell_type": "code",
   "execution_count": 152,
   "id": "65e43f84-0f1a-490c-ba5a-12b7b4ec6cf1",
   "metadata": {},
   "outputs": [
    {
     "name": "stdout",
     "output_type": "stream",
     "text": [
      "<class 'pandas.core.frame.DataFrame'>\n",
      "RangeIndex: 205 entries, 0 to 204\n",
      "Data columns (total 28 columns):\n",
      " #   Column            Non-Null Count  Dtype  \n",
      "---  ------            --------------  -----  \n",
      " 0   car_ID            205 non-null    int64  \n",
      " 1   symboling         205 non-null    int64  \n",
      " 2   CarName           205 non-null    object \n",
      " 3   fueltype          205 non-null    object \n",
      " 4   aspiration        205 non-null    object \n",
      " 5   doornumber        205 non-null    int64  \n",
      " 6   carbody           205 non-null    object \n",
      " 7   drivewheel        205 non-null    object \n",
      " 8   enginelocation    205 non-null    object \n",
      " 9   wheelbase         205 non-null    float64\n",
      " 10  carlength         205 non-null    float64\n",
      " 11  carwidth          205 non-null    float64\n",
      " 12  carheight         205 non-null    float64\n",
      " 13  curbweight        205 non-null    int64  \n",
      " 14  enginetype        205 non-null    object \n",
      " 15  cylindernumber    205 non-null    int64  \n",
      " 16  enginesize        205 non-null    int64  \n",
      " 17  fuelsystem        205 non-null    object \n",
      " 18  boreratio         205 non-null    float64\n",
      " 19  stroke            205 non-null    float64\n",
      " 20  compressionratio  205 non-null    float64\n",
      " 21  horsepower        205 non-null    int64  \n",
      " 22  peakrpm           205 non-null    int64  \n",
      " 23  citympg           205 non-null    int64  \n",
      " 24  highwaympg        205 non-null    int64  \n",
      " 25  price             205 non-null    float64\n",
      " 26  brand             205 non-null    object \n",
      " 27  model             203 non-null    object \n",
      "dtypes: float64(8), int64(10), object(10)\n",
      "memory usage: 45.0+ KB\n",
      "(203, 28)\n",
      "50\n",
      "<class 'pandas.core.frame.DataFrame'>\n",
      "Index: 203 entries, 0 to 204\n",
      "Data columns (total 28 columns):\n",
      " #   Column            Non-Null Count  Dtype  \n",
      "---  ------            --------------  -----  \n",
      " 0   car_ID            203 non-null    int64  \n",
      " 1   symboling         203 non-null    int64  \n",
      " 2   CarName           203 non-null    object \n",
      " 3   fueltype          203 non-null    object \n",
      " 4   aspiration        203 non-null    object \n",
      " 5   doornumber        203 non-null    int64  \n",
      " 6   carbody           203 non-null    object \n",
      " 7   drivewheel        203 non-null    object \n",
      " 8   enginelocation    203 non-null    object \n",
      " 9   wheelbase         203 non-null    float64\n",
      " 10  carlength         203 non-null    float64\n",
      " 11  carwidth          203 non-null    float64\n",
      " 12  carheight         203 non-null    float64\n",
      " 13  curbweight        203 non-null    int64  \n",
      " 14  enginetype        203 non-null    object \n",
      " 15  cylindernumber    203 non-null    int64  \n",
      " 16  enginesize        203 non-null    int64  \n",
      " 17  fuelsystem        203 non-null    object \n",
      " 18  boreratio         203 non-null    float64\n",
      " 19  stroke            203 non-null    float64\n",
      " 20  compressionratio  203 non-null    float64\n",
      " 21  horsepower        203 non-null    int64  \n",
      " 22  peakrpm           203 non-null    int64  \n",
      " 23  citympg           203 non-null    int64  \n",
      " 24  highwaympg        203 non-null    int64  \n",
      " 25  price             203 non-null    float64\n",
      " 26  brand             203 non-null    object \n",
      " 27  model             201 non-null    object \n",
      "dtypes: float64(8), int64(10), object(10)\n",
      "memory usage: 46.0+ KB\n",
      "R-squared: 0.8912139315886122\n",
      "Mean Squared Error: 11186816.120029224\n"
     ]
    }
   ],
   "source": [
    "# get the original data from df:\n",
    "# df.describe(include=['object', 'category'])\n",
    "df_cp= df.copy(deep= True)\n",
    "df_cp.info()\n",
    "# 2. categorical colums as ordinal value ++ numerical columns (standardisiert) -> Linear model\n",
    "# ----------------------\n",
    "#  ordinal-Encoding\n",
    "# ----------------------\n",
    "#df_cp= df_cp[ df_cp.loc['highwaympg'] <= limit_highwaympg_r]\n",
    "# Filter anwenden: highwaympg < limit_highwaympg_r\n",
    "#df_cp = df_cp[df_cp['highwaympg'] < limit_highwaympg_r].copy()\n",
    "df_cp= df_cp.loc[df_cp['highwaympg'] < limit_highwaympg_r]\n",
    "\n",
    "# Prüfen\n",
    "print(df_cp.shape)\n",
    "print(df_cp['highwaympg'].max())\n",
    "\n",
    "\n",
    "df_cp.info()\n",
    "\n",
    "label_encoder = LabelEncoder()\n",
    "for column in categorical_columns:\n",
    "    df_cp[column] = label_encoder.fit_transform(df_cp[column])\n",
    "    \n",
    "# ----------------------\n",
    "# Feature Engineering\n",
    "# ----------------------\n",
    "df_cp['power_to_weight_ratio'] = df_cp['horsepower'] / df_cp['curbweight']\n",
    "\n",
    "#for column in numerical_columns:\n",
    "#    df_cp[f'{column}_squared'] = df_cp[column] ** 2\n",
    "\n",
    "df_cp['log_enginesize'] = np.log(df_cp['enginesize'] + 1)\n",
    "#print(df_cp)\n",
    "# ----------------------\n",
    "# Feature Scaling (nur numerische Originalspalten, nicht die One-Hot Spalten)\n",
    "# ----------------------\n",
    "scaler = StandardScaler()\n",
    "df_cp[numerical_columns] = scaler.fit_transform(df_cp[numerical_columns])\n",
    "\n",
    "# ----------------------\n",
    "# Train-Test-Split\n",
    "# ----------------------\n",
    "X = df_cp.drop(['price', 'CarName'], axis=1)\n",
    "y = df_cp['price']\n",
    "\n",
    "X_train, X_test, y_train, y_test = train_test_split(X, y, test_size=0.2, random_state=42)\n",
    "\n",
    "# ----------------------\n",
    "# Modelltraining\n",
    "# ----------------------\n",
    "model = LinearRegression()\n",
    "model.fit(X_train, y_train)\n",
    "\n",
    "# ----------------------\n",
    "# Vorhersagen\n",
    "# ----------------------\n",
    "\n",
    "y_pred = model.predict(X_test)\n",
    "\n",
    "# ----------------------\n",
    "# Modellbewertung\n",
    "# ----------------------\n",
    "mse = mean_squared_error(y_test, y_pred)\n",
    "r2_square = r2_score(y_test, y_pred)\n",
    "\n",
    "print(f\"R-squared: {r2_square}\")\n",
    "print(f\"Mean Squared Error: {mse}\")\n",
    "\n",
    "# ----------------------\n",
    "# Vergleich der Vorhersagen\n",
    "# ----------------------\n",
    "pred_df = pd.DataFrame({\n",
    "    'Actual Value': y_test,\n",
    "    'Predicted Value': y_pred,\n",
    "    'Difference': y_test - y_pred,\n",
    "    'rel%': abs((y_test - y_pred)) / y_test * 100\n",
    "})\n",
    "\n",
    "#pred_df"
   ]
  },
  {
   "cell_type": "code",
   "execution_count": 153,
   "id": "84186dc3-c0ce-4f3b-a4cf-ddc939065c05",
   "metadata": {},
   "outputs": [
    {
     "data": {
      "application/vnd.plotly.v1+json": {
       "config": {
        "plotlyServerURL": "https://plot.ly"
       },
       "data": [
        {
         "bingroup": "x",
         "hovertemplate": "relativer Prozentsatz=%{x}<br>count=%{y}<extra></extra>",
         "legendgroup": "",
         "marker": {
          "color": "#636efa",
          "pattern": {
           "shape": ""
          }
         },
         "name": "",
         "nbinsx": 20,
         "orientation": "v",
         "showlegend": false,
         "type": "histogram",
         "x": {
          "bdata": "M5avzmtfL0ALbl8FoAobQE+w1on0vh1A0pl28CskG0DkTNNo170mQAYXVMmUH+0/LO0ZK6ylD0DAiKSA7F8yQNOUT+zDrx9AkyKKcZJJCkAnSf4llHsPQM+6nF30zTNAQHNf1wmaQUCWJc8VjesjQN+q0HCmtjJAsJj0sqXkM0DlDh7Lua0wQAF9FMOZIhdADVdk7aHXLkAXInnBarkDQNfYX6H6BClAeFZcGcDZMkApwzgQgPk4QLW0zFOeD0JAvIWDtpsGE0BWHiu8fctDQNw7707XkCJAvUoQ7WIXJEDe73Uth0UOQGjmnnNvrRpAp3DkWiDC+D+fSfc8TY0sQEZlQkO4XBtAP6eSQ/GlJUDo81FwJugfQOLs5wlk8D5AJHchgQ8IKkBFvlh87AIfQOH3iE0fZEtAZ3LwIa96JkBJAHAYVNrsPw==",
          "dtype": "f8"
         },
         "xaxis": "x",
         "yaxis": "y"
        }
       ],
       "layout": {
        "barmode": "relative",
        "height": 600,
        "legend": {
         "tracegroupgap": 0
        },
        "template": {
         "data": {
          "bar": [
           {
            "error_x": {
             "color": "#2a3f5f"
            },
            "error_y": {
             "color": "#2a3f5f"
            },
            "marker": {
             "line": {
              "color": "#E5ECF6",
              "width": 0.5
             },
             "pattern": {
              "fillmode": "overlay",
              "size": 10,
              "solidity": 0.2
             }
            },
            "type": "bar"
           }
          ],
          "barpolar": [
           {
            "marker": {
             "line": {
              "color": "#E5ECF6",
              "width": 0.5
             },
             "pattern": {
              "fillmode": "overlay",
              "size": 10,
              "solidity": 0.2
             }
            },
            "type": "barpolar"
           }
          ],
          "carpet": [
           {
            "aaxis": {
             "endlinecolor": "#2a3f5f",
             "gridcolor": "white",
             "linecolor": "white",
             "minorgridcolor": "white",
             "startlinecolor": "#2a3f5f"
            },
            "baxis": {
             "endlinecolor": "#2a3f5f",
             "gridcolor": "white",
             "linecolor": "white",
             "minorgridcolor": "white",
             "startlinecolor": "#2a3f5f"
            },
            "type": "carpet"
           }
          ],
          "choropleth": [
           {
            "colorbar": {
             "outlinewidth": 0,
             "ticks": ""
            },
            "type": "choropleth"
           }
          ],
          "contour": [
           {
            "colorbar": {
             "outlinewidth": 0,
             "ticks": ""
            },
            "colorscale": [
             [
              0,
              "#0d0887"
             ],
             [
              0.1111111111111111,
              "#46039f"
             ],
             [
              0.2222222222222222,
              "#7201a8"
             ],
             [
              0.3333333333333333,
              "#9c179e"
             ],
             [
              0.4444444444444444,
              "#bd3786"
             ],
             [
              0.5555555555555556,
              "#d8576b"
             ],
             [
              0.6666666666666666,
              "#ed7953"
             ],
             [
              0.7777777777777778,
              "#fb9f3a"
             ],
             [
              0.8888888888888888,
              "#fdca26"
             ],
             [
              1,
              "#f0f921"
             ]
            ],
            "type": "contour"
           }
          ],
          "contourcarpet": [
           {
            "colorbar": {
             "outlinewidth": 0,
             "ticks": ""
            },
            "type": "contourcarpet"
           }
          ],
          "heatmap": [
           {
            "colorbar": {
             "outlinewidth": 0,
             "ticks": ""
            },
            "colorscale": [
             [
              0,
              "#0d0887"
             ],
             [
              0.1111111111111111,
              "#46039f"
             ],
             [
              0.2222222222222222,
              "#7201a8"
             ],
             [
              0.3333333333333333,
              "#9c179e"
             ],
             [
              0.4444444444444444,
              "#bd3786"
             ],
             [
              0.5555555555555556,
              "#d8576b"
             ],
             [
              0.6666666666666666,
              "#ed7953"
             ],
             [
              0.7777777777777778,
              "#fb9f3a"
             ],
             [
              0.8888888888888888,
              "#fdca26"
             ],
             [
              1,
              "#f0f921"
             ]
            ],
            "type": "heatmap"
           }
          ],
          "histogram": [
           {
            "marker": {
             "pattern": {
              "fillmode": "overlay",
              "size": 10,
              "solidity": 0.2
             }
            },
            "type": "histogram"
           }
          ],
          "histogram2d": [
           {
            "colorbar": {
             "outlinewidth": 0,
             "ticks": ""
            },
            "colorscale": [
             [
              0,
              "#0d0887"
             ],
             [
              0.1111111111111111,
              "#46039f"
             ],
             [
              0.2222222222222222,
              "#7201a8"
             ],
             [
              0.3333333333333333,
              "#9c179e"
             ],
             [
              0.4444444444444444,
              "#bd3786"
             ],
             [
              0.5555555555555556,
              "#d8576b"
             ],
             [
              0.6666666666666666,
              "#ed7953"
             ],
             [
              0.7777777777777778,
              "#fb9f3a"
             ],
             [
              0.8888888888888888,
              "#fdca26"
             ],
             [
              1,
              "#f0f921"
             ]
            ],
            "type": "histogram2d"
           }
          ],
          "histogram2dcontour": [
           {
            "colorbar": {
             "outlinewidth": 0,
             "ticks": ""
            },
            "colorscale": [
             [
              0,
              "#0d0887"
             ],
             [
              0.1111111111111111,
              "#46039f"
             ],
             [
              0.2222222222222222,
              "#7201a8"
             ],
             [
              0.3333333333333333,
              "#9c179e"
             ],
             [
              0.4444444444444444,
              "#bd3786"
             ],
             [
              0.5555555555555556,
              "#d8576b"
             ],
             [
              0.6666666666666666,
              "#ed7953"
             ],
             [
              0.7777777777777778,
              "#fb9f3a"
             ],
             [
              0.8888888888888888,
              "#fdca26"
             ],
             [
              1,
              "#f0f921"
             ]
            ],
            "type": "histogram2dcontour"
           }
          ],
          "mesh3d": [
           {
            "colorbar": {
             "outlinewidth": 0,
             "ticks": ""
            },
            "type": "mesh3d"
           }
          ],
          "parcoords": [
           {
            "line": {
             "colorbar": {
              "outlinewidth": 0,
              "ticks": ""
             }
            },
            "type": "parcoords"
           }
          ],
          "pie": [
           {
            "automargin": true,
            "type": "pie"
           }
          ],
          "scatter": [
           {
            "fillpattern": {
             "fillmode": "overlay",
             "size": 10,
             "solidity": 0.2
            },
            "type": "scatter"
           }
          ],
          "scatter3d": [
           {
            "line": {
             "colorbar": {
              "outlinewidth": 0,
              "ticks": ""
             }
            },
            "marker": {
             "colorbar": {
              "outlinewidth": 0,
              "ticks": ""
             }
            },
            "type": "scatter3d"
           }
          ],
          "scattercarpet": [
           {
            "marker": {
             "colorbar": {
              "outlinewidth": 0,
              "ticks": ""
             }
            },
            "type": "scattercarpet"
           }
          ],
          "scattergeo": [
           {
            "marker": {
             "colorbar": {
              "outlinewidth": 0,
              "ticks": ""
             }
            },
            "type": "scattergeo"
           }
          ],
          "scattergl": [
           {
            "marker": {
             "colorbar": {
              "outlinewidth": 0,
              "ticks": ""
             }
            },
            "type": "scattergl"
           }
          ],
          "scattermap": [
           {
            "marker": {
             "colorbar": {
              "outlinewidth": 0,
              "ticks": ""
             }
            },
            "type": "scattermap"
           }
          ],
          "scattermapbox": [
           {
            "marker": {
             "colorbar": {
              "outlinewidth": 0,
              "ticks": ""
             }
            },
            "type": "scattermapbox"
           }
          ],
          "scatterpolar": [
           {
            "marker": {
             "colorbar": {
              "outlinewidth": 0,
              "ticks": ""
             }
            },
            "type": "scatterpolar"
           }
          ],
          "scatterpolargl": [
           {
            "marker": {
             "colorbar": {
              "outlinewidth": 0,
              "ticks": ""
             }
            },
            "type": "scatterpolargl"
           }
          ],
          "scatterternary": [
           {
            "marker": {
             "colorbar": {
              "outlinewidth": 0,
              "ticks": ""
             }
            },
            "type": "scatterternary"
           }
          ],
          "surface": [
           {
            "colorbar": {
             "outlinewidth": 0,
             "ticks": ""
            },
            "colorscale": [
             [
              0,
              "#0d0887"
             ],
             [
              0.1111111111111111,
              "#46039f"
             ],
             [
              0.2222222222222222,
              "#7201a8"
             ],
             [
              0.3333333333333333,
              "#9c179e"
             ],
             [
              0.4444444444444444,
              "#bd3786"
             ],
             [
              0.5555555555555556,
              "#d8576b"
             ],
             [
              0.6666666666666666,
              "#ed7953"
             ],
             [
              0.7777777777777778,
              "#fb9f3a"
             ],
             [
              0.8888888888888888,
              "#fdca26"
             ],
             [
              1,
              "#f0f921"
             ]
            ],
            "type": "surface"
           }
          ],
          "table": [
           {
            "cells": {
             "fill": {
              "color": "#EBF0F8"
             },
             "line": {
              "color": "white"
             }
            },
            "header": {
             "fill": {
              "color": "#C8D4E3"
             },
             "line": {
              "color": "white"
             }
            },
            "type": "table"
           }
          ]
         },
         "layout": {
          "annotationdefaults": {
           "arrowcolor": "#2a3f5f",
           "arrowhead": 0,
           "arrowwidth": 1
          },
          "autotypenumbers": "strict",
          "coloraxis": {
           "colorbar": {
            "outlinewidth": 0,
            "ticks": ""
           }
          },
          "colorscale": {
           "diverging": [
            [
             0,
             "#8e0152"
            ],
            [
             0.1,
             "#c51b7d"
            ],
            [
             0.2,
             "#de77ae"
            ],
            [
             0.3,
             "#f1b6da"
            ],
            [
             0.4,
             "#fde0ef"
            ],
            [
             0.5,
             "#f7f7f7"
            ],
            [
             0.6,
             "#e6f5d0"
            ],
            [
             0.7,
             "#b8e186"
            ],
            [
             0.8,
             "#7fbc41"
            ],
            [
             0.9,
             "#4d9221"
            ],
            [
             1,
             "#276419"
            ]
           ],
           "sequential": [
            [
             0,
             "#0d0887"
            ],
            [
             0.1111111111111111,
             "#46039f"
            ],
            [
             0.2222222222222222,
             "#7201a8"
            ],
            [
             0.3333333333333333,
             "#9c179e"
            ],
            [
             0.4444444444444444,
             "#bd3786"
            ],
            [
             0.5555555555555556,
             "#d8576b"
            ],
            [
             0.6666666666666666,
             "#ed7953"
            ],
            [
             0.7777777777777778,
             "#fb9f3a"
            ],
            [
             0.8888888888888888,
             "#fdca26"
            ],
            [
             1,
             "#f0f921"
            ]
           ],
           "sequentialminus": [
            [
             0,
             "#0d0887"
            ],
            [
             0.1111111111111111,
             "#46039f"
            ],
            [
             0.2222222222222222,
             "#7201a8"
            ],
            [
             0.3333333333333333,
             "#9c179e"
            ],
            [
             0.4444444444444444,
             "#bd3786"
            ],
            [
             0.5555555555555556,
             "#d8576b"
            ],
            [
             0.6666666666666666,
             "#ed7953"
            ],
            [
             0.7777777777777778,
             "#fb9f3a"
            ],
            [
             0.8888888888888888,
             "#fdca26"
            ],
            [
             1,
             "#f0f921"
            ]
           ]
          },
          "colorway": [
           "#636efa",
           "#EF553B",
           "#00cc96",
           "#ab63fa",
           "#FFA15A",
           "#19d3f3",
           "#FF6692",
           "#B6E880",
           "#FF97FF",
           "#FECB52"
          ],
          "font": {
           "color": "#2a3f5f"
          },
          "geo": {
           "bgcolor": "white",
           "lakecolor": "white",
           "landcolor": "#E5ECF6",
           "showlakes": true,
           "showland": true,
           "subunitcolor": "white"
          },
          "hoverlabel": {
           "align": "left"
          },
          "hovermode": "closest",
          "mapbox": {
           "style": "light"
          },
          "paper_bgcolor": "white",
          "plot_bgcolor": "#E5ECF6",
          "polar": {
           "angularaxis": {
            "gridcolor": "white",
            "linecolor": "white",
            "ticks": ""
           },
           "bgcolor": "#E5ECF6",
           "radialaxis": {
            "gridcolor": "white",
            "linecolor": "white",
            "ticks": ""
           }
          },
          "scene": {
           "xaxis": {
            "backgroundcolor": "#E5ECF6",
            "gridcolor": "white",
            "gridwidth": 2,
            "linecolor": "white",
            "showbackground": true,
            "ticks": "",
            "zerolinecolor": "white"
           },
           "yaxis": {
            "backgroundcolor": "#E5ECF6",
            "gridcolor": "white",
            "gridwidth": 2,
            "linecolor": "white",
            "showbackground": true,
            "ticks": "",
            "zerolinecolor": "white"
           },
           "zaxis": {
            "backgroundcolor": "#E5ECF6",
            "gridcolor": "white",
            "gridwidth": 2,
            "linecolor": "white",
            "showbackground": true,
            "ticks": "",
            "zerolinecolor": "white"
           }
          },
          "shapedefaults": {
           "line": {
            "color": "#2a3f5f"
           }
          },
          "ternary": {
           "aaxis": {
            "gridcolor": "white",
            "linecolor": "white",
            "ticks": ""
           },
           "baxis": {
            "gridcolor": "white",
            "linecolor": "white",
            "ticks": ""
           },
           "bgcolor": "#E5ECF6",
           "caxis": {
            "gridcolor": "white",
            "linecolor": "white",
            "ticks": ""
           }
          },
          "title": {
           "x": 0.05
          },
          "xaxis": {
           "automargin": true,
           "gridcolor": "white",
           "linecolor": "white",
           "ticks": "",
           "title": {
            "standoff": 15
           },
           "zerolinecolor": "white",
           "zerolinewidth": 2
          },
          "yaxis": {
           "automargin": true,
           "gridcolor": "white",
           "linecolor": "white",
           "ticks": "",
           "title": {
            "standoff": 15
           },
           "zerolinecolor": "white",
           "zerolinewidth": 2
          }
         }
        },
        "title": {
         "text": "Histogramm von rel%"
        },
        "xaxis": {
         "anchor": "y",
         "domain": [
          0,
          1
         ],
         "title": {
          "text": "relativer Prozentsatz"
         }
        },
        "yaxis": {
         "anchor": "x",
         "domain": [
          0,
          1
         ],
         "title": {
          "text": "count"
         }
        }
       }
      },
      "image/png": "[encoded data removed]"
     },
     "metadata": {},
     "output_type": "display_data"
    }
   ],
   "source": [
    "\n",
    "fig = px.histogram(pred_df, x='rel%', nbins=20, height=600,\n",
    "                   title='Histogramm von rel%',\n",
    "                   labels={'rel%': 'relativer Prozentsatz'})\n",
    "fig.show()\n"
   ]
  },
  {
   "cell_type": "markdown",
   "id": "6f251bbd-4f3a-44ae-a3cd-066bc694dd04",
   "metadata": {},
   "source": [
    "## 3. categorical colums as ordinal value + numerical columns (standardisiert) + additional columns -> not Linear model¶\n",
    "    additional columns: are calculated by squared value of numerical columns: y= x^2/2"
   ]
  },
  {
   "cell_type": "code",
   "execution_count": null,
   "id": "2436b5cc-84e6-4c2c-b3e8-b874f43aaecd",
   "metadata": {},
   "outputs": [],
   "source": [
    "# get the original data from df:\n",
    "df_cp= df.copy(deep= True)\n",
    "\n",
    "# 2. categorical colums as ordinal value ++ numerical columns (standardisiert) -> Linear model\n",
    "# ----------------------\n",
    "#  ordinal-Encoding\n",
    "# ----------------------\n",
    "label_encoder = LabelEncoder()\n",
    "for column in categorical_columns:\n",
    "    df_cp[column] = label_encoder.fit_transform(df_cp[column])\n",
    "    \n",
    "# ----------------------\n",
    "# Feature Engineering\n",
    "# ----------------------\n",
    "df_cp['power_to_weight_ratio'] = df_cp['horsepower'] / df_cp['curbweight']\n",
    "num_cols = len(numerical_columns)\n",
    "for column in numerical_columns:\n",
    "    df_cp[f'{column}_squared'] = (df_cp[column] ** 2)/30\n",
    "\n",
    "print(\"cols_num=\", num_cols)\n",
    "df_cp['log_enginesize'] = np.log(df_cp['enginesize'] + 1)\n",
    "#print(df_cp)\n",
    "# ----------------------\n",
    "# Feature Scaling (nur numerische Originalspalten, nicht die One-Hot Spalten)\n",
    "# ----------------------\n",
    "scaler = StandardScaler()\n",
    "df_cp[numerical_columns] = scaler.fit_transform(df_cp[numerical_columns])\n",
    "\n",
    "# ----------------------\n",
    "# Train-Test-Split\n",
    "# ----------------------\n",
    "X = df_cp.drop(['price', 'CarName'], axis=1)\n",
    "y = df_cp['price']\n",
    "\n",
    "X_train, X_test, y_train, y_test = train_test_split(X, y, test_size=0.2, random_state=42)\n",
    "\n",
    "# ----------------------\n",
    "# Modelltraining\n",
    "# ----------------------\n",
    "model = LinearRegression()\n",
    "model.fit(X_train, y_train)\n",
    "\n",
    "# ----------------------\n",
    "# Vorhersagen\n",
    "# ----------------------\n",
    "y_pred = model.predict(X_test)\n",
    "\n",
    "# ----------------------\n",
    "# Modellbewertung\n",
    "# ----------------------\n",
    "mse = mean_squared_error(y_test, y_pred)\n",
    "r2_square = r2_score(y_test, y_pred)\n",
    "\n",
    "print(f\"R-squared: {r2_square}\")\n",
    "print(f\"Mean Squared Error: {mse}\")\n",
    "\n",
    "# ----------------------\n",
    "# Vergleich der Vorhersagen\n",
    "# ----------------------\n",
    "pred_df = pd.DataFrame({\n",
    "    'Actual Value': y_test,\n",
    "    'Predicted Value': y_pred,\n",
    "    'Difference': y_test - y_pred,\n",
    "    'rel%': abs((y_test - y_pred)) / y_test * 100\n",
    "})\n",
    "\n",
    "#pred_df"
   ]
  },
  {
   "cell_type": "markdown",
   "id": "9610d2b9-13ec-40d7-b39f-2409115d3da8",
   "metadata": {},
   "source": [
    "## 4. categorical colums as ordinal value + numerical columns (standardisiert)  Linear model¶\n",
    "### drop citympg or highwaympg: the two values are strong correlated. using one is enough"
   ]
  },
  {
   "cell_type": "raw",
   "id": "7ee94c5f-a578-4d8f-aa6e-b70ad9df9ab4",
   "metadata": {},
   "source": [
    "\n",
    "numerical_columns.append('avgmpg')\n",
    "print(numerical_columns)\n"
   ]
  },
  {
   "cell_type": "code",
   "execution_count": null,
   "id": "863ed33d-3817-4503-a654-f165db09b373",
   "metadata": {},
   "outputs": [],
   "source": [
    "# get the original data from df:\n",
    "df_cp= df.copy(deep= True)\n",
    "\n",
    "# 2. categorical colums as ordinal value ++ numerical columns (standardisiert) -> Linear model\n",
    "# ----------------------\n",
    "#  ordinal-Encoding\n",
    "# ----------------------\n",
    "label_encoder = LabelEncoder()\n",
    "for column in categorical_columns:\n",
    "    df_cp[column] = label_encoder.fit_transform(df_cp[column])\n",
    "    \n",
    "# ----------------------\n",
    "# Feature Engineering\n",
    "# ----------------------\n",
    "df_cp['power_to_weight_ratio'] = df_cp['horsepower'] / df_cp['curbweight']\n",
    "#num_cols = len(numerical_columns)\n",
    "#for column in numerical_columns:\n",
    "#    df_cp[f'{column}_squared'] = (df_cp[column] ** 2)/30\n",
    "\n",
    "df_cp['log_enginesize'] = np.log(df_cp['enginesize'] + 1)\n",
    "df_cp['horsepw_squared'] = (df_cp['horsepower'] **2)\n",
    "df_cp['compressionratio_squared'] = (df_cp['compressionratio'] **2)\n",
    "\n",
    "\n",
    "\n",
    "#add a new column: avgmpg\n",
    "# df_cp['avgmpg'] = (df_cp['citympg'] + df_cp['highwaympg'])/2\n",
    "# numerical_columns.append('avgmpg')\n",
    "\n",
    "#print(numerical_columns)\n",
    "# ----------------------\n",
    "# Feature Scaling (nur numerische Originalspalten, nicht die One-Hot Spalten)\n",
    "# ----------------------\n",
    "\n",
    "\n",
    "\n",
    "\n",
    "scaler = StandardScaler()\n",
    "df_cp[numerical_columns] = scaler.fit_transform(df_cp[numerical_columns])\n",
    "\n",
    "# ----------------------\n",
    "# Train-Test-Split\n",
    "# ----------------------\n",
    "\n",
    "\n",
    "# X = df_cp.drop(['price', 'CarName', 'citympg', 'highwaympg'], axis=1)\n",
    "X = df_cp.drop(['price', 'CarName'], axis=1)\n",
    "\n",
    "print(\"---x:---\\n\", X.columns)\n",
    "y = df_cp['price']\n",
    "\n",
    "X_train, X_test, y_train, y_test = train_test_split(X, y, test_size=0.2, random_state=42)\n",
    "\n",
    "# ----------------------\n",
    "# Modelltraining\n",
    "# ----------------------\n",
    "model = LinearRegression()\n",
    "model.fit(X_train, y_train)\n",
    "\n",
    "# ----------------------\n",
    "# Vorhersagen\n",
    "# ----------------------\n",
    "y_pred = model.predict(X_test)\n",
    "\n",
    "# ----------------------\n",
    "# Modellbewertung\n",
    "# ----------------------\n",
    "mse = mean_squared_error(y_test, y_pred)\n",
    "r2_square = r2_score(y_test, y_pred)\n",
    "\n",
    "print(f\"R-squared: {r2_square}\")\n",
    "print(f\"Mean Squared Error: {mse}\")\n",
    "\n",
    "# ----------------------\n",
    "# Vergleich der Vorhersagen\n",
    "# ----------------------\n",
    "pred_df = pd.DataFrame({\n",
    "    'Actual Value': y_test,\n",
    "    'Predicted Value': y_pred,\n",
    "    'Difference': y_test - y_pred,\n",
    "    'rel%': abs((y_test - y_pred)) / y_test * 100\n",
    "})\n"
   ]
  },
  {
   "cell_type": "code",
   "execution_count": null,
   "id": "fd1a28f4-38ba-4fbb-8a3b-bc4697e3a72b",
   "metadata": {},
   "outputs": [],
   "source": [
    "# Encoding categorical variables with one-hot verfahren\n",
    "label_encoder = LabelEncoder()\n",
    "for column in categorical_columns:\n",
    "    df[column] = label_encoder.fit_transform(df[column])\n",
    "\n",
    "# Feature engineering\n",
    "df['power_to_weight_ratio'] = df['horsepower'] / df['curbweight']\n",
    "for column in numerical_columns:\n",
    "    df[f'{column}_squared'] = df[column] ** 2\n",
    "df['log_enginesize'] = np.log(df['enginesize'] + 1)\n",
    "\n",
    "# Feature scaling\n",
    "scaler = StandardScaler()\n",
    "df[numerical_columns] = scaler.fit_transform(df[numerical_columns])\n",
    "#print(df[\"enginesize\"].unique())\n",
    "# Splitting the dataset\n",
    "X = df.drop(['price', 'CarName'], axis=1)  # Include the engineered features and CarName\n",
    "y = df['price']\n",
    "X_train, X_test, y_train, y_test = train_test_split(X, y, test_size=0.2, random_state=42)\n",
    "\n",
    "# Model training\n",
    "model = LinearRegression()\n",
    "model.fit(X_train, y_train)\n",
    "\n",
    "# Predictions\n",
    "y_pred = model.predict(X_test)\n",
    "\n",
    "mse = mean_squared_error(y_test, y_pred)\n",
    "r2_square = r2_score(y_test,y_pred)\n",
    "print(f\" R-squared: {r2_square}\")\n",
    "print(f'Mean Squared Error: {mse}')\n",
    "pred_df=pd.DataFrame({'Actual Value':y_test,'Predicted Value':y_pred,'Difference':y_test-y_pred, 'rel%': abs((y_test-y_pred))/y_test*100})\n",
    "pred_df\n",
    "\n",
    "\n",
    "\n"
   ]
  },
  {
   "cell_type": "code",
   "execution_count": null,
   "id": "83474f1b-fd76-4adf-b947-8b5cad4927db",
   "metadata": {},
   "outputs": [],
   "source": [
    "#sns.histplot(data=pred_df['rel%'], bins=10, kde=True)\n",
    "\n",
    "\n",
    "#import plotly.express as px\n",
    "\n",
    "fig = px.histogram(pred_df, x='rel%', nbins=20, height=600,\n",
    "                   title='Histogramm von rel%',\n",
    "                   labels={'rel%': 'relativer Prozentsatz'})\n",
    "fig.show()\n",
    "\n"
   ]
  },
  {
   "cell_type": "code",
   "execution_count": null,
   "id": "461f7ebf-9fb6-47e9-ae38-e99f192d1e0f",
   "metadata": {},
   "outputs": [],
   "source": [
    "\n",
    "# Encoding categorical variables\n",
    "label_encoder = LabelEncoder()\n",
    "for column in categorical_columns:\n",
    "    df[column] = label_encoder.fit_transform(df[column])\n",
    "\n",
    "# Feature engineering\n",
    "df['power_to_weight_ratio'] = df['horsepower'] / df['curbweight']\n",
    "for column in numerical_columns:\n",
    "    df[f'{column}_squared'] = df[column] ** 2\n",
    "df['log_enginesize'] = np.log(df['enginesize'] + 1)\n",
    "\n",
    "# Feature scaling\n",
    "scaler = StandardScaler()\n",
    "df[numerical_columns] = scaler.fit_transform(df[numerical_columns])\n",
    "#print(df[\"enginesize\"].unique())\n"
   ]
  },
  {
   "cell_type": "code",
   "execution_count": null,
   "id": "2af1e90d-402f-41b0-b23a-47352141a7a9",
   "metadata": {},
   "outputs": [],
   "source": [
    "# Splitting the dataset\n",
    "X = df.drop(['price', 'CarName'], axis=1)  # Include the engineered features and CarName\n",
    "y = df['price']\n",
    "X_train, X_test, y_train, y_test = train_test_split(X, y, test_size=0.2, random_state=42)\n",
    "\n",
    "# Model training\n",
    "model = LinearRegression()\n",
    "model.fit(X_train, y_train)\n",
    "\n",
    "# Predictions\n",
    "y_pred = model.predict(X_test)"
   ]
  },
  {
   "cell_type": "code",
   "execution_count": null,
   "id": "e58b22de-4303-4ebe-9728-9e15599d8d4a",
   "metadata": {},
   "outputs": [],
   "source": [
    "# Evaluate the model\n",
    "mse = mean_squared_error(y_test, y_pred)\n",
    "r2_square = r2_score(y_test,y_pred)\n",
    "print(f\" R-squared: {r2_square}\")\n",
    "print(f'Mean Squared Error: {mse}')"
   ]
  },
  {
   "cell_type": "code",
   "execution_count": null,
   "id": "aab4c1d9-a24e-4d89-be3a-3e622f70d302",
   "metadata": {},
   "outputs": [],
   "source": [
    "pred_df=pd.DataFrame({'Actual Value':y_test,'Predicted Value':y_pred,'Difference':y_test-y_pred, 'rel%': abs((y_test-y_pred))/y_test*100})\n",
    "pred_df\n",
    "\n"
   ]
  },
  {
   "cell_type": "code",
   "execution_count": null,
   "id": "76832404-3737-40c1-9882-bbd73256e75d",
   "metadata": {},
   "outputs": [],
   "source": [
    " #sns.histplot(data=pred_df['rel%'], bins=10, kde=True)\n",
    "\n",
    "\n",
    "#import plotly.express as px\n",
    "\n",
    "fig = px.histogram(pred_df, x='rel%', nbins=20, height=600,\n",
    "                   title='Histogramm von rel%',\n",
    "                   labels={'rel%': 'relativer Prozentsatz'})\n",
    "fig.show()\n",
    "\n"
   ]
  }
 ],
 "metadata": {
  "kernelspec": {
   "display_name": "Python 3 (ipykernel)",
   "language": "python",
   "name": "python3"
  },
  "language_info": {
   "codemirror_mode": {
    "name": "ipython",
    "version": 3
   },
   "file_extension": ".py",
   "mimetype": "text/x-python",
   "name": "python",
   "nbconvert_exporter": "python",
   "pygments_lexer": "ipython3",
   "version": "3.12.10"
  }
 },
 "nbformat": 4,
 "nbformat_minor": 5
}
